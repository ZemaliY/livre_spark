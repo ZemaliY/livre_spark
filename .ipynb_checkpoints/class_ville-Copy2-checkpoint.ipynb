{
 "cells": [
  {
   "cell_type": "code",
   "execution_count": 954,
   "metadata": {},
   "outputs": [
    {
     "name": "stdout",
     "output_type": "stream",
     "text": [
      "Attention : vous allez utiliser un fichier existant !\n"
     ]
    }
   ],
   "source": [
    "class Cycliste:\n",
    "    nb_d_instance =0\n",
    "    cycliste_logger= Logger(\"./cyclistes.csv\")\n",
    "    def __init__(self, position_home, position_travail, ville):\n",
    "        import random\n",
    "        import numpy as np\n",
    "        Cycliste.nb_d_instance +=1\n",
    "        self.id           = Cycliste.nb_d_instance\n",
    "        self.home         = position_home\n",
    "        self.travail      = position_travail\n",
    "        self.position     = position_home\n",
    "        self.destination  = position_travail\n",
    "        self.sur_velo     = False\n",
    "        self.velo         = False\n",
    "        self.sexe         = random.choice([\"H\", \"F\"])\n",
    "        self.age          = random.choice(range(15,85))\n",
    "        self.sportivite   = max(np.random.normal(2, 2), 0.1)\n",
    "        self.vitesse_a_pied =  2 * self.sportivite \n",
    "        self.vitesse_a_velo = 5 * self.sportivite\n",
    "        self.ville        = ville\n",
    "        self.trajet       = Trajet(self.home, self.home)\n",
    "        self.positions    = [self.position]\n",
    "        self.timestamps   = [0]\n",
    "        self.destination_finale = False\n",
    "        self.vitesse      = self.vitesse_a_pied\n",
    "        self.wanted_details = [ 'id', 'vitesse_a_pied', 'vitesse_a_velo', 'trajet', 'sur_velo', 'velo','vitesse', 'trajet', 'destination_finale']\n",
    "        self.status       = [{x : self.__dict__[x] for x in self.wanted_details}]\n",
    "        self.velo_perf_minimale = 0.4\n",
    "    def __str__(self):\n",
    "        return \" %s :  %s\" %(self.id,  str(self.position))\n",
    "    \n",
    "    def get_historique(self):\n",
    "        df = pd.concat([x.get_df() for x in self.positions])\n",
    "        df[\"id_cycliste\"] = self.id\n",
    "        df[\"time\"]        = self.timestamps\n",
    "        df[\"status\"]      = self.status\n",
    "        \n",
    "        return df\n",
    "    \n",
    "    def get_vitesse(self):\n",
    "        if self.velo:\n",
    "            self.vitesse = self.vitesse_a_velo * self.velo.performance\n",
    "        else:\n",
    "            self.vitesse =  self.vitesse_a_pied\n",
    "        return self.vitesse\n",
    "        \n",
    "    def est_a_la_maison(self):\n",
    "        return self.position == self.home\n",
    "    \n",
    "    def est_au_travail(self):\n",
    "        return self.position == self.travail\n",
    "    \n",
    "    def est_arrive(self):\n",
    "        return self.position == self.destination_finale\n",
    "    \n",
    "    def log(self, message):\n",
    "        message=\"cycliste_%s : %s\"%(self.id, message)\n",
    "        Cycliste.cycliste_logger.log(message)\n",
    "    def est_sur_station(self):\n",
    "        return self.ville.prestataire.is_position_a_station(self.position)\n",
    "\n",
    "    def ou_suis_je(self):\n",
    "        if self.est_a_la_maison():\n",
    "            return \" a la maison\"\n",
    "        if self.est_au_travail():\n",
    "            return \" au travail\"\n",
    "\n",
    "        return \" en route\"\n",
    "        \n",
    "    def ou_vais_je(self):\n",
    "        if self.destination == self.travail:\n",
    "            return \" au travail\"\n",
    "        if self.destination == self.home:\n",
    "            return \" a la maison\"\n",
    "        \n",
    "\n",
    "    def avancer(self, timestamp, debug=False):\n",
    "\n",
    "        if not self.trajet.fini():\n",
    "            self.position = self.trajet.next_position()\n",
    "        else:            \n",
    "            if self.est_a_la_maison():\n",
    "                self.destination        = self.ville.prestataire.get_closest_station(self.position).position\n",
    "                self.destination_finale = self.travail\n",
    "                self.sur_velo           = False\n",
    "                self.trajet             = Trajet(self.home, self.destination, self.get_vitesse())\n",
    "\n",
    "            if self.est_au_travail():\n",
    "                self.destination        = self.ville.prestataire.get_closest_station(self.position).position\n",
    "                self.destination_finale = self.home\n",
    "                self.sur_velo           = False\n",
    "                self.trajet             = Trajet(self.travail, self.destination, self.get_vitesse())\n",
    "\n",
    "            if self.est_sur_station():\n",
    "                station_actuelle = self.ville.prestataire.get_station_at_position(self.position)\n",
    "                \n",
    "                if self.sur_velo:\n",
    "                    velo_rendu       = station_actuelle.deposer_un_velo(self.velo)\n",
    "                    if velo_rendu:\n",
    "                        self.sur_velo    = False\n",
    "                        self.velo        = False\n",
    "                        self.destination = self.destination_finale\n",
    "                        \n",
    "                    else:\n",
    "                        self.destination = self.ville.prestataire.get_closest_station(self.position).position\n",
    "                else:\n",
    "                    velo_pris = station_actuelle.prendre_un_velo()\n",
    "                    if velo_pris:\n",
    "                        if self.velo_perf_minimale <= velo_pris.performance:\n",
    "                            self.sur_velo    = True\n",
    "                            self.velo        = velo_pris\n",
    "                            self.destination = self.ville.prestataire.get_closest_station(self.destination_finale).position\n",
    "                        else:\n",
    "                            new_velo     = velo_pris\n",
    "                            velos_testes = [new_velo]\n",
    "                            while new_velo.performance <self.velo_perf_minimale and station_actuelle.has_velo():\n",
    "                                new_velo = station_actuelle.prendre_un_velo()\n",
    "                                velos_testes.append (new_velo)\n",
    "                            if new_velo.performance <self.velo_perf_minimale:\n",
    "                                [station_actuelle.deposer_un_velo(velo) for velo in velos_testes]\n",
    "                                self.destination = self.ville.prestataire.get_closest_station(self.position).position \n",
    "                            else:\n",
    "                                self.sur_velo    = True\n",
    "                                self.velo        = velos_testes.pop()\n",
    "                                [station_actuelle.deposer_un_velo(velo) for velo in velos_testes]\n",
    "                                self.destination = self.ville.prestataire.get_closest_station(self.destination_finale).position\n",
    "                             \n",
    "                            \n",
    "                    else:\n",
    "                        self.destination = self.ville.prestataire.get_closest_station(self.position).position \n",
    "                self.trajet      = Trajet(self.position, self.destination, self.get_vitesse())\n",
    "        self.positions.append(self.position)\n",
    "        self.timestamps.append(timestamp)\n",
    "        self.status.append({x : str(self.__dict__[x]) for x in self.wanted_details})\n",
    "\n",
    "         "
   ]
  },
  {
   "cell_type": "markdown",
   "metadata": {},
   "source": [
    "# 7) Algo"
   ]
  },
  {
   "cell_type": "code",
   "execution_count": 955,
   "metadata": {},
   "outputs": [],
   "source": [
    "def is_same_position(p1, p2):\n",
    "    return p1.lattitude==p2.lattitude and p1.longitude==p2.longitude\n",
    "\n",
    "import pandas as pd"
   ]
  },
  {
   "cell_type": "code",
   "execution_count": 956,
   "metadata": {},
   "outputs": [],
   "source": [
    "%matplotlib inline"
   ]
  },
  {
   "cell_type": "code",
   "execution_count": 957,
   "metadata": {},
   "outputs": [],
   "source": [
    "import time"
   ]
  },
  {
   "cell_type": "code",
   "execution_count": 972,
   "metadata": {},
   "outputs": [
    {
     "name": "stdout",
     "output_type": "stream",
     "text": [
      "\n",
      "                Nb de stations           : 10000 \n",
      "                Nb de vélos              : 129755 \n",
      "                Nb de stations avec vélo : 10000 \n",
      "                Nb de stations pleines   : 0\n",
      "                Nb de stations vides     : 0\n",
      "        \n",
      "2.45438289642334\n"
     ]
    },
    {
     "data": {
      "text/plain": [
       "(0, 100)"
      ]
     },
     "execution_count": 972,
     "metadata": {},
     "output_type": "execute_result"
    },
    {
     "data": {
      "image/png": "[encoded data removed]",
      "text/plain": [
       "<Figure size 432x288 with 2 Axes>"
      ]
     },
     "metadata": {},
     "output_type": "display_data"
    },
    {
     "data": {
      "image/png": "[encoded data removed]",
      "text/plain": [
       "<Figure size 720x720 with 2 Axes>"
      ]
     },
     "metadata": {},
     "output_type": "display_data"
    }
   ],
   "source": [
    "durees_totales = []\n",
    "nb_cycliste    = 4\n",
    "width          = 100\n",
    "length         = 100\n",
    "JcDecaux       = Prestataire(width,length)\n",
    "paris          = Ville(nb_cycliste, JcDecaux)\n",
    "positions      = pd.DataFrame()\n",
    "ax             = None\n",
    "durees         = []\n",
    "debut          = time.time()\n",
    "print(JcDecaux)\n",
    "for i in range(100):\n",
    "    local_debut = time.time()\n",
    "    paris.reveil()\n",
    "    durees.append(time.time() - local_debut)\n",
    "    ax = paris.draw_map(ax)\n",
    "total = time.time()-debut\n",
    "durees_totales.append(total)\n",
    "print(total)\n",
    "cols = [\"longitude\", \"lattitude\", \"id_cycliste\"]\n",
    "df = paris.get_historique_positions_cycliste()[cols]\n",
    "ax = df.plot.scatter(x=\"longitude\", y=\"lattitude\", c=\"id_cycliste\", colormap='viridis', figsize=(10,10))\n",
    "ax.set_xlim(0, width)\n",
    "ax.set_ylim(0, length)\n"
   ]
  },
  {
   "cell_type": "code",
   "execution_count": null,
   "metadata": {},
   "outputs": [],
   "source": []
  }
 ],
 "metadata": {
  "celltoolbar": "Raw Cell Format",
  "kernelspec": {
   "display_name": "Python 3",
   "language": "python",
   "name": "python3"
  },
  "language_info": {
   "codemirror_mode": {
    "name": "ipython",
    "version": 3
   },
   "file_extension": ".py",
   "mimetype": "text/x-python",
   "name": "python",
   "nbconvert_exporter": "python",
   "pygments_lexer": "ipython3",
   "version": "3.7.1"
  }
 },
 "nbformat": 4,
 "nbformat_minor": 2
}
