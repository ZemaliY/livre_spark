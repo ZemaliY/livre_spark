{
 "cells": [
  {
   "cell_type": "code",
   "execution_count": 937,
   "metadata": {},
   "outputs": [],
   "source": [
    "class Velo:\n",
    "    nb_d_instance =0\n",
    "    def __init__(self):\n",
    "        import random\n",
    "        Velo.nb_d_instance += 1\n",
    "        self.id             = \"velo_%s\"%(Velo.nb_d_instance)\n",
    "        self.performance    = random.random()\n",
    "        \n",
    "    def update_performance(self):\n",
    "        import numpy as np\n",
    "        self.performance = self.performance * np.random.normal(0.90, 0.1)\n",
    "\n",
    "    def __str__(self):\n",
    "        return \"{id} : performance = {performance}\".format(id=self.id,\n",
    "                                                           performance=self.performance)\n",
    "    \n",
    "    \n",
    "    "
   ]
  }
 ],
 "metadata": {
  "celltoolbar": "Raw Cell Format",
  "kernelspec": {
   "display_name": "Python 3",
   "language": "python",
   "name": "python3"
  },
  "language_info": {
   "codemirror_mode": {
    "name": "ipython",
    "version": 3
   },
   "file_extension": ".py",
   "mimetype": "text/x-python",
   "name": "python",
   "nbconvert_exporter": "python",
   "pygments_lexer": "ipython3",
   "version": "3.7.1"
  }
 },
 "nbformat": 4,
 "nbformat_minor": 2
}
