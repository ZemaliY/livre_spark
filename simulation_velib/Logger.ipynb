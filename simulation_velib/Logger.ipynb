{
 "cells": [
  {
   "cell_type": "code",
   "execution_count": 1,
   "metadata": {},
   "outputs": [],
   "source": [
    "class Logger():\n",
    "    def __init__(self, path, bufferlength=1, separator=\"\\n\", mode=\"a\"):\n",
    "        import os\n",
    "        if os.path.exists(path) :\n",
    "            msg = \"Attention : vous allez utiliser un fichier existant !\"\n",
    "            if (mode != \"a\"):\n",
    "                raise msg\n",
    "        self.path         = path\n",
    "        self.logs         = []\n",
    "        self.bufferlength = bufferlength\n",
    "        self.separator    = separator\n",
    "\n",
    "    def clean_msg(self, msg):\n",
    "        msg = str(msg)\n",
    "        if msg[-1] != \"\\n\": \n",
    "            msg = msg + \"\\n\"\n",
    "        return msg\n",
    "    \n",
    "    def log(self, msg, debug=False):\n",
    "        if debug: print(msg)\n",
    "        msg = self.clean_msg(msg)\n",
    "        import datetime\n",
    "        msg=str(datetime.datetime.now().isoformat())+\",\"+msg\n",
    "        self.logs.append(msg)\n",
    "        if self.bufferlength < len(self.logs):\n",
    "            self.write_to_disk()\n",
    "    \n",
    "    def write_to_disk(self):\n",
    "        with open(self.path, \"a\") as f:\n",
    "            f.writelines(self.logs)\n",
    "        self.logs= []\n",
    "    \n",
    "    def __del__(self):\n",
    "        self.write_to_disk()\n",
    "                "
   ]
  },
  {
   "cell_type": "code",
   "execution_count": null,
   "metadata": {},
   "outputs": [],
   "source": []
  }
 ],
 "metadata": {
  "celltoolbar": "Raw Cell Format",
  "kernelspec": {
   "display_name": "Python 3",
   "language": "python",
   "name": "python3"
  },
  "language_info": {
   "codemirror_mode": {
    "name": "ipython",
    "version": 3
   },
   "file_extension": ".py",
   "mimetype": "text/x-python",
   "name": "python",
   "nbconvert_exporter": "python",
   "pygments_lexer": "ipython3",
   "version": "3.7.1"
  }
 },
 "nbformat": 4,
 "nbformat_minor": 2
}
