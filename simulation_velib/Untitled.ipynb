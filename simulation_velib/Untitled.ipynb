{
 "cells": [
  {
   "cell_type": "code",
   "execution_count": 7,
   "metadata": {},
   "outputs": [
    {
     "name": "stdout",
     "output_type": "stream",
     "text": [
      "id,timestamp,sur_velo,velo,vitesse,position,destination_finale\r\n",
      "10,1,False,False,0.3756742039556301,(lon:15.36 lat:6.73),False\r\n",
      "10,2,False,False,0.3756742039556301,(lon:15.36 lat:6.73),False\r\n",
      "10,3,False,False,0.3756742039556301,(lon:15.36 lat:6.73),False\r\n",
      "10,4,False,False,0.3756742039556301,(lon:15.36 lat:6.73),False\r\n",
      "10,5,False,False,0.3756742039556301,(lon:15.36 lat:6.73),False\r\n",
      "10,6,False,False,0.3756742039556301,(lon:15.36 lat:6.73),False\r\n",
      "10,7,False,False,0.3756742039556301,(lon:15.36 lat:6.73),False\r\n",
      "10,8,False,False,0.3756742039556301,(lon:15.36 lat:6.73),False\r\n",
      "10,9,False,False,0.3756742039556301,(lon:15.36 lat:6.73),False\r\n"
     ]
    }
   ],
   "source": [
    "!head ./../data/Cyclistes/cycliste_10.csv\n"
   ]
  },
  {
   "cell_type": "code",
   "execution_count": 9,
   "metadata": {},
   "outputs": [],
   "source": [
    "import pandas as pd"
   ]
  },
  {
   "cell_type": "code",
   "execution_count": 23,
   "metadata": {},
   "outputs": [],
   "source": [
    "df = pd.read_csv(\"./../data/Cyclistes/cycliste_12.csv\")\n"
   ]
  },
  {
   "cell_type": "code",
   "execution_count": 24,
   "metadata": {},
   "outputs": [
    {
     "data": {
      "text/html": [
       "<div>\n",
       "<style scoped>\n",
       "    .dataframe tbody tr th:only-of-type {\n",
       "        vertical-align: middle;\n",
       "    }\n",
       "\n",
       "    .dataframe tbody tr th {\n",
       "        vertical-align: top;\n",
       "    }\n",
       "\n",
       "    .dataframe thead th {\n",
       "        text-align: right;\n",
       "    }\n",
       "</style>\n",
       "<table border=\"1\" class=\"dataframe\">\n",
       "  <thead>\n",
       "    <tr style=\"text-align: right;\">\n",
       "      <th></th>\n",
       "      <th>id</th>\n",
       "      <th>timestamp</th>\n",
       "      <th>sur_velo</th>\n",
       "      <th>velo</th>\n",
       "      <th>vitesse</th>\n",
       "      <th>position</th>\n",
       "      <th>destination_finale</th>\n",
       "    </tr>\n",
       "  </thead>\n",
       "  <tbody>\n",
       "    <tr>\n",
       "      <th>0</th>\n",
       "      <td>12</td>\n",
       "      <td>1</td>\n",
       "      <td>False</td>\n",
       "      <td>False</td>\n",
       "      <td>0.53213</td>\n",
       "      <td>(lon:0.04 lat:0.51)</td>\n",
       "      <td>False</td>\n",
       "    </tr>\n",
       "    <tr>\n",
       "      <th>1</th>\n",
       "      <td>12</td>\n",
       "      <td>2</td>\n",
       "      <td>False</td>\n",
       "      <td>False</td>\n",
       "      <td>0.53213</td>\n",
       "      <td>(lon:0.04 lat:0.51)</td>\n",
       "      <td>False</td>\n",
       "    </tr>\n",
       "    <tr>\n",
       "      <th>2</th>\n",
       "      <td>12</td>\n",
       "      <td>3</td>\n",
       "      <td>False</td>\n",
       "      <td>False</td>\n",
       "      <td>0.53213</td>\n",
       "      <td>(lon:0.04 lat:0.51)</td>\n",
       "      <td>False</td>\n",
       "    </tr>\n",
       "    <tr>\n",
       "      <th>3</th>\n",
       "      <td>12</td>\n",
       "      <td>4</td>\n",
       "      <td>False</td>\n",
       "      <td>False</td>\n",
       "      <td>0.53213</td>\n",
       "      <td>(lon:0.04 lat:0.51)</td>\n",
       "      <td>False</td>\n",
       "    </tr>\n",
       "    <tr>\n",
       "      <th>4</th>\n",
       "      <td>12</td>\n",
       "      <td>5</td>\n",
       "      <td>False</td>\n",
       "      <td>False</td>\n",
       "      <td>0.53213</td>\n",
       "      <td>(lon:0.04 lat:0.51)</td>\n",
       "      <td>False</td>\n",
       "    </tr>\n",
       "  </tbody>\n",
       "</table>\n",
       "</div>"
      ],
      "text/plain": [
       "   id  timestamp  sur_velo   velo  vitesse             position  \\\n",
       "0  12          1     False  False  0.53213  (lon:0.04 lat:0.51)   \n",
       "1  12          2     False  False  0.53213  (lon:0.04 lat:0.51)   \n",
       "2  12          3     False  False  0.53213  (lon:0.04 lat:0.51)   \n",
       "3  12          4     False  False  0.53213  (lon:0.04 lat:0.51)   \n",
       "4  12          5     False  False  0.53213  (lon:0.04 lat:0.51)   \n",
       "\n",
       "  destination_finale  \n",
       "0              False  \n",
       "1              False  \n",
       "2              False  \n",
       "3              False  \n",
       "4              False  "
      ]
     },
     "execution_count": 24,
     "metadata": {},
     "output_type": "execute_result"
    }
   ],
   "source": [
    "df.head()"
   ]
  },
  {
   "cell_type": "code",
   "execution_count": 25,
   "metadata": {},
   "outputs": [
    {
     "data": {
      "text/html": [
       "<div>\n",
       "<style scoped>\n",
       "    .dataframe tbody tr th:only-of-type {\n",
       "        vertical-align: middle;\n",
       "    }\n",
       "\n",
       "    .dataframe tbody tr th {\n",
       "        vertical-align: top;\n",
       "    }\n",
       "\n",
       "    .dataframe thead th {\n",
       "        text-align: right;\n",
       "    }\n",
       "</style>\n",
       "<table border=\"1\" class=\"dataframe\">\n",
       "  <thead>\n",
       "    <tr style=\"text-align: right;\">\n",
       "      <th></th>\n",
       "      <th>id</th>\n",
       "      <th>timestamp</th>\n",
       "      <th>sur_velo</th>\n",
       "      <th>velo</th>\n",
       "      <th>vitesse</th>\n",
       "      <th>position</th>\n",
       "      <th>destination_finale</th>\n",
       "    </tr>\n",
       "  </thead>\n",
       "  <tbody>\n",
       "    <tr>\n",
       "      <th>0</th>\n",
       "      <td>12</td>\n",
       "      <td>1</td>\n",
       "      <td>False</td>\n",
       "      <td>False</td>\n",
       "      <td>0.53213</td>\n",
       "      <td>(lon:0.04 lat:0.51)</td>\n",
       "      <td>False</td>\n",
       "    </tr>\n",
       "    <tr>\n",
       "      <th>28799</th>\n",
       "      <td>12</td>\n",
       "      <td>28800</td>\n",
       "      <td>False</td>\n",
       "      <td>False</td>\n",
       "      <td>0.53213</td>\n",
       "      <td>(lon:0.04 lat:0.51)</td>\n",
       "      <td>(lon:9.53 lat:3.87)</td>\n",
       "    </tr>\n",
       "    <tr>\n",
       "      <th>61199</th>\n",
       "      <td>12</td>\n",
       "      <td>61200</td>\n",
       "      <td>False</td>\n",
       "      <td>False</td>\n",
       "      <td>0.53213</td>\n",
       "      <td>(lon:9.53 lat:3.87)</td>\n",
       "      <td>(lon:0.04 lat:0.51)</td>\n",
       "    </tr>\n",
       "  </tbody>\n",
       "</table>\n",
       "</div>"
      ],
      "text/plain": [
       "       id  timestamp  sur_velo   velo  vitesse             position  \\\n",
       "0      12          1     False  False  0.53213  (lon:0.04 lat:0.51)   \n",
       "28799  12      28800     False  False  0.53213  (lon:0.04 lat:0.51)   \n",
       "61199  12      61200     False  False  0.53213  (lon:9.53 lat:3.87)   \n",
       "\n",
       "        destination_finale  \n",
       "0                    False  \n",
       "28799  (lon:9.53 lat:3.87)  \n",
       "61199  (lon:0.04 lat:0.51)  "
      ]
     },
     "execution_count": 25,
     "metadata": {},
     "output_type": "execute_result"
    }
   ],
   "source": [
    "df.drop_duplicates(subset=\"destination_finale\")"
   ]
  },
  {
   "cell_type": "code",
   "execution_count": 26,
   "metadata": {},
   "outputs": [],
   "source": [
    "import notebook_importer\n",
    "from transform_timestamp_in_date import transform_timestamp_in_date"
   ]
  },
  {
   "cell_type": "code",
   "execution_count": 27,
   "metadata": {},
   "outputs": [
    {
     "data": {
      "text/plain": [
       "8"
      ]
     },
     "execution_count": 27,
     "metadata": {},
     "output_type": "execute_result"
    }
   ],
   "source": [
    "transform_timestamp_in_date(28800).hour"
   ]
  },
  {
   "cell_type": "code",
   "execution_count": 28,
   "metadata": {},
   "outputs": [
    {
     "data": {
      "text/plain": [
       "17"
      ]
     },
     "execution_count": 28,
     "metadata": {},
     "output_type": "execute_result"
    }
   ],
   "source": [
    "transform_timestamp_in_date(61200).hour"
   ]
  },
  {
   "cell_type": "code",
   "execution_count": null,
   "metadata": {},
   "outputs": [],
   "source": []
  }
 ],
 "metadata": {
  "kernelspec": {
   "display_name": "Python 3",
   "language": "python",
   "name": "python3"
  },
  "language_info": {
   "codemirror_mode": {
    "name": "ipython",
    "version": 3
   },
   "file_extension": ".py",
   "mimetype": "text/x-python",
   "name": "python",
   "nbconvert_exporter": "python",
   "pygments_lexer": "ipython3",
   "version": "3.7.1"
  }
 },
 "nbformat": 4,
 "nbformat_minor": 2
}
