{
 "cells": [
  {
   "cell_type": "code",
   "execution_count": 2,
   "metadata": {},
   "outputs": [],
   "source": [
    "class Velo:\n",
    "    import notebook_importer\n",
    "    nb_d_instance =0\n",
    "    output_dir    = \"./Velos/\"\n",
    "    def __init__(self):\n",
    "        import random\n",
    "        import os\n",
    "        from Logger      import Logger\n",
    "        Velo.nb_d_instance += 1\n",
    "        self.id             = \"velo_%s\"%(Velo.nb_d_instance)\n",
    "        self.serie          = min(Velo.nb_d_instance // random.randint(180, 220), 1000)\n",
    "        self.performance    = max(0.85, random.random())\n",
    "        \n",
    "        self.performances   = []\n",
    "        self.logger         = Logger(os.path.join(Velo.output_dir, \"{id}.csv\".format(id=self.id)))\n",
    "        self.log_columns    = [\"velo_id\",\"performance\",\"timestamp\"]\n",
    "        self.logger.log(\",\".join(self.log_columns))\n",
    "    def reparer(self, timestamp):\n",
    "        self.flush_data()\n",
    "        self.update_performance(timestamp, 1.1)\n",
    "        \n",
    "    def update_performance(self, timestamp, new_value=False):\n",
    "        import numpy as np\n",
    "        if new_value:\n",
    "            self.performance = new_value\n",
    "        else:\n",
    "            self.performance = self.performance - (self.serie * np.random.normal(0.002, 0.001))\n",
    "        self.performances.append({\"velo_id\"     : self.id          , \n",
    "                                  \"performance\" : self.performance ,\n",
    "                                  \"timestamp\"   : timestamp        })\n",
    "        \n",
    "        if 100 < len(self.performances):\n",
    "            self.flush_data()\n",
    "            \n",
    "    def flush_data(self):\n",
    "        import pandas as pd\n",
    "        df = pd.DataFrame(self.performances)\n",
    "        [self.logger.log(\",\".join([str(x[log_col]) for log_col in self.log_columns])) for x in self.performances]\n",
    "        self.logger.write_to_disk()\n",
    "        self.performances = []\n",
    "        return df\n",
    "        \n",
    "\n",
    "    def __str__(self):\n",
    "        return \"velo_{id}_performance_{performance}\".format(**self.__dict__)\n",
    "    \n",
    "\n",
    "                         "
   ]
  },
  {
   "cell_type": "code",
   "execution_count": null,
   "metadata": {},
   "outputs": [],
   "source": []
  }
 ],
 "metadata": {
  "celltoolbar": "Raw Cell Format",
  "kernelspec": {
   "display_name": "Python 3",
   "language": "python",
   "name": "python3"
  },
  "language_info": {
   "codemirror_mode": {
    "name": "ipython",
    "version": 3
   },
   "file_extension": ".py",
   "mimetype": "text/x-python",
   "name": "python",
   "nbconvert_exporter": "python",
   "pygments_lexer": "ipython3",
   "version": "3.7.1"
  }
 },
 "nbformat": 4,
 "nbformat_minor": 2
}
