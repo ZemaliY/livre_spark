{
 "cells": [
  {
   "cell_type": "markdown",
   "metadata": {},
   "source": [
    "# -1) imports"
   ]
  },
  {
   "cell_type": "markdown",
   "metadata": {},
   "source": [
    "## -1.1) librairie standard"
   ]
  },
  {
   "cell_type": "code",
   "execution_count": 1,
   "metadata": {},
   "outputs": [],
   "source": [
    "import pandas            as pd\n",
    "import importlib\n",
    "import notebook_importer\n",
    "import time"
   ]
  },
  {
   "cell_type": "markdown",
   "metadata": {},
   "source": [
    "## -1.2) librairie de datavisualisation"
   ]
  },
  {
   "cell_type": "code",
   "execution_count": 2,
   "metadata": {},
   "outputs": [
    {
     "data": {
      "text/html": [
       "\n",
       "    <div class=\"bk-root\">\n",
       "        <a href=\"https://bokeh.pydata.org\" target=\"_blank\" class=\"bk-logo bk-logo-small bk-logo-notebook\"></a>\n",
       "        <span id=\"1001\">Loading BokehJS ...</span>\n",
       "    </div>"
      ]
     },
     "metadata": {},
     "output_type": "display_data"
    },
    {
     "data": {
      "application/javascript": [
       "\n",
       "(function(root) {\n",
       "  function now() {\n",
       "    return new Date();\n",
       "  }\n",
       "\n",
       "  var force = true;\n",
       "\n",
       "  if (typeof (root._bokeh_onload_callbacks) === \"undefined\" || force === true) {\n",
       "    root._bokeh_onload_callbacks = [];\n",
       "    root._bokeh_is_loading = undefined;\n",
       "  }\n",
       "\n",
       "  var JS_MIME_TYPE = 'application/javascript';\n",
       "  var HTML_MIME_TYPE = 'text/html';\n",
       "  var EXEC_MIME_TYPE = 'application/vnd.bokehjs_exec.v0+json';\n",
       "  var CLASS_NAME = 'output_bokeh rendered_html';\n",
       "\n",
       "  /**\n",
       "   * Render data to the DOM node\n",
       "   */\n",
       "  function render(props, node) {\n",
       "    var script = document.createElement(\"script\");\n",
       "    node.appendChild(script);\n",
       "  }\n",
       "\n",
       "  /**\n",
       "   * Handle when an output is cleared or removed\n",
       "   */\n",
       "  function handleClearOutput(event, handle) {\n",
       "    var cell = handle.cell;\n",
       "\n",
       "    var id = cell.output_area._bokeh_element_id;\n",
       "    var server_id = cell.output_area._bokeh_server_id;\n",
       "    // Clean up Bokeh references\n",
       "    if (id != null && id in Bokeh.index) {\n",
       "      Bokeh.index[id].model.document.clear();\n",
       "      delete Bokeh.index[id];\n",
       "    }\n",
       "\n",
       "    if (server_id !== undefined) {\n",
       "      // Clean up Bokeh references\n",
       "      var cmd = \"from bokeh.io.state import curstate; print(curstate().uuid_to_server['\" + server_id + \"'].get_sessions()[0].document.roots[0]._id)\";\n",
       "      cell.notebook.kernel.execute(cmd, {\n",
       "        iopub: {\n",
       "          output: function(msg) {\n",
       "            var id = msg.content.text.trim();\n",
       "            if (id in Bokeh.index) {\n",
       "              Bokeh.index[id].model.document.clear();\n",
       "              delete Bokeh.index[id];\n",
       "            }\n",
       "          }\n",
       "        }\n",
       "      });\n",
       "      // Destroy server and session\n",
       "      var cmd = \"import bokeh.io.notebook as ion; ion.destroy_server('\" + server_id + \"')\";\n",
       "      cell.notebook.kernel.execute(cmd);\n",
       "    }\n",
       "  }\n",
       "\n",
       "  /**\n",
       "   * Handle when a new output is added\n",
       "   */\n",
       "  function handleAddOutput(event, handle) {\n",
       "    var output_area = handle.output_area;\n",
       "    var output = handle.output;\n",
       "\n",
       "    // limit handleAddOutput to display_data with EXEC_MIME_TYPE content only\n",
       "    if ((output.output_type != \"display_data\") || (!output.data.hasOwnProperty(EXEC_MIME_TYPE))) {\n",
       "      return\n",
       "    }\n",
       "\n",
       "    var toinsert = output_area.element.find(\".\" + CLASS_NAME.split(' ')[0]);\n",
       "\n",
       "    if (output.metadata[EXEC_MIME_TYPE][\"id\"] !== undefined) {\n",
       "      toinsert[toinsert.length - 1].firstChild.textContent = output.data[JS_MIME_TYPE];\n",
       "      // store reference to embed id on output_area\n",
       "      output_area._bokeh_element_id = output.metadata[EXEC_MIME_TYPE][\"id\"];\n",
       "    }\n",
       "    if (output.metadata[EXEC_MIME_TYPE][\"server_id\"] !== undefined) {\n",
       "      var bk_div = document.createElement(\"div\");\n",
       "      bk_div.innerHTML = output.data[HTML_MIME_TYPE];\n",
       "      var script_attrs = bk_div.children[0].attributes;\n",
       "      for (var i = 0; i < script_attrs.length; i++) {\n",
       "        toinsert[toinsert.length - 1].firstChild.setAttribute(script_attrs[i].name, script_attrs[i].value);\n",
       "      }\n",
       "      // store reference to server id on output_area\n",
       "      output_area._bokeh_server_id = output.metadata[EXEC_MIME_TYPE][\"server_id\"];\n",
       "    }\n",
       "  }\n",
       "\n",
       "  function register_renderer(events, OutputArea) {\n",
       "\n",
       "    function append_mime(data, metadata, element) {\n",
       "      // create a DOM node to render to\n",
       "      var toinsert = this.create_output_subarea(\n",
       "        metadata,\n",
       "        CLASS_NAME,\n",
       "        EXEC_MIME_TYPE\n",
       "      );\n",
       "      this.keyboard_manager.register_events(toinsert);\n",
       "      // Render to node\n",
       "      var props = {data: data, metadata: metadata[EXEC_MIME_TYPE]};\n",
       "      render(props, toinsert[toinsert.length - 1]);\n",
       "      element.append(toinsert);\n",
       "      return toinsert\n",
       "    }\n",
       "\n",
       "    /* Handle when an output is cleared or removed */\n",
       "    events.on('clear_output.CodeCell', handleClearOutput);\n",
       "    events.on('delete.Cell', handleClearOutput);\n",
       "\n",
       "    /* Handle when a new output is added */\n",
       "    events.on('output_added.OutputArea', handleAddOutput);\n",
       "\n",
       "    /**\n",
       "     * Register the mime type and append_mime function with output_area\n",
       "     */\n",
       "    OutputArea.prototype.register_mime_type(EXEC_MIME_TYPE, append_mime, {\n",
       "      /* Is output safe? */\n",
       "      safe: true,\n",
       "      /* Index of renderer in `output_area.display_order` */\n",
       "      index: 0\n",
       "    });\n",
       "  }\n",
       "\n",
       "  // register the mime type if in Jupyter Notebook environment and previously unregistered\n",
       "  if (root.Jupyter !== undefined) {\n",
       "    var events = require('base/js/events');\n",
       "    var OutputArea = require('notebook/js/outputarea').OutputArea;\n",
       "\n",
       "    if (OutputArea.prototype.mime_types().indexOf(EXEC_MIME_TYPE) == -1) {\n",
       "      register_renderer(events, OutputArea);\n",
       "    }\n",
       "  }\n",
       "\n",
       "  \n",
       "  if (typeof (root._bokeh_timeout) === \"undefined\" || force === true) {\n",
       "    root._bokeh_timeout = Date.now() + 5000;\n",
       "    root._bokeh_failed_load = false;\n",
       "  }\n",
       "\n",
       "  var NB_LOAD_WARNING = {'data': {'text/html':\n",
       "     \"<div style='background-color: #fdd'>\\n\"+\n",
       "     \"<p>\\n\"+\n",
       "     \"BokehJS does not appear to have successfully loaded. If loading BokehJS from CDN, this \\n\"+\n",
       "     \"may be due to a slow or bad network connection. Possible fixes:\\n\"+\n",
       "     \"</p>\\n\"+\n",
       "     \"<ul>\\n\"+\n",
       "     \"<li>re-rerun `output_notebook()` to attempt to load from CDN again, or</li>\\n\"+\n",
       "     \"<li>use INLINE resources instead, as so:</li>\\n\"+\n",
       "     \"</ul>\\n\"+\n",
       "     \"<code>\\n\"+\n",
       "     \"from bokeh.resources import INLINE\\n\"+\n",
       "     \"output_notebook(resources=INLINE)\\n\"+\n",
       "     \"</code>\\n\"+\n",
       "     \"</div>\"}};\n",
       "\n",
       "  function display_loaded() {\n",
       "    var el = document.getElementById(\"1001\");\n",
       "    if (el != null) {\n",
       "      el.textContent = \"BokehJS is loading...\";\n",
       "    }\n",
       "    if (root.Bokeh !== undefined) {\n",
       "      if (el != null) {\n",
       "        el.textContent = \"BokehJS \" + root.Bokeh.version + \" successfully loaded.\";\n",
       "      }\n",
       "    } else if (Date.now() < root._bokeh_timeout) {\n",
       "      setTimeout(display_loaded, 100)\n",
       "    }\n",
       "  }\n",
       "\n",
       "\n",
       "  function run_callbacks() {\n",
       "    try {\n",
       "      root._bokeh_onload_callbacks.forEach(function(callback) { callback() });\n",
       "    }\n",
       "    finally {\n",
       "      delete root._bokeh_onload_callbacks\n",
       "    }\n",
       "    console.info(\"Bokeh: all callbacks have finished\");\n",
       "  }\n",
       "\n",
       "  function load_libs(js_urls, callback) {\n",
       "    root._bokeh_onload_callbacks.push(callback);\n",
       "    if (root._bokeh_is_loading > 0) {\n",
       "      console.log(\"Bokeh: BokehJS is being loaded, scheduling callback at\", now());\n",
       "      return null;\n",
       "    }\n",
       "    if (js_urls == null || js_urls.length === 0) {\n",
       "      run_callbacks();\n",
       "      return null;\n",
       "    }\n",
       "    console.log(\"Bokeh: BokehJS not loaded, scheduling load and callback at\", now());\n",
       "    root._bokeh_is_loading = js_urls.length;\n",
       "    for (var i = 0; i < js_urls.length; i++) {\n",
       "      var url = js_urls[i];\n",
       "      var s = document.createElement('script');\n",
       "      s.src = url;\n",
       "      s.async = false;\n",
       "      s.onreadystatechange = s.onload = function() {\n",
       "        root._bokeh_is_loading--;\n",
       "        if (root._bokeh_is_loading === 0) {\n",
       "          console.log(\"Bokeh: all BokehJS libraries loaded\");\n",
       "          run_callbacks()\n",
       "        }\n",
       "      };\n",
       "      s.onerror = function() {\n",
       "        console.warn(\"failed to load library \" + url);\n",
       "      };\n",
       "      console.log(\"Bokeh: injecting script tag for BokehJS library: \", url);\n",
       "      document.getElementsByTagName(\"head\")[0].appendChild(s);\n",
       "    }\n",
       "  };var element = document.getElementById(\"1001\");\n",
       "  if (element == null) {\n",
       "    console.log(\"Bokeh: ERROR: autoload.js configured with elementid '1001' but no matching script tag was found. \")\n",
       "    return false;\n",
       "  }\n",
       "\n",
       "  var js_urls = [\"https://cdn.pydata.org/bokeh/release/bokeh-1.0.2.min.js\", \"https://cdn.pydata.org/bokeh/release/bokeh-widgets-1.0.2.min.js\", \"https://cdn.pydata.org/bokeh/release/bokeh-tables-1.0.2.min.js\", \"https://cdn.pydata.org/bokeh/release/bokeh-gl-1.0.2.min.js\"];\n",
       "\n",
       "  var inline_js = [\n",
       "    function(Bokeh) {\n",
       "      Bokeh.set_log_level(\"info\");\n",
       "    },\n",
       "    \n",
       "    function(Bokeh) {\n",
       "      \n",
       "    },\n",
       "    function(Bokeh) {\n",
       "      console.log(\"Bokeh: injecting CSS: https://cdn.pydata.org/bokeh/release/bokeh-1.0.2.min.css\");\n",
       "      Bokeh.embed.inject_css(\"https://cdn.pydata.org/bokeh/release/bokeh-1.0.2.min.css\");\n",
       "      console.log(\"Bokeh: injecting CSS: https://cdn.pydata.org/bokeh/release/bokeh-widgets-1.0.2.min.css\");\n",
       "      Bokeh.embed.inject_css(\"https://cdn.pydata.org/bokeh/release/bokeh-widgets-1.0.2.min.css\");\n",
       "      console.log(\"Bokeh: injecting CSS: https://cdn.pydata.org/bokeh/release/bokeh-tables-1.0.2.min.css\");\n",
       "      Bokeh.embed.inject_css(\"https://cdn.pydata.org/bokeh/release/bokeh-tables-1.0.2.min.css\");\n",
       "    }\n",
       "  ];\n",
       "\n",
       "  function run_inline_js() {\n",
       "    \n",
       "    if ((root.Bokeh !== undefined) || (force === true)) {\n",
       "      for (var i = 0; i < inline_js.length; i++) {\n",
       "        inline_js[i].call(root, root.Bokeh);\n",
       "      }if (force === true) {\n",
       "        display_loaded();\n",
       "      }} else if (Date.now() < root._bokeh_timeout) {\n",
       "      setTimeout(run_inline_js, 100);\n",
       "    } else if (!root._bokeh_failed_load) {\n",
       "      console.log(\"Bokeh: BokehJS failed to load within specified timeout.\");\n",
       "      root._bokeh_failed_load = true;\n",
       "    } else if (force !== true) {\n",
       "      var cell = $(document.getElementById(\"1001\")).parents('.cell').data().cell;\n",
       "      cell.output_area.append_execute_result(NB_LOAD_WARNING)\n",
       "    }\n",
       "\n",
       "  }\n",
       "\n",
       "  if (root._bokeh_is_loading === 0) {\n",
       "    console.log(\"Bokeh: BokehJS loaded, going straight to plotting\");\n",
       "    run_inline_js();\n",
       "  } else {\n",
       "    load_libs(js_urls, function() {\n",
       "      console.log(\"Bokeh: BokehJS plotting callback run at\", now());\n",
       "      run_inline_js();\n",
       "    });\n",
       "  }\n",
       "}(window));"
      ],
      "application/vnd.bokehjs_load.v0+json": "\n(function(root) {\n  function now() {\n    return new Date();\n  }\n\n  var force = true;\n\n  if (typeof (root._bokeh_onload_callbacks) === \"undefined\" || force === true) {\n    root._bokeh_onload_callbacks = [];\n    root._bokeh_is_loading = undefined;\n  }\n\n  \n\n  \n  if (typeof (root._bokeh_timeout) === \"undefined\" || force === true) {\n    root._bokeh_timeout = Date.now() + 5000;\n    root._bokeh_failed_load = false;\n  }\n\n  var NB_LOAD_WARNING = {'data': {'text/html':\n     \"<div style='background-color: #fdd'>\\n\"+\n     \"<p>\\n\"+\n     \"BokehJS does not appear to have successfully loaded. If loading BokehJS from CDN, this \\n\"+\n     \"may be due to a slow or bad network connection. Possible fixes:\\n\"+\n     \"</p>\\n\"+\n     \"<ul>\\n\"+\n     \"<li>re-rerun `output_notebook()` to attempt to load from CDN again, or</li>\\n\"+\n     \"<li>use INLINE resources instead, as so:</li>\\n\"+\n     \"</ul>\\n\"+\n     \"<code>\\n\"+\n     \"from bokeh.resources import INLINE\\n\"+\n     \"output_notebook(resources=INLINE)\\n\"+\n     \"</code>\\n\"+\n     \"</div>\"}};\n\n  function display_loaded() {\n    var el = document.getElementById(\"1001\");\n    if (el != null) {\n      el.textContent = \"BokehJS is loading...\";\n    }\n    if (root.Bokeh !== undefined) {\n      if (el != null) {\n        el.textContent = \"BokehJS \" + root.Bokeh.version + \" successfully loaded.\";\n      }\n    } else if (Date.now() < root._bokeh_timeout) {\n      setTimeout(display_loaded, 100)\n    }\n  }\n\n\n  function run_callbacks() {\n    try {\n      root._bokeh_onload_callbacks.forEach(function(callback) { callback() });\n    }\n    finally {\n      delete root._bokeh_onload_callbacks\n    }\n    console.info(\"Bokeh: all callbacks have finished\");\n  }\n\n  function load_libs(js_urls, callback) {\n    root._bokeh_onload_callbacks.push(callback);\n    if (root._bokeh_is_loading > 0) {\n      console.log(\"Bokeh: BokehJS is being loaded, scheduling callback at\", now());\n      return null;\n    }\n    if (js_urls == null || js_urls.length === 0) {\n      run_callbacks();\n      return null;\n    }\n    console.log(\"Bokeh: BokehJS not loaded, scheduling load and callback at\", now());\n    root._bokeh_is_loading = js_urls.length;\n    for (var i = 0; i < js_urls.length; i++) {\n      var url = js_urls[i];\n      var s = document.createElement('script');\n      s.src = url;\n      s.async = false;\n      s.onreadystatechange = s.onload = function() {\n        root._bokeh_is_loading--;\n        if (root._bokeh_is_loading === 0) {\n          console.log(\"Bokeh: all BokehJS libraries loaded\");\n          run_callbacks()\n        }\n      };\n      s.onerror = function() {\n        console.warn(\"failed to load library \" + url);\n      };\n      console.log(\"Bokeh: injecting script tag for BokehJS library: \", url);\n      document.getElementsByTagName(\"head\")[0].appendChild(s);\n    }\n  };var element = document.getElementById(\"1001\");\n  if (element == null) {\n    console.log(\"Bokeh: ERROR: autoload.js configured with elementid '1001' but no matching script tag was found. \")\n    return false;\n  }\n\n  var js_urls = [\"https://cdn.pydata.org/bokeh/release/bokeh-1.0.2.min.js\", \"https://cdn.pydata.org/bokeh/release/bokeh-widgets-1.0.2.min.js\", \"https://cdn.pydata.org/bokeh/release/bokeh-tables-1.0.2.min.js\", \"https://cdn.pydata.org/bokeh/release/bokeh-gl-1.0.2.min.js\"];\n\n  var inline_js = [\n    function(Bokeh) {\n      Bokeh.set_log_level(\"info\");\n    },\n    \n    function(Bokeh) {\n      \n    },\n    function(Bokeh) {\n      console.log(\"Bokeh: injecting CSS: https://cdn.pydata.org/bokeh/release/bokeh-1.0.2.min.css\");\n      Bokeh.embed.inject_css(\"https://cdn.pydata.org/bokeh/release/bokeh-1.0.2.min.css\");\n      console.log(\"Bokeh: injecting CSS: https://cdn.pydata.org/bokeh/release/bokeh-widgets-1.0.2.min.css\");\n      Bokeh.embed.inject_css(\"https://cdn.pydata.org/bokeh/release/bokeh-widgets-1.0.2.min.css\");\n      console.log(\"Bokeh: injecting CSS: https://cdn.pydata.org/bokeh/release/bokeh-tables-1.0.2.min.css\");\n      Bokeh.embed.inject_css(\"https://cdn.pydata.org/bokeh/release/bokeh-tables-1.0.2.min.css\");\n    }\n  ];\n\n  function run_inline_js() {\n    \n    if ((root.Bokeh !== undefined) || (force === true)) {\n      for (var i = 0; i < inline_js.length; i++) {\n        inline_js[i].call(root, root.Bokeh);\n      }if (force === true) {\n        display_loaded();\n      }} else if (Date.now() < root._bokeh_timeout) {\n      setTimeout(run_inline_js, 100);\n    } else if (!root._bokeh_failed_load) {\n      console.log(\"Bokeh: BokehJS failed to load within specified timeout.\");\n      root._bokeh_failed_load = true;\n    } else if (force !== true) {\n      var cell = $(document.getElementById(\"1001\")).parents('.cell').data().cell;\n      cell.output_area.append_execute_result(NB_LOAD_WARNING)\n    }\n\n  }\n\n  if (root._bokeh_is_loading === 0) {\n    console.log(\"Bokeh: BokehJS loaded, going straight to plotting\");\n    run_inline_js();\n  } else {\n    load_libs(js_urls, function() {\n      console.log(\"Bokeh: BokehJS plotting callback run at\", now());\n      run_inline_js();\n    });\n  }\n}(window));"
     },
     "metadata": {},
     "output_type": "display_data"
    }
   ],
   "source": [
    "from bokeh.io        import push_notebook, show, output_notebook\n",
    "from bokeh.layouts   import row\n",
    "from bokeh.plotting  import figure\n",
    "from bokeh.plotting  import figure, output_file, show, ColumnDataSource\n",
    "from bokeh.models    import HoverTool\n",
    "from bokeh.transform import factor_cmap\n",
    "from bokeh.palettes  import Spectral6, inferno\n",
    "from bokeh.embed     import file_html\n",
    "output_notebook()"
   ]
  },
  {
   "cell_type": "markdown",
   "metadata": {},
   "source": [
    "## -1.3) libraire spécifique au projet"
   ]
  },
  {
   "cell_type": "code",
   "execution_count": 3,
   "metadata": {},
   "outputs": [
    {
     "name": "stdout",
     "output_type": "stream",
     "text": [
      "importing Jupyter notebook from Velo.ipynb\n",
      "importing Jupyter notebook from Ville.ipynb\n",
      "importing Jupyter notebook from Trajet.ipynb\n",
      "importing Jupyter notebook from Logger.ipynb\n",
      "importing Jupyter notebook from Station.ipynb\n",
      "importing Jupyter notebook from Cycliste.ipynb\n",
      "importing Jupyter notebook from Position.ipynb\n",
      "importing Jupyter notebook from Prestataire.ipynb\n"
     ]
    }
   ],
   "source": [
    "from Velo        import Velo\n",
    "from Ville       import Ville\n",
    "from Trajet      import Trajet\n",
    "from Logger      import Logger\n",
    "from Station     import Station\n",
    "from Cycliste    import Casseur\n",
    "from Cycliste    import Cycliste\n",
    "from Position    import Position as Position\n",
    "from Prestataire import Prestataire"
   ]
  },
  {
   "cell_type": "markdown",
   "metadata": {},
   "source": [
    "# 0) création de fonctions"
   ]
  },
  {
   "cell_type": "code",
   "execution_count": 4,
   "metadata": {},
   "outputs": [],
   "source": [
    "%matplotlib inline"
   ]
  },
  {
   "cell_type": "code",
   "execution_count": 5,
   "metadata": {},
   "outputs": [],
   "source": [
    "def draw(positions):\n",
    "    import pandas as pd\n",
    "    df = pd.DataFrame([ position.get_json() for position in positions])\n",
    "    df.plot.scatter(x=\"longitude\", y=\"lattitude\")"
   ]
  },
  {
   "cell_type": "markdown",
   "metadata": {},
   "source": [
    "# 1) création de données "
   ]
  },
  {
   "cell_type": "markdown",
   "metadata": {},
   "source": [
    "## 1.1) paramètres : nombres de cyclistes, taille de la ville"
   ]
  },
  {
   "cell_type": "code",
   "execution_count": 71,
   "metadata": {},
   "outputs": [],
   "source": [
    "nb_cycliste    = 1\n",
    "width          = 10\n",
    "length         = 10"
   ]
  },
  {
   "cell_type": "markdown",
   "metadata": {},
   "source": [
    "## 1.2) création de la ville"
   ]
  },
  {
   "cell_type": "code",
   "execution_count": 91,
   "metadata": {},
   "outputs": [],
   "source": [
    "!rm ./Cyclistes/*"
   ]
  },
  {
   "cell_type": "code",
   "execution_count": 92,
   "metadata": {},
   "outputs": [],
   "source": [
    "!rm ./Stations/*"
   ]
  },
  {
   "cell_type": "code",
   "execution_count": 93,
   "metadata": {
    "scrolled": false
   },
   "outputs": [
    {
     "name": "stdout",
     "output_type": "stream",
     "text": [
      "\n",
      "                Nb de stations           : 100 \n",
      "                Nb de vélos              : 1100 \n",
      "                Nb de stations avec vélo : 100 \n",
      "                Nb de stations pleines   : 0\n",
      "                Nb de stations vides     : 0\n",
      "        \n",
      "nb de cycliste = \n",
      "1\n"
     ]
    }
   ],
   "source": [
    "JcDecaux       = Prestataire(width,length)\n",
    "paris          = Ville(nb_cycliste, JcDecaux)\n",
    "print(paris)"
   ]
  },
  {
   "cell_type": "markdown",
   "metadata": {},
   "source": [
    "## 1.3) animation de la ville"
   ]
  },
  {
   "cell_type": "code",
   "execution_count": 94,
   "metadata": {},
   "outputs": [],
   "source": [
    "nombre_de_cycles = 300 "
   ]
  },
  {
   "cell_type": "code",
   "execution_count": 95,
   "metadata": {},
   "outputs": [
    {
     "name": "stdout",
     "output_type": "stream",
     "text": [
      "0,1,2,3,4,5,6,7,8,9,10,11,12,13,14,15,16,17,18,19,20,21,22,23,24,25,26,27,28,29,30,31,32,33,34,35,36,37,38,39,40,41,42,43,44,45,46,47,48,49,50,51,52,53,54,55,56,57,58,59,60,61,62,63,64,65,66,67,68,69,70,71,72,73,74,75,76,77,78,79,80,81,82,83,84,85,86,87,88,89,90,91,92,93,94,95,96,97,98,99,100,101,102,103,104,105,106,107,108,109,110,111,112,113,114,115,116,117,118,119,120,121,122,123,124,125,126,127,128,129,130,131,132,133,134,135,136,137,138,139,140,141,142,143,144,145,146,147,148,149,150,151,152,153,154,155,156,157,158,159,160,161,162,163,164,165,166,167,168,169,170,171,172,173,174,175,176,177,178,179,180,181,182,183,184,185,186,187,188,189,190,191,192,193,194,195,196,197,198,199,200,201,202,203,204,205,206,207,208,209,210,211,212,213,214,215,216,217,218,219,220,221,222,223,224,225,226,227,228,229,230,231,232,233,234,235,236,237,238,239,240,241,242,243,244,245,246,247,248,249,250,251,252,253,254,255,256,257,258,259,260,261,262,263,264,265,266,267,268,269,270,271,272,273,274,275,276,277,278,279,280,281,282,283,284,285,286,287,288,289,290,291,292,293,294,295,296,297,298,"
     ]
    }
   ],
   "source": [
    "if not nombre_de_cycles%100:\n",
    "    nombre_de_cycles = nombre_de_cycles - 1\n",
    "nombre_de_cycles\n",
    "for n in range(nombre_de_cycles):\n",
    "    print(n, end=\",\")\n",
    "    paris.reveil()"
   ]
  },
  {
   "cell_type": "markdown",
   "metadata": {},
   "source": [
    "# 2) analyse des résultats"
   ]
  },
  {
   "cell_type": "code",
   "execution_count": 96,
   "metadata": {},
   "outputs": [],
   "source": [
    "unique_id_cycliste = list(set([x.id for x in paris.cyclistes]))\n",
    "unique_id_cycliste = [str(x) for x in unique_id_cycliste]"
   ]
  },
  {
   "cell_type": "code",
   "execution_count": 97,
   "metadata": {},
   "outputs": [],
   "source": [
    "palette   = inferno(len(unique_id_cycliste))\n",
    "color_map = factor_cmap('id_cycliste',palette = palette, factors =  unique_id_cycliste)"
   ]
  },
  {
   "cell_type": "code",
   "execution_count": 98,
   "metadata": {},
   "outputs": [],
   "source": [
    "positions             = paris.get_historique_positions_cycliste()[['longitude', 'lattitude', 'id_cycliste', 'time',  ]]\n",
    "positions.id_cycliste = positions.id_cycliste.map(str)\n",
    "positions[\"type\"]     = \"position\"\n",
    "positions             = ColumnDataSource(positions)\n"
   ]
  },
  {
   "cell_type": "code",
   "execution_count": 99,
   "metadata": {},
   "outputs": [],
   "source": [
    "df = paris.get_historique_positions_cycliste()"
   ]
  },
  {
   "cell_type": "code",
   "execution_count": 100,
   "metadata": {},
   "outputs": [
    {
     "data": {
      "text/html": [
       "\n",
       "\n",
       "\n",
       "\n",
       "\n",
       "\n",
       "  <div class=\"bk-root\" id=\"1a7faf4c-d272-493e-bb51-85e5412299f8\"></div>\n"
      ]
     },
     "metadata": {},
     "output_type": "display_data"
    },
    {
     "data": {
      "application/javascript": [
       "(function(root) {\n",
       "  function embed_document(root) {\n",
       "    \n",
       "  var docs_json = {\"ec04e9cb-cbd4-472d-af11-60745b0715dd\":{\"roots\":{\"references\":[{\"attributes\":{\"below\":[{\"id\":\"1605\",\"type\":\"LinearAxis\"}],\"left\":[{\"id\":\"1610\",\"type\":\"LinearAxis\"}],\"renderers\":[{\"id\":\"1605\",\"type\":\"LinearAxis\"},{\"id\":\"1609\",\"type\":\"Grid\"},{\"id\":\"1610\",\"type\":\"LinearAxis\"},{\"id\":\"1614\",\"type\":\"Grid\"},{\"id\":\"1623\",\"type\":\"BoxAnnotation\"},{\"id\":\"1633\",\"type\":\"GlyphRenderer\"},{\"id\":\"1638\",\"type\":\"GlyphRenderer\"},{\"id\":\"1643\",\"type\":\"GlyphRenderer\"},{\"id\":\"1648\",\"type\":\"GlyphRenderer\"}],\"title\":{\"id\":\"1682\",\"type\":\"Title\"},\"toolbar\":{\"id\":\"1621\",\"type\":\"Toolbar\"},\"x_range\":{\"id\":\"1597\",\"type\":\"DataRange1d\"},\"x_scale\":{\"id\":\"1601\",\"type\":\"LinearScale\"},\"y_range\":{\"id\":\"1599\",\"type\":\"DataRange1d\"},\"y_scale\":{\"id\":\"1603\",\"type\":\"LinearScale\"}},\"id\":\"1596\",\"subtype\":\"Figure\",\"type\":\"Plot\"},{\"attributes\":{\"callback\":null},\"id\":\"1599\",\"type\":\"DataRange1d\"},{\"attributes\":{\"callback\":null,\"data\":{\"index\":[0,1,2,3,4,5,6,7,8,9,10,11,12,13,14,15,16,17,18,19,20,21,22,23,24,25,26,27,28,29,30,31,32,33,34,35,36,37,38,39,40,41,42,43,44,45,46,47,48,49,50,51,52,53,54,55,56,57,58,59,60,61,62,63,64,65,66,67,68,69,70,71,72,73,74,75,76,77,78,79,80,81,82,83,84,85,86,87,88,89,90,91,92,93,94,95,96,97,98,99],\"lattitude\":[0,1,2,3,4,5,6,7,8,9,0,1,2,3,4,5,6,7,8,9,0,1,2,3,4,5,6,7,8,9,0,1,2,3,4,5,6,7,8,9,0,1,2,3,4,5,6,7,8,9,0,1,2,3,4,5,6,7,8,9,0,1,2,3,4,5,6,7,8,9,0,1,2,3,4,5,6,7,8,9,0,1,2,3,4,5,6,7,8,9,0,1,2,3,4,5,6,7,8,9],\"longitudes\":[0,0,0,0,0,0,0,0,0,0,1,1,1,1,1,1,1,1,1,1,2,2,2,2,2,2,2,2,2,2,3,3,3,3,3,3,3,3,3,3,4,4,4,4,4,4,4,4,4,4,5,5,5,5,5,5,5,5,5,5,6,6,6,6,6,6,6,6,6,6,7,7,7,7,7,7,7,7,7,7,8,8,8,8,8,8,8,8,8,8,9,9,9,9,9,9,9,9,9,9],\"type\":[\"stations\",\"stations\",\"stations\",\"stations\",\"stations\",\"stations\",\"stations\",\"stations\",\"stations\",\"stations\",\"stations\",\"stations\",\"stations\",\"stations\",\"stations\",\"stations\",\"stations\",\"stations\",\"stations\",\"stations\",\"stations\",\"stations\",\"stations\",\"stations\",\"stations\",\"stations\",\"stations\",\"stations\",\"stations\",\"stations\",\"stations\",\"stations\",\"stations\",\"stations\",\"stations\",\"stations\",\"stations\",\"stations\",\"stations\",\"stations\",\"stations\",\"stations\",\"stations\",\"stations\",\"stations\",\"stations\",\"stations\",\"stations\",\"stations\",\"stations\",\"stations\",\"stations\",\"stations\",\"stations\",\"stations\",\"stations\",\"stations\",\"stations\",\"stations\",\"stations\",\"stations\",\"stations\",\"stations\",\"stations\",\"stations\",\"stations\",\"stations\",\"stations\",\"stations\",\"stations\",\"stations\",\"stations\",\"stations\",\"stations\",\"stations\",\"stations\",\"stations\",\"stations\",\"stations\",\"stations\",\"stations\",\"stations\",\"stations\",\"stations\",\"stations\",\"stations\",\"stations\",\"stations\",\"stations\",\"stations\",\"stations\",\"stations\",\"stations\",\"stations\",\"stations\",\"stations\",\"stations\",\"stations\",\"stations\",\"stations\"]},\"selected\":{\"id\":\"1693\",\"type\":\"Selection\"},\"selection_policy\":{\"id\":\"1694\",\"type\":\"UnionRenderers\"}},\"id\":\"1595\",\"type\":\"ColumnDataSource\"},{\"attributes\":{},\"id\":\"1693\",\"type\":\"Selection\"},{\"attributes\":{},\"id\":\"1694\",\"type\":\"UnionRenderers\"},{\"attributes\":{},\"id\":\"1603\",\"type\":\"LinearScale\"},{\"attributes\":{\"dimension\":1,\"plot\":{\"id\":\"1596\",\"subtype\":\"Figure\",\"type\":\"Plot\"},\"ticker\":{\"id\":\"1611\",\"type\":\"BasicTicker\"}},\"id\":\"1614\",\"type\":\"Grid\"},{\"attributes\":{\"source\":{\"id\":\"1595\",\"type\":\"ColumnDataSource\"}},\"id\":\"1644\",\"type\":\"CDSView\"},{\"attributes\":{\"callback\":null,\"tooltips\":[[\"cyliste\",\"@id_cycliste\"],[\"type\",\"@type\"]]},\"id\":\"1650\",\"type\":\"HoverTool\"},{\"attributes\":{\"fill_alpha\":{\"value\":0.1},\"fill_color\":{\"value\":\"#1f77b4\"},\"line_alpha\":{\"value\":0.1},\"line_color\":{\"value\":\"#1f77b4\"},\"x\":{\"field\":\"longitude\"},\"y\":{\"field\":\"lattitude\"}},\"id\":\"1647\",\"type\":\"Circle\"},{\"attributes\":{},\"id\":\"1618\",\"type\":\"SaveTool\"},{\"attributes\":{},\"id\":\"1691\",\"type\":\"Selection\"},{\"attributes\":{\"fill_color\":{\"field\":\"id_cycliste\",\"transform\":{\"id\":\"1591\",\"type\":\"CategoricalColorMapper\"}},\"line_color\":{\"value\":\"#1f77b4\"},\"x\":{\"field\":\"longitude\"},\"y\":{\"field\":\"lattitude\"}},\"id\":\"1646\",\"type\":\"Circle\"},{\"attributes\":{},\"id\":\"1611\",\"type\":\"BasicTicker\"},{\"attributes\":{},\"id\":\"1690\",\"type\":\"UnionRenderers\"},{\"attributes\":{},\"id\":\"1685\",\"type\":\"BasicTickFormatter\"},{\"attributes\":{\"factors\":[\"24\"],\"palette\":[\"#000003\"]},\"id\":\"1591\",\"type\":\"CategoricalColorMapper\"},{\"attributes\":{\"data_source\":{\"id\":\"1593\",\"type\":\"ColumnDataSource\"},\"glyph\":{\"id\":\"1636\",\"type\":\"Asterisk\"},\"hover_glyph\":null,\"muted_glyph\":null,\"nonselection_glyph\":{\"id\":\"1637\",\"type\":\"Asterisk\"},\"selection_glyph\":null,\"view\":{\"id\":\"1639\",\"type\":\"CDSView\"}},\"id\":\"1638\",\"type\":\"GlyphRenderer\"},{\"attributes\":{\"formatter\":{\"id\":\"1687\",\"type\":\"BasicTickFormatter\"},\"plot\":{\"id\":\"1596\",\"subtype\":\"Figure\",\"type\":\"Plot\"},\"ticker\":{\"id\":\"1606\",\"type\":\"BasicTicker\"}},\"id\":\"1605\",\"type\":\"LinearAxis\"},{\"attributes\":{\"data_source\":{\"id\":\"1594\",\"type\":\"ColumnDataSource\"},\"glyph\":{\"id\":\"1631\",\"type\":\"Diamond\"},\"hover_glyph\":null,\"muted_glyph\":null,\"nonselection_glyph\":{\"id\":\"1632\",\"type\":\"Diamond\"},\"selection_glyph\":null,\"view\":{\"id\":\"1634\",\"type\":\"CDSView\"}},\"id\":\"1633\",\"type\":\"GlyphRenderer\"},{\"attributes\":{\"data_source\":{\"id\":\"1592\",\"type\":\"ColumnDataSource\"},\"glyph\":{\"id\":\"1646\",\"type\":\"Circle\"},\"hover_glyph\":null,\"muted_glyph\":null,\"nonselection_glyph\":{\"id\":\"1647\",\"type\":\"Circle\"},\"selection_glyph\":null,\"view\":{\"id\":\"1649\",\"type\":\"CDSView\"}},\"id\":\"1648\",\"type\":\"GlyphRenderer\"},{\"attributes\":{},\"id\":\"1601\",\"type\":\"LinearScale\"},{\"attributes\":{\"fill_alpha\":{\"value\":0.1},\"fill_color\":{\"value\":\"#1f77b4\"},\"line_alpha\":{\"value\":0.1},\"line_color\":{\"value\":\"#1f77b4\"},\"size\":{\"units\":\"screen\",\"value\":8},\"x\":{\"field\":\"longitudes\"},\"y\":{\"field\":\"lattitude\"}},\"id\":\"1642\",\"type\":\"Square\"},{\"attributes\":{},\"id\":\"1616\",\"type\":\"WheelZoomTool\"},{\"attributes\":{\"callback\":null},\"id\":\"1597\",\"type\":\"DataRange1d\"},{\"attributes\":{\"source\":{\"id\":\"1594\",\"type\":\"ColumnDataSource\"}},\"id\":\"1634\",\"type\":\"CDSView\"},{\"attributes\":{},\"id\":\"1687\",\"type\":\"BasicTickFormatter\"},{\"attributes\":{\"active_drag\":\"auto\",\"active_inspect\":\"auto\",\"active_multi\":null,\"active_scroll\":\"auto\",\"active_tap\":\"auto\",\"tools\":[{\"id\":\"1615\",\"type\":\"PanTool\"},{\"id\":\"1616\",\"type\":\"WheelZoomTool\"},{\"id\":\"1617\",\"type\":\"BoxZoomTool\"},{\"id\":\"1618\",\"type\":\"SaveTool\"},{\"id\":\"1619\",\"type\":\"ResetTool\"},{\"id\":\"1620\",\"type\":\"HelpTool\"},{\"id\":\"1650\",\"type\":\"HoverTool\"}]},\"id\":\"1621\",\"type\":\"Toolbar\"},{\"attributes\":{\"bottom_units\":\"screen\",\"fill_alpha\":{\"value\":0.5},\"fill_color\":{\"value\":\"lightgrey\"},\"left_units\":\"screen\",\"level\":\"overlay\",\"line_alpha\":{\"value\":1.0},\"line_color\":{\"value\":\"black\"},\"line_dash\":[4,4],\"line_width\":{\"value\":2},\"plot\":null,\"render_mode\":\"css\",\"right_units\":\"screen\",\"top_units\":\"screen\"},\"id\":\"1623\",\"type\":\"BoxAnnotation\"},{\"attributes\":{\"callback\":null,\"data\":{\"id_cycliste\":[\"24\",\"24\",\"24\",\"24\",\"24\",\"24\",\"24\",\"24\",\"24\",\"24\",\"24\",\"24\",\"24\",\"24\",\"24\",\"24\",\"24\",\"24\",\"24\",\"24\",\"24\",\"24\",\"24\",\"24\",\"24\",\"24\",\"24\",\"24\",\"24\",\"24\",\"24\",\"24\",\"24\",\"24\",\"24\",\"24\",\"24\",\"24\",\"24\",\"24\",\"24\",\"24\",\"24\",\"24\",\"24\",\"24\",\"24\",\"24\",\"24\",\"24\",\"24\",\"24\",\"24\",\"24\",\"24\",\"24\",\"24\",\"24\",\"24\",\"24\",\"24\",\"24\",\"24\",\"24\",\"24\",\"24\",\"24\",\"24\",\"24\",\"24\",\"24\",\"24\",\"24\",\"24\",\"24\",\"24\",\"24\",\"24\",\"24\",\"24\",\"24\",\"24\",\"24\",\"24\",\"24\",\"24\",\"24\",\"24\",\"24\",\"24\",\"24\",\"24\",\"24\",\"24\",\"24\",\"24\",\"24\",\"24\"],\"index\":[0,0,0,0,0,0,0,0,0,0,0,0,0,0,0,0,0,0,0,0,0,0,0,0,0,0,0,0,0,0,0,0,0,0,0,0,0,0,0,0,0,0,0,0,0,0,0,0,0,0,0,0,0,0,0,0,0,0,0,0,0,0,0,0,0,0,0,0,0,0,0,0,0,0,0,0,0,0,0,0,0,0,0,0,0,0,0,0,0,0,0,0,0,0,0,0,0,0],\"lattitude\":{\"__ndarray__\":\"S/grEaAuB0DAbAgRDmYIQAAAAAAAAAhAAAAAAAAACEAqiD0k+/YIQFQQe0j27QlAfpi4bPHkCkCoIPaQ7NsLQNKoM7Xn0gxA/DBx2eLJDUAmua793cAOQFBB7CHZtw9AveQUI2pXEEDSqDO159IQQOdsUkdlThFA/DBx2eLJEUAR9Y9rYEUSQCa5rv3dwBJAO33Nj1s8E0BQQewh2bcTQGUFC7RWMxRAAAAAAAAAFEAAAAAAAAAUQHXPhGazqxRA6p4JzWZXFUA+04kk7QwVQD7TiSTtDBVAyQMFvjlhFEBUNIBXhrUTQAAAAAAAABRAAAAAAAAAFEAs+NxlW4ITQFjwucu2BBNAhOiWMRKHEkCw4HOXbQkSQNzYUP3IixFACNEtYyQOEUA0yQrJf5AQQGDB5y7bEhBAF3OJKW0qD0BuY0P1Iy8OQMVT/cDaMw1AHES3jJE4DEBzNHFYSD0LQMokKyT/QQpAIRXl77VGCUB4BZ+7bEsIQAAAAAAAAAhAAAAAAAAACECLiyMAksgGQBYXRwAkkQVA1oNPETL3BUDWg08RMvcFQEv4KxGgLgdAwGwIEQ5mCEAAAAAAAAAIQAAAAAAAAAhArzjDg/C9CUBecYYH4XsLQA2qSYvROQ1AvOIMD8L3DkC2DWhJ2VoQQA6qSYvRORFAZkYrzckYEkC+4gwPwvcSQBZ/7lC61hNAAAAAAAAAFEAAAAAAAAAUQHXPhGazqxRA6p4JzWZXFUA+04kk7QwVQD7TiSTtDBVAyQMFvjlhFEBUNIBXhrUTQAAAAAAAABRAAAAAAAAAFECLQwuKeoQTQBaHFhT1CBNAocohnm+NEkAsDi0o6hESQLdROLJklhFAQpVDPN8aEUDN2E7GWZ8QQFgcWlDUIxBAxb/KtJ1QD0DaRuHIklkOQO/N99yHYg1ABFUO8XxrDEAZ3CQFcnQLQC5jOxlnfQpAQ+pRLVyGCUBYcWhBUY8IQG34flVGmAdAAAAAAAAACEAAAAAAAAAIQIuLIwCSyAZAFhdHACSRBUDWg08RMvcFQA==\",\"dtype\":\"float64\",\"shape\":[98]},\"longitude\":{\"__ndarray__\":\"oQIh30hiGEBIP/znF9AXQAAAAAAAABhAAAAAAAAAGEDWd8LbBAkXQKzvhLcJEhZAgmdHkw4bFUBY3wlvEyQUQC5XzEoYLRNABM+OJh02EkDaRlECIj8RQLC+E94mSBBAC22sc1eiDkC2XDErYbQMQGFMtuJqxgpADDw7mnTYCEC3K8BRfuoGQGIbRQmI/ARADQvKwJEOA0C4+k54myABQMbUp19KZf4/AAAAAAAAAEAAAAAAAAAAQM17ptER/gBAmvdMoyP8AUAqgn6+740BQCqCfr7vjQFAXQbY7N2PAEAgFWM2mCP/PwAAAAAAAABAAAAAAAAAAEBSH4xokvYBQKQ+GNEk7QNA9l2kObfjBUBIfTCiSdoHQJqcvArc0AlA7LtIc27HC0A+29TbAL4NQJD6YESTtA9A8Yx21pLVEECanLwK3NARQEOsAj8lzBJA7LtIc27HE0CVy46nt8IUQD7b1NsAvhVA5+oaEEq5FkCQ+mBEk7QXQAAAAAAAABhAAAAAAAAAGEBZwyT3MJIYQLKGSe5hJBlA+sVF1nn0GED6xUXWefQYQKECId9IYhhASD/85xfQF0AAAAAAAAAYQAAAAAAAABhAUcc8fA9CFkCijnn4HoQUQPNVtnQuxhJARB3z8D0IEUAqyV/ampQOQMxX2dK5GAtAbuZSy9icB0AQdczD9yAEQLIDRrwWpQBAAAAAAAAAAEAAAAAAAAAAQM17ptER/gBAmvdMoyP8AUAqgn6+740BQCqCfr7vjQFAXQbY7N2PAEAgFWM2mCP/PwAAAAAAAABAAAAAAAAAAEDV8dLXFe4BQKrjpa8r3ANAf9V4h0HKBUBUx0tfV7gHQCm5HjdtpglA/qrxDoOUC0DTnMTmmIINQKiOl76ucA9AP0A1S2KvEEAquR43baYRQBUyCCN4nRJAAKvxDoOUE0DrI9v6jYsUQNacxOaYghVAwRWu0qN5FkCsjpe+rnAXQJcHgaq5ZxhAAAAAAAAAGEAAAAAAAAAYQFnDJPcwkhhAsoZJ7mEkGUD6xUXWefQYQA==\",\"dtype\":\"float64\",\"shape\":[98]},\"time\":[202,203,204,205,206,207,208,209,210,211,212,213,214,215,216,217,218,219,220,221,222,223,224,225,226,227,228,229,230,231,232,233,234,235,236,237,238,239,240,241,242,243,244,245,246,247,248,249,250,251,252,253,254,255,256,257,258,259,260,261,262,263,264,265,266,267,268,269,270,271,272,273,274,275,276,277,278,279,280,281,282,283,284,285,286,287,288,289,290,291,292,293,294,295,296,297,298,299],\"type\":[\"position\",\"position\",\"position\",\"position\",\"position\",\"position\",\"position\",\"position\",\"position\",\"position\",\"position\",\"position\",\"position\",\"position\",\"position\",\"position\",\"position\",\"position\",\"position\",\"position\",\"position\",\"position\",\"position\",\"position\",\"position\",\"position\",\"position\",\"position\",\"position\",\"position\",\"position\",\"position\",\"position\",\"position\",\"position\",\"position\",\"position\",\"position\",\"position\",\"position\",\"position\",\"position\",\"position\",\"position\",\"position\",\"position\",\"position\",\"position\",\"position\",\"position\",\"position\",\"position\",\"position\",\"position\",\"position\",\"position\",\"position\",\"position\",\"position\",\"position\",\"position\",\"position\",\"position\",\"position\",\"position\",\"position\",\"position\",\"position\",\"position\",\"position\",\"position\",\"position\",\"position\",\"position\",\"position\",\"position\",\"position\",\"position\",\"position\",\"position\",\"position\",\"position\",\"position\",\"position\",\"position\",\"position\",\"position\",\"position\",\"position\",\"position\",\"position\",\"position\",\"position\",\"position\",\"position\",\"position\",\"position\",\"position\"]},\"selected\":{\"id\":\"1695\",\"type\":\"Selection\"},\"selection_policy\":{\"id\":\"1696\",\"type\":\"UnionRenderers\"}},\"id\":\"1592\",\"type\":\"ColumnDataSource\"},{\"attributes\":{\"source\":{\"id\":\"1593\",\"type\":\"ColumnDataSource\"}},\"id\":\"1639\",\"type\":\"CDSView\"},{\"attributes\":{\"plot\":{\"id\":\"1596\",\"subtype\":\"Figure\",\"type\":\"Plot\"},\"ticker\":{\"id\":\"1606\",\"type\":\"BasicTicker\"}},\"id\":\"1609\",\"type\":\"Grid\"},{\"attributes\":{\"source\":{\"id\":\"1592\",\"type\":\"ColumnDataSource\"}},\"id\":\"1649\",\"type\":\"CDSView\"},{\"attributes\":{},\"id\":\"1692\",\"type\":\"UnionRenderers\"},{\"attributes\":{\"fill_alpha\":{\"value\":0.1},\"fill_color\":{\"value\":\"#1f77b4\"},\"line_alpha\":{\"value\":0.1},\"line_color\":{\"value\":\"#1f77b4\"},\"size\":{\"units\":\"screen\",\"value\":10},\"x\":{\"field\":\"longitudes\"},\"y\":{\"field\":\"lattitude\"}},\"id\":\"1637\",\"type\":\"Asterisk\"},{\"attributes\":{},\"id\":\"1619\",\"type\":\"ResetTool\"},{\"attributes\":{},\"id\":\"1689\",\"type\":\"Selection\"},{\"attributes\":{\"fill_alpha\":{\"value\":0.1},\"fill_color\":{\"value\":\"#1f77b4\"},\"line_alpha\":{\"value\":0.1},\"line_color\":{\"value\":\"#1f77b4\"},\"size\":{\"units\":\"screen\",\"value\":10},\"x\":{\"field\":\"longitudes\"},\"y\":{\"field\":\"lattitude\"}},\"id\":\"1632\",\"type\":\"Diamond\"},{\"attributes\":{\"data_source\":{\"id\":\"1595\",\"type\":\"ColumnDataSource\"},\"glyph\":{\"id\":\"1641\",\"type\":\"Square\"},\"hover_glyph\":null,\"muted_glyph\":null,\"nonselection_glyph\":{\"id\":\"1642\",\"type\":\"Square\"},\"selection_glyph\":null,\"view\":{\"id\":\"1644\",\"type\":\"CDSView\"}},\"id\":\"1643\",\"type\":\"GlyphRenderer\"},{\"attributes\":{},\"id\":\"1695\",\"type\":\"Selection\"},{\"attributes\":{\"formatter\":{\"id\":\"1685\",\"type\":\"BasicTickFormatter\"},\"plot\":{\"id\":\"1596\",\"subtype\":\"Figure\",\"type\":\"Plot\"},\"ticker\":{\"id\":\"1611\",\"type\":\"BasicTicker\"}},\"id\":\"1610\",\"type\":\"LinearAxis\"},{\"attributes\":{},\"id\":\"1696\",\"type\":\"UnionRenderers\"},{\"attributes\":{\"overlay\":{\"id\":\"1623\",\"type\":\"BoxAnnotation\"}},\"id\":\"1617\",\"type\":\"BoxZoomTool\"},{\"attributes\":{\"plot\":null,\"text\":\"\"},\"id\":\"1682\",\"type\":\"Title\"},{\"attributes\":{},\"id\":\"1620\",\"type\":\"HelpTool\"},{\"attributes\":{\"fill_color\":{\"value\":\"cyan\"},\"line_color\":{\"value\":\"cyan\"},\"size\":{\"units\":\"screen\",\"value\":10},\"x\":{\"field\":\"longitudes\"},\"y\":{\"field\":\"lattitude\"}},\"id\":\"1631\",\"type\":\"Diamond\"},{\"attributes\":{},\"id\":\"1606\",\"type\":\"BasicTicker\"},{\"attributes\":{\"callback\":null,\"data\":{\"id_cycliste\":[24],\"index\":[0],\"lattitude\":{\"__ndarray__\":\"1oNPETL3BUA=\",\"dtype\":\"float64\",\"shape\":[1]},\"longitudes\":{\"__ndarray__\":\"+sVF1nn0GEA=\",\"dtype\":\"float64\",\"shape\":[1]},\"type\":[\"workplaces\"]},\"selected\":{\"id\":\"1689\",\"type\":\"Selection\"},\"selection_policy\":{\"id\":\"1690\",\"type\":\"UnionRenderers\"}},\"id\":\"1594\",\"type\":\"ColumnDataSource\"},{\"attributes\":{\"fill_color\":{\"value\":\"pink\"},\"line_color\":{\"value\":\"pink\"},\"size\":{\"units\":\"screen\",\"value\":8},\"x\":{\"field\":\"longitudes\"},\"y\":{\"field\":\"lattitude\"}},\"id\":\"1641\",\"type\":\"Square\"},{\"attributes\":{\"fill_color\":{\"value\":\"red\"},\"line_color\":{\"value\":\"red\"},\"size\":{\"units\":\"screen\",\"value\":10},\"x\":{\"field\":\"longitudes\"},\"y\":{\"field\":\"lattitude\"}},\"id\":\"1636\",\"type\":\"Asterisk\"},{\"attributes\":{\"callback\":null,\"data\":{\"id_cycliste\":[24],\"index\":[0],\"lattitude\":{\"__ndarray__\":\"PtOJJO0MFUA=\",\"dtype\":\"float64\",\"shape\":[1]},\"longitudes\":{\"__ndarray__\":\"KoJ+vu+NAUA=\",\"dtype\":\"float64\",\"shape\":[1]},\"type\":[\"homes\"]},\"selected\":{\"id\":\"1691\",\"type\":\"Selection\"},\"selection_policy\":{\"id\":\"1692\",\"type\":\"UnionRenderers\"}},\"id\":\"1593\",\"type\":\"ColumnDataSource\"},{\"attributes\":{},\"id\":\"1615\",\"type\":\"PanTool\"}],\"root_ids\":[\"1596\"]},\"title\":\"Bokeh Application\",\"version\":\"1.0.2\"}};\n",
       "  var render_items = [{\"docid\":\"ec04e9cb-cbd4-472d-af11-60745b0715dd\",\"roots\":{\"1596\":\"1a7faf4c-d272-493e-bb51-85e5412299f8\"}}];\n",
       "  root.Bokeh.embed.embed_items_notebook(docs_json, render_items);\n",
       "\n",
       "  }\n",
       "  if (root.Bokeh !== undefined) {\n",
       "    embed_document(root);\n",
       "  } else {\n",
       "    var attempts = 0;\n",
       "    var timer = setInterval(function(root) {\n",
       "      if (root.Bokeh !== undefined) {\n",
       "        embed_document(root);\n",
       "        clearInterval(timer);\n",
       "      }\n",
       "      attempts++;\n",
       "      if (attempts > 100) {\n",
       "        console.log(\"Bokeh: ERROR: Unable to run BokehJS code because BokehJS library is missing\");\n",
       "        clearInterval(timer);\n",
       "      }\n",
       "    }, 10, root)\n",
       "  }\n",
       "})(window);"
      ],
      "application/vnd.bokehjs_exec.v0+json": ""
     },
     "metadata": {
      "application/vnd.bokehjs_exec.v0+json": {
       "id": "1596"
      }
     },
     "output_type": "display_data"
    }
   ],
   "source": [
    "if True:\n",
    "    homes                 = paris.get_cycliste_homes()\n",
    "    homes[\"type\"]         = \"homes\"\n",
    "    homes                 = ColumnDataSource(homes)\n",
    "\n",
    "    workplaces            = paris.get_cycliste_workplaces()\n",
    "    workplaces[\"type\"]    = \"workplaces\"\n",
    "    workplaces            = ColumnDataSource(workplaces)\n",
    "\n",
    "\n",
    "    stations            = paris.get_topology()\n",
    "    stations[\"type\"]    = \"stations\"\n",
    "    stations            = ColumnDataSource(stations)\n",
    "\n",
    "    # Create a ColumnDataSource from df: source\n",
    "\n",
    "\n",
    "\n",
    "    # Create the figure: p\n",
    "    p = figure()\n",
    "    p.diamond( 'longitudes', 'lattitude', source= workplaces , color=\"cyan\", size=10)\n",
    "    p.asterisk('longitudes', 'lattitude', source= homes      , color=\"red\" , size=10)\n",
    "    p.square(  'longitudes', 'lattitude', source= stations   , color=\"pink\", size=8)\n",
    "\n",
    "\n",
    "    p.circle('longitude', 'lattitude', source= positions, fill_color=color_map)# Add circle glyphs to the figure p\n",
    "\n",
    "\n",
    "    hover = HoverTool(tooltips=[(\"cyliste\", \"@id_cycliste\"),\n",
    "                                (\"type\"   , \"@type\")])\n",
    "    p.add_tools(hover)\n",
    "    show(p)\n",
    "\n",
    "\n",
    "    from bokeh.resources import CDN\n",
    "\n",
    "    html = file_html(p, CDN, \"my plot\")\n",
    "    with open(\"test.html\", \"w\") as f:\n",
    "        f.writelines(html)    "
   ]
  },
  {
   "cell_type": "code",
   "execution_count": 101,
   "metadata": {},
   "outputs": [
    {
     "data": {
      "text/html": [
       "<div>\n",
       "<style scoped>\n",
       "    .dataframe tbody tr th:only-of-type {\n",
       "        vertical-align: middle;\n",
       "    }\n",
       "\n",
       "    .dataframe tbody tr th {\n",
       "        vertical-align: top;\n",
       "    }\n",
       "\n",
       "    .dataframe thead th {\n",
       "        text-align: right;\n",
       "    }\n",
       "</style>\n",
       "<table border=\"1\" class=\"dataframe\">\n",
       "  <thead>\n",
       "    <tr style=\"text-align: right;\">\n",
       "      <th></th>\n",
       "      <th>casseur</th>\n",
       "      <th>destination_finale</th>\n",
       "      <th>id</th>\n",
       "      <th>salaire</th>\n",
       "      <th>sportif</th>\n",
       "      <th>statut</th>\n",
       "      <th>sur_velo</th>\n",
       "      <th>trajet</th>\n",
       "      <th>velo</th>\n",
       "      <th>vitesse</th>\n",
       "      <th>vitesse_a_pied</th>\n",
       "      <th>vitesse_a_velo</th>\n",
       "    </tr>\n",
       "  </thead>\n",
       "  <tbody>\n",
       "    <tr>\n",
       "      <th>0</th>\n",
       "      <td>False</td>\n",
       "      <td>(lon:6.24 lat:2.75)</td>\n",
       "      <td>24</td>\n",
       "      <td>22114.240779</td>\n",
       "      <td>False</td>\n",
       "      <td>employe</td>\n",
       "      <td>False</td>\n",
       "      <td>(lon:6.00 lat:3.00) -&gt; (lon:6.24 lat:2.75)</td>\n",
       "      <td>False</td>\n",
       "      <td>0.20858</td>\n",
       "      <td>0.20858</td>\n",
       "      <td>0.556214</td>\n",
       "    </tr>\n",
       "  </tbody>\n",
       "</table>\n",
       "</div>"
      ],
      "text/plain": [
       "   casseur   destination_finale  id       salaire  sportif   statut  sur_velo  \\\n",
       "0    False  (lon:6.24 lat:2.75)  24  22114.240779    False  employe     False   \n",
       "\n",
       "                                       trajet   velo  vitesse  vitesse_a_pied  \\\n",
       "0  (lon:6.00 lat:3.00) -> (lon:6.24 lat:2.75)  False  0.20858         0.20858   \n",
       "\n",
       "   vitesse_a_velo  \n",
       "0        0.556214  "
      ]
     },
     "execution_count": 101,
     "metadata": {},
     "output_type": "execute_result"
    }
   ],
   "source": [
    "paris.get_personal_data_cyclistes()"
   ]
  },
  {
   "cell_type": "code",
   "execution_count": 102,
   "metadata": {},
   "outputs": [],
   "source": [
    "df = pd.concat([velo.flush_data() for velo in paris.prestataire.velos])"
   ]
  },
  {
   "cell_type": "code",
   "execution_count": 103,
   "metadata": {},
   "outputs": [
    {
     "data": {
      "text/plain": [
       "velo_4858    4\n",
       "velo_4854    2\n",
       "velo_4860    2\n",
       "velo_4857    2\n",
       "velo_4506    1\n",
       "Name: velo_id, dtype: int64"
      ]
     },
     "execution_count": 103,
     "metadata": {},
     "output_type": "execute_result"
    }
   ],
   "source": [
    "velo_les_plus_utilises = df.velo_id.value_counts().head()\n",
    "velo_les_plus_utilises"
   ]
  },
  {
   "cell_type": "code",
   "execution_count": 104,
   "metadata": {},
   "outputs": [
    {
     "data": {
      "text/plain": [
       "velo_id    timestamp\n",
       "velo_4858  129          0.492263\n",
       "           155          0.484816\n",
       "           224          0.484937\n",
       "           296          0.468038\n",
       "Name: performance, dtype: float64"
      ]
     },
     "execution_count": 104,
     "metadata": {},
     "output_type": "execute_result"
    }
   ],
   "source": [
    "velo_a_tester = velo_les_plus_utilises.index[0]\n",
    "df[df.velo_id==velo_a_tester].groupby([\"velo_id\", \"timestamp\"])[\"performance\"].max()"
   ]
  },
  {
   "cell_type": "code",
   "execution_count": 108,
   "metadata": {},
   "outputs": [
    {
     "name": "stdout",
     "output_type": "stream",
     "text": [
      "No columns to parse from file\n",
      "No columns to parse from file\n",
      "No columns to parse from file\n"
     ]
    },
    {
     "name": "stderr",
     "output_type": "stream",
     "text": [
      "/anaconda3/lib/python3.7/site-packages/ipykernel_launcher.py:21: FutureWarning: Sorting because non-concatenation axis is not aligned. A future version\n",
      "of pandas will change to not sort by default.\n",
      "\n",
      "To accept the future behavior, pass 'sort=False'.\n",
      "\n",
      "To retain the current behavior and silence the warning, pass 'sort=True'.\n",
      "\n"
     ]
    }
   ],
   "source": [
    "import os\n",
    "if True:\n",
    "    \n",
    "    liste_dons   = [f for f in os.listdir('Stations') if f.startswith('donne_velo_log_stations_')]\n",
    "    liste_gain   = [f for f in os.listdir('Stations') if f.startswith('recupere_velo_log_stations')]\n",
    "    \n",
    "    liste_dons2 =[] \n",
    "    for f in liste_dons:\n",
    "        try:\n",
    "            liste_dons2.append( pd.read_csv(f'Stations/{f}', sep=\",\")  )\n",
    "        except Exception as e:\n",
    "            print(e)\n",
    "            \n",
    "    liste_gain2 =[] \n",
    "    for f in liste_gain:\n",
    "        try:\n",
    "            liste_gain2.append( pd.read_csv(f'Stations/{f}', sep=\",\")  )\n",
    "        except Exception as e:\n",
    "            print(e)\n",
    "        \n",
    "    df_dons    = pd.concat(liste_dons2, axis=0)\n",
    "    df_dons[\"type\"] = \"don\"\n",
    "    df_gains   = pd.concat(liste_gain2, axis=0)\n",
    "    df_gains[\"type\"] = \"gain\""
   ]
  },
  {
   "cell_type": "code",
   "execution_count": 109,
   "metadata": {},
   "outputs": [
    {
     "name": "stderr",
     "output_type": "stream",
     "text": [
      "/anaconda3/lib/python3.7/site-packages/ipykernel_launcher.py:1: FutureWarning: Sorting because non-concatenation axis is not aligned. A future version\n",
      "of pandas will change to not sort by default.\n",
      "\n",
      "To accept the future behavior, pass 'sort=False'.\n",
      "\n",
      "To retain the current behavior and silence the warning, pass 'sort=True'.\n",
      "\n",
      "  \"\"\"Entry point for launching an IPython kernel.\n"
     ]
    }
   ],
   "source": [
    "df_dons_gains = pd.concat([df_gains, df_dons])"
   ]
  },
  {
   "cell_type": "code",
   "execution_count": 111,
   "metadata": {},
   "outputs": [],
   "source": [
    "df_dons_gains.columns = [x.replace(\".\", \"\").replace(\" \", \"\") for x in df_dons_gains.columns]"
   ]
  },
  {
   "cell_type": "code",
   "execution_count": 112,
   "metadata": {},
   "outputs": [],
   "source": [
    "df_dons_gains.reset_index(inplace=True)"
   ]
  },
  {
   "cell_type": "code",
   "execution_count": 113,
   "metadata": {},
   "outputs": [],
   "source": [
    "df_dons_gains = df_dons_gains.drop(\"index\", axis=1)"
   ]
  },
  {
   "cell_type": "code",
   "execution_count": 114,
   "metadata": {},
   "outputs": [],
   "source": [
    "df_dons_gains = df_dons_gains[df_dons_gains.timestamp!=\"timestamp\"]"
   ]
  },
  {
   "cell_type": "code",
   "execution_count": 116,
   "metadata": {},
   "outputs": [
    {
     "data": {
      "text/html": [
       "<div>\n",
       "<style scoped>\n",
       "    .dataframe tbody tr th:only-of-type {\n",
       "        vertical-align: middle;\n",
       "    }\n",
       "\n",
       "    .dataframe tbody tr th {\n",
       "        vertical-align: top;\n",
       "    }\n",
       "\n",
       "    .dataframe thead th {\n",
       "        text-align: right;\n",
       "    }\n",
       "</style>\n",
       "<table border=\"1\" class=\"dataframe\">\n",
       "  <thead>\n",
       "    <tr style=\"text-align: right;\">\n",
       "      <th></th>\n",
       "      <th>stationid</th>\n",
       "      <th>veloid</th>\n",
       "      <th>veloperformance</th>\n",
       "      <th>06056368921714197</th>\n",
       "      <th>175</th>\n",
       "      <th>275</th>\n",
       "      <th>timestamp</th>\n",
       "      <th>type</th>\n",
       "      <th>velo_3866</th>\n",
       "    </tr>\n",
       "  </thead>\n",
       "  <tbody>\n",
       "    <tr>\n",
       "      <th>14</th>\n",
       "      <td>364</td>\n",
       "      <td>velo_4858</td>\n",
       "      <td>0.500000</td>\n",
       "      <td>NaN</td>\n",
       "      <td>NaN</td>\n",
       "      <td>NaN</td>\n",
       "      <td>111</td>\n",
       "      <td>don</td>\n",
       "      <td>NaN</td>\n",
       "    </tr>\n",
       "    <tr>\n",
       "      <th>9</th>\n",
       "      <td>326</td>\n",
       "      <td>velo_4858</td>\n",
       "      <td>0.500000</td>\n",
       "      <td>NaN</td>\n",
       "      <td>NaN</td>\n",
       "      <td>NaN</td>\n",
       "      <td>129</td>\n",
       "      <td>gain</td>\n",
       "      <td>NaN</td>\n",
       "    </tr>\n",
       "    <tr>\n",
       "      <th>20</th>\n",
       "      <td>326</td>\n",
       "      <td>velo_4858</td>\n",
       "      <td>0.492263</td>\n",
       "      <td>NaN</td>\n",
       "      <td>NaN</td>\n",
       "      <td>NaN</td>\n",
       "      <td>137</td>\n",
       "      <td>don</td>\n",
       "      <td>NaN</td>\n",
       "    </tr>\n",
       "    <tr>\n",
       "      <th>3</th>\n",
       "      <td>364</td>\n",
       "      <td>velo_4858</td>\n",
       "      <td>0.492263</td>\n",
       "      <td>NaN</td>\n",
       "      <td>NaN</td>\n",
       "      <td>NaN</td>\n",
       "      <td>155</td>\n",
       "      <td>gain</td>\n",
       "      <td>NaN</td>\n",
       "    </tr>\n",
       "    <tr>\n",
       "      <th>16</th>\n",
       "      <td>364</td>\n",
       "      <td>velo_4858</td>\n",
       "      <td>0.484816</td>\n",
       "      <td>NaN</td>\n",
       "      <td>NaN</td>\n",
       "      <td>NaN</td>\n",
       "      <td>205</td>\n",
       "      <td>don</td>\n",
       "      <td>NaN</td>\n",
       "    </tr>\n",
       "    <tr>\n",
       "      <th>11</th>\n",
       "      <td>326</td>\n",
       "      <td>velo_4858</td>\n",
       "      <td>0.484816</td>\n",
       "      <td>NaN</td>\n",
       "      <td>NaN</td>\n",
       "      <td>NaN</td>\n",
       "      <td>224</td>\n",
       "      <td>gain</td>\n",
       "      <td>NaN</td>\n",
       "    </tr>\n",
       "    <tr>\n",
       "      <th>23</th>\n",
       "      <td>326</td>\n",
       "      <td>velo_4858</td>\n",
       "      <td>0.484937</td>\n",
       "      <td>NaN</td>\n",
       "      <td>NaN</td>\n",
       "      <td>NaN</td>\n",
       "      <td>277</td>\n",
       "      <td>don</td>\n",
       "      <td>NaN</td>\n",
       "    </tr>\n",
       "    <tr>\n",
       "      <th>6</th>\n",
       "      <td>364</td>\n",
       "      <td>velo_4858</td>\n",
       "      <td>0.484937</td>\n",
       "      <td>NaN</td>\n",
       "      <td>NaN</td>\n",
       "      <td>NaN</td>\n",
       "      <td>296</td>\n",
       "      <td>gain</td>\n",
       "      <td>NaN</td>\n",
       "    </tr>\n",
       "  </tbody>\n",
       "</table>\n",
       "</div>"
      ],
      "text/plain": [
       "   stationid     veloid  veloperformance 06056368921714197  175  275  \\\n",
       "14       364  velo_4858         0.500000               NaN  NaN  NaN   \n",
       "9        326  velo_4858         0.500000               NaN  NaN  NaN   \n",
       "20       326  velo_4858         0.492263               NaN  NaN  NaN   \n",
       "3        364  velo_4858         0.492263               NaN  NaN  NaN   \n",
       "16       364  velo_4858         0.484816               NaN  NaN  NaN   \n",
       "11       326  velo_4858         0.484816               NaN  NaN  NaN   \n",
       "23       326  velo_4858         0.484937               NaN  NaN  NaN   \n",
       "6        364  velo_4858         0.484937               NaN  NaN  NaN   \n",
       "\n",
       "   timestamp  type velo_3866  \n",
       "14       111   don       NaN  \n",
       "9        129  gain       NaN  \n",
       "20       137   don       NaN  \n",
       "3        155  gain       NaN  \n",
       "16       205   don       NaN  \n",
       "11       224  gain       NaN  \n",
       "23       277   don       NaN  \n",
       "6        296  gain       NaN  "
      ]
     },
     "execution_count": 116,
     "metadata": {},
     "output_type": "execute_result"
    }
   ],
   "source": [
    "parcours_velo_a_tester = df_dons_gains[df_dons_gains.veloid==velo_a_tester].sort_values(\"timestamp\", ascending=True)\n",
    "parcours_velo_a_tester"
   ]
  },
  {
   "cell_type": "code",
   "execution_count": null,
   "metadata": {},
   "outputs": [],
   "source": []
  },
  {
   "cell_type": "code",
   "execution_count": 118,
   "metadata": {},
   "outputs": [],
   "source": [
    "df_dons_gains[\"velo_number\"] = df_dons_gains.veloid.map(lambda x: int(x[-4:]))"
   ]
  },
  {
   "cell_type": "code",
   "execution_count": 120,
   "metadata": {},
   "outputs": [
    {
     "data": {
      "text/html": [
       "<div>\n",
       "<style scoped>\n",
       "    .dataframe tbody tr th:only-of-type {\n",
       "        vertical-align: middle;\n",
       "    }\n",
       "\n",
       "    .dataframe tbody tr th {\n",
       "        vertical-align: top;\n",
       "    }\n",
       "\n",
       "    .dataframe thead tr th {\n",
       "        text-align: left;\n",
       "    }\n",
       "\n",
       "    .dataframe thead tr:last-of-type th {\n",
       "        text-align: right;\n",
       "    }\n",
       "</style>\n",
       "<table border=\"1\" class=\"dataframe\">\n",
       "  <thead>\n",
       "    <tr>\n",
       "      <th>stationid</th>\n",
       "      <th colspan=\"2\" halign=\"left\">326</th>\n",
       "      <th colspan=\"2\" halign=\"left\">364</th>\n",
       "    </tr>\n",
       "    <tr>\n",
       "      <th>type</th>\n",
       "      <th>don</th>\n",
       "      <th>gain</th>\n",
       "      <th>don</th>\n",
       "      <th>gain</th>\n",
       "    </tr>\n",
       "    <tr>\n",
       "      <th>timestamp</th>\n",
       "      <th></th>\n",
       "      <th></th>\n",
       "      <th></th>\n",
       "      <th></th>\n",
       "    </tr>\n",
       "  </thead>\n",
       "  <tbody>\n",
       "    <tr>\n",
       "      <th>5.0</th>\n",
       "      <td>4506.0</td>\n",
       "      <td>NaN</td>\n",
       "      <td>NaN</td>\n",
       "      <td>NaN</td>\n",
       "    </tr>\n",
       "    <tr>\n",
       "      <th>15.0</th>\n",
       "      <td>NaN</td>\n",
       "      <td>NaN</td>\n",
       "      <td>NaN</td>\n",
       "      <td>4506.0</td>\n",
       "    </tr>\n",
       "    <tr>\n",
       "      <th>23.0</th>\n",
       "      <td>NaN</td>\n",
       "      <td>NaN</td>\n",
       "      <td>4860.0</td>\n",
       "      <td>NaN</td>\n",
       "    </tr>\n",
       "    <tr>\n",
       "      <th>33.0</th>\n",
       "      <td>NaN</td>\n",
       "      <td>4860.0</td>\n",
       "      <td>NaN</td>\n",
       "      <td>NaN</td>\n",
       "    </tr>\n",
       "    <tr>\n",
       "      <th>41.0</th>\n",
       "      <td>4860.0</td>\n",
       "      <td>NaN</td>\n",
       "      <td>NaN</td>\n",
       "      <td>NaN</td>\n",
       "    </tr>\n",
       "    <tr>\n",
       "      <th>51.0</th>\n",
       "      <td>NaN</td>\n",
       "      <td>NaN</td>\n",
       "      <td>NaN</td>\n",
       "      <td>4860.0</td>\n",
       "    </tr>\n",
       "    <tr>\n",
       "      <th>59.0</th>\n",
       "      <td>NaN</td>\n",
       "      <td>NaN</td>\n",
       "      <td>4854.0</td>\n",
       "      <td>NaN</td>\n",
       "    </tr>\n",
       "    <tr>\n",
       "      <th>77.0</th>\n",
       "      <td>NaN</td>\n",
       "      <td>4854.0</td>\n",
       "      <td>NaN</td>\n",
       "      <td>NaN</td>\n",
       "    </tr>\n",
       "    <tr>\n",
       "      <th>85.0</th>\n",
       "      <td>4507.0</td>\n",
       "      <td>NaN</td>\n",
       "      <td>NaN</td>\n",
       "      <td>NaN</td>\n",
       "    </tr>\n",
       "    <tr>\n",
       "      <th>103.0</th>\n",
       "      <td>NaN</td>\n",
       "      <td>NaN</td>\n",
       "      <td>NaN</td>\n",
       "      <td>4507.0</td>\n",
       "    </tr>\n",
       "    <tr>\n",
       "      <th>111.0</th>\n",
       "      <td>NaN</td>\n",
       "      <td>NaN</td>\n",
       "      <td>4858.0</td>\n",
       "      <td>NaN</td>\n",
       "    </tr>\n",
       "    <tr>\n",
       "      <th>129.0</th>\n",
       "      <td>NaN</td>\n",
       "      <td>4858.0</td>\n",
       "      <td>NaN</td>\n",
       "      <td>NaN</td>\n",
       "    </tr>\n",
       "    <tr>\n",
       "      <th>137.0</th>\n",
       "      <td>4858.0</td>\n",
       "      <td>NaN</td>\n",
       "      <td>NaN</td>\n",
       "      <td>NaN</td>\n",
       "    </tr>\n",
       "    <tr>\n",
       "      <th>155.0</th>\n",
       "      <td>NaN</td>\n",
       "      <td>NaN</td>\n",
       "      <td>NaN</td>\n",
       "      <td>4858.0</td>\n",
       "    </tr>\n",
       "    <tr>\n",
       "      <th>163.0</th>\n",
       "      <td>NaN</td>\n",
       "      <td>NaN</td>\n",
       "      <td>4857.0</td>\n",
       "      <td>NaN</td>\n",
       "    </tr>\n",
       "    <tr>\n",
       "      <th>176.0</th>\n",
       "      <td>NaN</td>\n",
       "      <td>4857.0</td>\n",
       "      <td>NaN</td>\n",
       "      <td>NaN</td>\n",
       "    </tr>\n",
       "    <tr>\n",
       "      <th>184.0</th>\n",
       "      <td>4857.0</td>\n",
       "      <td>NaN</td>\n",
       "      <td>NaN</td>\n",
       "      <td>NaN</td>\n",
       "    </tr>\n",
       "    <tr>\n",
       "      <th>197.0</th>\n",
       "      <td>NaN</td>\n",
       "      <td>NaN</td>\n",
       "      <td>NaN</td>\n",
       "      <td>4857.0</td>\n",
       "    </tr>\n",
       "    <tr>\n",
       "      <th>205.0</th>\n",
       "      <td>NaN</td>\n",
       "      <td>NaN</td>\n",
       "      <td>4858.0</td>\n",
       "      <td>NaN</td>\n",
       "    </tr>\n",
       "    <tr>\n",
       "      <th>224.0</th>\n",
       "      <td>NaN</td>\n",
       "      <td>4858.0</td>\n",
       "      <td>NaN</td>\n",
       "      <td>NaN</td>\n",
       "    </tr>\n",
       "    <tr>\n",
       "      <th>232.0</th>\n",
       "      <td>4854.0</td>\n",
       "      <td>NaN</td>\n",
       "      <td>NaN</td>\n",
       "      <td>NaN</td>\n",
       "    </tr>\n",
       "    <tr>\n",
       "      <th>250.0</th>\n",
       "      <td>NaN</td>\n",
       "      <td>NaN</td>\n",
       "      <td>NaN</td>\n",
       "      <td>4854.0</td>\n",
       "    </tr>\n",
       "    <tr>\n",
       "      <th>277.0</th>\n",
       "      <td>4858.0</td>\n",
       "      <td>NaN</td>\n",
       "      <td>NaN</td>\n",
       "      <td>NaN</td>\n",
       "    </tr>\n",
       "    <tr>\n",
       "      <th>296.0</th>\n",
       "      <td>NaN</td>\n",
       "      <td>NaN</td>\n",
       "      <td>NaN</td>\n",
       "      <td>4858.0</td>\n",
       "    </tr>\n",
       "  </tbody>\n",
       "</table>\n",
       "</div>"
      ],
      "text/plain": [
       "stationid     326             364        \n",
       "type          don    gain     don    gain\n",
       "timestamp                                \n",
       "5.0        4506.0     NaN     NaN     NaN\n",
       "15.0          NaN     NaN     NaN  4506.0\n",
       "23.0          NaN     NaN  4860.0     NaN\n",
       "33.0          NaN  4860.0     NaN     NaN\n",
       "41.0       4860.0     NaN     NaN     NaN\n",
       "51.0          NaN     NaN     NaN  4860.0\n",
       "59.0          NaN     NaN  4854.0     NaN\n",
       "77.0          NaN  4854.0     NaN     NaN\n",
       "85.0       4507.0     NaN     NaN     NaN\n",
       "103.0         NaN     NaN     NaN  4507.0\n",
       "111.0         NaN     NaN  4858.0     NaN\n",
       "129.0         NaN  4858.0     NaN     NaN\n",
       "137.0      4858.0     NaN     NaN     NaN\n",
       "155.0         NaN     NaN     NaN  4858.0\n",
       "163.0         NaN     NaN  4857.0     NaN\n",
       "176.0         NaN  4857.0     NaN     NaN\n",
       "184.0      4857.0     NaN     NaN     NaN\n",
       "197.0         NaN     NaN     NaN  4857.0\n",
       "205.0         NaN     NaN  4858.0     NaN\n",
       "224.0         NaN  4858.0     NaN     NaN\n",
       "232.0      4854.0     NaN     NaN     NaN\n",
       "250.0         NaN     NaN     NaN  4854.0\n",
       "277.0      4858.0     NaN     NaN     NaN\n",
       "296.0         NaN     NaN     NaN  4858.0"
      ]
     },
     "execution_count": 120,
     "metadata": {},
     "output_type": "execute_result"
    }
   ],
   "source": [
    "\n",
    "df_dons_gains.pivot_table(index   = [\"stationid\", \"type\"], \n",
    "                          columns = \"timestamp\",\n",
    "                          values  = \"velo_number\" , aggfunc=\"sum\").T"
   ]
  },
  {
   "cell_type": "code",
   "execution_count": null,
   "metadata": {},
   "outputs": [],
   "source": []
  }
 ],
 "metadata": {
  "celltoolbar": "Raw Cell Format",
  "kernelspec": {
   "display_name": "Python 3",
   "language": "python",
   "name": "python3"
  },
  "language_info": {
   "codemirror_mode": {
    "name": "ipython",
    "version": 3
   },
   "file_extension": ".py",
   "mimetype": "text/x-python",
   "name": "python",
   "nbconvert_exporter": "python",
   "pygments_lexer": "ipython3",
   "version": "3.7.1"
  }
 },
 "nbformat": 4,
 "nbformat_minor": 2
}
