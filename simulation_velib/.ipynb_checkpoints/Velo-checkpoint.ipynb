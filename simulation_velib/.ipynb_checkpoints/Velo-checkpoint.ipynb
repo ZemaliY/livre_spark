{
 "cells": [
  {
   "cell_type": "code",
   "execution_count": 1,
   "metadata": {},
   "outputs": [],
   "source": [
    "class Velo:\n",
    "    nb_d_instance =0\n",
    "    output_dir    = \"./Velos/\"\n",
    "    def __init__(self):\n",
    "        import random\n",
    "        import os\n",
    "        Velo.nb_d_instance += 1\n",
    "        self.id             = \"velo_%s\"%(Velo.nb_d_instance)\n",
    "        self.performance    = max(0.5, random.random())\n",
    "        self.performances   = []\n",
    "        if not os.path.exists(Velo.output_dir):\n",
    "            os.makedirs(Velo.output_dir)\n",
    "\n",
    "        self.output_file  = os.path.join(Velo.output_dir, \"{id}.csv\".format(id=self.id))\n",
    "        \n",
    "\n",
    "    def update_performance(self, timestamp, new_value=False):\n",
    "        import numpy as np\n",
    "        if new_value:\n",
    "            self.performance = new_value\n",
    "        else:\n",
    "            self.performance = self.performance * (1 - np.random.normal(0.02, 0.01))\n",
    "        self.performances.append({\"velo_id\"     : self.id          , \n",
    "                                  \"performance\" : self.performance ,\n",
    "                                  \"timestamp\"   : timestamp        })\n",
    "        if 100 < len(self.performances):\n",
    "            self.flush_data()\n",
    "            \n",
    "    def flush_data(self):\n",
    "        import pandas as pd\n",
    "        df = pd.DataFrame(self.performances)\n",
    "        self.performances = []\n",
    "        with open(self.output_file, 'a') as f:\n",
    "            df.to_csv(f)\n",
    "        return df\n",
    "\n",
    "    def __str__(self):\n",
    "        return str({\"id\" :2, \"performance\": 2}).replace(\"{\", \"\").replace(\"}\", \"\")\n",
    "    \n",
    "    "
   ]
  }
 ],
 "metadata": {
  "celltoolbar": "Raw Cell Format",
  "kernelspec": {
   "display_name": "Python 3",
   "language": "python",
   "name": "python3"
  },
  "language_info": {
   "codemirror_mode": {
    "name": "ipython",
    "version": 3
   },
   "file_extension": ".py",
   "mimetype": "text/x-python",
   "name": "python",
   "nbconvert_exporter": "python",
   "pygments_lexer": "ipython3",
   "version": "3.7.1"
  }
 },
 "nbformat": 4,
 "nbformat_minor": 2
}
