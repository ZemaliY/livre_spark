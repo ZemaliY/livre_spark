{
 "cells": [
  {
   "cell_type": "markdown",
   "metadata": {},
   "source": [
    "# Debut"
   ]
  },
  {
   "cell_type": "code",
   "execution_count": 3,
   "metadata": {},
   "outputs": [],
   "source": [
    "class Position():\n",
    "    \n",
    "    def __init__(self, longitude, lattitude):\n",
    "        self.longitude = longitude\n",
    "        self.lattitude = lattitude\n",
    "    \n",
    "    def get_df(self, jitter=False):\n",
    "        import pandas as pd\n",
    "        import random \n",
    "        rand_x = random.random() / 10 if jitter else 0\n",
    "        rand_y = random.random() / 10 if jitter else 0\n",
    "        return pd.DataFrame(data    = [[self.longitude + rand_x , self.lattitude + rand_y]], \n",
    "                            columns = [\"longitude\"     , \"lattitude\"    ])    \n",
    "    def __str__(self):\n",
    "        return \"(lon:%.2f lat:%.2f)\"%(self.longitude, self.lattitude)\n",
    "    \n",
    "    def is_same_position(self, other):\n",
    "        return self.lattitude==other.lattitude and self.longitude==other.longitude\n",
    "    \n",
    "    def get_random_position(x_max, y_max):\n",
    "        def random_float(min=0, max=9):\n",
    "            import random\n",
    "            entier = random.randint(min, max)\n",
    "            float_ = random.random()\n",
    "            return entier+float_\n",
    "        return Position(random_float(0, y_max), random_float(0, y_max))\n",
    "    \n",
    "    def is_same_position(p1, p2):\n",
    "        return p1.lattitude==p2.lattitude and p1.longitude==p2.longitude\n",
    "\n"
   ]
  },
  {
   "cell_type": "code",
   "execution_count": null,
   "metadata": {},
   "outputs": [],
   "source": []
  }
 ],
 "metadata": {
  "celltoolbar": "Raw Cell Format",
  "kernelspec": {
   "display_name": "Python 3",
   "language": "python",
   "name": "python3"
  },
  "language_info": {
   "codemirror_mode": {
    "name": "ipython",
    "version": 3
   },
   "file_extension": ".py",
   "mimetype": "text/x-python",
   "name": "python",
   "nbconvert_exporter": "python",
   "pygments_lexer": "ipython3",
   "version": "3.7.1"
  }
 },
 "nbformat": 4,
 "nbformat_minor": 2
}
