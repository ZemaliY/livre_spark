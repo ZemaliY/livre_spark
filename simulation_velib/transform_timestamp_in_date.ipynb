{
 "cells": [
  {
   "cell_type": "code",
   "execution_count": 53,
   "metadata": {},
   "outputs": [],
   "source": [
    "def transform_timestamp_in_date(nb_de_minute):\n",
    "    \"\"\"\n",
    "    Divise un timestamp entier en sous partie \n",
    "    pour calculer sa signification en terme de date.\n",
    "\n",
    "    Base la date retournée sur le 1er janvier 2018\n",
    "\n",
    "    Return : datetime\n",
    "    \"\"\"\n",
    "    from datetime import datetime\n",
    "    from datetime import timedelta\n",
    "    debut = datetime.strptime(\"01/01/2018 00:00:00\", \"%d/%m/%Y %H:%M:%S\")\n",
    "    return debut + timedelta(nb_de_minute)\n",
    "    "
   ]
  },
  {
   "cell_type": "code",
   "execution_count": null,
   "metadata": {},
   "outputs": [],
   "source": []
  }
 ],
 "metadata": {
  "kernelspec": {
   "display_name": "Python 3",
   "language": "python",
   "name": "python3"
  },
  "language_info": {
   "codemirror_mode": {
    "name": "ipython",
    "version": 3
   },
   "file_extension": ".py",
   "mimetype": "text/x-python",
   "name": "python",
   "nbconvert_exporter": "python",
   "pygments_lexer": "ipython3",
   "version": "3.7.1"
  }
 },
 "nbformat": 4,
 "nbformat_minor": 2
}
