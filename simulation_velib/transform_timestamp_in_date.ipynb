{
 "cells": [
  {
   "cell_type": "code",
   "execution_count": null,
   "metadata": {},
   "outputs": [],
   "source": [
    "def transform_timestamp_in_date(timestamp):\n",
    "    \"\"\"\n",
    "    Divise un timestamp entier en sous partie \n",
    "    pour calculer sa signification en terme de date.\n",
    "\n",
    "    Base la date retournée sur le 1er janvier 2018\n",
    "\n",
    "    Return : datetime\n",
    "    \"\"\"\n",
    "    from datetime import datetime\n",
    "    # définition de constantes pour les mathématiques de date\n",
    "    une_minute = 60\n",
    "    une_heure  = 60 * une_minute\n",
    "    un_jour    = 24 * une_heure\n",
    "    un_mois    = 30 * un_jour\n",
    "    un_an      = 12 * un_mois\n",
    "    # défintion de la date de base :\n",
    "    timestamp_de_base = 2018 * un_an + 1 * un_mois + 1 * un_jour \n",
    "    # ajout de la date de base au timestamp\n",
    "    timestamp     = timestamp_de_base + timestamp\n",
    "    # calculs des composants : an / mois / jours / heure / secondes\n",
    "    nb_an     = timestamp    // (un_an) \n",
    "    timestamp = timestamp - nb_an * un_an\n",
    "    nb_mois   = max(1, (timestamp ) //  un_mois % 12)\n",
    "    timestamp = timestamp -   nb_mois *un_mois\n",
    "    nb_jour   = max(1, (timestamp ) //   un_jour % 30)\n",
    "    timestamp = timestamp -   nb_jour *un_jour\n",
    "    nb_heure  = timestamp    //    une_heure % 24\n",
    "    timestamp = timestamp -   nb_heure *une_heure\n",
    "    nb_min    = timestamp    //    une_minute % 60\n",
    "    timestamp = timestamp -   nb_min * une_minute\n",
    "    nb_sec    = timestamp % 60 \n",
    "    # formatage en chaine de caractère\n",
    "    format_date = \"{jour:02d}/{mois:02d}/{an} {heure:02d}:{minute:02d}:{secondes:02d}\"\n",
    "    date = format_date.format(jour  = nb_jour  , mois   = nb_mois , an       = nb_an , \n",
    "                              heure = nb_heure , minute = nb_min  , secondes = nb_sec )\n",
    "    # conversion de la chaine de caractère en objet datetime\n",
    "    return datetime.strptime(date, \"%d/%m/%Y %H:%M:%S\")"
   ]
  }
 ],
 "metadata": {
  "kernelspec": {
   "display_name": "Python 3",
   "language": "python",
   "name": "python3"
  },
  "language_info": {
   "codemirror_mode": {
    "name": "ipython",
    "version": 3
   },
   "file_extension": ".py",
   "mimetype": "text/x-python",
   "name": "python",
   "nbconvert_exporter": "python",
   "pygments_lexer": "ipython3",
   "version": "3.7.1"
  }
 },
 "nbformat": 4,
 "nbformat_minor": 2
}
