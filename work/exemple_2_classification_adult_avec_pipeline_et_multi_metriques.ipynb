{
 "cells": [
  {
   "cell_type": "code",
   "execution_count": 1,
   "metadata": {},
   "outputs": [
    {
     "name": "stdout",
     "output_type": "stream",
     "text": [
      "ok\n"
     ]
    }
   ],
   "source": [
    "print(\"ok\")"
   ]
  },
  {
   "cell_type": "code",
   "execution_count": 42,
   "metadata": {},
   "outputs": [],
   "source": [
    "from pprint                    import pprint\n",
    "import seaborn as sns\n",
    "import pandas  as pd\n",
    "%matplotlib inline\n",
    "\n",
    "# Spark 2.0\n",
    "from pyspark.sql               import SparkSession \n",
    "\n",
    "# Machine learning\n",
    "from pyspark.ml                import Pipeline\n",
    "from pyspark.ml.feature        import Bucketizer\n",
    "from pyspark.ml.feature        import StringIndexer\n",
    "from pyspark.ml.feature        import VectorAssembler\n",
    "from pyspark.ml.evaluation     import MulticlassClassificationEvaluator\n",
    "from pyspark.ml.evaluation     import BinaryClassificationEvaluator\n",
    "from pyspark.ml.classification import RandomForestClassifier\n",
    "\n",
    "\n",
    "from pyspark.sql               import functions as F\n",
    "from pyspark.sql               import Window\n",
    "from pyspark.sql.types         import FloatType\n",
    "from pyspark.sql.functions     import udf\n",
    "from pyspark.mllib.evaluation  import MulticlassMetrics"
   ]
  },
  {
   "cell_type": "markdown",
   "metadata": {},
   "source": [
    "# 0) settings"
   ]
  },
  {
   "cell_type": "code",
   "execution_count": 3,
   "metadata": {},
   "outputs": [],
   "source": [
    "app_name    = \"classification_sexe_cycliste_avec_pipeline\"\n",
    "nb_cores    = 3\n",
    "paralelisme = 3\n",
    "memory      = 3\n",
    "spark = SparkSession.builder\\\n",
    ".config(\"spark.app.name\" , app_name )\\\n",
    ".config(\"spark.cores.max\" , \"%s\"%(nb_cores) )\\\n",
    ".config(\"spark.default.parallelism\", \"%s\"%(nb_cores*paralelisme) )\\\n",
    ".config(\"spark.storage.memoryFraction\", \"0.5\" )\\\n",
    ".getOrCreate()\n"
   ]
  },
  {
   "cell_type": "markdown",
   "metadata": {},
   "source": [
    "# 1) load data"
   ]
  },
  {
   "cell_type": "code",
   "execution_count": 4,
   "metadata": {},
   "outputs": [],
   "source": [
    "url_fichier = \"./../data/Villes/ville_1.csv\"\n",
    "data        = spark.read.option(\"header\", \"true\").option(\"inferSchema\", \"true\").csv(url_fichier)"
   ]
  },
  {
   "cell_type": "code",
   "execution_count": 5,
   "metadata": {},
   "outputs": [
    {
     "data": {
      "text/plain": [
       "10499"
      ]
     },
     "execution_count": 5,
     "metadata": {},
     "output_type": "execute_result"
    }
   ],
   "source": [
    "data.count()"
   ]
  },
  {
   "cell_type": "markdown",
   "metadata": {},
   "source": [
    "# 2) jeu de test et d'apprentissage"
   ]
  },
  {
   "cell_type": "code",
   "execution_count": 6,
   "metadata": {},
   "outputs": [],
   "source": [
    "(trainingData, testData) = data.randomSplit([0.7, 0.3])"
   ]
  },
  {
   "cell_type": "markdown",
   "metadata": {},
   "source": [
    "# 3) transformation en objet spark"
   ]
  },
  {
   "cell_type": "code",
   "execution_count": 7,
   "metadata": {},
   "outputs": [],
   "source": [
    "colonnes_explicatives = [ 'vitesse_a_pied','vitesse_a_velo', 'sportif', 'casseur', \n",
    "                         'statut-num', 'salaire', 'age', 'sportivite', 'velo_perf_minimale']"
   ]
  },
  {
   "cell_type": "code",
   "execution_count": 8,
   "metadata": {},
   "outputs": [],
   "source": [
    "encode_statut     = StringIndexer(inputCol=\"statut\" , outputCol=\"statut-num\" )\n",
    "encode_y          = StringIndexer(inputCol=\"sexe\" , outputCol=\"label\"      )\n",
    "assemble_features = VectorAssembler(inputCols=colonnes_explicatives  , outputCol=\"features\",  )"
   ]
  },
  {
   "cell_type": "markdown",
   "metadata": {},
   "source": [
    "# 4) Création d'un pipeline de modification des données"
   ]
  },
  {
   "cell_type": "code",
   "execution_count": 9,
   "metadata": {},
   "outputs": [],
   "source": [
    "algorithme = RandomForestClassifier()\n",
    "etapes   = [encode_statut, encode_y, assemble_features, algorithme]\n"
   ]
  },
  {
   "cell_type": "code",
   "execution_count": 10,
   "metadata": {},
   "outputs": [],
   "source": [
    "pipeline = Pipeline()\n",
    "pipeline = pipeline.setStages(etapes)"
   ]
  },
  {
   "cell_type": "markdown",
   "metadata": {},
   "source": [
    "# Test grid search"
   ]
  },
  {
   "cell_type": "code",
   "execution_count": 427,
   "metadata": {},
   "outputs": [],
   "source": [
    "from pyspark.ml.tuning import CrossValidator\n",
    "from pyspark.ml.tuning import ParamGridBuilder\n",
    "\n",
    "\n",
    "# Définition de la grille des paramètres à chercher\n",
    "paramGrid  = ParamGridBuilder()\n",
    "paramGrid  = paramGrid.addGrid(algorithme.numTrees     , [1, 5, 10] )\n",
    "paramGrid  = paramGrid.addGrid(algorithme.maxDepth     , [1, 5, 10] )\n",
    "paramGrid  = paramGrid.build()\n",
    "\n",
    "# Insertion de la grille dans un objet de cross-validation\n",
    "# qui s'appuie sur le pipeline :\n",
    "\n",
    "crossval = CrossValidator(estimator=pipeline,\n",
    "                          estimatorParamMaps=paramGrid,\n",
    "                          evaluator=MulticlassClassificationEvaluator(),\n",
    "                          numFolds=4) \n",
    "\n",
    "\n",
    "cvModel = crossval.fit(trainingData)"
   ]
  },
  {
   "cell_type": "markdown",
   "metadata": {},
   "source": [
    "# 5) modélisation du sexe par les colonnes explicatives"
   ]
  },
  {
   "cell_type": "code",
   "execution_count": 454,
   "metadata": {},
   "outputs": [],
   "source": [
    "modele       = pipeline.fit(trainingData)\n"
   ]
  },
  {
   "cell_type": "markdown",
   "metadata": {},
   "source": [
    "# 5 bis) choix de l'algorithme : soit modele, soit cvModel : "
   ]
  },
  {
   "cell_type": "code",
   "execution_count": 657,
   "metadata": {},
   "outputs": [],
   "source": [
    "predictions = cvModel.transform(testData)\n",
    "predictions  = modele.transform(testData)"
   ]
  },
  {
   "cell_type": "markdown",
   "metadata": {},
   "source": [
    "# 6) analyse des résultats : \n",
    "## 6.1) équilibre des classes"
   ]
  },
  {
   "cell_type": "code",
   "execution_count": 617,
   "metadata": {},
   "outputs": [
    {
     "name": "stdout",
     "output_type": "stream",
     "text": [
      "+-----+-----+-------+\n",
      "|label|count|percent|\n",
      "+-----+-----+-------+\n",
      "|  0.0| 1600|  0.496|\n",
      "|  1.0| 1626|  0.504|\n",
      "+-----+-----+-------+\n",
      "\n"
     ]
    }
   ],
   "source": [
    "nb_de_lignes = predictions.count()\n",
    "gp_par_label = predictions.groupBy(\"label\").count()\n",
    "gp_par_label.withColumn('percent', F.format_number((F.col('count') / nb_de_lignes) ,3) ).show()"
   ]
  },
  {
   "cell_type": "markdown",
   "metadata": {},
   "source": [
    "## 6.2) matrice de confusion avec le seuil original de 0.5"
   ]
  },
  {
   "cell_type": "code",
   "execution_count": 618,
   "metadata": {},
   "outputs": [
    {
     "name": "stdout",
     "output_type": "stream",
     "text": [
      "+-----+----+----+\n",
      "|label| 0.0| 1.0|\n",
      "+-----+----+----+\n",
      "|  0.0|1595|   5|\n",
      "|  1.0| 180|1446|\n",
      "+-----+----+----+\n",
      "\n"
     ]
    }
   ],
   "source": [
    "tcd = predictions.groupBy(\"label\").pivot(\"prediction\").count()\n",
    "tcd.show()"
   ]
  },
  {
   "cell_type": "code",
   "execution_count": 619,
   "metadata": {},
   "outputs": [],
   "source": [
    "tcd = tcd.withColumnRenamed(\"0.0\", \"label_0\")\n",
    "tcd = tcd.withColumnRenamed(\"1.0\", \"label_1\")"
   ]
  },
  {
   "cell_type": "code",
   "execution_count": 620,
   "metadata": {},
   "outputs": [
    {
     "name": "stdout",
     "output_type": "stream",
     "text": [
      "+-----+-------+-------+---------+---------+\n",
      "|label|label_0|label_1|percent_0|percent_1|\n",
      "+-----+-------+-------+---------+---------+\n",
      "|  0.0|   1595|      5|    0.494|    0.002|\n",
      "|  1.0|    180|   1446|    0.056|    0.448|\n",
      "+-----+-------+-------+---------+---------+\n",
      "\n"
     ]
    }
   ],
   "source": [
    "tcd = tcd.withColumn('percent_0', F.format_number((F.col('label_0') / nb_de_lignes) ,3) )\n",
    "tcd = tcd.withColumn('percent_1', F.format_number((F.col('label_1') / nb_de_lignes) ,3) )\n",
    "tcd.show()"
   ]
  },
  {
   "cell_type": "code",
   "execution_count": 621,
   "metadata": {},
   "outputs": [],
   "source": [
    "rdd               = predictions.select(\"prediction\", \"label\").rdd\n",
    "metrics           = MulticlassMetrics(rdd)\n",
    "rappel            = metrics.recall(0) # 0 est la valeur de la classe à tester de la classe\n",
    "precision         = metrics.precision(0)"
   ]
  },
  {
   "cell_type": "code",
   "execution_count": 622,
   "metadata": {},
   "outputs": [
    {
     "data": {
      "text/plain": [
       "(0.996875, 0.8985915492957747)"
      ]
     },
     "execution_count": 622,
     "metadata": {},
     "output_type": "execute_result"
    }
   ],
   "source": [
    "rappel, precision"
   ]
  },
  {
   "cell_type": "code",
   "execution_count": 623,
   "metadata": {},
   "outputs": [
    {
     "data": {
      "text/plain": [
       "0.8985915492957747"
      ]
     },
     "execution_count": 623,
     "metadata": {},
     "output_type": "execute_result"
    }
   ],
   "source": [
    "precision"
   ]
  },
  {
   "cell_type": "markdown",
   "metadata": {},
   "source": [
    "# 7) calcul des indicateurs pour chaque valeur de seuil"
   ]
  },
  {
   "cell_type": "markdown",
   "metadata": {},
   "source": [
    "## 7.1) on va décomposer la prédiction"
   ]
  },
  {
   "cell_type": "code",
   "execution_count": 624,
   "metadata": {},
   "outputs": [],
   "source": [
    "premier_element = udf(lambda v:float(v[0]),FloatType())\n",
    "second_element  = udf(lambda v:float(v[1]),FloatType())\n",
    "\n",
    "predictions = predictions.withColumn('proba_0', premier_element('probability').cast('double'))\n",
    "predictions = predictions.withColumn('proba_1', second_element('probability').cast('double'))"
   ]
  },
  {
   "cell_type": "markdown",
   "metadata": {},
   "source": [
    "## 7.2) on atribue une valeur de seuil arrondi à chaque probabilité "
   ]
  },
  {
   "cell_type": "code",
   "execution_count": 625,
   "metadata": {},
   "outputs": [],
   "source": [
    "# on veut 100 seuils différents\n",
    "splits = [x/100 for x in range(0,101,1)]\n",
    "# on instancie l'objet\n",
    "bucketizer  = Bucketizer(splits=splits,inputCol=\"proba_0\", outputCol=\"seuil_arrondi\")\n",
    "# on l'utilise pour rajouter une colonne à notre dataFrame de predictions\n",
    "predictions = bucketizer.setHandleInvalid(\"keep\").transform(predictions)"
   ]
  },
  {
   "cell_type": "markdown",
   "metadata": {},
   "source": [
    "## 7.3) on calcule la somme cumulée des personnes adressées jusqu'à chaque seuil"
   ]
  },
  {
   "cell_type": "code",
   "execution_count": 626,
   "metadata": {},
   "outputs": [],
   "source": [
    "# import de la fonction de fenêtrage\n",
    "from pyspark.sql               import Window\n",
    "# on tri par seuil_arrondi, puis on applique une somme sans limite\n",
    "windowval   = Window.orderBy('seuil_arrondi').rangeBetween(Window.unboundedPreceding, 0)\n",
    "# on applique cette fonction de fenêtrage sur un compte du nombre de ligne dans une colonne quelconque (on a pris seuil_arrondi mais on aurait pu prendre une autre colonne)\n",
    "predictions = predictions.withColumn('nb_personne_cumule_jusqua_ce_seuil', F.count('seuil_arrondi').over(windowval))"
   ]
  },
  {
   "cell_type": "markdown",
   "metadata": {},
   "source": [
    "## 7.4) pour chaque seuil on calcule les indicateurs : VP, FP, VN, FN, rappel, précision"
   ]
  },
  {
   "cell_type": "code",
   "execution_count": 627,
   "metadata": {
    "scrolled": false
   },
   "outputs": [
    {
     "name": "stdout",
     "output_type": "stream",
     "text": [
      "0,1,2,3,4,5,6,7,8,9,10,11,12,13,14,15,16,17,18,19,20,21,22,23,24,25,26,27,28,29,30,31,32,33,34,35,36,37,38,39,40,41,42,43,44,45,46,47,48,49,50,51,52,53,54,55,56,57,58,59,60,61,62,63,64,65,66,67,68,69,70,71,72,73,74,75,76,77,78,79,80,81,82,83,84,85,86,87,88,89,90,91,92,93,94,95,96,97,98,99,"
     ]
    }
   ],
   "source": [
    "r = []\n",
    "for seuil in range(0, 100, 1):\n",
    "    # création d'un nom de colonne pour la simulation de la classification\n",
    "    print(seuil, end=\",\")\n",
    "    seuil       = seuil/100\n",
    "    new_col     = \"seuil_%s\"%seuil\n",
    "    new_col     = new_col.replace(\".\", \"_\")\n",
    "    \n",
    "    # on crée une nouvelle colonne qui simule l'applicattion d'un seuil \n",
    "    # cette colonne est un booléen : sous le seuil, 0, au dessus, 1.\n",
    "    predictions       = predictions.withColumn(new_col, F.col(\"proba_0\") <= seuil)\n",
    "    \n",
    "    # on transforme les booléens en nombre pour pouvoir faire des calculs dessus:\n",
    "    predictions       = predictions.withColumn(new_col, F.col(new_col).cast('double'))\n",
    "\n",
    "    # Spark nous permet de calculer la précision et le recall à partir d'un objet\n",
    "    # MulticlassMetrics, qui prend en paramètre une rdd : \n",
    "    rdd               = predictions.select(new_col, \"label\").rdd\n",
    "    metrics           = MulticlassMetrics(rdd)\n",
    "    rappel            = metrics.recall(0) # 0 est la valeur de la classe à tester de la classe\n",
    "    precision         = metrics.precision(0)\n",
    "    VP, FP, FN, VN = metrics.confusionMatrix().values\n",
    "    \n",
    "    # on enregistre les résultats dans un dictionnaire\n",
    "    to_return   = { \"seuil\"                 : seuil,\n",
    "                    \"rappel\"                : rappel, \n",
    "                    \"precision\"             : precision, \n",
    "                    \"nb_VP\"                 : VP     ,\n",
    "                    \"nb_FP\"                 : FP     ,\n",
    "                    \"nb_FN\"                 : FN     ,\n",
    "                    \"nb_VN\"                 : VN    , }\n",
    "\n",
    "    # on ajoute le dictionnaire à la liste des résultats\n",
    "    r.append(to_return)"
   ]
  },
  {
   "cell_type": "markdown",
   "metadata": {},
   "source": [
    "# 8) analyse des résultats par seuil"
   ]
  },
  {
   "cell_type": "markdown",
   "metadata": {},
   "source": [
    "## 8.1) passage à pandas"
   ]
  },
  {
   "cell_type": "code",
   "execution_count": 628,
   "metadata": {},
   "outputs": [],
   "source": [
    "qualite_de_modele = pd.DataFrame(r)"
   ]
  },
  {
   "cell_type": "markdown",
   "metadata": {},
   "source": [
    "## 8.2) précision / rappel par seuil"
   ]
  },
  {
   "cell_type": "code",
   "execution_count": 629,
   "metadata": {},
   "outputs": [
    {
     "data": {
      "image/png": "[encoded data removed]",
      "text/plain": [
       "<Figure size 432x288 with 1 Axes>"
      ]
     },
     "metadata": {
      "needs_background": "light"
     },
     "output_type": "display_data"
    }
   ],
   "source": [
    "title = \"Exemple d'impact du choix du seuil sur la précision et le rappel \\n sur 100 seuils\"\n",
    "qualite_de_modele[[\"precision\", \"rappel\"]].plot(title=title)\n",
    "sns.despine()"
   ]
  },
  {
   "cell_type": "markdown",
   "metadata": {},
   "source": [
    "# 8.3) affichage en mode heatmap"
   ]
  },
  {
   "cell_type": "code",
   "execution_count": 630,
   "metadata": {},
   "outputs": [
    {
     "data": {
      "text/plain": [
       "Text(0.5, 1.05, 'Performance du modèle selon la métrique de qualité \\n et le choix du seuil de classification\\n sur 3000 cas à prévoir')"
      ]
     },
     "execution_count": 630,
     "metadata": {},
     "output_type": "execute_result"
    },
    {
     "data": {
      "image/png": "[encoded data removed]",
      "text/plain": [
       "<Figure size 432x288 with 2 Axes>"
      ]
     },
     "metadata": {
      "needs_background": "light"
     },
     "output_type": "display_data"
    }
   ],
   "source": [
    "%matplotlib inline\n",
    "from matplotlib import pyplot as plt\n",
    "import seaborn as sns\n",
    "sns.heatmap(qualite_de_modele[[\"rappel\", \"precision\"]],cmap=\"BuPu\")\n",
    "title=\"Performance du modèle selon la métrique de qualité \\n et le choix du seuil de classification\\n sur 3000 cas à prévoir\"\n",
    "y=1.05\n",
    "plt.suptitle(t=title, y=y)"
   ]
  },
  {
   "cell_type": "markdown",
   "metadata": {},
   "source": [
    "# 8.4) calcul de la rentabilité du ciblage"
   ]
  },
  {
   "cell_type": "markdown",
   "metadata": {},
   "source": [
    "## 8.4.1) paramètres métiers"
   ]
  },
  {
   "cell_type": "code",
   "execution_count": 643,
   "metadata": {
    "scrolled": false
   },
   "outputs": [],
   "source": [
    "cout_ciblage  = 0\n",
    "gain_d_un_VP  = 1000\n",
    "gain_d_un_VN  = 0\n",
    "cout_d_un_FP  = -10000\n",
    "cout_d_un_FN  = 0\n"
   ]
  },
  {
   "cell_type": "markdown",
   "metadata": {},
   "source": [
    "## 8.4.2) multiplication des paramètres par les ciblages"
   ]
  },
  {
   "cell_type": "code",
   "execution_count": 644,
   "metadata": {},
   "outputs": [],
   "source": [
    "qualite_de_modele[\"gain_des_VP\"] = qualite_de_modele[\"nb_VP\"] * gain_d_un_VP\n",
    "qualite_de_modele[\"gain_des_VN\"] = qualite_de_modele[\"nb_VN\"] * gain_d_un_VN\n",
    "\n",
    "qualite_de_modele[\"cout_des_FP\"] = qualite_de_modele[\"nb_FP\"] * cout_d_un_FP\n",
    "qualite_de_modele[\"cout_des_FN\"] = qualite_de_modele[\"nb_FN\"] * cout_d_un_FN\n"
   ]
  },
  {
   "cell_type": "markdown",
   "metadata": {},
   "source": [
    "## 8.4.3) calcul de la rentabilité de la campagne : (on partirait logiquement sur les élèments ayant une plus forte probabilité, il faut donc compter un nombre de personne ciblé comme étant la somme des personnes ayant la plus grande probabilité d'abord)"
   ]
  },
  {
   "cell_type": "code",
   "execution_count": 645,
   "metadata": {},
   "outputs": [],
   "source": [
    "qualite_de_modele[\"nb_de_cibles\"] = qualite_de_modele[[\"nb_VP\", \"nb_FP\"]].sum(axis=1)\n",
    "\n",
    "# le cout de campagne est basé sur cette somme cumulative du nombre de personne ciblées\n",
    "qualite_de_modele[\"cout_campagne\"]          = qualite_de_modele[\"nb_de_cibles\"]* cout_ciblage\n",
    "\n",
    "\n",
    "\n",
    "\n",
    "# on peut maintenant calculer le ROI de la campagne pour chaque seuil : \n",
    "a_sommer = [\"cout_campagne\", \n",
    "            \"gain_des_VP\", \n",
    "            \"cout_des_FP\", \n",
    "            \"cout_des_FN\", \n",
    "            \"gain_des_VN\"]\n",
    "\n",
    "qualite_de_modele[\"ROI_campagne\"]= qualite_de_modele[a_sommer].sum(axis=1)"
   ]
  },
  {
   "cell_type": "code",
   "execution_count": 646,
   "metadata": {},
   "outputs": [
    {
     "data": {
      "text/html": [
       "<div>\n",
       "<style scoped>\n",
       "    .dataframe tbody tr th:only-of-type {\n",
       "        vertical-align: middle;\n",
       "    }\n",
       "\n",
       "    .dataframe tbody tr th {\n",
       "        vertical-align: top;\n",
       "    }\n",
       "\n",
       "    .dataframe thead th {\n",
       "        text-align: right;\n",
       "    }\n",
       "</style>\n",
       "<table border=\"1\" class=\"dataframe\">\n",
       "  <thead>\n",
       "    <tr style=\"text-align: right;\">\n",
       "      <th></th>\n",
       "      <th>35</th>\n",
       "      <th>36</th>\n",
       "      <th>37</th>\n",
       "      <th>38</th>\n",
       "      <th>39</th>\n",
       "    </tr>\n",
       "  </thead>\n",
       "  <tbody>\n",
       "    <tr>\n",
       "      <th>nb_FN</th>\n",
       "      <td>2.000000e+00</td>\n",
       "      <td>2.000000e+00</td>\n",
       "      <td>2.000000e+00</td>\n",
       "      <td>5.000000e+00</td>\n",
       "      <td>5.000000e+00</td>\n",
       "    </tr>\n",
       "    <tr>\n",
       "      <th>nb_FP</th>\n",
       "      <td>1.850000e+02</td>\n",
       "      <td>1.850000e+02</td>\n",
       "      <td>1.850000e+02</td>\n",
       "      <td>1.800000e+02</td>\n",
       "      <td>1.800000e+02</td>\n",
       "    </tr>\n",
       "    <tr>\n",
       "      <th>nb_VN</th>\n",
       "      <td>1.441000e+03</td>\n",
       "      <td>1.441000e+03</td>\n",
       "      <td>1.441000e+03</td>\n",
       "      <td>1.446000e+03</td>\n",
       "      <td>1.446000e+03</td>\n",
       "    </tr>\n",
       "    <tr>\n",
       "      <th>nb_VP</th>\n",
       "      <td>1.598000e+03</td>\n",
       "      <td>1.598000e+03</td>\n",
       "      <td>1.598000e+03</td>\n",
       "      <td>1.595000e+03</td>\n",
       "      <td>1.595000e+03</td>\n",
       "    </tr>\n",
       "    <tr>\n",
       "      <th>precision</th>\n",
       "      <td>8.962423e-01</td>\n",
       "      <td>8.962423e-01</td>\n",
       "      <td>8.962423e-01</td>\n",
       "      <td>8.985915e-01</td>\n",
       "      <td>8.985915e-01</td>\n",
       "    </tr>\n",
       "    <tr>\n",
       "      <th>rappel</th>\n",
       "      <td>9.987500e-01</td>\n",
       "      <td>9.987500e-01</td>\n",
       "      <td>9.987500e-01</td>\n",
       "      <td>9.968750e-01</td>\n",
       "      <td>9.968750e-01</td>\n",
       "    </tr>\n",
       "    <tr>\n",
       "      <th>seuil</th>\n",
       "      <td>3.500000e-01</td>\n",
       "      <td>3.600000e-01</td>\n",
       "      <td>3.700000e-01</td>\n",
       "      <td>3.800000e-01</td>\n",
       "      <td>3.900000e-01</td>\n",
       "    </tr>\n",
       "    <tr>\n",
       "      <th>gain_des_VP</th>\n",
       "      <td>1.598000e+06</td>\n",
       "      <td>1.598000e+06</td>\n",
       "      <td>1.598000e+06</td>\n",
       "      <td>1.595000e+06</td>\n",
       "      <td>1.595000e+06</td>\n",
       "    </tr>\n",
       "    <tr>\n",
       "      <th>gain_des_VN</th>\n",
       "      <td>0.000000e+00</td>\n",
       "      <td>0.000000e+00</td>\n",
       "      <td>0.000000e+00</td>\n",
       "      <td>0.000000e+00</td>\n",
       "      <td>0.000000e+00</td>\n",
       "    </tr>\n",
       "    <tr>\n",
       "      <th>cout_des_FP</th>\n",
       "      <td>-1.850000e+06</td>\n",
       "      <td>-1.850000e+06</td>\n",
       "      <td>-1.850000e+06</td>\n",
       "      <td>-1.800000e+06</td>\n",
       "      <td>-1.800000e+06</td>\n",
       "    </tr>\n",
       "    <tr>\n",
       "      <th>cout_des_FN</th>\n",
       "      <td>0.000000e+00</td>\n",
       "      <td>0.000000e+00</td>\n",
       "      <td>0.000000e+00</td>\n",
       "      <td>0.000000e+00</td>\n",
       "      <td>0.000000e+00</td>\n",
       "    </tr>\n",
       "    <tr>\n",
       "      <th>nb_de_cibles</th>\n",
       "      <td>1.783000e+03</td>\n",
       "      <td>1.783000e+03</td>\n",
       "      <td>1.783000e+03</td>\n",
       "      <td>1.775000e+03</td>\n",
       "      <td>1.775000e+03</td>\n",
       "    </tr>\n",
       "    <tr>\n",
       "      <th>cout_campagne</th>\n",
       "      <td>0.000000e+00</td>\n",
       "      <td>0.000000e+00</td>\n",
       "      <td>0.000000e+00</td>\n",
       "      <td>0.000000e+00</td>\n",
       "      <td>0.000000e+00</td>\n",
       "    </tr>\n",
       "    <tr>\n",
       "      <th>ROI_campagne</th>\n",
       "      <td>-2.520000e+05</td>\n",
       "      <td>-2.520000e+05</td>\n",
       "      <td>-2.520000e+05</td>\n",
       "      <td>-2.050000e+05</td>\n",
       "      <td>-2.050000e+05</td>\n",
       "    </tr>\n",
       "  </tbody>\n",
       "</table>\n",
       "</div>"
      ],
      "text/plain": [
       "                         35            36            37            38  \\\n",
       "nb_FN          2.000000e+00  2.000000e+00  2.000000e+00  5.000000e+00   \n",
       "nb_FP          1.850000e+02  1.850000e+02  1.850000e+02  1.800000e+02   \n",
       "nb_VN          1.441000e+03  1.441000e+03  1.441000e+03  1.446000e+03   \n",
       "nb_VP          1.598000e+03  1.598000e+03  1.598000e+03  1.595000e+03   \n",
       "precision      8.962423e-01  8.962423e-01  8.962423e-01  8.985915e-01   \n",
       "rappel         9.987500e-01  9.987500e-01  9.987500e-01  9.968750e-01   \n",
       "seuil          3.500000e-01  3.600000e-01  3.700000e-01  3.800000e-01   \n",
       "gain_des_VP    1.598000e+06  1.598000e+06  1.598000e+06  1.595000e+06   \n",
       "gain_des_VN    0.000000e+00  0.000000e+00  0.000000e+00  0.000000e+00   \n",
       "cout_des_FP   -1.850000e+06 -1.850000e+06 -1.850000e+06 -1.800000e+06   \n",
       "cout_des_FN    0.000000e+00  0.000000e+00  0.000000e+00  0.000000e+00   \n",
       "nb_de_cibles   1.783000e+03  1.783000e+03  1.783000e+03  1.775000e+03   \n",
       "cout_campagne  0.000000e+00  0.000000e+00  0.000000e+00  0.000000e+00   \n",
       "ROI_campagne  -2.520000e+05 -2.520000e+05 -2.520000e+05 -2.050000e+05   \n",
       "\n",
       "                         39  \n",
       "nb_FN          5.000000e+00  \n",
       "nb_FP          1.800000e+02  \n",
       "nb_VN          1.446000e+03  \n",
       "nb_VP          1.595000e+03  \n",
       "precision      8.985915e-01  \n",
       "rappel         9.968750e-01  \n",
       "seuil          3.900000e-01  \n",
       "gain_des_VP    1.595000e+06  \n",
       "gain_des_VN    0.000000e+00  \n",
       "cout_des_FP   -1.800000e+06  \n",
       "cout_des_FN    0.000000e+00  \n",
       "nb_de_cibles   1.775000e+03  \n",
       "cout_campagne  0.000000e+00  \n",
       "ROI_campagne  -2.050000e+05  "
      ]
     },
     "execution_count": 646,
     "metadata": {},
     "output_type": "execute_result"
    }
   ],
   "source": [
    "qualite_de_modele[35:40].T"
   ]
  },
  {
   "cell_type": "code",
   "execution_count": 647,
   "metadata": {},
   "outputs": [
    {
     "name": "stdout",
     "output_type": "stream",
     "text": [
      "meilleur_seuil =  0.84\n",
      "meilleur_ROI =  1330000.0\n",
      "budget :  0.0\n",
      "nb de points de contacts =  1341.0\n",
      "nb de points de contacts convertis =  1340.0\n"
     ]
    }
   ],
   "source": [
    "\n",
    "# et trouver le ROI optimal : \n",
    "meilleur_ROI         = qualite_de_modele[\"ROI_campagne\"].max()\n",
    "filtre_sur_ROI       = qualite_de_modele.ROI_campagne == meilleur_ROI\n",
    "meileur_choix        = qualite_de_modele[ filtre_sur_ROI]\n",
    "# meilleur seuil : \n",
    "meilleur_seuil       = meileur_choix.seuil.values[0]\n",
    "# nb de personnes à cibler : \n",
    "nb_de_personnes_ciblees = meileur_choix.nb_de_cibles.values[0]\n",
    "nb_de_cible_atteinte    = meileur_choix.nb_VP.values[0]\n",
    "nb_de_cible_ignorees    = meileur_choix.nb_FN.values[0]\n",
    "gain_espere             = meileur_choix.ROI_campagne.values[0]\n",
    "budget                  = meileur_choix.cout_campagne.values[0]\n",
    "\n",
    "print(\"meilleur_seuil = \", meilleur_seuil)\n",
    "print(\"meilleur_ROI = \", meilleur_ROI)\n",
    "print(\"budget : \", budget)\n",
    "print(\"nb de points de contacts = \", nb_de_personnes_ciblees)\n",
    "print(\"nb de points de contacts convertis = \", nb_de_cible_atteinte)\n",
    "\n"
   ]
  },
  {
   "cell_type": "code",
   "execution_count": 648,
   "metadata": {},
   "outputs": [
    {
     "data": {
      "image/png": "[encoded data removed]",
      "text/plain": [
       "<Figure size 432x288 with 2 Axes>"
      ]
     },
     "metadata": {
      "needs_background": "light"
     },
     "output_type": "display_data"
    }
   ],
   "source": [
    "title = \"\"\"\n",
    "Le seuil le plus rentable serait de {meilleur_seuil}% sur ce cas: \n",
    "on ciblerait {nb_de_personnes_ciblees:.0f} personnes, \n",
    "dont  {nb_de_cible_atteinte:.0f} réagiraient positivement\n",
    "pour un gain de {gain_espere:.0f}\n",
    "\"\"\".format(**locals())\n",
    "\n",
    "\n",
    "cols_ROI = [ \"ROI_campagne\", \"seuil\"]\n",
    "cols_nb  = [ \"nb_de_cibles\", \"nb_VP\", \"nb_FP\" , \"seuil\"]\n",
    "if True:\n",
    "    ax   = qualite_de_modele[cols_ROI].plot(x=\"seuil\")\n",
    "    qualite_de_modele[cols_nb].plot(x=\"seuil\", secondary_y=True, ax=ax)\n",
    "else:\n",
    "    ax = qualite_de_modele[cols_nb].plot(x=\"seuil\")    \n",
    "ax._axes.hlines(0, 0, 100, colors=\"red\", linestyles=\"dashdot\")\n",
    "ax.get_legend().set_bbox_to_anchor((1.1, 1))\n",
    "plt.title(title)\n",
    "plt.xlim(1, 0)\n",
    "sns.despine()\n"
   ]
  },
  {
   "cell_type": "markdown",
   "metadata": {},
   "source": [
    "# 7) changer d'algorithme"
   ]
  },
  {
   "cell_type": "code",
   "execution_count": 680,
   "metadata": {},
   "outputs": [],
   "source": [
    "url_fichier = \"./../data/Villes/ville_1.csv\"\n",
    "data        = spark.read.option(\"header\", \"true\").option(\"inferSchema\", \"true\").csv(url_fichier)"
   ]
  },
  {
   "cell_type": "code",
   "execution_count": 691,
   "metadata": {},
   "outputs": [
    {
     "data": {
      "text/plain": [
       "10499"
      ]
     },
     "execution_count": 691,
     "metadata": {},
     "output_type": "execute_result"
    }
   ],
   "source": [
    "data.select(\"id\").drop_duplicates().count()"
   ]
  },
  {
   "cell_type": "code",
   "execution_count": 676,
   "metadata": {},
   "outputs": [],
   "source": [
    "path_cyclistes =  \"./../data/Cyclistes/*\""
   ]
  },
  {
   "cell_type": "code",
   "execution_count": 677,
   "metadata": {},
   "outputs": [],
   "source": [
    "cyclistes = spark.read.format(\"csv\").option(\"header\", \"true\").load(path_cyclistes)"
   ]
  },
  {
   "cell_type": "code",
   "execution_count": 664,
   "metadata": {},
   "outputs": [],
   "source": [
    "path_poids_cyclistes = \"./../data/Stations/*_poids_cyclistes.csv\"\n",
    "poids_des_cyclistes = spark.read.format(\"csv\").option(\"header\", \"true\").load(path_poids_cyclistes)"
   ]
  },
  {
   "cell_type": "code",
   "execution_count": 665,
   "metadata": {},
   "outputs": [
    {
     "data": {
      "text/plain": [
       "39432"
      ]
     },
     "execution_count": 665,
     "metadata": {},
     "output_type": "execute_result"
    }
   ],
   "source": [
    "poids_des_cyclistes.count()"
   ]
  },
  {
   "cell_type": "code",
   "execution_count": 685,
   "metadata": {},
   "outputs": [
    {
     "data": {
      "text/plain": [
       "649"
      ]
     },
     "execution_count": 685,
     "metadata": {},
     "output_type": "execute_result"
    }
   ],
   "source": [
    "poids_des_cyclistes.select(\"cycliste_id\").drop_duplicates().count()"
   ]
  },
  {
   "cell_type": "code",
   "execution_count": 688,
   "metadata": {},
   "outputs": [
    {
     "data": {
      "text/plain": [
       "649"
      ]
     },
     "execution_count": 688,
     "metadata": {},
     "output_type": "execute_result"
    }
   ],
   "source": [
    "poids_des_cyclistes.select(\"cycliste_id\").drop_duplicates().count()"
   ]
  },
  {
   "cell_type": "code",
   "execution_count": 687,
   "metadata": {},
   "outputs": [
    {
     "name": "stdout",
     "output_type": "stream",
     "text": [
      "+-------------------+----------+-----------+-----------------+\n",
      "|          timestamp|station_id|cycliste_id|            poids|\n",
      "+-------------------+----------+-----------+-----------------+\n",
      "|2018-01-01 04:41:00|        50|        624|82.25627486605875|\n",
      "|2018-01-01 07:27:00|        50|        812|            69.93|\n",
      "|2018-01-01 07:38:00|        50|        676|69.20938186371659|\n",
      "+-------------------+----------+-----------+-----------------+\n",
      "only showing top 3 rows\n",
      "\n"
     ]
    }
   ],
   "source": [
    "poids_des_cyclistes.show(3)"
   ]
  },
  {
   "cell_type": "code",
   "execution_count": 669,
   "metadata": {},
   "outputs": [],
   "source": [
    "un_poids_par_cycliste = poids_des_cyclistes.groupby(\"cycliste_id\").agg(F.mean(\"poids\"))"
   ]
  },
  {
   "cell_type": "code",
   "execution_count": 671,
   "metadata": {},
   "outputs": [
    {
     "name": "stdout",
     "output_type": "stream",
     "text": [
      "+-----------+-----------------+\n",
      "|cycliste_id|       avg(poids)|\n",
      "+-----------+-----------------+\n",
      "|        467|74.33819335120681|\n",
      "|        829|88.61127243916386|\n",
      "+-----------+-----------------+\n",
      "only showing top 2 rows\n",
      "\n"
     ]
    }
   ],
   "source": [
    "un_poids_par_cycliste.show(2)"
   ]
  },
  {
   "cell_type": "code",
   "execution_count": 672,
   "metadata": {},
   "outputs": [
    {
     "data": {
      "text/plain": [
       "3226"
      ]
     },
     "execution_count": 672,
     "metadata": {},
     "output_type": "execute_result"
    }
   ],
   "source": [
    "predictions.count()"
   ]
  },
  {
   "cell_type": "code",
   "execution_count": 674,
   "metadata": {},
   "outputs": [
    {
     "data": {
      "text/plain": [
       "189"
      ]
     },
     "execution_count": 674,
     "metadata": {},
     "output_type": "execute_result"
    }
   ],
   "source": [
    "predictions.join(un_poids_par_cycliste.withColumnRenamed(\"cycliste_id\", \"id\"), on =\"id\", how=).count()"
   ]
  },
  {
   "cell_type": "code",
   "execution_count": 285,
   "metadata": {},
   "outputs": [],
   "source": [
    "from pyspark.ml.classification import LogisticRegression"
   ]
  },
  {
   "cell_type": "code",
   "execution_count": 291,
   "metadata": {},
   "outputs": [],
   "source": [
    "algorithme = LogisticRegression()\n",
    "algorithme.setThreshold(0.1)\n",
    "etapes   = [encode_statut, encode_y, assemble_features, algorithme]"
   ]
  },
  {
   "cell_type": "code",
   "execution_count": 292,
   "metadata": {},
   "outputs": [],
   "source": [
    "pipeline = Pipeline()\n",
    "pipeline = pipeline.setStages(etapes)"
   ]
  },
  {
   "cell_type": "markdown",
   "metadata": {},
   "source": [
    "# 8) modélisation du sexe par les colonnes explicatives"
   ]
  },
  {
   "cell_type": "code",
   "execution_count": 293,
   "metadata": {},
   "outputs": [],
   "source": [
    "modele       = pipeline.fit(trainingData)\n",
    "predictions  = modele.transform(testData)"
   ]
  },
  {
   "cell_type": "code",
   "execution_count": 294,
   "metadata": {},
   "outputs": [
    {
     "name": "stdout",
     "output_type": "stream",
     "text": [
      "1.0\n",
      "f1                 : 1.000\n",
      "1.0\n",
      "precision          : 1.000\n",
      "1.0\n",
      "precision ponderee : 1.000\n",
      "1.0\n",
      "rappel pondere     : 1.000\n",
      "1.0\n",
      "AUC                : 1.000\n"
     ]
    }
   ],
   "source": [
    "metriques = {\n",
    "\"f1\"                 : MulticlassClassificationEvaluator()                     ,\n",
    "\"precision\"          : MulticlassClassificationEvaluator(metricName=\"accuracy\") ,\n",
    "\"precision ponderee\" : MulticlassClassificationEvaluator(metricName=\"weightedPrecision\") ,\n",
    "\"rappel pondere\"     :  MulticlassClassificationEvaluator(metricName=\"weightedRecall\")  ,    \n",
    "\"AUC\"                :  BinaryClassificationEvaluator()                         }\n",
    "\n",
    "for mesure, evaluator in metriques.items():\n",
    "    valeur = evaluator.evaluate(predictions)\n",
    "    print(valeur)\n",
    "    print(\"{mesure: <18} : {valeur:.3f}\".format(mesure=mesure, valeur=valeur))"
   ]
  }
 ],
 "metadata": {
  "kernelspec": {
   "display_name": "Python 3",
   "language": "python",
   "name": "python3"
  },
  "language_info": {
   "codemirror_mode": {
    "name": "ipython",
    "version": 3
   },
   "file_extension": ".py",
   "mimetype": "text/x-python",
   "name": "python",
   "nbconvert_exporter": "python",
   "pygments_lexer": "ipython3",
   "version": "3.7.1"
  }
 },
 "nbformat": 4,
 "nbformat_minor": 1
}
