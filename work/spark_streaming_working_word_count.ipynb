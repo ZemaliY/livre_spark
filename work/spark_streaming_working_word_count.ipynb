{
 "cells": [
  {
   "cell_type": "code",
   "execution_count": 1,
   "metadata": {},
   "outputs": [],
   "source": [
    "from pyspark.sql import SparkSession\n",
    "spark = SparkSession.builder.getOrCreate()\n",
    "\n",
    "sc = spark.sparkContext"
   ]
  },
  {
   "cell_type": "code",
   "execution_count": 2,
   "metadata": {},
   "outputs": [
    {
     "name": "stdout",
     "output_type": "stream",
     "text": [
      "2b718a58c083\n"
     ]
    }
   ],
   "source": [
    "from pyspark.streaming import StreamingContext\n",
    "import socket\n",
    "try: del ssc\n",
    "except: pass\n",
    "ip           = socket.gethostname()\n",
    "print(ip)\n",
    "port         = 12030\n",
    "nb_of_second = 5\n",
    "\n",
    "ssc             = StreamingContext(sc, batchDuration=nb_of_second)\n",
    "lignes_de_texte = ssc.socketTextStream(ip,port )\n",
    "mots            = lignes_de_texte.flatMap(lambda ligne:ligne.split(\" \"))\n",
    "paired_rdd      = mots.map(lambda mot: (mot, 1))\n",
    "\n",
    "compter_les_occurences_de_mots = paired_rdd.reduceByKey(lambda somme, valeur: somme+valeur)\n",
    "\n",
    "compter_les_occurences_de_mots.pprint()"
   ]
  },
  {
   "cell_type": "code",
   "execution_count": 3,
   "metadata": {},
   "outputs": [
    {
     "name": "stdout",
     "output_type": "stream",
     "text": [
      "-------------------------------------------\n",
      "Time: 2019-04-25 08:11:30\n",
      "-------------------------------------------\n",
      "\n",
      "-------------------------------------------\n",
      "Time: 2019-04-25 08:11:35\n",
      "-------------------------------------------\n",
      "\n",
      "-------------------------------------------\n",
      "Time: 2019-04-25 08:11:40\n",
      "-------------------------------------------\n",
      "\n",
      "-------------------------------------------\n",
      "Time: 2019-04-25 08:11:45\n",
      "-------------------------------------------\n",
      "\n",
      "-------------------------------------------\n",
      "Time: 2019-04-25 08:11:50\n",
      "-------------------------------------------\n",
      "('client_30,33', 1)\n",
      "('client_768,13', 1)\n",
      "('client_188,61', 1)\n",
      "('client_777,11', 1)\n",
      "('client_559,57', 1)\n",
      "('client_814,40', 1)\n",
      "('client_591,93', 1)\n",
      "('client_277,98', 1)\n",
      "('client_134,50', 1)\n",
      "('client_217,3', 1)\n",
      "...\n",
      "\n",
      "-------------------------------------------\n",
      "Time: 2019-04-25 08:11:55\n",
      "-------------------------------------------\n",
      "('client_185,8', 1)\n",
      "('client_658,45', 1)\n",
      "('client_170,39', 1)\n",
      "('client_285,99', 1)\n",
      "('client_327,37', 1)\n",
      "('client_32,38', 1)\n",
      "('client_756,30', 1)\n",
      "('client_583,21', 1)\n",
      "('client_742,39', 1)\n",
      "('client_293,13', 1)\n",
      "...\n",
      "\n",
      "-------------------------------------------\n",
      "Time: 2019-04-25 08:12:00\n",
      "-------------------------------------------\n",
      "('client_708,22', 1)\n",
      "('client_104,14', 1)\n",
      "('client_275,26', 1)\n",
      "('client_959,14', 1)\n",
      "('client_799,76', 1)\n",
      "('client_248,96', 1)\n",
      "('client_732,58', 1)\n",
      "('client_607,29', 1)\n",
      "('client_426,88', 1)\n",
      "('client_516,48', 1)\n",
      "...\n",
      "\n",
      "-------------------------------------------\n",
      "Time: 2019-04-25 08:12:05\n",
      "-------------------------------------------\n",
      "('client_836,16', 1)\n",
      "('client_214,93', 1)\n",
      "('client_515,45', 1)\n",
      "('client_33,33', 1)\n",
      "('client_767,69', 1)\n",
      "('client_267,0', 1)\n",
      "('client_272,66', 1)\n",
      "('client_728,89', 1)\n",
      "('client_684,54', 1)\n",
      "('client_701,27', 1)\n",
      "...\n",
      "\n"
     ]
    }
   ],
   "source": [
    "ssc.start()"
   ]
  },
  {
   "cell_type": "code",
   "execution_count": 5,
   "metadata": {},
   "outputs": [],
   "source": [
    "ssc.stop()"
   ]
  },
  {
   "cell_type": "code",
   "execution_count": null,
   "metadata": {},
   "outputs": [],
   "source": []
  },
  {
   "cell_type": "code",
   "execution_count": null,
   "metadata": {},
   "outputs": [],
   "source": []
  }
 ],
 "metadata": {
  "kernelspec": {
   "display_name": "Python 3",
   "language": "python",
   "name": "python3"
  },
  "language_info": {
   "codemirror_mode": {
    "name": "ipython",
    "version": 3
   },
   "file_extension": ".py",
   "mimetype": "text/x-python",
   "name": "python",
   "nbconvert_exporter": "python",
   "pygments_lexer": "ipython3",
   "version": "3.7.1"
  }
 },
 "nbformat": 4,
 "nbformat_minor": 2
}
