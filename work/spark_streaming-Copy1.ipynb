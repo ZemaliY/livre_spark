{
 "cells": [
  {
   "cell_type": "code",
   "execution_count": 1,
   "metadata": {},
   "outputs": [],
   "source": [
    "from pyspark.sql import SparkSession\n",
    "spark = SparkSession.builder.getOrCreate()\n",
    "\n",
    "sc = spark.sparkContext"
   ]
  },
  {
   "cell_type": "code",
   "execution_count": 2,
   "metadata": {},
   "outputs": [
    {
     "name": "stdout",
     "output_type": "stream",
     "text": [
      "2b718a58c083\n"
     ]
    }
   ],
   "source": [
    "from pyspark.streaming import StreamingContext\n",
    "import socket\n",
    "try: del ssc\n",
    "except: pass\n",
    "ip           = socket.gethostname()\n",
    "print(ip)\n",
    "port         = 12030\n",
    "nb_of_second = 5\n",
    "\n",
    "ssc             = StreamingContext(sc, batchDuration=nb_of_second)\n",
    "\n",
    "\n",
    "def update_achats(nouvelles_valeurs, valeur_actuelle ):\n",
    "    if valeur_actuelle is None:\n",
    "        valeur_actuelle = 0\n",
    "    return sum(nouvelles_valeurs, valeur_actuelle)\n",
    "        \n",
    "lignes_de_texte = ssc.socketTextStream(ip,port )\n",
    "mots            = lignes_de_texte.flatMap(lambda ligne:ligne.split(\" \"))\n",
    "paired_rdd      = mots.map(lambda mot: (mot, 1))\n",
    "\n",
    "compter_les_occurences_de_mots = paired_rdd.reduceByKey(lambda somme, valeur: somme+valeur)\n",
    "\n",
    "compter_les_occurences_de_mots.pprint()"
   ]
  },
  {
   "cell_type": "code",
   "execution_count": 3,
   "metadata": {},
   "outputs": [
    {
     "name": "stdout",
     "output_type": "stream",
     "text": [
      "-------------------------------------------\n",
      "Time: 2019-04-24 20:50:20\n",
      "-------------------------------------------\n",
      "('client_538,73', 1)\n",
      "('client_649,28', 1)\n",
      "('client_204,50', 1)\n",
      "('client_681,91', 1)\n",
      "('client_599,4', 1)\n",
      "('client_231,100', 1)\n",
      "('client_702,48', 1)\n",
      "('client_186,59', 1)\n",
      "('client_100,74', 1)\n",
      "('client_55,57', 1)\n",
      "...\n",
      "\n",
      "-------------------------------------------\n",
      "Time: 2019-04-24 20:50:25\n",
      "-------------------------------------------\n",
      "('client_94,99', 1)\n",
      "('client_151,37', 1)\n",
      "('client_234,96', 1)\n",
      "('client_756,73', 1)\n",
      "('client_500,29', 1)\n",
      "('client_634,55', 1)\n",
      "('client_335,0', 1)\n",
      "('client_61,95', 1)\n",
      "('client_860,2', 1)\n",
      "('client_235,16', 1)\n",
      "...\n",
      "\n",
      "-------------------------------------------\n",
      "Time: 2019-04-24 20:50:30\n",
      "-------------------------------------------\n",
      "('client_709,12', 1)\n",
      "('client_833,14', 1)\n",
      "('client_305,64', 1)\n",
      "('client_324,38', 1)\n",
      "('client_498,75', 1)\n",
      "('client_509,69', 1)\n",
      "('client_705,73', 1)\n",
      "('client_438,69', 1)\n",
      "('client_499,0', 1)\n",
      "('client_146,82', 1)\n",
      "...\n",
      "\n",
      "-------------------------------------------\n",
      "Time: 2019-04-24 20:50:35\n",
      "-------------------------------------------\n",
      "('client_933,56', 1)\n",
      "('client_882,34', 1)\n",
      "('client_535,24', 1)\n",
      "('client_293,100', 1)\n",
      "('client_633,97', 1)\n",
      "('client_832,84', 1)\n",
      "('client_709,6', 1)\n",
      "('client_916,4', 1)\n",
      "('client_439,44', 1)\n",
      "('client_34,79', 1)\n",
      "...\n",
      "\n",
      "-------------------------------------------\n",
      "Time: 2019-04-24 20:50:40\n",
      "-------------------------------------------\n",
      "('client_690,50', 1)\n",
      "('client_451,87', 1)\n",
      "('client_231,84', 1)\n",
      "('client_560,89', 1)\n",
      "('client_715,27', 1)\n",
      "('client_578,37', 1)\n",
      "('client_115,22', 1)\n",
      "('client_622,87', 1)\n",
      "('client_352,38', 1)\n",
      "('client_616,55', 1)\n",
      "...\n",
      "\n"
     ]
    }
   ],
   "source": [
    "ssc.start()"
   ]
  },
  {
   "cell_type": "code",
   "execution_count": 5,
   "metadata": {},
   "outputs": [],
   "source": [
    "ssc.stop()"
   ]
  },
  {
   "cell_type": "code",
   "execution_count": null,
   "metadata": {},
   "outputs": [],
   "source": []
  },
  {
   "cell_type": "code",
   "execution_count": null,
   "metadata": {},
   "outputs": [],
   "source": []
  }
 ],
 "metadata": {
  "kernelspec": {
   "display_name": "Python 3",
   "language": "python",
   "name": "python3"
  },
  "language_info": {
   "codemirror_mode": {
    "name": "ipython",
    "version": 3
   },
   "file_extension": ".py",
   "mimetype": "text/x-python",
   "name": "python",
   "nbconvert_exporter": "python",
   "pygments_lexer": "ipython3",
   "version": "3.7.1"
  }
 },
 "nbformat": 4,
 "nbformat_minor": 2
}
