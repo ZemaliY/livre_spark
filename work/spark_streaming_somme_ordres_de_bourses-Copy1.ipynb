{
 "cells": [
  {
   "cell_type": "code",
   "execution_count": 1,
   "metadata": {},
   "outputs": [],
   "source": [
    "def print_time():\n",
    "    from datetime import datetime\n",
    "    print(\"%s min %s s\"%(datetime.now().minute,datetime.now().second))"
   ]
  },
  {
   "cell_type": "code",
   "execution_count": 2,
   "metadata": {},
   "outputs": [],
   "source": [
    "from pyspark.sql import SparkSession\n",
    "from pyspark.streaming import StreamingContext\n",
    "import socket\n",
    "spark = SparkSession.builder.getOrCreate()\n",
    "\n",
    "sc = spark.sparkContext"
   ]
  },
  {
   "cell_type": "code",
   "execution_count": 3,
   "metadata": {},
   "outputs": [
    {
     "name": "stdout",
     "output_type": "stream",
     "text": [
      "11 min 11 s\n"
     ]
    }
   ],
   "source": [
    "print_time()"
   ]
  },
  {
   "cell_type": "code",
   "execution_count": 4,
   "metadata": {},
   "outputs": [],
   "source": [
    "ip           = socket.gethostname()\n",
    "port         = 12066\n",
    "nb_of_second = 5"
   ]
  },
  {
   "cell_type": "markdown",
   "metadata": {},
   "source": [
    "# 1) création du spark context"
   ]
  },
  {
   "cell_type": "code",
   "execution_count": 5,
   "metadata": {},
   "outputs": [],
   "source": [
    "# Suppression du SparkContext s’il existe déjà\n",
    "try: del ssc\n",
    "except: pass\n",
    "ssc             = StreamingContext(sc, batchDuration=nb_of_second)"
   ]
  },
  {
   "cell_type": "markdown",
   "metadata": {},
   "source": [
    "# 2)  Fonction d'update de valeurs"
   ]
  },
  {
   "cell_type": "code",
   "execution_count": 6,
   "metadata": {},
   "outputs": [],
   "source": [
    "def update_achats(nouvelles_valeurs, valeur_actuelle ):\n",
    "    if valeur_actuelle is None:\n",
    "        valeur_actuelle = 0\n",
    "    return sum(nouvelles_valeurs) + valeur_actuelle"
   ]
  },
  {
   "cell_type": "markdown",
   "metadata": {},
   "source": [
    "# 3) définition du DAG"
   ]
  },
  {
   "cell_type": "code",
   "execution_count": 7,
   "metadata": {},
   "outputs": [
    {
     "name": "stdout",
     "output_type": "stream",
     "text": [
      "11 min 13 s\n"
     ]
    }
   ],
   "source": [
    "lignes_de_texte   = ssc.socketTextStream(ip,port )\n",
    "entreprise_nombre = lignes_de_texte.map(lambda ligne:ligne.split(\",\"))\n",
    "paired_rdd        = entreprise_nombre.map(lambda x: (x[0], float(x[1])))\n",
    "# Somme des achats par clef \n",
    "sommer_les_achats = paired_rdd.updateStateByKey(lambda x: x)\n",
    "# affichage\n",
    "print_time()\n",
    "sommer_les_achats.pprint()"
   ]
  },
  {
   "cell_type": "code",
   "execution_count": 8,
   "metadata": {},
   "outputs": [],
   "source": [
    "ssc.checkpoint(\"./checkpoint\")"
   ]
  },
  {
   "cell_type": "code",
   "execution_count": 9,
   "metadata": {},
   "outputs": [
    {
     "name": "stdout",
     "output_type": "stream",
     "text": [
      "start on  2b718a58c083:12066\n"
     ]
    }
   ],
   "source": [
    "print(\"start on  %s:%s\"%(ip, port))\n",
    "ssc.start()"
   ]
  },
  {
   "cell_type": "code",
   "execution_count": 10,
   "metadata": {},
   "outputs": [],
   "source": [
    "if False:\n",
    "    ssc.stop() "
   ]
  },
  {
   "cell_type": "code",
   "execution_count": 11,
   "metadata": {},
   "outputs": [
    {
     "name": "stdout",
     "output_type": "stream",
     "text": [
      "total 80\n",
      "drwxr-xr-x 4 jovyan users  128 Apr 24 20:55 002fdde4-5af6-4789-b139-bcf257cacfe5\n",
      "drwxr-xr-x 4 jovyan users  128 Apr 24 20:54 00eee579-0728-4607-bf49-4b00e3ada5d4\n",
      "drwxr-xr-x 2 jovyan users   64 Apr 24 21:07 039ecb00-406f-45d6-ab97-04dfa13250ed\n",
      "drwxr-xr-x 4 jovyan users  128 Apr 25 07:50 18250785-02ea-4caf-84c4-085310cf8700\n",
      "drwxr-xr-x 2 jovyan users   64 Apr 25 21:10 1936aa4a-ebcb-44b2-b51b-f6b21475aadf\n",
      "drwxr-xr-x 2 jovyan users   64 Apr 25 21:06 29718281-024d-4e1b-b35c-1e6a8f88869f\n",
      "drwxr-xr-x 2 jovyan users   64 Apr 25 07:51 6615678f-3b3c-4c35-9aba-5ad62f4fd272\n",
      "drwxr-xr-x 2 jovyan users   64 Apr 25 21:06 7f44c4eb-5814-41b4-a75d-ff5502ffc108\n",
      "drwxr-xr-x 4 jovyan users  128 Apr 24 21:06 89173ea6-26a8-45b8-9ec0-35833e46eb83\n",
      "drwxr-xr-x 2 jovyan users   64 Apr 25 21:11 9c8da2bf-6a59-4205-bcee-faaae3b476f2\n",
      "drwxr-xr-x 2 jovyan users   64 Apr 25 08:05 a1657814-17fe-4f48-9ad3-abd18f88810e\n",
      "-rw-r--r-- 1 jovyan users 7159 Apr 25 21:08 checkpoint-1556226480000\n",
      "-rw-r--r-- 1 jovyan users 7163 Apr 25 21:08 checkpoint-1556226485000\n",
      "-rw-r--r-- 1 jovyan users 7169 Apr 25 21:08 checkpoint-1556226490000\n",
      "-rw-r--r-- 1 jovyan users 7174 Apr 25 21:08 checkpoint-1556226495000\n",
      "-rw-r--r-- 1 jovyan users 7182 Apr 25 21:08 checkpoint-1556226500000\n",
      "-rw-r--r-- 1 jovyan users 7181 Apr 25 21:08 checkpoint-1556226505000\n",
      "-rw-r--r-- 1 jovyan users 7186 Apr 25 21:08 checkpoint-1556226510000\n",
      "-rw-r--r-- 1 jovyan users 7195 Apr 25 21:08 checkpoint-1556226515000\n",
      "-rw-r--r-- 1 jovyan users 7202 Apr 25 21:08 checkpoint-1556226520000\n",
      "-rw-r--r-- 1 jovyan users 7209 Apr 25 21:08 checkpoint-1556226525000\n",
      "drwxr-xr-x 4 jovyan users  128 Apr 25 08:01 ea367924-84d8-4eb9-8606-e4b31bcd6075\n",
      "drwxr-xr-x 5 jovyan users  160 Apr 25 21:11 receivedBlockMetadata\n",
      "-------------------------------------------\n",
      "Time: 2019-04-25 21:11:15\n",
      "-------------------------------------------\n",
      "\n",
      "-------------------------------------------\n",
      "Time: 2019-04-25 21:11:20\n",
      "-------------------------------------------\n",
      "\n",
      "-------------------------------------------\n",
      "Time: 2019-04-25 21:11:25\n",
      "-------------------------------------------\n",
      "\n",
      "-------------------------------------------\n",
      "Time: 2019-04-25 21:11:30\n",
      "-------------------------------------------\n",
      "\n",
      "-------------------------------------------\n",
      "Time: 2019-04-25 21:11:35\n",
      "-------------------------------------------\n",
      "\n",
      "-------------------------------------------\n",
      "Time: 2019-04-25 21:11:40\n",
      "-------------------------------------------\n",
      "\n",
      "-------------------------------------------\n",
      "Time: 2019-04-25 21:11:45\n",
      "-------------------------------------------\n",
      "\n",
      "-------------------------------------------\n",
      "Time: 2019-04-25 21:11:50\n",
      "-------------------------------------------\n",
      "\n",
      "-------------------------------------------\n",
      "Time: 2019-04-25 21:11:55\n",
      "-------------------------------------------\n",
      "\n",
      "-------------------------------------------\n",
      "Time: 2019-04-25 21:12:00\n",
      "-------------------------------------------\n",
      "\n",
      "-------------------------------------------\n",
      "Time: 2019-04-25 21:12:05\n",
      "-------------------------------------------\n",
      "\n",
      "-------------------------------------------\n",
      "Time: 2019-04-25 21:12:10\n",
      "-------------------------------------------\n",
      "\n",
      "-------------------------------------------\n",
      "Time: 2019-04-25 21:12:15\n",
      "-------------------------------------------\n",
      "\n",
      "-------------------------------------------\n",
      "Time: 2019-04-25 21:12:20\n",
      "-------------------------------------------\n",
      "\n",
      "-------------------------------------------\n",
      "Time: 2019-04-25 21:12:25\n",
      "-------------------------------------------\n",
      "\n",
      "-------------------------------------------\n",
      "Time: 2019-04-25 21:12:30\n",
      "-------------------------------------------\n",
      "\n",
      "-------------------------------------------\n",
      "Time: 2019-04-25 21:12:35\n",
      "-------------------------------------------\n",
      "\n",
      "-------------------------------------------\n",
      "Time: 2019-04-25 21:12:40\n",
      "-------------------------------------------\n",
      "\n",
      "-------------------------------------------\n",
      "Time: 2019-04-25 21:12:45\n",
      "-------------------------------------------\n",
      "\n",
      "-------------------------------------------\n",
      "Time: 2019-04-25 21:12:50\n",
      "-------------------------------------------\n",
      "\n",
      "-------------------------------------------\n",
      "Time: 2019-04-25 21:12:55\n",
      "-------------------------------------------\n",
      "\n",
      "-------------------------------------------\n",
      "Time: 2019-04-25 21:13:00\n",
      "-------------------------------------------\n",
      "\n",
      "-------------------------------------------\n",
      "Time: 2019-04-25 21:13:05\n",
      "-------------------------------------------\n",
      "\n",
      "-------------------------------------------\n",
      "Time: 2019-04-25 21:13:10\n",
      "-------------------------------------------\n",
      "\n",
      "-------------------------------------------\n",
      "Time: 2019-04-25 21:13:15\n",
      "-------------------------------------------\n",
      "\n",
      "-------------------------------------------\n",
      "Time: 2019-04-25 21:13:20\n",
      "-------------------------------------------\n",
      "\n",
      "-------------------------------------------\n",
      "Time: 2019-04-25 21:13:25\n",
      "-------------------------------------------\n",
      "\n",
      "-------------------------------------------\n",
      "Time: 2019-04-25 21:13:30\n",
      "-------------------------------------------\n",
      "\n",
      "-------------------------------------------\n",
      "Time: 2019-04-25 21:13:35\n",
      "-------------------------------------------\n",
      "\n",
      "-------------------------------------------\n",
      "Time: 2019-04-25 21:13:40\n",
      "-------------------------------------------\n",
      "\n",
      "-------------------------------------------\n",
      "Time: 2019-04-25 21:13:45\n",
      "-------------------------------------------\n",
      "\n",
      "-------------------------------------------\n",
      "Time: 2019-04-25 21:13:50\n",
      "-------------------------------------------\n",
      "\n",
      "-------------------------------------------\n",
      "Time: 2019-04-25 21:13:55\n",
      "-------------------------------------------\n",
      "\n"
     ]
    }
   ],
   "source": [
    "!ls -l ./checkpoint/"
   ]
  },
  {
   "cell_type": "code",
   "execution_count": null,
   "metadata": {},
   "outputs": [],
   "source": []
  }
 ],
 "metadata": {
  "kernelspec": {
   "display_name": "Python 3",
   "language": "python",
   "name": "python3"
  },
  "language_info": {
   "codemirror_mode": {
    "name": "ipython",
    "version": 3
   },
   "file_extension": ".py",
   "mimetype": "text/x-python",
   "name": "python",
   "nbconvert_exporter": "python",
   "pygments_lexer": "ipython3",
   "version": "3.7.1"
  }
 },
 "nbformat": 4,
 "nbformat_minor": 2
}
