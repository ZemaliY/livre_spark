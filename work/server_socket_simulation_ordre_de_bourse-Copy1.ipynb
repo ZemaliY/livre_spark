{
 "cells": [
  {
   "cell_type": "markdown",
   "metadata": {},
   "source": [
    "# -1) imports\n",
    "\n",
    "import socket\n",
    "import random\n",
    "import time\n",
    "\n",
    "def print_time():\n",
    "    from datetime import datetime\n",
    "    print(\"%s min %s s\"%(datetime.now().minute,datetime.now().second))\n",
    "\n",
    "print_time()\n",
    "\n",
    "# 0) configuration\n",
    "\n",
    "port = 12060\n",
    "ip   = socket.gethostname()\n",
    "\n",
    "# 1) création d'une socket\n",
    "\n",
    "serversocket = socket.socket(socket.AF_INET, socket.SOCK_STREAM)\n",
    "serversocket.bind((ip, port))\n",
    "serversocket.listen(1)\n",
    "\n",
    "print_time()\n",
    "\n",
    "# 2) attendre que spark se connecte\n",
    "\n",
    "(clientsocket, address) = serversocket.accept()\n",
    "\n",
    "print(\"Connection de %s :\\n %s\"%(address, clientsocket))\n",
    "\n",
    "# 3) envoie de données\n",
    "\n",
    "serversocket.setblocking(False) \n",
    "\n",
    "nb_client = 3\n",
    "nb_achat  = 5\n",
    "clients   = [\"client_%s\"%x for x in range(nb_client)]\n",
    "entreprises = [\"LVMH\", \"L'OREAL\", \"TOTAL\", \"AIRBUS GROUP (EX-EADS)\", \"SANOFI\", \"VALEO\"]\n",
    "\n",
    "\n",
    "tps_attente = 1\n",
    "nb_achat    = 50\n",
    "for i in range(30):\n",
    "    print(i)\n",
    "    time.sleep(tps_attente)\n",
    "    achats      = [(random.choice(entreprises), random.randint(0, 100)) for x in range(nb_achat)]\n",
    "    for client, valeur in achats:\n",
    "        to_send = '%s,%s\\n'%(client, valeur)\n",
    "        print(\"sent : \", to_send)\n",
    "        print(\"sent %s bytes\"%clientsocket.send(to_send.encode()))\n",
    "        print_time()"
   ]
  },
  {
   "cell_type": "code",
   "execution_count": null,
   "metadata": {},
   "outputs": [],
   "source": []
  }
 ],
 "metadata": {
  "kernelspec": {
   "display_name": "Python 3",
   "language": "python",
   "name": "python3"
  },
  "language_info": {
   "codemirror_mode": {
    "name": "ipython",
    "version": 3
   },
   "file_extension": ".py",
   "mimetype": "text/x-python",
   "name": "python",
   "nbconvert_exporter": "python",
   "pygments_lexer": "ipython3",
   "version": "3.7.1"
  }
 },
 "nbformat": 4,
 "nbformat_minor": 2
}
