{
 "cells": [
  {
   "cell_type": "code",
   "execution_count": 1,
   "metadata": {},
   "outputs": [],
   "source": [
    "from pyspark.sql import SparkSession\n",
    "spark = SparkSession.builder.getOrCreate()\n",
    "\n",
    "sc = spark.sparkContext"
   ]
  },
  {
   "cell_type": "code",
   "execution_count": 2,
   "metadata": {},
   "outputs": [
    {
     "name": "stdout",
     "output_type": "stream",
     "text": [
      "2b718a58c083\n"
     ]
    }
   ],
   "source": [
    "from pyspark.streaming import StreamingContext\n",
    "import socket\n",
    "try: del ssc\n",
    "except: pass\n",
    "ip           = socket.gethostname()\n",
    "print(ip)\n",
    "port         = 12060\n",
    "nb_of_second = 5\n",
    "\n",
    "\n",
    "def update_achats(nouvelles_valeurs, valeur_actuelle ):\n",
    "    if valeur_actuelle is None:\n",
    "        valeur_actuelle = 0\n",
    "    return sum(nouvelles_valeurs, valeur_actuelle)\n",
    "\n",
    "\n",
    "\n",
    "ssc             = StreamingContext(sc, batchDuration=nb_of_second)\n",
    "lignes_de_texte = ssc.socketTextStream(ip,port )\n",
    "mots            = lignes_de_texte.map(lambda ligne:ligne.split(\",\"))\n",
    "paired_rdd      = mots.map(lambda x: (x[0], float(x[1])))\n",
    "sommer_les_achats = paired_rdd.reduceByKey(lambda somme, valeur: somme+valeur)\n",
    "sommer_les_achats.pprint()"
   ]
  },
  {
   "cell_type": "code",
   "execution_count": 3,
   "metadata": {},
   "outputs": [
    {
     "name": "stdout",
     "output_type": "stream",
     "text": [
      "-------------------------------------------\n",
      "Time: 2019-04-25 08:50:20\n",
      "-------------------------------------------\n",
      "(\"L'OREAL\", 421.0)\n",
      "('TOTAL', 487.0)\n",
      "('AIRBUS GROUP (EX-EADS)', 390.0)\n",
      "('LVMH', 324.0)\n",
      "('SANOFI', 555.0)\n",
      "('VALEO', 407.0)\n",
      "\n",
      "-------------------------------------------\n",
      "Time: 2019-04-25 08:50:25\n",
      "-------------------------------------------\n",
      "(\"L'OREAL\", 2084.0)\n",
      "('TOTAL', 2968.0)\n",
      "('AIRBUS GROUP (EX-EADS)', 2201.0)\n",
      "('LVMH', 1782.0)\n",
      "('SANOFI', 1725.0)\n",
      "('VALEO', 2440.0)\n",
      "\n",
      "-------------------------------------------\n",
      "Time: 2019-04-25 08:50:30\n",
      "-------------------------------------------\n",
      "(\"L'OREAL\", 2001.0)\n",
      "('TOTAL', 1990.0)\n",
      "('AIRBUS GROUP (EX-EADS)', 1896.0)\n",
      "('LVMH', 2452.0)\n",
      "('SANOFI', 1935.0)\n",
      "('VALEO', 2002.0)\n",
      "\n",
      "-------------------------------------------\n",
      "Time: 2019-04-25 08:50:35\n",
      "-------------------------------------------\n",
      "(\"L'OREAL\", 1424.0)\n",
      "('AIRBUS GROUP (EX-EADS)', 1217.0)\n",
      "('TOTAL', 1598.0)\n",
      "('LVMH', 1960.0)\n",
      "('SANOFI', 2116.0)\n",
      "('VALEO', 1272.0)\n",
      "\n",
      "-------------------------------------------\n",
      "Time: 2019-04-25 08:50:40\n",
      "-------------------------------------------\n",
      "(\"L'OREAL\", 2408.0)\n",
      "('LVMH', 1806.0)\n",
      "('AIRBUS GROUP (EX-EADS)', 2063.0)\n",
      "('TOTAL', 2035.0)\n",
      "('SANOFI', 2627.0)\n",
      "('VALEO', 1352.0)\n",
      "\n"
     ]
    }
   ],
   "source": [
    "ssc.start()"
   ]
  },
  {
   "cell_type": "code",
   "execution_count": 4,
   "metadata": {},
   "outputs": [],
   "source": [
    "ssc.stop() "
   ]
  },
  {
   "cell_type": "code",
   "execution_count": null,
   "metadata": {},
   "outputs": [],
   "source": []
  }
 ],
 "metadata": {
  "kernelspec": {
   "display_name": "Python 3",
   "language": "python",
   "name": "python3"
  },
  "language_info": {
   "codemirror_mode": {
    "name": "ipython",
    "version": 3
   },
   "file_extension": ".py",
   "mimetype": "text/x-python",
   "name": "python",
   "nbconvert_exporter": "python",
   "pygments_lexer": "ipython3",
   "version": "3.7.1"
  }
 },
 "nbformat": 4,
 "nbformat_minor": 2
}
