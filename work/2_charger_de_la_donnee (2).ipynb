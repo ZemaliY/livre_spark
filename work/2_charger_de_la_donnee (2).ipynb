{
 "cells": [
  {
   "cell_type": "markdown",
   "metadata": {},
   "source": [
    "# 0) chargement de spark"
   ]
  },
  {
   "cell_type": "code",
   "execution_count": 1,
   "metadata": {},
   "outputs": [],
   "source": [
    "from pyspark.sql import SparkSession\n",
    "spark = SparkSession.builder.getOrCreate()"
   ]
  },
  {
   "cell_type": "markdown",
   "metadata": {},
   "source": [
    "# 1) lire de la donnée"
   ]
  },
  {
   "cell_type": "markdown",
   "metadata": {},
   "source": [
    "## 1.1) lecture brute"
   ]
  },
  {
   "cell_type": "code",
   "execution_count": 2,
   "metadata": {},
   "outputs": [
    {
     "data": {
      "text/plain": [
       "[('_c0', 'string'),\n",
       " ('_c1', 'string'),\n",
       " ('_c2', 'string'),\n",
       " ('_c3', 'string'),\n",
       " ('_c4', 'string'),\n",
       " ('_c5', 'string'),\n",
       " ('_c6', 'string'),\n",
       " ('_c7', 'string'),\n",
       " ('_c8', 'string'),\n",
       " ('_c9', 'string'),\n",
       " ('_c10', 'string'),\n",
       " ('_c11', 'string'),\n",
       " ('_c12', 'string')]"
      ]
     },
     "execution_count": 2,
     "metadata": {},
     "output_type": "execute_result"
    }
   ],
   "source": [
    "path  = \"./../data/Villes/ville_1.csv\"\n",
    "# lecture d'un fichier de manière la plus brute\n",
    "df    = spark.read.load(path, format=\"csv\")\n",
    "df.dtypes"
   ]
  },
  {
   "cell_type": "markdown",
   "metadata": {},
   "source": [
    "## 1.2) lecture avec les entêtes"
   ]
  },
  {
   "cell_type": "code",
   "execution_count": 3,
   "metadata": {},
   "outputs": [
    {
     "data": {
      "text/plain": [
       "[('id', 'string'),\n",
       " ('vitesse_a_pied', 'string'),\n",
       " ('vitesse_a_velo', 'string'),\n",
       " ('home', 'string'),\n",
       " ('travail', 'string'),\n",
       " ('sportif', 'string'),\n",
       " ('casseur', 'string'),\n",
       " ('statut', 'string'),\n",
       " ('salaire', 'string'),\n",
       " ('sexe', 'string'),\n",
       " ('age', 'string'),\n",
       " ('sportivite', 'string'),\n",
       " ('velo_perf_minimale', 'string')]"
      ]
     },
     "execution_count": 3,
     "metadata": {},
     "output_type": "execute_result"
    }
   ],
   "source": [
    "# l'option 'header' permet de rajouter les noms des colonnes \n",
    "df = spark.read.format('csv').options(header=True).load(path)\n",
    "df.dtypes"
   ]
  },
  {
   "cell_type": "markdown",
   "metadata": {},
   "source": [
    "## 1.3) lecture avec les types détectés automatiquement"
   ]
  },
  {
   "cell_type": "code",
   "execution_count": 4,
   "metadata": {},
   "outputs": [
    {
     "data": {
      "text/plain": [
       "[('id', 'int'),\n",
       " ('vitesse_a_pied', 'double'),\n",
       " ('vitesse_a_velo', 'double'),\n",
       " ('home', 'string'),\n",
       " ('travail', 'string'),\n",
       " ('sportif', 'boolean'),\n",
       " ('casseur', 'boolean'),\n",
       " ('statut', 'string'),\n",
       " ('salaire', 'double'),\n",
       " ('sexe', 'string'),\n",
       " ('age', 'int'),\n",
       " ('sportivite', 'double'),\n",
       " ('velo_perf_minimale', 'double')]"
      ]
     },
     "execution_count": 4,
     "metadata": {},
     "output_type": "execute_result"
    }
   ],
   "source": [
    "# l'option 'inferSchema' permet de transformer les colonnes en \n",
    "# types plus précis : entier  / booléens / chaines de caractères...\n",
    "# bien sûr spark trouve les types uniquement si le fichier d'origine\n",
    "# permet de les trouver de manière simple\n",
    "df = spark.read.format('csv').options(header=True, inferSchema=True).load(path)\n",
    "df.dtypes"
   ]
  },
  {
   "cell_type": "markdown",
   "metadata": {},
   "source": [
    "## 1.4) lecture avec schéma"
   ]
  },
  {
   "cell_type": "code",
   "execution_count": 5,
   "metadata": {},
   "outputs": [
    {
     "data": {
      "text/plain": [
       "StructType(List(StructField(id,IntegerType,true),StructField(vitesse_a_pied,DoubleType,true),StructField(vitesse_a_velo,DoubleType,true),StructField(home,StringType,true),StructField(travail,StringType,true),StructField(sportif,BooleanType,true),StructField(casseur,BooleanType,true),StructField(statut,StringType,true),StructField(salaire,DoubleType,true),StructField(sexe,StringType,true),StructField(age,IntegerType,true),StructField(sportivite,DoubleType,true),StructField(velo_perf_minimale,DoubleType,true)))"
      ]
     },
     "execution_count": 5,
     "metadata": {},
     "output_type": "execute_result"
    }
   ],
   "source": [
    "df.schema"
   ]
  },
  {
   "cell_type": "markdown",
   "metadata": {},
   "source": [
    "# 2) écriture de la dataframe sur le disque"
   ]
  },
  {
   "cell_type": "markdown",
   "metadata": {},
   "source": [
    "## 2.1) choix du format : csv"
   ]
  },
  {
   "cell_type": "code",
   "execution_count": 6,
   "metadata": {},
   "outputs": [
    {
     "ename": "AnalysisException",
     "evalue": "'path file:/home/jovyan/data/Villes/csv already exists.;'",
     "output_type": "error",
     "traceback": [
      "\u001b[0;31m---------------------------------------------------------------------------\u001b[0m",
      "\u001b[0;31mPy4JJavaError\u001b[0m                             Traceback (most recent call last)",
      "\u001b[0;32m/usr/local/spark/python/pyspark/sql/utils.py\u001b[0m in \u001b[0;36mdeco\u001b[0;34m(*a, **kw)\u001b[0m\n\u001b[1;32m     62\u001b[0m         \u001b[0;32mtry\u001b[0m\u001b[0;34m:\u001b[0m\u001b[0;34m\u001b[0m\u001b[0;34m\u001b[0m\u001b[0m\n\u001b[0;32m---> 63\u001b[0;31m             \u001b[0;32mreturn\u001b[0m \u001b[0mf\u001b[0m\u001b[0;34m(\u001b[0m\u001b[0;34m*\u001b[0m\u001b[0ma\u001b[0m\u001b[0;34m,\u001b[0m \u001b[0;34m**\u001b[0m\u001b[0mkw\u001b[0m\u001b[0;34m)\u001b[0m\u001b[0;34m\u001b[0m\u001b[0;34m\u001b[0m\u001b[0m\n\u001b[0m\u001b[1;32m     64\u001b[0m         \u001b[0;32mexcept\u001b[0m \u001b[0mpy4j\u001b[0m\u001b[0;34m.\u001b[0m\u001b[0mprotocol\u001b[0m\u001b[0;34m.\u001b[0m\u001b[0mPy4JJavaError\u001b[0m \u001b[0;32mas\u001b[0m \u001b[0me\u001b[0m\u001b[0;34m:\u001b[0m\u001b[0;34m\u001b[0m\u001b[0;34m\u001b[0m\u001b[0m\n",
      "\u001b[0;32m/usr/local/spark/python/lib/py4j-0.10.7-src.zip/py4j/protocol.py\u001b[0m in \u001b[0;36mget_return_value\u001b[0;34m(answer, gateway_client, target_id, name)\u001b[0m\n\u001b[1;32m    327\u001b[0m                     \u001b[0;34m\"An error occurred while calling {0}{1}{2}.\\n\"\u001b[0m\u001b[0;34m.\u001b[0m\u001b[0;34m\u001b[0m\u001b[0;34m\u001b[0m\u001b[0m\n\u001b[0;32m--> 328\u001b[0;31m                     format(target_id, \".\", name), value)\n\u001b[0m\u001b[1;32m    329\u001b[0m             \u001b[0;32melse\u001b[0m\u001b[0;34m:\u001b[0m\u001b[0;34m\u001b[0m\u001b[0;34m\u001b[0m\u001b[0m\n",
      "\u001b[0;31mPy4JJavaError\u001b[0m: An error occurred while calling o38.save.\n: org.apache.spark.sql.AnalysisException: path file:/home/jovyan/data/Villes/csv already exists.;\n\tat org.apache.spark.sql.execution.datasources.InsertIntoHadoopFsRelationCommand.run(InsertIntoHadoopFsRelationCommand.scala:114)\n\tat org.apache.spark.sql.execution.command.DataWritingCommandExec.sideEffectResult$lzycompute(commands.scala:104)\n\tat org.apache.spark.sql.execution.command.DataWritingCommandExec.sideEffectResult(commands.scala:102)\n\tat org.apache.spark.sql.execution.command.DataWritingCommandExec.doExecute(commands.scala:122)\n\tat org.apache.spark.sql.execution.SparkPlan$$anonfun$execute$1.apply(SparkPlan.scala:131)\n\tat org.apache.spark.sql.execution.SparkPlan$$anonfun$execute$1.apply(SparkPlan.scala:127)\n\tat org.apache.spark.sql.execution.SparkPlan$$anonfun$executeQuery$1.apply(SparkPlan.scala:155)\n\tat org.apache.spark.rdd.RDDOperationScope$.withScope(RDDOperationScope.scala:151)\n\tat org.apache.spark.sql.execution.SparkPlan.executeQuery(SparkPlan.scala:152)\n\tat org.apache.spark.sql.execution.SparkPlan.execute(SparkPlan.scala:127)\n\tat org.apache.spark.sql.execution.QueryExecution.toRdd$lzycompute(QueryExecution.scala:80)\n\tat org.apache.spark.sql.execution.QueryExecution.toRdd(QueryExecution.scala:80)\n\tat org.apache.spark.sql.DataFrameWriter$$anonfun$runCommand$1.apply(DataFrameWriter.scala:668)\n\tat org.apache.spark.sql.DataFrameWriter$$anonfun$runCommand$1.apply(DataFrameWriter.scala:668)\n\tat org.apache.spark.sql.execution.SQLExecution$$anonfun$withNewExecutionId$1.apply(SQLExecution.scala:78)\n\tat org.apache.spark.sql.execution.SQLExecution$.withSQLConfPropagated(SQLExecution.scala:125)\n\tat org.apache.spark.sql.execution.SQLExecution$.withNewExecutionId(SQLExecution.scala:73)\n\tat org.apache.spark.sql.DataFrameWriter.runCommand(DataFrameWriter.scala:668)\n\tat org.apache.spark.sql.DataFrameWriter.saveToV1Source(DataFrameWriter.scala:276)\n\tat org.apache.spark.sql.DataFrameWriter.save(DataFrameWriter.scala:270)\n\tat org.apache.spark.sql.DataFrameWriter.save(DataFrameWriter.scala:228)\n\tat sun.reflect.NativeMethodAccessorImpl.invoke0(Native Method)\n\tat sun.reflect.NativeMethodAccessorImpl.invoke(NativeMethodAccessorImpl.java:62)\n\tat sun.reflect.DelegatingMethodAccessorImpl.invoke(DelegatingMethodAccessorImpl.java:43)\n\tat java.lang.reflect.Method.invoke(Method.java:498)\n\tat py4j.reflection.MethodInvoker.invoke(MethodInvoker.java:244)\n\tat py4j.reflection.ReflectionEngine.invoke(ReflectionEngine.java:357)\n\tat py4j.Gateway.invoke(Gateway.java:282)\n\tat py4j.commands.AbstractCommand.invokeMethod(AbstractCommand.java:132)\n\tat py4j.commands.CallCommand.execute(CallCommand.java:79)\n\tat py4j.GatewayConnection.run(GatewayConnection.java:238)\n\tat java.lang.Thread.run(Thread.java:748)\n",
      "\nDuring handling of the above exception, another exception occurred:\n",
      "\u001b[0;31mAnalysisException\u001b[0m                         Traceback (most recent call last)",
      "\u001b[0;32m<ipython-input-6-f7f0915b8060>\u001b[0m in \u001b[0;36m<module>\u001b[0;34m\u001b[0m\n\u001b[0;32m----> 1\u001b[0;31m \u001b[0mdf\u001b[0m\u001b[0;34m.\u001b[0m\u001b[0mwrite\u001b[0m\u001b[0;34m.\u001b[0m\u001b[0mformat\u001b[0m\u001b[0;34m(\u001b[0m\u001b[0;34m\"csv\"\u001b[0m\u001b[0;34m)\u001b[0m\u001b[0;34m.\u001b[0m\u001b[0msave\u001b[0m\u001b[0;34m(\u001b[0m\u001b[0;34m\"./../data/Villes/csv\"\u001b[0m\u001b[0;34m)\u001b[0m\u001b[0;34m\u001b[0m\u001b[0;34m\u001b[0m\u001b[0m\n\u001b[0m",
      "\u001b[0;32m/usr/local/spark/python/pyspark/sql/readwriter.py\u001b[0m in \u001b[0;36msave\u001b[0;34m(self, path, format, mode, partitionBy, **options)\u001b[0m\n\u001b[1;32m    734\u001b[0m             \u001b[0mself\u001b[0m\u001b[0;34m.\u001b[0m\u001b[0m_jwrite\u001b[0m\u001b[0;34m.\u001b[0m\u001b[0msave\u001b[0m\u001b[0;34m(\u001b[0m\u001b[0;34m)\u001b[0m\u001b[0;34m\u001b[0m\u001b[0;34m\u001b[0m\u001b[0m\n\u001b[1;32m    735\u001b[0m         \u001b[0;32melse\u001b[0m\u001b[0;34m:\u001b[0m\u001b[0;34m\u001b[0m\u001b[0;34m\u001b[0m\u001b[0m\n\u001b[0;32m--> 736\u001b[0;31m             \u001b[0mself\u001b[0m\u001b[0;34m.\u001b[0m\u001b[0m_jwrite\u001b[0m\u001b[0;34m.\u001b[0m\u001b[0msave\u001b[0m\u001b[0;34m(\u001b[0m\u001b[0mpath\u001b[0m\u001b[0;34m)\u001b[0m\u001b[0;34m\u001b[0m\u001b[0;34m\u001b[0m\u001b[0m\n\u001b[0m\u001b[1;32m    737\u001b[0m \u001b[0;34m\u001b[0m\u001b[0m\n\u001b[1;32m    738\u001b[0m     \u001b[0;34m@\u001b[0m\u001b[0msince\u001b[0m\u001b[0;34m(\u001b[0m\u001b[0;36m1.4\u001b[0m\u001b[0;34m)\u001b[0m\u001b[0;34m\u001b[0m\u001b[0;34m\u001b[0m\u001b[0m\n",
      "\u001b[0;32m/usr/local/spark/python/lib/py4j-0.10.7-src.zip/py4j/java_gateway.py\u001b[0m in \u001b[0;36m__call__\u001b[0;34m(self, *args)\u001b[0m\n\u001b[1;32m   1255\u001b[0m         \u001b[0manswer\u001b[0m \u001b[0;34m=\u001b[0m \u001b[0mself\u001b[0m\u001b[0;34m.\u001b[0m\u001b[0mgateway_client\u001b[0m\u001b[0;34m.\u001b[0m\u001b[0msend_command\u001b[0m\u001b[0;34m(\u001b[0m\u001b[0mcommand\u001b[0m\u001b[0;34m)\u001b[0m\u001b[0;34m\u001b[0m\u001b[0;34m\u001b[0m\u001b[0m\n\u001b[1;32m   1256\u001b[0m         return_value = get_return_value(\n\u001b[0;32m-> 1257\u001b[0;31m             answer, self.gateway_client, self.target_id, self.name)\n\u001b[0m\u001b[1;32m   1258\u001b[0m \u001b[0;34m\u001b[0m\u001b[0m\n\u001b[1;32m   1259\u001b[0m         \u001b[0;32mfor\u001b[0m \u001b[0mtemp_arg\u001b[0m \u001b[0;32min\u001b[0m \u001b[0mtemp_args\u001b[0m\u001b[0;34m:\u001b[0m\u001b[0;34m\u001b[0m\u001b[0;34m\u001b[0m\u001b[0m\n",
      "\u001b[0;32m/usr/local/spark/python/pyspark/sql/utils.py\u001b[0m in \u001b[0;36mdeco\u001b[0;34m(*a, **kw)\u001b[0m\n\u001b[1;32m     67\u001b[0m                                              e.java_exception.getStackTrace()))\n\u001b[1;32m     68\u001b[0m             \u001b[0;32mif\u001b[0m \u001b[0ms\u001b[0m\u001b[0;34m.\u001b[0m\u001b[0mstartswith\u001b[0m\u001b[0;34m(\u001b[0m\u001b[0;34m'org.apache.spark.sql.AnalysisException: '\u001b[0m\u001b[0;34m)\u001b[0m\u001b[0;34m:\u001b[0m\u001b[0;34m\u001b[0m\u001b[0;34m\u001b[0m\u001b[0m\n\u001b[0;32m---> 69\u001b[0;31m                 \u001b[0;32mraise\u001b[0m \u001b[0mAnalysisException\u001b[0m\u001b[0;34m(\u001b[0m\u001b[0ms\u001b[0m\u001b[0;34m.\u001b[0m\u001b[0msplit\u001b[0m\u001b[0;34m(\u001b[0m\u001b[0;34m': '\u001b[0m\u001b[0;34m,\u001b[0m \u001b[0;36m1\u001b[0m\u001b[0;34m)\u001b[0m\u001b[0;34m[\u001b[0m\u001b[0;36m1\u001b[0m\u001b[0;34m]\u001b[0m\u001b[0;34m,\u001b[0m \u001b[0mstackTrace\u001b[0m\u001b[0;34m)\u001b[0m\u001b[0;34m\u001b[0m\u001b[0;34m\u001b[0m\u001b[0m\n\u001b[0m\u001b[1;32m     70\u001b[0m             \u001b[0;32mif\u001b[0m \u001b[0ms\u001b[0m\u001b[0;34m.\u001b[0m\u001b[0mstartswith\u001b[0m\u001b[0;34m(\u001b[0m\u001b[0;34m'org.apache.spark.sql.catalyst.analysis'\u001b[0m\u001b[0;34m)\u001b[0m\u001b[0;34m:\u001b[0m\u001b[0;34m\u001b[0m\u001b[0;34m\u001b[0m\u001b[0m\n\u001b[1;32m     71\u001b[0m                 \u001b[0;32mraise\u001b[0m \u001b[0mAnalysisException\u001b[0m\u001b[0;34m(\u001b[0m\u001b[0ms\u001b[0m\u001b[0;34m.\u001b[0m\u001b[0msplit\u001b[0m\u001b[0;34m(\u001b[0m\u001b[0;34m': '\u001b[0m\u001b[0;34m,\u001b[0m \u001b[0;36m1\u001b[0m\u001b[0;34m)\u001b[0m\u001b[0;34m[\u001b[0m\u001b[0;36m1\u001b[0m\u001b[0;34m]\u001b[0m\u001b[0;34m,\u001b[0m \u001b[0mstackTrace\u001b[0m\u001b[0;34m)\u001b[0m\u001b[0;34m\u001b[0m\u001b[0;34m\u001b[0m\u001b[0m\n",
      "\u001b[0;31mAnalysisException\u001b[0m: 'path file:/home/jovyan/data/Villes/csv already exists.;'"
     ]
    }
   ],
   "source": [
    "df.write.format(\"csv\").save(\"./../data/Villes/csv\")"
   ]
  },
  {
   "cell_type": "markdown",
   "metadata": {},
   "source": [
    "## 2.2) choix du format : parquet"
   ]
  },
  {
   "cell_type": "code",
   "execution_count": 7,
   "metadata": {},
   "outputs": [
    {
     "ename": "AnalysisException",
     "evalue": "'path file:/home/jovyan/data/Villes/parquet already exists.;'",
     "output_type": "error",
     "traceback": [
      "\u001b[0;31m---------------------------------------------------------------------------\u001b[0m",
      "\u001b[0;31mPy4JJavaError\u001b[0m                             Traceback (most recent call last)",
      "\u001b[0;32m/usr/local/spark/python/pyspark/sql/utils.py\u001b[0m in \u001b[0;36mdeco\u001b[0;34m(*a, **kw)\u001b[0m\n\u001b[1;32m     62\u001b[0m         \u001b[0;32mtry\u001b[0m\u001b[0;34m:\u001b[0m\u001b[0;34m\u001b[0m\u001b[0;34m\u001b[0m\u001b[0m\n\u001b[0;32m---> 63\u001b[0;31m             \u001b[0;32mreturn\u001b[0m \u001b[0mf\u001b[0m\u001b[0;34m(\u001b[0m\u001b[0;34m*\u001b[0m\u001b[0ma\u001b[0m\u001b[0;34m,\u001b[0m \u001b[0;34m**\u001b[0m\u001b[0mkw\u001b[0m\u001b[0;34m)\u001b[0m\u001b[0;34m\u001b[0m\u001b[0;34m\u001b[0m\u001b[0m\n\u001b[0m\u001b[1;32m     64\u001b[0m         \u001b[0;32mexcept\u001b[0m \u001b[0mpy4j\u001b[0m\u001b[0;34m.\u001b[0m\u001b[0mprotocol\u001b[0m\u001b[0;34m.\u001b[0m\u001b[0mPy4JJavaError\u001b[0m \u001b[0;32mas\u001b[0m \u001b[0me\u001b[0m\u001b[0;34m:\u001b[0m\u001b[0;34m\u001b[0m\u001b[0;34m\u001b[0m\u001b[0m\n",
      "\u001b[0;32m/usr/local/spark/python/lib/py4j-0.10.7-src.zip/py4j/protocol.py\u001b[0m in \u001b[0;36mget_return_value\u001b[0;34m(answer, gateway_client, target_id, name)\u001b[0m\n\u001b[1;32m    327\u001b[0m                     \u001b[0;34m\"An error occurred while calling {0}{1}{2}.\\n\"\u001b[0m\u001b[0;34m.\u001b[0m\u001b[0;34m\u001b[0m\u001b[0;34m\u001b[0m\u001b[0m\n\u001b[0;32m--> 328\u001b[0;31m                     format(target_id, \".\", name), value)\n\u001b[0m\u001b[1;32m    329\u001b[0m             \u001b[0;32melse\u001b[0m\u001b[0;34m:\u001b[0m\u001b[0;34m\u001b[0m\u001b[0;34m\u001b[0m\u001b[0m\n",
      "\u001b[0;31mPy4JJavaError\u001b[0m: An error occurred while calling o74.save.\n: org.apache.spark.sql.AnalysisException: path file:/home/jovyan/data/Villes/parquet already exists.;\n\tat org.apache.spark.sql.execution.datasources.InsertIntoHadoopFsRelationCommand.run(InsertIntoHadoopFsRelationCommand.scala:114)\n\tat org.apache.spark.sql.execution.command.DataWritingCommandExec.sideEffectResult$lzycompute(commands.scala:104)\n\tat org.apache.spark.sql.execution.command.DataWritingCommandExec.sideEffectResult(commands.scala:102)\n\tat org.apache.spark.sql.execution.command.DataWritingCommandExec.doExecute(commands.scala:122)\n\tat org.apache.spark.sql.execution.SparkPlan$$anonfun$execute$1.apply(SparkPlan.scala:131)\n\tat org.apache.spark.sql.execution.SparkPlan$$anonfun$execute$1.apply(SparkPlan.scala:127)\n\tat org.apache.spark.sql.execution.SparkPlan$$anonfun$executeQuery$1.apply(SparkPlan.scala:155)\n\tat org.apache.spark.rdd.RDDOperationScope$.withScope(RDDOperationScope.scala:151)\n\tat org.apache.spark.sql.execution.SparkPlan.executeQuery(SparkPlan.scala:152)\n\tat org.apache.spark.sql.execution.SparkPlan.execute(SparkPlan.scala:127)\n\tat org.apache.spark.sql.execution.QueryExecution.toRdd$lzycompute(QueryExecution.scala:80)\n\tat org.apache.spark.sql.execution.QueryExecution.toRdd(QueryExecution.scala:80)\n\tat org.apache.spark.sql.DataFrameWriter$$anonfun$runCommand$1.apply(DataFrameWriter.scala:668)\n\tat org.apache.spark.sql.DataFrameWriter$$anonfun$runCommand$1.apply(DataFrameWriter.scala:668)\n\tat org.apache.spark.sql.execution.SQLExecution$$anonfun$withNewExecutionId$1.apply(SQLExecution.scala:78)\n\tat org.apache.spark.sql.execution.SQLExecution$.withSQLConfPropagated(SQLExecution.scala:125)\n\tat org.apache.spark.sql.execution.SQLExecution$.withNewExecutionId(SQLExecution.scala:73)\n\tat org.apache.spark.sql.DataFrameWriter.runCommand(DataFrameWriter.scala:668)\n\tat org.apache.spark.sql.DataFrameWriter.saveToV1Source(DataFrameWriter.scala:276)\n\tat org.apache.spark.sql.DataFrameWriter.save(DataFrameWriter.scala:270)\n\tat org.apache.spark.sql.DataFrameWriter.save(DataFrameWriter.scala:228)\n\tat sun.reflect.NativeMethodAccessorImpl.invoke0(Native Method)\n\tat sun.reflect.NativeMethodAccessorImpl.invoke(NativeMethodAccessorImpl.java:62)\n\tat sun.reflect.DelegatingMethodAccessorImpl.invoke(DelegatingMethodAccessorImpl.java:43)\n\tat java.lang.reflect.Method.invoke(Method.java:498)\n\tat py4j.reflection.MethodInvoker.invoke(MethodInvoker.java:244)\n\tat py4j.reflection.ReflectionEngine.invoke(ReflectionEngine.java:357)\n\tat py4j.Gateway.invoke(Gateway.java:282)\n\tat py4j.commands.AbstractCommand.invokeMethod(AbstractCommand.java:132)\n\tat py4j.commands.CallCommand.execute(CallCommand.java:79)\n\tat py4j.GatewayConnection.run(GatewayConnection.java:238)\n\tat java.lang.Thread.run(Thread.java:748)\n",
      "\nDuring handling of the above exception, another exception occurred:\n",
      "\u001b[0;31mAnalysisException\u001b[0m                         Traceback (most recent call last)",
      "\u001b[0;32m<ipython-input-7-97d5e4ba740b>\u001b[0m in \u001b[0;36m<module>\u001b[0;34m\u001b[0m\n\u001b[0;32m----> 1\u001b[0;31m \u001b[0mdf\u001b[0m\u001b[0;34m.\u001b[0m\u001b[0mwrite\u001b[0m\u001b[0;34m.\u001b[0m\u001b[0mformat\u001b[0m\u001b[0;34m(\u001b[0m\u001b[0;34m\"parquet\"\u001b[0m\u001b[0;34m)\u001b[0m\u001b[0;34m.\u001b[0m\u001b[0msave\u001b[0m\u001b[0;34m(\u001b[0m\u001b[0;34m\"./../data/Villes/parquet\"\u001b[0m\u001b[0;34m)\u001b[0m\u001b[0;34m\u001b[0m\u001b[0;34m\u001b[0m\u001b[0m\n\u001b[0m",
      "\u001b[0;32m/usr/local/spark/python/pyspark/sql/readwriter.py\u001b[0m in \u001b[0;36msave\u001b[0;34m(self, path, format, mode, partitionBy, **options)\u001b[0m\n\u001b[1;32m    734\u001b[0m             \u001b[0mself\u001b[0m\u001b[0;34m.\u001b[0m\u001b[0m_jwrite\u001b[0m\u001b[0;34m.\u001b[0m\u001b[0msave\u001b[0m\u001b[0;34m(\u001b[0m\u001b[0;34m)\u001b[0m\u001b[0;34m\u001b[0m\u001b[0;34m\u001b[0m\u001b[0m\n\u001b[1;32m    735\u001b[0m         \u001b[0;32melse\u001b[0m\u001b[0;34m:\u001b[0m\u001b[0;34m\u001b[0m\u001b[0;34m\u001b[0m\u001b[0m\n\u001b[0;32m--> 736\u001b[0;31m             \u001b[0mself\u001b[0m\u001b[0;34m.\u001b[0m\u001b[0m_jwrite\u001b[0m\u001b[0;34m.\u001b[0m\u001b[0msave\u001b[0m\u001b[0;34m(\u001b[0m\u001b[0mpath\u001b[0m\u001b[0;34m)\u001b[0m\u001b[0;34m\u001b[0m\u001b[0;34m\u001b[0m\u001b[0m\n\u001b[0m\u001b[1;32m    737\u001b[0m \u001b[0;34m\u001b[0m\u001b[0m\n\u001b[1;32m    738\u001b[0m     \u001b[0;34m@\u001b[0m\u001b[0msince\u001b[0m\u001b[0;34m(\u001b[0m\u001b[0;36m1.4\u001b[0m\u001b[0;34m)\u001b[0m\u001b[0;34m\u001b[0m\u001b[0;34m\u001b[0m\u001b[0m\n",
      "\u001b[0;32m/usr/local/spark/python/lib/py4j-0.10.7-src.zip/py4j/java_gateway.py\u001b[0m in \u001b[0;36m__call__\u001b[0;34m(self, *args)\u001b[0m\n\u001b[1;32m   1255\u001b[0m         \u001b[0manswer\u001b[0m \u001b[0;34m=\u001b[0m \u001b[0mself\u001b[0m\u001b[0;34m.\u001b[0m\u001b[0mgateway_client\u001b[0m\u001b[0;34m.\u001b[0m\u001b[0msend_command\u001b[0m\u001b[0;34m(\u001b[0m\u001b[0mcommand\u001b[0m\u001b[0;34m)\u001b[0m\u001b[0;34m\u001b[0m\u001b[0;34m\u001b[0m\u001b[0m\n\u001b[1;32m   1256\u001b[0m         return_value = get_return_value(\n\u001b[0;32m-> 1257\u001b[0;31m             answer, self.gateway_client, self.target_id, self.name)\n\u001b[0m\u001b[1;32m   1258\u001b[0m \u001b[0;34m\u001b[0m\u001b[0m\n\u001b[1;32m   1259\u001b[0m         \u001b[0;32mfor\u001b[0m \u001b[0mtemp_arg\u001b[0m \u001b[0;32min\u001b[0m \u001b[0mtemp_args\u001b[0m\u001b[0;34m:\u001b[0m\u001b[0;34m\u001b[0m\u001b[0;34m\u001b[0m\u001b[0m\n",
      "\u001b[0;32m/usr/local/spark/python/pyspark/sql/utils.py\u001b[0m in \u001b[0;36mdeco\u001b[0;34m(*a, **kw)\u001b[0m\n\u001b[1;32m     67\u001b[0m                                              e.java_exception.getStackTrace()))\n\u001b[1;32m     68\u001b[0m             \u001b[0;32mif\u001b[0m \u001b[0ms\u001b[0m\u001b[0;34m.\u001b[0m\u001b[0mstartswith\u001b[0m\u001b[0;34m(\u001b[0m\u001b[0;34m'org.apache.spark.sql.AnalysisException: '\u001b[0m\u001b[0;34m)\u001b[0m\u001b[0;34m:\u001b[0m\u001b[0;34m\u001b[0m\u001b[0;34m\u001b[0m\u001b[0m\n\u001b[0;32m---> 69\u001b[0;31m                 \u001b[0;32mraise\u001b[0m \u001b[0mAnalysisException\u001b[0m\u001b[0;34m(\u001b[0m\u001b[0ms\u001b[0m\u001b[0;34m.\u001b[0m\u001b[0msplit\u001b[0m\u001b[0;34m(\u001b[0m\u001b[0;34m': '\u001b[0m\u001b[0;34m,\u001b[0m \u001b[0;36m1\u001b[0m\u001b[0;34m)\u001b[0m\u001b[0;34m[\u001b[0m\u001b[0;36m1\u001b[0m\u001b[0;34m]\u001b[0m\u001b[0;34m,\u001b[0m \u001b[0mstackTrace\u001b[0m\u001b[0;34m)\u001b[0m\u001b[0;34m\u001b[0m\u001b[0;34m\u001b[0m\u001b[0m\n\u001b[0m\u001b[1;32m     70\u001b[0m             \u001b[0;32mif\u001b[0m \u001b[0ms\u001b[0m\u001b[0;34m.\u001b[0m\u001b[0mstartswith\u001b[0m\u001b[0;34m(\u001b[0m\u001b[0;34m'org.apache.spark.sql.catalyst.analysis'\u001b[0m\u001b[0;34m)\u001b[0m\u001b[0;34m:\u001b[0m\u001b[0;34m\u001b[0m\u001b[0;34m\u001b[0m\u001b[0m\n\u001b[1;32m     71\u001b[0m                 \u001b[0;32mraise\u001b[0m \u001b[0mAnalysisException\u001b[0m\u001b[0;34m(\u001b[0m\u001b[0ms\u001b[0m\u001b[0;34m.\u001b[0m\u001b[0msplit\u001b[0m\u001b[0;34m(\u001b[0m\u001b[0;34m': '\u001b[0m\u001b[0;34m,\u001b[0m \u001b[0;36m1\u001b[0m\u001b[0;34m)\u001b[0m\u001b[0;34m[\u001b[0m\u001b[0;36m1\u001b[0m\u001b[0;34m]\u001b[0m\u001b[0;34m,\u001b[0m \u001b[0mstackTrace\u001b[0m\u001b[0;34m)\u001b[0m\u001b[0;34m\u001b[0m\u001b[0;34m\u001b[0m\u001b[0m\n",
      "\u001b[0;31mAnalysisException\u001b[0m: 'path file:/home/jovyan/data/Villes/parquet already exists.;'"
     ]
    }
   ],
   "source": [
    "df.write.format(\"parquet\").save(\"./../data/Villes/parquet\")"
   ]
  },
  {
   "cell_type": "code",
   "execution_count": 8,
   "metadata": {},
   "outputs": [],
   "source": [
    "df_parquet = spark.read.load(\"./../data/Villes/parquet\", format=\"parquet\")"
   ]
  },
  {
   "cell_type": "markdown",
   "metadata": {},
   "source": [
    "## 2.3) choix du format : json"
   ]
  },
  {
   "cell_type": "code",
   "execution_count": 9,
   "metadata": {},
   "outputs": [
    {
     "ename": "AnalysisException",
     "evalue": "'path file:/home/jovyan/data/Villes/ville already exists.;'",
     "output_type": "error",
     "traceback": [
      "\u001b[0;31m---------------------------------------------------------------------------\u001b[0m",
      "\u001b[0;31mPy4JJavaError\u001b[0m                             Traceback (most recent call last)",
      "\u001b[0;32m/usr/local/spark/python/pyspark/sql/utils.py\u001b[0m in \u001b[0;36mdeco\u001b[0;34m(*a, **kw)\u001b[0m\n\u001b[1;32m     62\u001b[0m         \u001b[0;32mtry\u001b[0m\u001b[0;34m:\u001b[0m\u001b[0;34m\u001b[0m\u001b[0;34m\u001b[0m\u001b[0m\n\u001b[0;32m---> 63\u001b[0;31m             \u001b[0;32mreturn\u001b[0m \u001b[0mf\u001b[0m\u001b[0;34m(\u001b[0m\u001b[0;34m*\u001b[0m\u001b[0ma\u001b[0m\u001b[0;34m,\u001b[0m \u001b[0;34m**\u001b[0m\u001b[0mkw\u001b[0m\u001b[0;34m)\u001b[0m\u001b[0;34m\u001b[0m\u001b[0;34m\u001b[0m\u001b[0m\n\u001b[0m\u001b[1;32m     64\u001b[0m         \u001b[0;32mexcept\u001b[0m \u001b[0mpy4j\u001b[0m\u001b[0;34m.\u001b[0m\u001b[0mprotocol\u001b[0m\u001b[0;34m.\u001b[0m\u001b[0mPy4JJavaError\u001b[0m \u001b[0;32mas\u001b[0m \u001b[0me\u001b[0m\u001b[0;34m:\u001b[0m\u001b[0;34m\u001b[0m\u001b[0;34m\u001b[0m\u001b[0m\n",
      "\u001b[0;32m/usr/local/spark/python/lib/py4j-0.10.7-src.zip/py4j/protocol.py\u001b[0m in \u001b[0;36mget_return_value\u001b[0;34m(answer, gateway_client, target_id, name)\u001b[0m\n\u001b[1;32m    327\u001b[0m                     \u001b[0;34m\"An error occurred while calling {0}{1}{2}.\\n\"\u001b[0m\u001b[0;34m.\u001b[0m\u001b[0;34m\u001b[0m\u001b[0;34m\u001b[0m\u001b[0m\n\u001b[0;32m--> 328\u001b[0;31m                     format(target_id, \".\", name), value)\n\u001b[0m\u001b[1;32m    329\u001b[0m             \u001b[0;32melse\u001b[0m\u001b[0;34m:\u001b[0m\u001b[0;34m\u001b[0m\u001b[0;34m\u001b[0m\u001b[0m\n",
      "\u001b[0;31mPy4JJavaError\u001b[0m: An error occurred while calling o113.save.\n: org.apache.spark.sql.AnalysisException: path file:/home/jovyan/data/Villes/ville already exists.;\n\tat org.apache.spark.sql.execution.datasources.InsertIntoHadoopFsRelationCommand.run(InsertIntoHadoopFsRelationCommand.scala:114)\n\tat org.apache.spark.sql.execution.command.DataWritingCommandExec.sideEffectResult$lzycompute(commands.scala:104)\n\tat org.apache.spark.sql.execution.command.DataWritingCommandExec.sideEffectResult(commands.scala:102)\n\tat org.apache.spark.sql.execution.command.DataWritingCommandExec.doExecute(commands.scala:122)\n\tat org.apache.spark.sql.execution.SparkPlan$$anonfun$execute$1.apply(SparkPlan.scala:131)\n\tat org.apache.spark.sql.execution.SparkPlan$$anonfun$execute$1.apply(SparkPlan.scala:127)\n\tat org.apache.spark.sql.execution.SparkPlan$$anonfun$executeQuery$1.apply(SparkPlan.scala:155)\n\tat org.apache.spark.rdd.RDDOperationScope$.withScope(RDDOperationScope.scala:151)\n\tat org.apache.spark.sql.execution.SparkPlan.executeQuery(SparkPlan.scala:152)\n\tat org.apache.spark.sql.execution.SparkPlan.execute(SparkPlan.scala:127)\n\tat org.apache.spark.sql.execution.QueryExecution.toRdd$lzycompute(QueryExecution.scala:80)\n\tat org.apache.spark.sql.execution.QueryExecution.toRdd(QueryExecution.scala:80)\n\tat org.apache.spark.sql.DataFrameWriter$$anonfun$runCommand$1.apply(DataFrameWriter.scala:668)\n\tat org.apache.spark.sql.DataFrameWriter$$anonfun$runCommand$1.apply(DataFrameWriter.scala:668)\n\tat org.apache.spark.sql.execution.SQLExecution$$anonfun$withNewExecutionId$1.apply(SQLExecution.scala:78)\n\tat org.apache.spark.sql.execution.SQLExecution$.withSQLConfPropagated(SQLExecution.scala:125)\n\tat org.apache.spark.sql.execution.SQLExecution$.withNewExecutionId(SQLExecution.scala:73)\n\tat org.apache.spark.sql.DataFrameWriter.runCommand(DataFrameWriter.scala:668)\n\tat org.apache.spark.sql.DataFrameWriter.saveToV1Source(DataFrameWriter.scala:276)\n\tat org.apache.spark.sql.DataFrameWriter.save(DataFrameWriter.scala:270)\n\tat org.apache.spark.sql.DataFrameWriter.save(DataFrameWriter.scala:228)\n\tat sun.reflect.NativeMethodAccessorImpl.invoke0(Native Method)\n\tat sun.reflect.NativeMethodAccessorImpl.invoke(NativeMethodAccessorImpl.java:62)\n\tat sun.reflect.DelegatingMethodAccessorImpl.invoke(DelegatingMethodAccessorImpl.java:43)\n\tat java.lang.reflect.Method.invoke(Method.java:498)\n\tat py4j.reflection.MethodInvoker.invoke(MethodInvoker.java:244)\n\tat py4j.reflection.ReflectionEngine.invoke(ReflectionEngine.java:357)\n\tat py4j.Gateway.invoke(Gateway.java:282)\n\tat py4j.commands.AbstractCommand.invokeMethod(AbstractCommand.java:132)\n\tat py4j.commands.CallCommand.execute(CallCommand.java:79)\n\tat py4j.GatewayConnection.run(GatewayConnection.java:238)\n\tat java.lang.Thread.run(Thread.java:748)\n",
      "\nDuring handling of the above exception, another exception occurred:\n",
      "\u001b[0;31mAnalysisException\u001b[0m                         Traceback (most recent call last)",
      "\u001b[0;32m<ipython-input-9-d9464a4fbfc4>\u001b[0m in \u001b[0;36m<module>\u001b[0;34m\u001b[0m\n\u001b[0;32m----> 1\u001b[0;31m \u001b[0mdf\u001b[0m\u001b[0;34m.\u001b[0m\u001b[0mwrite\u001b[0m\u001b[0;34m.\u001b[0m\u001b[0msave\u001b[0m\u001b[0;34m(\u001b[0m\u001b[0;34m\"./../data/Villes/ville\"\u001b[0m\u001b[0;34m,\u001b[0m \u001b[0mformat\u001b[0m\u001b[0;34m=\u001b[0m\u001b[0;34m\"json\"\u001b[0m\u001b[0;34m)\u001b[0m\u001b[0;34m\u001b[0m\u001b[0;34m\u001b[0m\u001b[0m\n\u001b[0m",
      "\u001b[0;32m/usr/local/spark/python/pyspark/sql/readwriter.py\u001b[0m in \u001b[0;36msave\u001b[0;34m(self, path, format, mode, partitionBy, **options)\u001b[0m\n\u001b[1;32m    734\u001b[0m             \u001b[0mself\u001b[0m\u001b[0;34m.\u001b[0m\u001b[0m_jwrite\u001b[0m\u001b[0;34m.\u001b[0m\u001b[0msave\u001b[0m\u001b[0;34m(\u001b[0m\u001b[0;34m)\u001b[0m\u001b[0;34m\u001b[0m\u001b[0;34m\u001b[0m\u001b[0m\n\u001b[1;32m    735\u001b[0m         \u001b[0;32melse\u001b[0m\u001b[0;34m:\u001b[0m\u001b[0;34m\u001b[0m\u001b[0;34m\u001b[0m\u001b[0m\n\u001b[0;32m--> 736\u001b[0;31m             \u001b[0mself\u001b[0m\u001b[0;34m.\u001b[0m\u001b[0m_jwrite\u001b[0m\u001b[0;34m.\u001b[0m\u001b[0msave\u001b[0m\u001b[0;34m(\u001b[0m\u001b[0mpath\u001b[0m\u001b[0;34m)\u001b[0m\u001b[0;34m\u001b[0m\u001b[0;34m\u001b[0m\u001b[0m\n\u001b[0m\u001b[1;32m    737\u001b[0m \u001b[0;34m\u001b[0m\u001b[0m\n\u001b[1;32m    738\u001b[0m     \u001b[0;34m@\u001b[0m\u001b[0msince\u001b[0m\u001b[0;34m(\u001b[0m\u001b[0;36m1.4\u001b[0m\u001b[0;34m)\u001b[0m\u001b[0;34m\u001b[0m\u001b[0;34m\u001b[0m\u001b[0m\n",
      "\u001b[0;32m/usr/local/spark/python/lib/py4j-0.10.7-src.zip/py4j/java_gateway.py\u001b[0m in \u001b[0;36m__call__\u001b[0;34m(self, *args)\u001b[0m\n\u001b[1;32m   1255\u001b[0m         \u001b[0manswer\u001b[0m \u001b[0;34m=\u001b[0m \u001b[0mself\u001b[0m\u001b[0;34m.\u001b[0m\u001b[0mgateway_client\u001b[0m\u001b[0;34m.\u001b[0m\u001b[0msend_command\u001b[0m\u001b[0;34m(\u001b[0m\u001b[0mcommand\u001b[0m\u001b[0;34m)\u001b[0m\u001b[0;34m\u001b[0m\u001b[0;34m\u001b[0m\u001b[0m\n\u001b[1;32m   1256\u001b[0m         return_value = get_return_value(\n\u001b[0;32m-> 1257\u001b[0;31m             answer, self.gateway_client, self.target_id, self.name)\n\u001b[0m\u001b[1;32m   1258\u001b[0m \u001b[0;34m\u001b[0m\u001b[0m\n\u001b[1;32m   1259\u001b[0m         \u001b[0;32mfor\u001b[0m \u001b[0mtemp_arg\u001b[0m \u001b[0;32min\u001b[0m \u001b[0mtemp_args\u001b[0m\u001b[0;34m:\u001b[0m\u001b[0;34m\u001b[0m\u001b[0;34m\u001b[0m\u001b[0m\n",
      "\u001b[0;32m/usr/local/spark/python/pyspark/sql/utils.py\u001b[0m in \u001b[0;36mdeco\u001b[0;34m(*a, **kw)\u001b[0m\n\u001b[1;32m     67\u001b[0m                                              e.java_exception.getStackTrace()))\n\u001b[1;32m     68\u001b[0m             \u001b[0;32mif\u001b[0m \u001b[0ms\u001b[0m\u001b[0;34m.\u001b[0m\u001b[0mstartswith\u001b[0m\u001b[0;34m(\u001b[0m\u001b[0;34m'org.apache.spark.sql.AnalysisException: '\u001b[0m\u001b[0;34m)\u001b[0m\u001b[0;34m:\u001b[0m\u001b[0;34m\u001b[0m\u001b[0;34m\u001b[0m\u001b[0m\n\u001b[0;32m---> 69\u001b[0;31m                 \u001b[0;32mraise\u001b[0m \u001b[0mAnalysisException\u001b[0m\u001b[0;34m(\u001b[0m\u001b[0ms\u001b[0m\u001b[0;34m.\u001b[0m\u001b[0msplit\u001b[0m\u001b[0;34m(\u001b[0m\u001b[0;34m': '\u001b[0m\u001b[0;34m,\u001b[0m \u001b[0;36m1\u001b[0m\u001b[0;34m)\u001b[0m\u001b[0;34m[\u001b[0m\u001b[0;36m1\u001b[0m\u001b[0;34m]\u001b[0m\u001b[0;34m,\u001b[0m \u001b[0mstackTrace\u001b[0m\u001b[0;34m)\u001b[0m\u001b[0;34m\u001b[0m\u001b[0;34m\u001b[0m\u001b[0m\n\u001b[0m\u001b[1;32m     70\u001b[0m             \u001b[0;32mif\u001b[0m \u001b[0ms\u001b[0m\u001b[0;34m.\u001b[0m\u001b[0mstartswith\u001b[0m\u001b[0;34m(\u001b[0m\u001b[0;34m'org.apache.spark.sql.catalyst.analysis'\u001b[0m\u001b[0;34m)\u001b[0m\u001b[0;34m:\u001b[0m\u001b[0;34m\u001b[0m\u001b[0;34m\u001b[0m\u001b[0m\n\u001b[1;32m     71\u001b[0m                 \u001b[0;32mraise\u001b[0m \u001b[0mAnalysisException\u001b[0m\u001b[0;34m(\u001b[0m\u001b[0ms\u001b[0m\u001b[0;34m.\u001b[0m\u001b[0msplit\u001b[0m\u001b[0;34m(\u001b[0m\u001b[0;34m': '\u001b[0m\u001b[0;34m,\u001b[0m \u001b[0;36m1\u001b[0m\u001b[0;34m)\u001b[0m\u001b[0;34m[\u001b[0m\u001b[0;36m1\u001b[0m\u001b[0;34m]\u001b[0m\u001b[0;34m,\u001b[0m \u001b[0mstackTrace\u001b[0m\u001b[0;34m)\u001b[0m\u001b[0;34m\u001b[0m\u001b[0;34m\u001b[0m\u001b[0m\n",
      "\u001b[0;31mAnalysisException\u001b[0m: 'path file:/home/jovyan/data/Villes/ville already exists.;'"
     ]
    }
   ],
   "source": [
    "df.write.save(\"./../data/Villes/ville\", format=\"json\")"
   ]
  },
  {
   "cell_type": "code",
   "execution_count": 10,
   "metadata": {},
   "outputs": [
    {
     "name": "stdout",
     "output_type": "stream",
     "text": [
      "part-00000-53f5c887-ffc7-4cf1-8910-3af67f1a4f39-c000.json  _SUCCESS\r\n"
     ]
    }
   ],
   "source": [
    "!ls ./../data/Villes/ville/"
   ]
  },
  {
   "cell_type": "markdown",
   "metadata": {},
   "source": [
    "## 2.4) lecture de différents formats"
   ]
  },
  {
   "cell_type": "code",
   "execution_count": 11,
   "metadata": {},
   "outputs": [
    {
     "data": {
      "text/plain": [
       "DataFrame[age: string, casseur: string, home: string, id: string, salaire: string, sexe: string, sportif: string, sportivite: string, statut: string, travail: string, velo_perf_minimale: string, vitesse_a_pied: string, vitesse_a_velo: string]"
      ]
     },
     "execution_count": 11,
     "metadata": {},
     "output_type": "execute_result"
    }
   ],
   "source": [
    "spark.read.load(\"./../data/Villes/ville/\", format=\"json\")"
   ]
  },
  {
   "cell_type": "code",
   "execution_count": 12,
   "metadata": {},
   "outputs": [
    {
     "data": {
      "text/plain": [
       "42105"
      ]
     },
     "execution_count": 12,
     "metadata": {},
     "output_type": "execute_result"
    }
   ],
   "source": [
    "spark.read.load(\"./../data/Cyclistes/\", format=\"csv\").count()"
   ]
  },
  {
   "cell_type": "markdown",
   "metadata": {},
   "source": [
    "# 3) Calculer des résultats : les actions "
   ]
  },
  {
   "cell_type": "markdown",
   "metadata": {},
   "source": [
    "## 3.1) nombre de lignes : count"
   ]
  },
  {
   "cell_type": "code",
   "execution_count": 13,
   "metadata": {},
   "outputs": [
    {
     "data": {
      "text/plain": [
       "42000"
      ]
     },
     "execution_count": 13,
     "metadata": {},
     "output_type": "execute_result"
    }
   ],
   "source": [
    "df = spark.read.load(\"./../data/Cyclistes/\", format=\"csv\", header=True, inferSchema=\"True\")\n",
    "df.count()"
   ]
  },
  {
   "cell_type": "code",
   "execution_count": 14,
   "metadata": {},
   "outputs": [
    {
     "name": "stdout",
     "output_type": "stream",
     "text": [
      "root\n",
      " |-- id: integer (nullable = true)\n",
      " |-- timestamp: integer (nullable = true)\n",
      " |-- sur_velo: boolean (nullable = true)\n",
      " |-- velo: string (nullable = true)\n",
      " |-- vitesse: double (nullable = true)\n",
      " |-- position: string (nullable = true)\n",
      " |-- destination_finale: string (nullable = true)\n",
      "\n"
     ]
    }
   ],
   "source": [
    "df.printSchema()"
   ]
  },
  {
   "cell_type": "markdown",
   "metadata": {},
   "source": [
    "## 3.2) moyenne : agg + colonne + mean"
   ]
  },
  {
   "cell_type": "code",
   "execution_count": 15,
   "metadata": {},
   "outputs": [
    {
     "data": {
      "text/plain": [
       "DataFrame[avg(vitesse): double]"
      ]
     },
     "execution_count": 15,
     "metadata": {},
     "output_type": "execute_result"
    }
   ],
   "source": [
    "df.agg({\"vitesse\" : \"mean\"})"
   ]
  },
  {
   "cell_type": "markdown",
   "metadata": {},
   "source": [
    "## 3.3) quantile approximatifs pour gagner du temps de calcul"
   ]
  },
  {
   "cell_type": "code",
   "execution_count": 16,
   "metadata": {},
   "outputs": [],
   "source": [
    "import time"
   ]
  },
  {
   "cell_type": "code",
   "execution_count": 17,
   "metadata": {},
   "outputs": [],
   "source": [
    "def calcul_quantile(df, erreur_acceptee):\n",
    "    debut            = time.time()\n",
    "    colonne          = \"vitesse\"\n",
    "    quantiles_voulus = [0.25, 0.50, 0.75]\n",
    "    resultat         =  df.approxQuantile(colonne, quantiles_voulus , erreur_acceptee )\n",
    "    fin              = time.time()\n",
    "    delais           = fin -debut\n",
    "    print (\"delais =%.2f sec, quantiles = %s\"%(delais, resultat))"
   ]
  },
  {
   "cell_type": "code",
   "execution_count": 18,
   "metadata": {},
   "outputs": [
    {
     "name": "stdout",
     "output_type": "stream",
     "text": [
      "delais =0.83 sec, quantiles = [0.3539158095373562, 0.7240554987509484, 1.1104489319259998]\n"
     ]
    }
   ],
   "source": [
    "calcul_quantile(df, 0.05)"
   ]
  },
  {
   "cell_type": "code",
   "execution_count": 19,
   "metadata": {},
   "outputs": [
    {
     "name": "stdout",
     "output_type": "stream",
     "text": [
      "delais =0.61 sec, quantiles = [0.2140675816428125, 0.6982868836514823, 1.1258871627308575]\n"
     ]
    }
   ],
   "source": [
    "calcul_quantile(df, 0.01)"
   ]
  },
  {
   "cell_type": "code",
   "execution_count": 20,
   "metadata": {},
   "outputs": [
    {
     "name": "stdout",
     "output_type": "stream",
     "text": [
      "delais =0.58 sec, quantiles = [0.23492321205533298, 0.6773387766132546, 1.1198635468743852]\n"
     ]
    }
   ],
   "source": [
    "calcul_quantile(df, 0)"
   ]
  },
  {
   "cell_type": "markdown",
   "metadata": {},
   "source": [
    "## Reload de la dataframe"
   ]
  },
  {
   "cell_type": "code",
   "execution_count": 21,
   "metadata": {},
   "outputs": [
    {
     "name": "stdout",
     "output_type": "stream",
     "text": [
      "root\n",
      " |-- id: integer (nullable = true)\n",
      " |-- vitesse_a_pied: double (nullable = true)\n",
      " |-- vitesse_a_velo: double (nullable = true)\n",
      " |-- home: string (nullable = true)\n",
      " |-- travail: string (nullable = true)\n",
      " |-- sportif: boolean (nullable = true)\n",
      " |-- casseur: boolean (nullable = true)\n",
      " |-- statut: string (nullable = true)\n",
      " |-- salaire: double (nullable = true)\n",
      " |-- sexe: string (nullable = true)\n",
      " |-- age: integer (nullable = true)\n",
      " |-- sportivite: double (nullable = true)\n",
      " |-- velo_perf_minimale: double (nullable = true)\n",
      "\n"
     ]
    }
   ],
   "source": [
    "villes =spark.read.load(\"./../data/Villes/\", format=\"csv\", header=True, inferSchema=\"True\")\n",
    "villes.printSchema()"
   ]
  },
  {
   "cell_type": "markdown",
   "metadata": {},
   "source": [
    "## 3.4) corrélation"
   ]
  },
  {
   "cell_type": "code",
   "execution_count": 22,
   "metadata": {},
   "outputs": [
    {
     "data": {
      "text/plain": [
       "-0.11282023097307793"
      ]
     },
     "execution_count": 22,
     "metadata": {},
     "output_type": "execute_result"
    }
   ],
   "source": [
    "villes.corr(\"age\", \"vitesse_a_velo\")"
   ]
  },
  {
   "cell_type": "markdown",
   "metadata": {},
   "source": [
    "## 3.5) covariance"
   ]
  },
  {
   "cell_type": "code",
   "execution_count": 23,
   "metadata": {},
   "outputs": [
    {
     "data": {
      "text/plain": [
       "-3.31681635906206"
      ]
     },
     "execution_count": 23,
     "metadata": {},
     "output_type": "execute_result"
    }
   ],
   "source": [
    "villes.cov(\"age\", \"vitesse_a_velo\")"
   ]
  },
  {
   "cell_type": "markdown",
   "metadata": {},
   "source": [
    "## 3.6) sample"
   ]
  },
  {
   "cell_type": "code",
   "execution_count": 24,
   "metadata": {},
   "outputs": [
    {
     "data": {
      "text/plain": [
       "2"
      ]
     },
     "execution_count": 24,
     "metadata": {},
     "output_type": "execute_result"
    }
   ],
   "source": [
    "villes_1_pct = villes.sample(False, 0.01)\n",
    "villes_1_pct.count()"
   ]
  },
  {
   "cell_type": "code",
   "execution_count": 25,
   "metadata": {},
   "outputs": [
    {
     "data": {
      "text/plain": [
       "103"
      ]
     },
     "execution_count": 25,
     "metadata": {},
     "output_type": "execute_result"
    }
   ],
   "source": [
    "villes.exceptAll(villes_1_pct).count()"
   ]
  },
  {
   "cell_type": "markdown",
   "metadata": {},
   "source": [
    "## 3.7) filter "
   ]
  },
  {
   "cell_type": "code",
   "execution_count": 26,
   "metadata": {},
   "outputs": [
    {
     "data": {
      "text/plain": [
       "63"
      ]
     },
     "execution_count": 26,
     "metadata": {},
     "output_type": "execute_result"
    }
   ],
   "source": [
    "villes.filter(villes.sexe==\"F\").count()"
   ]
  },
  {
   "cell_type": "markdown",
   "metadata": {},
   "source": [
    "# 4) Transformer la données : les transformations!"
   ]
  },
  {
   "cell_type": "markdown",
   "metadata": {},
   "source": [
    "## Transformations : demandent à être suivi par un collect ou une action (count par exemple)"
   ]
  },
  {
   "cell_type": "markdown",
   "metadata": {},
   "source": [
    "## 4.1) obtenir des statistiques sur les colonnes numériques"
   ]
  },
  {
   "cell_type": "code",
   "execution_count": 27,
   "metadata": {},
   "outputs": [
    {
     "data": {
      "text/plain": [
       "[Row(summary='count', summary='5', sexe='3', age='5'),\n",
       " Row(summary='mean', summary=None, sexe='105.0', age='54.41256919394815'),\n",
       " Row(summary='stddev', summary=None, sexe='NaN', age='39.028256496921905'),\n",
       " Row(summary='min', summary='count', sexe='105', age='105'),\n",
       " Row(summary='max', summary='stddev', sexe='H', age='83')]"
      ]
     },
     "execution_count": 27,
     "metadata": {},
     "output_type": "execute_result"
    }
   ],
   "source": [
    "villes.describe([\"sexe\", \"age\"]).describe().collect()"
   ]
  },
  {
   "cell_type": "markdown",
   "metadata": {},
   "source": [
    "## 4.2) groupby"
   ]
  },
  {
   "cell_type": "code",
   "execution_count": 28,
   "metadata": {},
   "outputs": [
    {
     "data": {
      "text/plain": [
       "[Row(sexe='F', avg(sportivite)=2.6586524340782742),\n",
       " Row(sexe='H', avg(sportivite)=1.740897061446013)]"
      ]
     },
     "execution_count": 28,
     "metadata": {},
     "output_type": "execute_result"
    }
   ],
   "source": [
    "villes.groupBy(\"sexe\").agg({\"sportivite\" : \"mean\"}).collect()"
   ]
  },
  {
   "cell_type": "code",
   "execution_count": 29,
   "metadata": {},
   "outputs": [
    {
     "data": {
      "text/plain": [
       "[Row(sexe='F', avg(sportivite)=2.6586524340782742, max(age)=82),\n",
       " Row(sexe='H', avg(sportivite)=1.740897061446013, max(age)=83)]"
      ]
     },
     "execution_count": 29,
     "metadata": {},
     "output_type": "execute_result"
    }
   ],
   "source": [
    "villes.groupBy(\"sexe\").agg({\"sportivite\" : \"mean\", \"age\":\"max\"}, ).collect()"
   ]
  },
  {
   "cell_type": "markdown",
   "metadata": {},
   "source": [
    "## 4.3) summary "
   ]
  },
  {
   "cell_type": "code",
   "execution_count": 30,
   "metadata": {},
   "outputs": [
    {
     "data": {
      "text/plain": [
       "[Row(summary='count', id='105', vitesse_a_pied='105', vitesse_a_velo='105', home='105', travail='105', statut='105', salaire='105', sexe='105', age='105', sportivite='105', velo_perf_minimale='105'),\n",
       " Row(summary='max', id='105', vitesse_a_pied='4.183645670126603', vitesse_a_velo='10.459114175316511', home='(lon:9.44 lat:28.85)', travail='(lon:9.90 lat:37.43)', statut='technicien_de_surface', salaire='62319.743476583586', sexe='H', age='83', sportivite='6.97274278354434', velo_perf_minimale='7.37274278354434')]"
      ]
     },
     "execution_count": 30,
     "metadata": {},
     "output_type": "execute_result"
    }
   ],
   "source": [
    "villes.summary(\"count\", \"max\").collect()"
   ]
  },
  {
   "cell_type": "markdown",
   "metadata": {},
   "source": [
    "## 4.4) union de dataframe"
   ]
  },
  {
   "cell_type": "markdown",
   "metadata": {},
   "source": [
    "#### ajouter les colonnes les unes à côté des autres : join"
   ]
  },
  {
   "cell_type": "code",
   "execution_count": 31,
   "metadata": {},
   "outputs": [
    {
     "data": {
      "text/plain": [
       "DataFrame[summary: string, id: string, vitesse_a_pied: string, vitesse_a_velo: string, home: string, travail: string, statut: string, salaire: string, sexe: string, age: string, sportivite: string, velo_perf_minimale: string, vitesse_a_pied: string, vitesse_a_velo: string, home: string, travail: string, statut: string, salaire: string, sexe: string, age: string, sportivite: string, velo_perf_minimale: string]"
      ]
     },
     "execution_count": 31,
     "metadata": {},
     "output_type": "execute_result"
    }
   ],
   "source": [
    "villes.join(villes, on=\"id\").describe()"
   ]
  },
  {
   "cell_type": "markdown",
   "metadata": {},
   "source": [
    "#### ajouter les lignes les unes sous les autres : union"
   ]
  },
  {
   "cell_type": "code",
   "execution_count": 32,
   "metadata": {},
   "outputs": [
    {
     "data": {
      "text/plain": [
       "210"
      ]
     },
     "execution_count": 32,
     "metadata": {},
     "output_type": "execute_result"
    }
   ],
   "source": [
    "villes.unionByName(villes).count()"
   ]
  },
  {
   "cell_type": "markdown",
   "metadata": {},
   "source": [
    "## 4.5) filtre"
   ]
  },
  {
   "cell_type": "code",
   "execution_count": 33,
   "metadata": {},
   "outputs": [
    {
     "data": {
      "text/plain": [
       "63"
      ]
     },
     "execution_count": 33,
     "metadata": {},
     "output_type": "execute_result"
    }
   ],
   "source": [
    "villes.where(villes.sexe==\"F\").count()"
   ]
  },
  {
   "cell_type": "markdown",
   "metadata": {},
   "source": [
    "## 4.6) concaténation de colonne : F.concat"
   ]
  },
  {
   "cell_type": "code",
   "execution_count": 36,
   "metadata": {},
   "outputs": [],
   "source": [
    "from pyspark.sql.types import *\n",
    "from pyspark.sql       import functions as F"
   ]
  },
  {
   "cell_type": "code",
   "execution_count": 37,
   "metadata": {},
   "outputs": [
    {
     "data": {
      "text/plain": [
       "Row(id=42, timestamp=1, sur_velo=False, velo='False', vitesse=0.02, position='(lon:18.76 lat:30.72)', destination_finale='(lon:34.80 lat:2.68)', id_sur_velo='42false')"
      ]
     },
     "execution_count": 37,
     "metadata": {},
     "output_type": "execute_result"
    }
   ],
   "source": [
    "path       = \"./../data/Cyclistes/*.csv\" \n",
    "tous_les_cyclistes = spark.read.format(\"csv\").option(\"header\", \"true\").load(path, inferSchema=True)\n",
    "tous_les_cyclistes.count()\n",
    "tous_les_cyclistes.withColumn(\"id_sur_velo\", F.concat(tous_les_cyclistes.id,  tous_les_cyclistes.sur_velo)).first()"
   ]
  },
  {
   "cell_type": "markdown",
   "metadata": {},
   "source": [
    "# 5) udf \n",
    "Il est possible d'enregistrer des fonctions python que l'on écrit nous même pour les appliquer sur une colonne d'une dataframe, c'est ce qu'on appelle les udf, pour User Defined Functions"
   ]
  },
  {
   "cell_type": "code",
   "execution_count": 38,
   "metadata": {},
   "outputs": [],
   "source": [
    "from pyspark.sql.types     import *\n",
    "from pyspark.sql.functions import udf\n",
    "\n",
    "@udf(returnType = FloatType())\n",
    "def cube(colonne):\n",
    "    return colonne*colonne"
   ]
  },
  {
   "cell_type": "code",
   "execution_count": 39,
   "metadata": {},
   "outputs": [
    {
     "data": {
      "text/plain": [
       "[Row(cube(salaire)=271416640.0),\n",
       " Row(cube(salaire)=979659904.0),\n",
       " Row(cube(salaire)=752175616.0),\n",
       " Row(cube(salaire)=444095648.0),\n",
       " Row(cube(salaire)=1787440000.0),\n",
       " Row(cube(salaire)=291239616.0),\n",
       " Row(cube(salaire)=546898688.0),\n",
       " Row(cube(salaire)=586231488.0),\n",
       " Row(cube(salaire)=295838560.0),\n",
       " Row(cube(salaire)=3883750400.0),\n",
       " Row(cube(salaire)=399656096.0),\n",
       " Row(cube(salaire)=430369600.0),\n",
       " Row(cube(salaire)=1067505536.0),\n",
       " Row(cube(salaire)=294008768.0),\n",
       " Row(cube(salaire)=338342464.0),\n",
       " Row(cube(salaire)=473956128.0),\n",
       " Row(cube(salaire)=302832448.0),\n",
       " Row(cube(salaire)=302745888.0),\n",
       " Row(cube(salaire)=284107744.0),\n",
       " Row(cube(salaire)=127762080.0),\n",
       " Row(cube(salaire)=433230240.0),\n",
       " Row(cube(salaire)=458205056.0),\n",
       " Row(cube(salaire)=196671760.0),\n",
       " Row(cube(salaire)=351779232.0),\n",
       " Row(cube(salaire)=409812224.0),\n",
       " Row(cube(salaire)=902677824.0),\n",
       " Row(cube(salaire)=309819584.0),\n",
       " Row(cube(salaire)=380060608.0),\n",
       " Row(cube(salaire)=180703632.0),\n",
       " Row(cube(salaire)=640117440.0),\n",
       " Row(cube(salaire)=1390452224.0),\n",
       " Row(cube(salaire)=2034548992.0),\n",
       " Row(cube(salaire)=446562720.0),\n",
       " Row(cube(salaire)=403954752.0),\n",
       " Row(cube(salaire)=500516416.0),\n",
       " Row(cube(salaire)=166923664.0),\n",
       " Row(cube(salaire)=1534354048.0),\n",
       " Row(cube(salaire)=759369728.0),\n",
       " Row(cube(salaire)=1949013376.0),\n",
       " Row(cube(salaire)=339662336.0),\n",
       " Row(cube(salaire)=303625152.0),\n",
       " Row(cube(salaire)=399958240.0),\n",
       " Row(cube(salaire)=502167520.0),\n",
       " Row(cube(salaire)=483042304.0),\n",
       " Row(cube(salaire)=750099072.0),\n",
       " Row(cube(salaire)=1783257088.0),\n",
       " Row(cube(salaire)=381923552.0),\n",
       " Row(cube(salaire)=372551296.0),\n",
       " Row(cube(salaire)=580375296.0),\n",
       " Row(cube(salaire)=333033792.0),\n",
       " Row(cube(salaire)=198748656.0),\n",
       " Row(cube(salaire)=290756768.0),\n",
       " Row(cube(salaire)=948803648.0),\n",
       " Row(cube(salaire)=256168464.0),\n",
       " Row(cube(salaire)=380128896.0),\n",
       " Row(cube(salaire)=329487360.0),\n",
       " Row(cube(salaire)=230472752.0),\n",
       " Row(cube(salaire)=276434592.0),\n",
       " Row(cube(salaire)=432876000.0),\n",
       " Row(cube(salaire)=900040000.0),\n",
       " Row(cube(salaire)=350707200.0),\n",
       " Row(cube(salaire)=427136864.0),\n",
       " Row(cube(salaire)=580887616.0),\n",
       " Row(cube(salaire)=680084096.0),\n",
       " Row(cube(salaire)=300101184.0),\n",
       " Row(cube(salaire)=677945152.0),\n",
       " Row(cube(salaire)=260271104.0),\n",
       " Row(cube(salaire)=305040768.0),\n",
       " Row(cube(salaire)=128901488.0),\n",
       " Row(cube(salaire)=704291776.0),\n",
       " Row(cube(salaire)=643396160.0),\n",
       " Row(cube(salaire)=346513472.0),\n",
       " Row(cube(salaire)=775781440.0),\n",
       " Row(cube(salaire)=564072000.0),\n",
       " Row(cube(salaire)=592460032.0),\n",
       " Row(cube(salaire)=722586880.0),\n",
       " Row(cube(salaire)=561075136.0),\n",
       " Row(cube(salaire)=711604480.0),\n",
       " Row(cube(salaire)=763019840.0),\n",
       " Row(cube(salaire)=505679008.0),\n",
       " Row(cube(salaire)=490296768.0),\n",
       " Row(cube(salaire)=862584384.0),\n",
       " Row(cube(salaire)=317205408.0),\n",
       " Row(cube(salaire)=1910700032.0),\n",
       " Row(cube(salaire)=895402240.0),\n",
       " Row(cube(salaire)=753221376.0),\n",
       " Row(cube(salaire)=423769856.0),\n",
       " Row(cube(salaire)=325930400.0),\n",
       " Row(cube(salaire)=380674688.0),\n",
       " Row(cube(salaire)=1836349056.0),\n",
       " Row(cube(salaire)=836201600.0),\n",
       " Row(cube(salaire)=443119392.0),\n",
       " Row(cube(salaire)=240592448.0),\n",
       " Row(cube(salaire)=1200848512.0),\n",
       " Row(cube(salaire)=363943680.0),\n",
       " Row(cube(salaire)=1777076864.0),\n",
       " Row(cube(salaire)=2337280000.0),\n",
       " Row(cube(salaire)=520655040.0),\n",
       " Row(cube(salaire)=318568320.0),\n",
       " Row(cube(salaire)=763845440.0),\n",
       " Row(cube(salaire)=363095840.0),\n",
       " Row(cube(salaire)=338502592.0),\n",
       " Row(cube(salaire)=291457280.0),\n",
       " Row(cube(salaire)=364585152.0),\n",
       " Row(cube(salaire)=868797824.0)]"
      ]
     },
     "execution_count": 39,
     "metadata": {},
     "output_type": "execute_result"
    }
   ],
   "source": [
    "villes.select(cube(\"salaire\")).collect()"
   ]
  },
  {
   "cell_type": "markdown",
   "metadata": {},
   "source": [
    "# 6)\tEtude de cas : analyse des fichiers de logs des cyclistes"
   ]
  },
  {
   "cell_type": "code",
   "execution_count": 12,
   "metadata": {},
   "outputs": [],
   "source": [
    "from pyspark.sql.types import *\n",
    "from pyspark.sql       import functions as F\n",
    "from pyspark.sql.types     import *\n",
    "from pyspark.sql.functions import udf"
   ]
  },
  {
   "cell_type": "code",
   "execution_count": 13,
   "metadata": {},
   "outputs": [],
   "source": [
    "from pyspark.sql import SparkSession\n",
    "spark = SparkSession.builder.getOrCreate()"
   ]
  },
  {
   "cell_type": "markdown",
   "metadata": {},
   "source": [
    "## 6.1)  Charger la donnée"
   ]
  },
  {
   "cell_type": "code",
   "execution_count": 14,
   "metadata": {},
   "outputs": [
    {
     "data": {
      "text/plain": [
       "42000"
      ]
     },
     "execution_count": 14,
     "metadata": {},
     "output_type": "execute_result"
    }
   ],
   "source": [
    "path       = \"./../data/Cyclistes/*.csv\" \n",
    "tous_les_cyclistes = spark.read.format(\"csv\").option(\"header\", \"true\").load(path, inferSchema=True)\n",
    "tous_les_cyclistes.count()"
   ]
  },
  {
   "cell_type": "code",
   "execution_count": 15,
   "metadata": {},
   "outputs": [
    {
     "name": "stdout",
     "output_type": "stream",
     "text": [
      "root\n",
      " |-- id: integer (nullable = true)\n",
      " |-- timestamp: integer (nullable = true)\n",
      " |-- sur_velo: boolean (nullable = true)\n",
      " |-- velo: string (nullable = true)\n",
      " |-- vitesse: double (nullable = true)\n",
      " |-- position: string (nullable = true)\n",
      " |-- destination_finale: string (nullable = true)\n",
      "\n"
     ]
    }
   ],
   "source": [
    "tous_les_cyclistes.printSchema()"
   ]
  },
  {
   "cell_type": "markdown",
   "metadata": {},
   "source": [
    "## 6.2) vérifier le nombre de cycles"
   ]
  },
  {
   "cell_type": "code",
   "execution_count": 16,
   "metadata": {},
   "outputs": [
    {
     "data": {
      "text/plain": [
       "400"
      ]
     },
     "execution_count": 16,
     "metadata": {},
     "output_type": "execute_result"
    }
   ],
   "source": [
    "tous_les_cyclistes.select(\"timestamp\").drop_duplicates().count()"
   ]
  },
  {
   "cell_type": "code",
   "execution_count": 17,
   "metadata": {},
   "outputs": [
    {
     "data": {
      "text/plain": [
       "[Row(id=42, timestamp=1, sur_velo=False, velo='False', vitesse=0.02, position='(lon:18.76 lat:30.72)', destination_finale='(lon:34.80 lat:2.68)'),\n",
       " Row(id=42, timestamp=2, sur_velo=False, velo='False', vitesse=0.02, position='(lon:18.78 lat:30.73)', destination_finale='(lon:34.80 lat:2.68)'),\n",
       " Row(id=42, timestamp=3, sur_velo=False, velo='False', vitesse=0.02, position='(lon:18.79 lat:30.75)', destination_finale='(lon:34.80 lat:2.68)'),\n",
       " Row(id=42, timestamp=4, sur_velo=False, velo='False', vitesse=0.02, position='(lon:18.80 lat:30.76)', destination_finale='(lon:34.80 lat:2.68)'),\n",
       " Row(id=42, timestamp=5, sur_velo=False, velo='False', vitesse=0.02, position='(lon:18.82 lat:30.78)', destination_finale='(lon:34.80 lat:2.68)')]"
      ]
     },
     "execution_count": 17,
     "metadata": {},
     "output_type": "execute_result"
    }
   ],
   "source": [
    "tous_les_cyclistes.take(5)"
   ]
  },
  {
   "cell_type": "markdown",
   "metadata": {},
   "source": [
    "## 6.3) transformer les timestamp en date"
   ]
  },
  {
   "cell_type": "code",
   "execution_count": 18,
   "metadata": {},
   "outputs": [],
   "source": [
    "from pyspark.sql.types import TimestampType\n",
    "\n",
    "@udf(returnType = TimestampType())\n",
    "def transform_timestamp_in_date(timestamp):\n",
    "    \"\"\"\n",
    "    Divise un timestamp entier en sous partie \n",
    "    pour calculer sa signification en terme de date.\n",
    "    \n",
    "    Base la date retournée sur le 1er janvier 2018\n",
    "    \n",
    "    Return : datetime\n",
    "    \"\"\"\n",
    "    from datetime import datetime\n",
    "    # définition de constantes pour les mathématiques de date\n",
    "    une_minute = 60\n",
    "    une_heure  = 60 * une_minute\n",
    "    un_jour    = 24 * une_heure\n",
    "    un_mois    = 30 * un_jour\n",
    "    un_an      = 12 * un_mois\n",
    "    # défintion de la date de base :\n",
    "    timestamp_de_base = 2018 * un_an + 1 * un_mois + 1 * un_jour \n",
    "    # ajout de la date de base au timestamp\n",
    "    timestamp     = timestamp_de_base + timestamp\n",
    "    # calculs des composants : an / mois / jours / heure / secondes\n",
    "    nb_an     = timestamp    // (un_an) \n",
    "    timestamp = timestamp - nb_an * un_an\n",
    "    nb_mois   = (timestamp ) //  un_mois % 12\n",
    "    timestamp = timestamp -   nb_mois *un_mois\n",
    "    nb_jour   = (timestamp ) //   un_jour % 30\n",
    "    timestamp = timestamp -   nb_jour *un_jour\n",
    "    nb_heure  = timestamp    //    une_heure % 24\n",
    "    timestamp = timestamp -   nb_heure *une_heure\n",
    "    nb_min    = timestamp    //    une_minute % 60\n",
    "    timestamp = timestamp -   nb_min * une_minute\n",
    "    nb_sec    = timestamp % 60 \n",
    "    # formatage en chaine de caractère\n",
    "    format_date = \"{jour:02d}/{mois:02d}/{an} {heure:02d}:{minute:02d}:{secondes:02d}\"\n",
    "    date = format_date.format(jour  = nb_jour  , mois   = nb_mois , an       = nb_an , \n",
    "                              heure = nb_heure , minute = nb_min  , secondes = nb_sec )\n",
    "    # conversion de la chaine de caractère en objet datetime\n",
    "    return datetime.strptime(date, \"%d/%m/%Y %H:%M:%S\")"
   ]
  },
  {
   "cell_type": "code",
   "execution_count": 19,
   "metadata": {},
   "outputs": [],
   "source": [
    "tous_les_cyclistes = tous_les_cyclistes.withColumn(\"date\", transform_timestamp_in_date(\"timestamp\"))"
   ]
  },
  {
   "cell_type": "code",
   "execution_count": 20,
   "metadata": {},
   "outputs": [
    {
     "name": "stdout",
     "output_type": "stream",
     "text": [
      "root\n",
      " |-- id: integer (nullable = true)\n",
      " |-- timestamp: integer (nullable = true)\n",
      " |-- sur_velo: boolean (nullable = true)\n",
      " |-- velo: string (nullable = true)\n",
      " |-- vitesse: double (nullable = true)\n",
      " |-- position: string (nullable = true)\n",
      " |-- destination_finale: string (nullable = true)\n",
      " |-- date: timestamp (nullable = true)\n",
      "\n"
     ]
    }
   ],
   "source": [
    "tous_les_cyclistes.printSchema()"
   ]
  },
  {
   "cell_type": "markdown",
   "metadata": {},
   "source": [
    "## vérifier les comptes"
   ]
  },
  {
   "cell_type": "code",
   "execution_count": 21,
   "metadata": {},
   "outputs": [
    {
     "data": {
      "text/plain": [
       "42000"
      ]
     },
     "execution_count": 21,
     "metadata": {},
     "output_type": "execute_result"
    }
   ],
   "source": [
    "tous_les_cyclistes.count()"
   ]
  },
  {
   "cell_type": "code",
   "execution_count": 22,
   "metadata": {},
   "outputs": [
    {
     "data": {
      "text/plain": [
       "105"
      ]
     },
     "execution_count": 22,
     "metadata": {},
     "output_type": "execute_result"
    }
   ],
   "source": [
    "tous_les_cyclistes.select(\"id\").drop_duplicates().count()"
   ]
  },
  {
   "cell_type": "markdown",
   "metadata": {},
   "source": [
    "## 6.4) trouver les dates min/max par état de \"sur un vélo\""
   ]
  },
  {
   "cell_type": "code",
   "execution_count": 23,
   "metadata": {},
   "outputs": [
    {
     "data": {
      "text/plain": [
       "[Row(id=62, sur_velo=True, min(date)=datetime.datetime(2018, 1, 1, 0, 0, 3), max(date)=datetime.datetime(2018, 1, 1, 0, 6, 40)),\n",
       " Row(id=105, sur_velo=True, min(date)=datetime.datetime(2018, 1, 1, 0, 0, 4), max(date)=datetime.datetime(2018, 1, 1, 0, 6, 40)),\n",
       " Row(id=69, sur_velo=True, min(date)=datetime.datetime(2018, 1, 1, 0, 0, 3), max(date)=datetime.datetime(2018, 1, 1, 0, 6, 40)),\n",
       " Row(id=30, sur_velo=False, min(date)=datetime.datetime(2018, 1, 1, 0, 0, 1), max(date)=datetime.datetime(2018, 1, 1, 0, 0, 19)),\n",
       " Row(id=88, sur_velo=False, min(date)=datetime.datetime(2018, 1, 1, 0, 0, 1), max(date)=datetime.datetime(2018, 1, 1, 0, 6, 19))]"
      ]
     },
     "execution_count": 23,
     "metadata": {},
     "output_type": "execute_result"
    }
   ],
   "source": [
    "_ = tous_les_cyclistes.groupBy([\"id\", \"sur_velo\"])\\\n",
    "                      .agg(F.min(tous_les_cyclistes.date), \n",
    "                           F.max(tous_les_cyclistes.date))\n",
    "_.take(5)\n"
   ]
  },
  {
   "cell_type": "code",
   "execution_count": 24,
   "metadata": {},
   "outputs": [
    {
     "data": {
      "text/plain": [
       "[Row(id=1, sur_velo=True, min(date)=datetime.datetime(2018, 1, 1, 0, 0, 3), max(date)=datetime.datetime(2018, 1, 1, 0, 6, 40)),\n",
       " Row(id=1, sur_velo=False, min(date)=datetime.datetime(2018, 1, 1, 0, 0, 1), max(date)=datetime.datetime(2018, 1, 1, 0, 6, 23)),\n",
       " Row(id=2, sur_velo=True, min(date)=datetime.datetime(2018, 1, 1, 0, 0, 3), max(date)=datetime.datetime(2018, 1, 1, 0, 6, 40)),\n",
       " Row(id=2, sur_velo=False, min(date)=datetime.datetime(2018, 1, 1, 0, 0, 1), max(date)=datetime.datetime(2018, 1, 1, 0, 6, 38)),\n",
       " Row(id=3, sur_velo=True, min(date)=datetime.datetime(2018, 1, 1, 0, 0, 3), max(date)=datetime.datetime(2018, 1, 1, 0, 6, 40))]"
      ]
     },
     "execution_count": 24,
     "metadata": {},
     "output_type": "execute_result"
    }
   ],
   "source": [
    "_ = tous_les_cyclistes.sort([\"id\", \"date\"]).groupBy([\"id\", \"sur_velo\"])\\\n",
    "                      .agg(F.min(tous_les_cyclistes.date), \n",
    "                           F.max(tous_les_cyclistes.date)).sort(\"id\")\n",
    "_.take(5)\n"
   ]
  },
  {
   "cell_type": "markdown",
   "metadata": {},
   "source": [
    "## 6.5) détecter les changements d'états \"sur un vélo\" ou pas : window et lag"
   ]
  },
  {
   "cell_type": "code",
   "execution_count": 25,
   "metadata": {},
   "outputs": [],
   "source": [
    "from pyspark.sql.functions import udf"
   ]
  },
  {
   "cell_type": "code",
   "execution_count": 26,
   "metadata": {},
   "outputs": [],
   "source": [
    "@udf(returnType = IntegerType())\n",
    "def changement(etat_actuel, etat_precedent):\n",
    "    \"\"\"\n",
    "    Détecte si les deux états sont différent.\n",
    "    \n",
    "    Parametres :\n",
    "        etat_actuel : valeur sur la ligne courante\n",
    "                      renvoyée par F.lag (0)\n",
    "        etat_precedent : valeur sur la ligne précédente\n",
    "                      renvoyée par F.lag(1)\n",
    "    Return: 0 s'ils sont égaux, 1 s'il y a une différence\n",
    "    \"\"\"\n",
    "    if etat_precedent == None:\n",
    "        return 0\n",
    "    if etat_precedent == etat_actuel:\n",
    "        return 0\n",
    "    if etat_actuel != etat_precedent:\n",
    "        return 1"
   ]
  },
  {
   "cell_type": "code",
   "execution_count": 27,
   "metadata": {},
   "outputs": [],
   "source": [
    "from pyspark.sql.window import Window\n",
    "w = Window.orderBy([\"id\", \"date\"])"
   ]
  },
  {
   "cell_type": "code",
   "execution_count": 28,
   "metadata": {},
   "outputs": [],
   "source": [
    "tous_les_cyclistes = tous_les_cyclistes.withColumn( \"changement\", \n",
    "                                                     changement( F.lag(\"sur_velo\", 0).over(w), \n",
    "                                                                 F.lag(\"sur_velo\", 1).over(w)))\n"
   ]
  },
  {
   "cell_type": "code",
   "execution_count": 29,
   "metadata": {},
   "outputs": [
    {
     "name": "stdout",
     "output_type": "stream",
     "text": [
      "root\n",
      " |-- id: integer (nullable = true)\n",
      " |-- timestamp: integer (nullable = true)\n",
      " |-- sur_velo: boolean (nullable = true)\n",
      " |-- velo: string (nullable = true)\n",
      " |-- vitesse: double (nullable = true)\n",
      " |-- position: string (nullable = true)\n",
      " |-- destination_finale: string (nullable = true)\n",
      " |-- date: timestamp (nullable = true)\n",
      " |-- changement: integer (nullable = true)\n",
      "\n"
     ]
    }
   ],
   "source": [
    "tous_les_cyclistes.printSchema()"
   ]
  },
  {
   "cell_type": "code",
   "execution_count": 30,
   "metadata": {},
   "outputs": [
    {
     "data": {
      "text/plain": [
       "[Row(id=1, timestamp=1, velo='False', changement=0),\n",
       " Row(id=1, timestamp=2, velo='False', changement=0),\n",
       " Row(id=1, timestamp=3, velo='velo_velo_4508_performance_0.8150724837556852', changement=1),\n",
       " Row(id=1, timestamp=4, velo='velo_velo_4508_performance_0.8150724837556852', changement=0),\n",
       " Row(id=1, timestamp=5, velo='velo_velo_4508_performance_0.8150724837556852', changement=0),\n",
       " Row(id=1, timestamp=6, velo='velo_velo_4508_performance_0.8150724837556852', changement=0),\n",
       " Row(id=1, timestamp=7, velo='velo_velo_4508_performance_0.8150724837556852', changement=0),\n",
       " Row(id=1, timestamp=8, velo='velo_velo_4508_performance_0.8150724837556852', changement=0),\n",
       " Row(id=1, timestamp=9, velo='velo_velo_4508_performance_0.8150724837556852', changement=0),\n",
       " Row(id=1, timestamp=10, velo='velo_velo_4508_performance_0.8150724837556852', changement=0),\n",
       " Row(id=1, timestamp=11, velo='velo_velo_4508_performance_0.8150724837556852', changement=0),\n",
       " Row(id=1, timestamp=12, velo='velo_velo_4508_performance_0.8150724837556852', changement=0),\n",
       " Row(id=1, timestamp=13, velo='velo_velo_4508_performance_0.8150724837556852', changement=0),\n",
       " Row(id=1, timestamp=14, velo='velo_velo_4508_performance_0.8150724837556852', changement=0),\n",
       " Row(id=1, timestamp=15, velo='velo_velo_4508_performance_0.8150724837556852', changement=0),\n",
       " Row(id=1, timestamp=16, velo='velo_velo_4508_performance_0.8150724837556852', changement=0),\n",
       " Row(id=1, timestamp=17, velo='velo_velo_4508_performance_0.8150724837556852', changement=0),\n",
       " Row(id=1, timestamp=18, velo='velo_velo_4508_performance_0.8150724837556852', changement=0),\n",
       " Row(id=1, timestamp=19, velo='velo_velo_4508_performance_0.8150724837556852', changement=0),\n",
       " Row(id=1, timestamp=20, velo='velo_velo_4508_performance_0.8150724837556852', changement=0),\n",
       " Row(id=1, timestamp=21, velo='velo_velo_4508_performance_0.8150724837556852', changement=0),\n",
       " Row(id=1, timestamp=22, velo='velo_velo_4508_performance_0.8150724837556852', changement=0),\n",
       " Row(id=1, timestamp=23, velo='velo_velo_4508_performance_0.8150724837556852', changement=0),\n",
       " Row(id=1, timestamp=24, velo='velo_velo_4508_performance_0.8150724837556852', changement=0),\n",
       " Row(id=1, timestamp=25, velo='velo_velo_4508_performance_0.8150724837556852', changement=0),\n",
       " Row(id=1, timestamp=26, velo='velo_velo_4508_performance_0.8150724837556852', changement=0),\n",
       " Row(id=1, timestamp=27, velo='velo_velo_4508_performance_0.8150724837556852', changement=0),\n",
       " Row(id=1, timestamp=28, velo='velo_velo_4508_performance_0.8150724837556852', changement=0),\n",
       " Row(id=1, timestamp=29, velo='velo_velo_4508_performance_0.8150724837556852', changement=0),\n",
       " Row(id=1, timestamp=30, velo='velo_velo_4508_performance_0.8150724837556852', changement=0),\n",
       " Row(id=1, timestamp=31, velo='velo_velo_4508_performance_0.8150724837556852', changement=0),\n",
       " Row(id=1, timestamp=32, velo='False', changement=1),\n",
       " Row(id=1, timestamp=33, velo='False', changement=0),\n",
       " Row(id=1, timestamp=34, velo='False', changement=0),\n",
       " Row(id=1, timestamp=35, velo='False', changement=0),\n",
       " Row(id=1, timestamp=36, velo='velo_velo_20659_performance_0.5', changement=1),\n",
       " Row(id=1, timestamp=37, velo='velo_velo_20659_performance_0.5', changement=0),\n",
       " Row(id=1, timestamp=38, velo='velo_velo_20659_performance_0.5', changement=0),\n",
       " Row(id=1, timestamp=39, velo='velo_velo_20659_performance_0.5', changement=0),\n",
       " Row(id=1, timestamp=40, velo='velo_velo_20659_performance_0.5', changement=0),\n",
       " Row(id=1, timestamp=41, velo='velo_velo_20659_performance_0.5', changement=0),\n",
       " Row(id=1, timestamp=42, velo='velo_velo_20659_performance_0.5', changement=0),\n",
       " Row(id=1, timestamp=43, velo='velo_velo_20659_performance_0.5', changement=0),\n",
       " Row(id=1, timestamp=44, velo='velo_velo_20659_performance_0.5', changement=0),\n",
       " Row(id=1, timestamp=45, velo='velo_velo_20659_performance_0.5', changement=0),\n",
       " Row(id=1, timestamp=46, velo='velo_velo_20659_performance_0.5', changement=0),\n",
       " Row(id=1, timestamp=47, velo='velo_velo_20659_performance_0.5', changement=0),\n",
       " Row(id=1, timestamp=48, velo='velo_velo_20659_performance_0.5', changement=0),\n",
       " Row(id=1, timestamp=49, velo='velo_velo_20659_performance_0.5', changement=0),\n",
       " Row(id=1, timestamp=50, velo='velo_velo_20659_performance_0.5', changement=0),\n",
       " Row(id=1, timestamp=51, velo='velo_velo_20659_performance_0.5', changement=0),\n",
       " Row(id=1, timestamp=52, velo='velo_velo_20659_performance_0.5', changement=0),\n",
       " Row(id=1, timestamp=53, velo='velo_velo_20659_performance_0.5', changement=0),\n",
       " Row(id=1, timestamp=54, velo='velo_velo_20659_performance_0.5', changement=0),\n",
       " Row(id=1, timestamp=55, velo='velo_velo_20659_performance_0.5', changement=0),\n",
       " Row(id=1, timestamp=56, velo='velo_velo_20659_performance_0.5', changement=0),\n",
       " Row(id=1, timestamp=57, velo='velo_velo_20659_performance_0.5', changement=0),\n",
       " Row(id=1, timestamp=58, velo='velo_velo_20659_performance_0.5', changement=0),\n",
       " Row(id=1, timestamp=59, velo='velo_velo_20659_performance_0.5', changement=0),\n",
       " Row(id=1, timestamp=60, velo='velo_velo_20659_performance_0.5', changement=0),\n",
       " Row(id=1, timestamp=61, velo='velo_velo_20659_performance_0.5', changement=0),\n",
       " Row(id=1, timestamp=62, velo='velo_velo_20659_performance_0.5', changement=0),\n",
       " Row(id=1, timestamp=63, velo='velo_velo_20659_performance_0.5', changement=0),\n",
       " Row(id=1, timestamp=64, velo='velo_velo_20659_performance_0.5', changement=0),\n",
       " Row(id=1, timestamp=65, velo='velo_velo_20659_performance_0.5', changement=0),\n",
       " Row(id=1, timestamp=66, velo='velo_velo_20659_performance_0.5', changement=0),\n",
       " Row(id=1, timestamp=67, velo='velo_velo_20659_performance_0.5', changement=0),\n",
       " Row(id=1, timestamp=68, velo='velo_velo_20659_performance_0.5', changement=0),\n",
       " Row(id=1, timestamp=69, velo='velo_velo_20659_performance_0.5', changement=0),\n",
       " Row(id=1, timestamp=70, velo='velo_velo_20659_performance_0.5', changement=0),\n",
       " Row(id=1, timestamp=71, velo='velo_velo_20659_performance_0.5', changement=0),\n",
       " Row(id=1, timestamp=72, velo='velo_velo_20659_performance_0.5', changement=0),\n",
       " Row(id=1, timestamp=73, velo='velo_velo_20659_performance_0.5', changement=0),\n",
       " Row(id=1, timestamp=74, velo='velo_velo_20659_performance_0.5', changement=0),\n",
       " Row(id=1, timestamp=75, velo='velo_velo_20659_performance_0.5', changement=0),\n",
       " Row(id=1, timestamp=76, velo='velo_velo_20659_performance_0.5', changement=0),\n",
       " Row(id=1, timestamp=77, velo='velo_velo_20659_performance_0.5', changement=0),\n",
       " Row(id=1, timestamp=78, velo='velo_velo_20659_performance_0.5', changement=0),\n",
       " Row(id=1, timestamp=79, velo='velo_velo_20659_performance_0.5', changement=0),\n",
       " Row(id=1, timestamp=80, velo='velo_velo_20659_performance_0.5', changement=0),\n",
       " Row(id=1, timestamp=81, velo='velo_velo_20659_performance_0.5', changement=0),\n",
       " Row(id=1, timestamp=82, velo='velo_velo_20659_performance_0.5', changement=0),\n",
       " Row(id=1, timestamp=83, velo='False', changement=1),\n",
       " Row(id=1, timestamp=84, velo='False', changement=0),\n",
       " Row(id=1, timestamp=85, velo='False', changement=0),\n",
       " Row(id=1, timestamp=86, velo='False', changement=0),\n",
       " Row(id=1, timestamp=87, velo='velo_velo_4507_performance_0.9890614552968874', changement=1),\n",
       " Row(id=1, timestamp=88, velo='velo_velo_4507_performance_0.9890614552968874', changement=0),\n",
       " Row(id=1, timestamp=89, velo='velo_velo_4507_performance_0.9890614552968874', changement=0),\n",
       " Row(id=1, timestamp=90, velo='velo_velo_4507_performance_0.9890614552968874', changement=0),\n",
       " Row(id=1, timestamp=91, velo='velo_velo_4507_performance_0.9890614552968874', changement=0),\n",
       " Row(id=1, timestamp=92, velo='velo_velo_4507_performance_0.9890614552968874', changement=0),\n",
       " Row(id=1, timestamp=93, velo='velo_velo_4507_performance_0.9890614552968874', changement=0),\n",
       " Row(id=1, timestamp=94, velo='velo_velo_4507_performance_0.9890614552968874', changement=0),\n",
       " Row(id=1, timestamp=95, velo='velo_velo_4507_performance_0.9890614552968874', changement=0),\n",
       " Row(id=1, timestamp=96, velo='velo_velo_4507_performance_0.9890614552968874', changement=0),\n",
       " Row(id=1, timestamp=97, velo='velo_velo_4507_performance_0.9890614552968874', changement=0),\n",
       " Row(id=1, timestamp=98, velo='velo_velo_4507_performance_0.9890614552968874', changement=0),\n",
       " Row(id=1, timestamp=99, velo='velo_velo_4507_performance_0.9890614552968874', changement=0),\n",
       " Row(id=1, timestamp=100, velo='velo_velo_4507_performance_0.9890614552968874', changement=0),\n",
       " Row(id=1, timestamp=101, velo='velo_velo_4507_performance_0.9890614552968874', changement=0),\n",
       " Row(id=1, timestamp=102, velo='velo_velo_4507_performance_0.9890614552968874', changement=0),\n",
       " Row(id=1, timestamp=103, velo='velo_velo_4507_performance_0.9890614552968874', changement=0),\n",
       " Row(id=1, timestamp=104, velo='velo_velo_4507_performance_0.9890614552968874', changement=0),\n",
       " Row(id=1, timestamp=105, velo='velo_velo_4507_performance_0.9890614552968874', changement=0),\n",
       " Row(id=1, timestamp=106, velo='velo_velo_4507_performance_0.9890614552968874', changement=0),\n",
       " Row(id=1, timestamp=107, velo='velo_velo_4507_performance_0.9890614552968874', changement=0),\n",
       " Row(id=1, timestamp=108, velo='velo_velo_4507_performance_0.9890614552968874', changement=0),\n",
       " Row(id=1, timestamp=109, velo='velo_velo_4507_performance_0.9890614552968874', changement=0),\n",
       " Row(id=1, timestamp=110, velo='velo_velo_4507_performance_0.9890614552968874', changement=0),\n",
       " Row(id=1, timestamp=111, velo='velo_velo_4507_performance_0.9890614552968874', changement=0),\n",
       " Row(id=1, timestamp=112, velo='False', changement=1),\n",
       " Row(id=1, timestamp=113, velo='False', changement=0),\n",
       " Row(id=1, timestamp=114, velo='False', changement=0),\n",
       " Row(id=1, timestamp=115, velo='False', changement=0),\n",
       " Row(id=1, timestamp=116, velo='velo_velo_20649_performance_0.770082821988038', changement=1),\n",
       " Row(id=1, timestamp=117, velo='velo_velo_20649_performance_0.770082821988038', changement=0),\n",
       " Row(id=1, timestamp=118, velo='velo_velo_20649_performance_0.770082821988038', changement=0),\n",
       " Row(id=1, timestamp=119, velo='velo_velo_20649_performance_0.770082821988038', changement=0),\n",
       " Row(id=1, timestamp=120, velo='velo_velo_20649_performance_0.770082821988038', changement=0),\n",
       " Row(id=1, timestamp=121, velo='velo_velo_20649_performance_0.770082821988038', changement=0),\n",
       " Row(id=1, timestamp=122, velo='velo_velo_20649_performance_0.770082821988038', changement=0),\n",
       " Row(id=1, timestamp=123, velo='velo_velo_20649_performance_0.770082821988038', changement=0),\n",
       " Row(id=1, timestamp=124, velo='velo_velo_20649_performance_0.770082821988038', changement=0),\n",
       " Row(id=1, timestamp=125, velo='velo_velo_20649_performance_0.770082821988038', changement=0),\n",
       " Row(id=1, timestamp=126, velo='velo_velo_20649_performance_0.770082821988038', changement=0),\n",
       " Row(id=1, timestamp=127, velo='velo_velo_20649_performance_0.770082821988038', changement=0),\n",
       " Row(id=1, timestamp=128, velo='velo_velo_20649_performance_0.770082821988038', changement=0),\n",
       " Row(id=1, timestamp=129, velo='velo_velo_20649_performance_0.770082821988038', changement=0),\n",
       " Row(id=1, timestamp=130, velo='velo_velo_20649_performance_0.770082821988038', changement=0),\n",
       " Row(id=1, timestamp=131, velo='velo_velo_20649_performance_0.770082821988038', changement=0),\n",
       " Row(id=1, timestamp=132, velo='velo_velo_20649_performance_0.770082821988038', changement=0),\n",
       " Row(id=1, timestamp=133, velo='velo_velo_20649_performance_0.770082821988038', changement=0),\n",
       " Row(id=1, timestamp=134, velo='velo_velo_20649_performance_0.770082821988038', changement=0),\n",
       " Row(id=1, timestamp=135, velo='velo_velo_20649_performance_0.770082821988038', changement=0),\n",
       " Row(id=1, timestamp=136, velo='velo_velo_20649_performance_0.770082821988038', changement=0),\n",
       " Row(id=1, timestamp=137, velo='velo_velo_20649_performance_0.770082821988038', changement=0),\n",
       " Row(id=1, timestamp=138, velo='velo_velo_20649_performance_0.770082821988038', changement=0),\n",
       " Row(id=1, timestamp=139, velo='velo_velo_20649_performance_0.770082821988038', changement=0),\n",
       " Row(id=1, timestamp=140, velo='velo_velo_20649_performance_0.770082821988038', changement=0),\n",
       " Row(id=1, timestamp=141, velo='velo_velo_20649_performance_0.770082821988038', changement=0),\n",
       " Row(id=1, timestamp=142, velo='velo_velo_20649_performance_0.770082821988038', changement=0),\n",
       " Row(id=1, timestamp=143, velo='velo_velo_20649_performance_0.770082821988038', changement=0),\n",
       " Row(id=1, timestamp=144, velo='velo_velo_20649_performance_0.770082821988038', changement=0),\n",
       " Row(id=1, timestamp=145, velo='velo_velo_20649_performance_0.770082821988038', changement=0),\n",
       " Row(id=1, timestamp=146, velo='velo_velo_20649_performance_0.770082821988038', changement=0),\n",
       " Row(id=1, timestamp=147, velo='False', changement=1),\n",
       " Row(id=1, timestamp=148, velo='False', changement=0),\n",
       " Row(id=1, timestamp=149, velo='False', changement=0),\n",
       " Row(id=1, timestamp=150, velo='False', changement=0),\n",
       " Row(id=1, timestamp=151, velo='velo_velo_20659_performance_0.48780610475885217', changement=1),\n",
       " Row(id=1, timestamp=152, velo='velo_velo_20659_performance_0.48780610475885217', changement=0),\n",
       " Row(id=1, timestamp=153, velo='velo_velo_20659_performance_0.48780610475885217', changement=0),\n",
       " Row(id=1, timestamp=154, velo='velo_velo_20659_performance_0.48780610475885217', changement=0),\n",
       " Row(id=1, timestamp=155, velo='velo_velo_20659_performance_0.48780610475885217', changement=0),\n",
       " Row(id=1, timestamp=156, velo='velo_velo_20659_performance_0.48780610475885217', changement=0),\n",
       " Row(id=1, timestamp=157, velo='velo_velo_20659_performance_0.48780610475885217', changement=0),\n",
       " Row(id=1, timestamp=158, velo='velo_velo_20659_performance_0.48780610475885217', changement=0),\n",
       " Row(id=1, timestamp=159, velo='velo_velo_20659_performance_0.48780610475885217', changement=0),\n",
       " Row(id=1, timestamp=160, velo='velo_velo_20659_performance_0.48780610475885217', changement=0),\n",
       " Row(id=1, timestamp=161, velo='velo_velo_20659_performance_0.48780610475885217', changement=0),\n",
       " Row(id=1, timestamp=162, velo='velo_velo_20659_performance_0.48780610475885217', changement=0),\n",
       " Row(id=1, timestamp=163, velo='velo_velo_20659_performance_0.48780610475885217', changement=0),\n",
       " Row(id=1, timestamp=164, velo='velo_velo_20659_performance_0.48780610475885217', changement=0),\n",
       " Row(id=1, timestamp=165, velo='velo_velo_20659_performance_0.48780610475885217', changement=0),\n",
       " Row(id=1, timestamp=166, velo='velo_velo_20659_performance_0.48780610475885217', changement=0),\n",
       " Row(id=1, timestamp=167, velo='velo_velo_20659_performance_0.48780610475885217', changement=0),\n",
       " Row(id=1, timestamp=168, velo='velo_velo_20659_performance_0.48780610475885217', changement=0),\n",
       " Row(id=1, timestamp=169, velo='velo_velo_20659_performance_0.48780610475885217', changement=0),\n",
       " Row(id=1, timestamp=170, velo='velo_velo_20659_performance_0.48780610475885217', changement=0),\n",
       " Row(id=1, timestamp=171, velo='velo_velo_20659_performance_0.48780610475885217', changement=0),\n",
       " Row(id=1, timestamp=172, velo='velo_velo_20659_performance_0.48780610475885217', changement=0),\n",
       " Row(id=1, timestamp=173, velo='velo_velo_20659_performance_0.48780610475885217', changement=0),\n",
       " Row(id=1, timestamp=174, velo='velo_velo_20659_performance_0.48780610475885217', changement=0),\n",
       " Row(id=1, timestamp=175, velo='velo_velo_20659_performance_0.48780610475885217', changement=0),\n",
       " Row(id=1, timestamp=176, velo='velo_velo_20659_performance_0.48780610475885217', changement=0),\n",
       " Row(id=1, timestamp=177, velo='velo_velo_20659_performance_0.48780610475885217', changement=0),\n",
       " Row(id=1, timestamp=178, velo='velo_velo_20659_performance_0.48780610475885217', changement=0),\n",
       " Row(id=1, timestamp=179, velo='velo_velo_20659_performance_0.48780610475885217', changement=0),\n",
       " Row(id=1, timestamp=180, velo='velo_velo_20659_performance_0.48780610475885217', changement=0),\n",
       " Row(id=1, timestamp=181, velo='velo_velo_20659_performance_0.48780610475885217', changement=0),\n",
       " Row(id=1, timestamp=182, velo='velo_velo_20659_performance_0.48780610475885217', changement=0),\n",
       " Row(id=1, timestamp=183, velo='velo_velo_20659_performance_0.48780610475885217', changement=0),\n",
       " Row(id=1, timestamp=184, velo='velo_velo_20659_performance_0.48780610475885217', changement=0),\n",
       " Row(id=1, timestamp=185, velo='velo_velo_20659_performance_0.48780610475885217', changement=0),\n",
       " Row(id=1, timestamp=186, velo='velo_velo_20659_performance_0.48780610475885217', changement=0),\n",
       " Row(id=1, timestamp=187, velo='velo_velo_20659_performance_0.48780610475885217', changement=0),\n",
       " Row(id=1, timestamp=188, velo='velo_velo_20659_performance_0.48780610475885217', changement=0),\n",
       " Row(id=1, timestamp=189, velo='velo_velo_20659_performance_0.48780610475885217', changement=0),\n",
       " Row(id=1, timestamp=190, velo='velo_velo_20659_performance_0.48780610475885217', changement=0),\n",
       " Row(id=1, timestamp=191, velo='velo_velo_20659_performance_0.48780610475885217', changement=0),\n",
       " Row(id=1, timestamp=192, velo='velo_velo_20659_performance_0.48780610475885217', changement=0),\n",
       " Row(id=1, timestamp=193, velo='velo_velo_20659_performance_0.48780610475885217', changement=0),\n",
       " Row(id=1, timestamp=194, velo='velo_velo_20659_performance_0.48780610475885217', changement=0),\n",
       " Row(id=1, timestamp=195, velo='velo_velo_20659_performance_0.48780610475885217', changement=0),\n",
       " Row(id=1, timestamp=196, velo='velo_velo_20659_performance_0.48780610475885217', changement=0),\n",
       " Row(id=1, timestamp=197, velo='velo_velo_20659_performance_0.48780610475885217', changement=0),\n",
       " Row(id=1, timestamp=198, velo='velo_velo_20659_performance_0.48780610475885217', changement=0),\n",
       " Row(id=1, timestamp=199, velo='False', changement=1),\n",
       " Row(id=1, timestamp=200, velo='False', changement=0),\n",
       " Row(id=1, timestamp=201, velo='False', changement=0),\n",
       " Row(id=1, timestamp=202, velo='False', changement=0),\n",
       " Row(id=1, timestamp=203, velo='velo_velo_20654_performance_0.8865189642903856', changement=1),\n",
       " Row(id=1, timestamp=204, velo='velo_velo_20654_performance_0.8865189642903856', changement=0),\n",
       " Row(id=1, timestamp=205, velo='velo_velo_20654_performance_0.8865189642903856', changement=0),\n",
       " Row(id=1, timestamp=206, velo='velo_velo_20654_performance_0.8865189642903856', changement=0),\n",
       " Row(id=1, timestamp=207, velo='velo_velo_20654_performance_0.8865189642903856', changement=0),\n",
       " Row(id=1, timestamp=208, velo='velo_velo_20654_performance_0.8865189642903856', changement=0),\n",
       " Row(id=1, timestamp=209, velo='velo_velo_20654_performance_0.8865189642903856', changement=0),\n",
       " Row(id=1, timestamp=210, velo='velo_velo_20654_performance_0.8865189642903856', changement=0),\n",
       " Row(id=1, timestamp=211, velo='velo_velo_20654_performance_0.8865189642903856', changement=0),\n",
       " Row(id=1, timestamp=212, velo='velo_velo_20654_performance_0.8865189642903856', changement=0),\n",
       " Row(id=1, timestamp=213, velo='velo_velo_20654_performance_0.8865189642903856', changement=0),\n",
       " Row(id=1, timestamp=214, velo='velo_velo_20654_performance_0.8865189642903856', changement=0),\n",
       " Row(id=1, timestamp=215, velo='velo_velo_20654_performance_0.8865189642903856', changement=0),\n",
       " Row(id=1, timestamp=216, velo='velo_velo_20654_performance_0.8865189642903856', changement=0),\n",
       " Row(id=1, timestamp=217, velo='velo_velo_20654_performance_0.8865189642903856', changement=0),\n",
       " Row(id=1, timestamp=218, velo='velo_velo_20654_performance_0.8865189642903856', changement=0),\n",
       " Row(id=1, timestamp=219, velo='velo_velo_20654_performance_0.8865189642903856', changement=0),\n",
       " Row(id=1, timestamp=220, velo='velo_velo_20654_performance_0.8865189642903856', changement=0),\n",
       " Row(id=1, timestamp=221, velo='velo_velo_20654_performance_0.8865189642903856', changement=0),\n",
       " Row(id=1, timestamp=222, velo='velo_velo_20654_performance_0.8865189642903856', changement=0),\n",
       " Row(id=1, timestamp=223, velo='velo_velo_20654_performance_0.8865189642903856', changement=0),\n",
       " Row(id=1, timestamp=224, velo='velo_velo_20654_performance_0.8865189642903856', changement=0),\n",
       " Row(id=1, timestamp=225, velo='velo_velo_20654_performance_0.8865189642903856', changement=0),\n",
       " Row(id=1, timestamp=226, velo='velo_velo_20654_performance_0.8865189642903856', changement=0),\n",
       " Row(id=1, timestamp=227, velo='velo_velo_20654_performance_0.8865189642903856', changement=0),\n",
       " Row(id=1, timestamp=228, velo='velo_velo_20654_performance_0.8865189642903856', changement=0),\n",
       " Row(id=1, timestamp=229, velo='velo_velo_20654_performance_0.8865189642903856', changement=0),\n",
       " Row(id=1, timestamp=230, velo='False', changement=1),\n",
       " Row(id=1, timestamp=231, velo='False', changement=0),\n",
       " Row(id=1, timestamp=232, velo='False', changement=0),\n",
       " Row(id=1, timestamp=233, velo='False', changement=0),\n",
       " Row(id=1, timestamp=234, velo='velo_velo_20654_performance_0.8615512739437448', changement=1),\n",
       " Row(id=1, timestamp=235, velo='velo_velo_20654_performance_0.8615512739437448', changement=0),\n",
       " Row(id=1, timestamp=236, velo='velo_velo_20654_performance_0.8615512739437448', changement=0),\n",
       " Row(id=1, timestamp=237, velo='velo_velo_20654_performance_0.8615512739437448', changement=0),\n",
       " Row(id=1, timestamp=238, velo='velo_velo_20654_performance_0.8615512739437448', changement=0),\n",
       " Row(id=1, timestamp=239, velo='velo_velo_20654_performance_0.8615512739437448', changement=0),\n",
       " Row(id=1, timestamp=240, velo='velo_velo_20654_performance_0.8615512739437448', changement=0),\n",
       " Row(id=1, timestamp=241, velo='velo_velo_20654_performance_0.8615512739437448', changement=0),\n",
       " Row(id=1, timestamp=242, velo='velo_velo_20654_performance_0.8615512739437448', changement=0),\n",
       " Row(id=1, timestamp=243, velo='velo_velo_20654_performance_0.8615512739437448', changement=0),\n",
       " Row(id=1, timestamp=244, velo='velo_velo_20654_performance_0.8615512739437448', changement=0),\n",
       " Row(id=1, timestamp=245, velo='velo_velo_20654_performance_0.8615512739437448', changement=0),\n",
       " Row(id=1, timestamp=246, velo='velo_velo_20654_performance_0.8615512739437448', changement=0),\n",
       " Row(id=1, timestamp=247, velo='velo_velo_20654_performance_0.8615512739437448', changement=0),\n",
       " Row(id=1, timestamp=248, velo='velo_velo_20654_performance_0.8615512739437448', changement=0),\n",
       " Row(id=1, timestamp=249, velo='velo_velo_20654_performance_0.8615512739437448', changement=0),\n",
       " Row(id=1, timestamp=250, velo='velo_velo_20654_performance_0.8615512739437448', changement=0),\n",
       " Row(id=1, timestamp=251, velo='velo_velo_20654_performance_0.8615512739437448', changement=0),\n",
       " Row(id=1, timestamp=252, velo='velo_velo_20654_performance_0.8615512739437448', changement=0),\n",
       " Row(id=1, timestamp=253, velo='velo_velo_20654_performance_0.8615512739437448', changement=0),\n",
       " Row(id=1, timestamp=254, velo='velo_velo_20654_performance_0.8615512739437448', changement=0),\n",
       " Row(id=1, timestamp=255, velo='velo_velo_20654_performance_0.8615512739437448', changement=0),\n",
       " Row(id=1, timestamp=256, velo='velo_velo_20654_performance_0.8615512739437448', changement=0),\n",
       " Row(id=1, timestamp=257, velo='velo_velo_20654_performance_0.8615512739437448', changement=0),\n",
       " Row(id=1, timestamp=258, velo='velo_velo_20654_performance_0.8615512739437448', changement=0),\n",
       " Row(id=1, timestamp=259, velo='velo_velo_20654_performance_0.8615512739437448', changement=0),\n",
       " Row(id=1, timestamp=260, velo='velo_velo_20654_performance_0.8615512739437448', changement=0),\n",
       " Row(id=1, timestamp=261, velo='velo_velo_20654_performance_0.8615512739437448', changement=0),\n",
       " Row(id=1, timestamp=262, velo='False', changement=1),\n",
       " Row(id=1, timestamp=263, velo='False', changement=0),\n",
       " Row(id=1, timestamp=264, velo='False', changement=0),\n",
       " Row(id=1, timestamp=265, velo='False', changement=0),\n",
       " Row(id=1, timestamp=266, velo='velo_velo_20645_performance_0.5', changement=1),\n",
       " Row(id=1, timestamp=267, velo='velo_velo_20645_performance_0.5', changement=0),\n",
       " Row(id=1, timestamp=268, velo='velo_velo_20645_performance_0.5', changement=0),\n",
       " Row(id=1, timestamp=269, velo='velo_velo_20645_performance_0.5', changement=0),\n",
       " Row(id=1, timestamp=270, velo='velo_velo_20645_performance_0.5', changement=0),\n",
       " Row(id=1, timestamp=271, velo='velo_velo_20645_performance_0.5', changement=0),\n",
       " Row(id=1, timestamp=272, velo='velo_velo_20645_performance_0.5', changement=0),\n",
       " Row(id=1, timestamp=273, velo='velo_velo_20645_performance_0.5', changement=0),\n",
       " Row(id=1, timestamp=274, velo='velo_velo_20645_performance_0.5', changement=0),\n",
       " Row(id=1, timestamp=275, velo='velo_velo_20645_performance_0.5', changement=0),\n",
       " Row(id=1, timestamp=276, velo='velo_velo_20645_performance_0.5', changement=0),\n",
       " Row(id=1, timestamp=277, velo='velo_velo_20645_performance_0.5', changement=0),\n",
       " Row(id=1, timestamp=278, velo='velo_velo_20645_performance_0.5', changement=0),\n",
       " Row(id=1, timestamp=279, velo='velo_velo_20645_performance_0.5', changement=0),\n",
       " Row(id=1, timestamp=280, velo='velo_velo_20645_performance_0.5', changement=0),\n",
       " Row(id=1, timestamp=281, velo='velo_velo_20645_performance_0.5', changement=0),\n",
       " Row(id=1, timestamp=282, velo='velo_velo_20645_performance_0.5', changement=0),\n",
       " Row(id=1, timestamp=283, velo='velo_velo_20645_performance_0.5', changement=0),\n",
       " Row(id=1, timestamp=284, velo='velo_velo_20645_performance_0.5', changement=0),\n",
       " Row(id=1, timestamp=285, velo='velo_velo_20645_performance_0.5', changement=0),\n",
       " Row(id=1, timestamp=286, velo='velo_velo_20645_performance_0.5', changement=0),\n",
       " Row(id=1, timestamp=287, velo='velo_velo_20645_performance_0.5', changement=0),\n",
       " Row(id=1, timestamp=288, velo='velo_velo_20645_performance_0.5', changement=0),\n",
       " Row(id=1, timestamp=289, velo='velo_velo_20645_performance_0.5', changement=0),\n",
       " Row(id=1, timestamp=290, velo='velo_velo_20645_performance_0.5', changement=0),\n",
       " Row(id=1, timestamp=291, velo='velo_velo_20645_performance_0.5', changement=0),\n",
       " Row(id=1, timestamp=292, velo='velo_velo_20645_performance_0.5', changement=0),\n",
       " Row(id=1, timestamp=293, velo='velo_velo_20645_performance_0.5', changement=0),\n",
       " Row(id=1, timestamp=294, velo='velo_velo_20645_performance_0.5', changement=0),\n",
       " Row(id=1, timestamp=295, velo='velo_velo_20645_performance_0.5', changement=0),\n",
       " Row(id=1, timestamp=296, velo='velo_velo_20645_performance_0.5', changement=0),\n",
       " Row(id=1, timestamp=297, velo='velo_velo_20645_performance_0.5', changement=0),\n",
       " Row(id=1, timestamp=298, velo='velo_velo_20645_performance_0.5', changement=0),\n",
       " Row(id=1, timestamp=299, velo='velo_velo_20645_performance_0.5', changement=0),\n",
       " Row(id=1, timestamp=300, velo='velo_velo_20645_performance_0.5', changement=0),\n",
       " Row(id=1, timestamp=301, velo='velo_velo_20645_performance_0.5', changement=0),\n",
       " Row(id=1, timestamp=302, velo='velo_velo_20645_performance_0.5', changement=0),\n",
       " Row(id=1, timestamp=303, velo='velo_velo_20645_performance_0.5', changement=0),\n",
       " Row(id=1, timestamp=304, velo='velo_velo_20645_performance_0.5', changement=0),\n",
       " Row(id=1, timestamp=305, velo='velo_velo_20645_performance_0.5', changement=0),\n",
       " Row(id=1, timestamp=306, velo='velo_velo_20645_performance_0.5', changement=0),\n",
       " Row(id=1, timestamp=307, velo='velo_velo_20645_performance_0.5', changement=0),\n",
       " Row(id=1, timestamp=308, velo='velo_velo_20645_performance_0.5', changement=0),\n",
       " Row(id=1, timestamp=309, velo='velo_velo_20645_performance_0.5', changement=0),\n",
       " Row(id=1, timestamp=310, velo='velo_velo_20645_performance_0.5', changement=0),\n",
       " Row(id=1, timestamp=311, velo='velo_velo_20645_performance_0.5', changement=0),\n",
       " Row(id=1, timestamp=312, velo='velo_velo_20645_performance_0.5', changement=0),\n",
       " Row(id=1, timestamp=313, velo='False', changement=1),\n",
       " Row(id=1, timestamp=314, velo='False', changement=0),\n",
       " Row(id=1, timestamp=315, velo='False', changement=0),\n",
       " Row(id=1, timestamp=316, velo='False', changement=0),\n",
       " Row(id=1, timestamp=317, velo='velo_velo_20649_performance_0.7564096197950281', changement=1),\n",
       " Row(id=1, timestamp=318, velo='velo_velo_20649_performance_0.7564096197950281', changement=0),\n",
       " Row(id=1, timestamp=319, velo='velo_velo_20649_performance_0.7564096197950281', changement=0),\n",
       " Row(id=1, timestamp=320, velo='velo_velo_20649_performance_0.7564096197950281', changement=0),\n",
       " Row(id=1, timestamp=321, velo='velo_velo_20649_performance_0.7564096197950281', changement=0),\n",
       " Row(id=1, timestamp=322, velo='velo_velo_20649_performance_0.7564096197950281', changement=0),\n",
       " Row(id=1, timestamp=323, velo='velo_velo_20649_performance_0.7564096197950281', changement=0),\n",
       " Row(id=1, timestamp=324, velo='velo_velo_20649_performance_0.7564096197950281', changement=0),\n",
       " Row(id=1, timestamp=325, velo='velo_velo_20649_performance_0.7564096197950281', changement=0),\n",
       " Row(id=1, timestamp=326, velo='velo_velo_20649_performance_0.7564096197950281', changement=0),\n",
       " Row(id=1, timestamp=327, velo='velo_velo_20649_performance_0.7564096197950281', changement=0),\n",
       " Row(id=1, timestamp=328, velo='velo_velo_20649_performance_0.7564096197950281', changement=0),\n",
       " Row(id=1, timestamp=329, velo='velo_velo_20649_performance_0.7564096197950281', changement=0),\n",
       " Row(id=1, timestamp=330, velo='velo_velo_20649_performance_0.7564096197950281', changement=0),\n",
       " Row(id=1, timestamp=331, velo='velo_velo_20649_performance_0.7564096197950281', changement=0),\n",
       " Row(id=1, timestamp=332, velo='velo_velo_20649_performance_0.7564096197950281', changement=0),\n",
       " Row(id=1, timestamp=333, velo='velo_velo_20649_performance_0.7564096197950281', changement=0),\n",
       " Row(id=1, timestamp=334, velo='velo_velo_20649_performance_0.7564096197950281', changement=0),\n",
       " Row(id=1, timestamp=335, velo='velo_velo_20649_performance_0.7564096197950281', changement=0),\n",
       " Row(id=1, timestamp=336, velo='velo_velo_20649_performance_0.7564096197950281', changement=0),\n",
       " Row(id=1, timestamp=337, velo='velo_velo_20649_performance_0.7564096197950281', changement=0),\n",
       " Row(id=1, timestamp=338, velo='velo_velo_20649_performance_0.7564096197950281', changement=0),\n",
       " Row(id=1, timestamp=339, velo='velo_velo_20649_performance_0.7564096197950281', changement=0),\n",
       " Row(id=1, timestamp=340, velo='velo_velo_20649_performance_0.7564096197950281', changement=0),\n",
       " Row(id=1, timestamp=341, velo='velo_velo_20649_performance_0.7564096197950281', changement=0),\n",
       " Row(id=1, timestamp=342, velo='velo_velo_20649_performance_0.7564096197950281', changement=0),\n",
       " Row(id=1, timestamp=343, velo='velo_velo_20649_performance_0.7564096197950281', changement=0),\n",
       " Row(id=1, timestamp=344, velo='velo_velo_20649_performance_0.7564096197950281', changement=0),\n",
       " Row(id=1, timestamp=345, velo='velo_velo_20649_performance_0.7564096197950281', changement=0),\n",
       " Row(id=1, timestamp=346, velo='velo_velo_20649_performance_0.7564096197950281', changement=0),\n",
       " Row(id=1, timestamp=347, velo='velo_velo_20649_performance_0.7564096197950281', changement=0),\n",
       " Row(id=1, timestamp=348, velo='velo_velo_20649_performance_0.7564096197950281', changement=0),\n",
       " Row(id=1, timestamp=349, velo='False', changement=1),\n",
       " Row(id=1, timestamp=350, velo='False', changement=0),\n",
       " Row(id=1, timestamp=351, velo='False', changement=0),\n",
       " Row(id=1, timestamp=352, velo='False', changement=0),\n",
       " Row(id=1, timestamp=353, velo='velo_velo_20670_performance_0.8876224922910806', changement=1),\n",
       " Row(id=1, timestamp=354, velo='velo_velo_20670_performance_0.8876224922910806', changement=0),\n",
       " Row(id=1, timestamp=355, velo='velo_velo_20670_performance_0.8876224922910806', changement=0),\n",
       " Row(id=1, timestamp=356, velo='velo_velo_20670_performance_0.8876224922910806', changement=0),\n",
       " Row(id=1, timestamp=357, velo='velo_velo_20670_performance_0.8876224922910806', changement=0),\n",
       " Row(id=1, timestamp=358, velo='velo_velo_20670_performance_0.8876224922910806', changement=0),\n",
       " Row(id=1, timestamp=359, velo='velo_velo_20670_performance_0.8876224922910806', changement=0),\n",
       " Row(id=1, timestamp=360, velo='velo_velo_20670_performance_0.8876224922910806', changement=0),\n",
       " Row(id=1, timestamp=361, velo='velo_velo_20670_performance_0.8876224922910806', changement=0),\n",
       " Row(id=1, timestamp=362, velo='velo_velo_20670_performance_0.8876224922910806', changement=0),\n",
       " Row(id=1, timestamp=363, velo='velo_velo_20670_performance_0.8876224922910806', changement=0),\n",
       " Row(id=1, timestamp=364, velo='velo_velo_20670_performance_0.8876224922910806', changement=0),\n",
       " Row(id=1, timestamp=365, velo='velo_velo_20670_performance_0.8876224922910806', changement=0),\n",
       " Row(id=1, timestamp=366, velo='velo_velo_20670_performance_0.8876224922910806', changement=0),\n",
       " Row(id=1, timestamp=367, velo='velo_velo_20670_performance_0.8876224922910806', changement=0),\n",
       " Row(id=1, timestamp=368, velo='velo_velo_20670_performance_0.8876224922910806', changement=0),\n",
       " Row(id=1, timestamp=369, velo='velo_velo_20670_performance_0.8876224922910806', changement=0),\n",
       " Row(id=1, timestamp=370, velo='velo_velo_20670_performance_0.8876224922910806', changement=0),\n",
       " Row(id=1, timestamp=371, velo='velo_velo_20670_performance_0.8876224922910806', changement=0),\n",
       " Row(id=1, timestamp=372, velo='velo_velo_20670_performance_0.8876224922910806', changement=0),\n",
       " Row(id=1, timestamp=373, velo='velo_velo_20670_performance_0.8876224922910806', changement=0),\n",
       " Row(id=1, timestamp=374, velo='velo_velo_20670_performance_0.8876224922910806', changement=0),\n",
       " Row(id=1, timestamp=375, velo='velo_velo_20670_performance_0.8876224922910806', changement=0),\n",
       " Row(id=1, timestamp=376, velo='velo_velo_20670_performance_0.8876224922910806', changement=0),\n",
       " Row(id=1, timestamp=377, velo='velo_velo_20670_performance_0.8876224922910806', changement=0),\n",
       " Row(id=1, timestamp=378, velo='velo_velo_20670_performance_0.8876224922910806', changement=0),\n",
       " Row(id=1, timestamp=379, velo='velo_velo_20670_performance_0.8876224922910806', changement=0),\n",
       " Row(id=1, timestamp=380, velo='False', changement=1),\n",
       " Row(id=1, timestamp=381, velo='False', changement=0),\n",
       " Row(id=1, timestamp=382, velo='False', changement=0),\n",
       " Row(id=1, timestamp=383, velo='False', changement=0),\n",
       " Row(id=1, timestamp=384, velo='velo_velo_20645_performance_0.48672059039098803', changement=1),\n",
       " Row(id=1, timestamp=385, velo='velo_velo_20645_performance_0.48672059039098803', changement=0),\n",
       " Row(id=1, timestamp=386, velo='velo_velo_20645_performance_0.48672059039098803', changement=0),\n",
       " Row(id=1, timestamp=387, velo='velo_velo_20645_performance_0.48672059039098803', changement=0),\n",
       " Row(id=1, timestamp=388, velo='velo_velo_20645_performance_0.48672059039098803', changement=0),\n",
       " Row(id=1, timestamp=389, velo='velo_velo_20645_performance_0.48672059039098803', changement=0),\n",
       " Row(id=1, timestamp=390, velo='velo_velo_20645_performance_0.48672059039098803', changement=0),\n",
       " Row(id=1, timestamp=391, velo='velo_velo_20645_performance_0.48672059039098803', changement=0),\n",
       " Row(id=1, timestamp=392, velo='velo_velo_20645_performance_0.48672059039098803', changement=0),\n",
       " Row(id=1, timestamp=393, velo='velo_velo_20645_performance_0.48672059039098803', changement=0),\n",
       " Row(id=1, timestamp=394, velo='velo_velo_20645_performance_0.48672059039098803', changement=0),\n",
       " Row(id=1, timestamp=395, velo='velo_velo_20645_performance_0.48672059039098803', changement=0),\n",
       " Row(id=1, timestamp=396, velo='velo_velo_20645_performance_0.48672059039098803', changement=0),\n",
       " Row(id=1, timestamp=397, velo='velo_velo_20645_performance_0.48672059039098803', changement=0),\n",
       " Row(id=1, timestamp=398, velo='velo_velo_20645_performance_0.48672059039098803', changement=0),\n",
       " Row(id=1, timestamp=399, velo='velo_velo_20645_performance_0.48672059039098803', changement=0),\n",
       " Row(id=1, timestamp=400, velo='velo_velo_20645_performance_0.48672059039098803', changement=0),\n",
       " Row(id=2, timestamp=1, velo='False', changement=1),\n",
       " Row(id=2, timestamp=2, velo='False', changement=0),\n",
       " Row(id=2, timestamp=3, velo='velo_velo_9386_performance_0.5', changement=1),\n",
       " Row(id=2, timestamp=4, velo='velo_velo_9386_performance_0.5', changement=0),\n",
       " Row(id=2, timestamp=5, velo='velo_velo_9386_performance_0.5', changement=0),\n",
       " Row(id=2, timestamp=6, velo='velo_velo_9386_performance_0.5', changement=0),\n",
       " Row(id=2, timestamp=7, velo='velo_velo_9386_performance_0.5', changement=0),\n",
       " Row(id=2, timestamp=8, velo='velo_velo_9386_performance_0.5', changement=0),\n",
       " Row(id=2, timestamp=9, velo='velo_velo_9386_performance_0.5', changement=0),\n",
       " Row(id=2, timestamp=10, velo='velo_velo_9386_performance_0.5', changement=0),\n",
       " Row(id=2, timestamp=11, velo='velo_velo_9386_performance_0.5', changement=0),\n",
       " Row(id=2, timestamp=12, velo='velo_velo_9386_performance_0.5', changement=0),\n",
       " Row(id=2, timestamp=13, velo='velo_velo_9386_performance_0.5', changement=0),\n",
       " Row(id=2, timestamp=14, velo='velo_velo_9386_performance_0.5', changement=0),\n",
       " Row(id=2, timestamp=15, velo='velo_velo_9386_performance_0.5', changement=0),\n",
       " Row(id=2, timestamp=16, velo='velo_velo_9386_performance_0.5', changement=0),\n",
       " Row(id=2, timestamp=17, velo='velo_velo_9386_performance_0.5', changement=0),\n",
       " Row(id=2, timestamp=18, velo='velo_velo_9386_performance_0.5', changement=0),\n",
       " Row(id=2, timestamp=19, velo='velo_velo_9386_performance_0.5', changement=0),\n",
       " Row(id=2, timestamp=20, velo='velo_velo_9386_performance_0.5', changement=0),\n",
       " Row(id=2, timestamp=21, velo='velo_velo_9386_performance_0.5', changement=0),\n",
       " Row(id=2, timestamp=22, velo='velo_velo_9386_performance_0.5', changement=0),\n",
       " Row(id=2, timestamp=23, velo='velo_velo_9386_performance_0.5', changement=0),\n",
       " Row(id=2, timestamp=24, velo='velo_velo_9386_performance_0.5', changement=0),\n",
       " Row(id=2, timestamp=25, velo='velo_velo_9386_performance_0.5', changement=0),\n",
       " Row(id=2, timestamp=26, velo='False', changement=1),\n",
       " Row(id=2, timestamp=27, velo='False', changement=0),\n",
       " Row(id=2, timestamp=28, velo='False', changement=0),\n",
       " Row(id=2, timestamp=29, velo='False', changement=0),\n",
       " Row(id=2, timestamp=30, velo='False', changement=0),\n",
       " Row(id=2, timestamp=31, velo='False', changement=0),\n",
       " Row(id=2, timestamp=32, velo='velo_velo_5135_performance_0.5', changement=1),\n",
       " Row(id=2, timestamp=33, velo='velo_velo_5135_performance_0.5', changement=0),\n",
       " Row(id=2, timestamp=34, velo='velo_velo_5135_performance_0.5', changement=0),\n",
       " Row(id=2, timestamp=35, velo='velo_velo_5135_performance_0.5', changement=0),\n",
       " Row(id=2, timestamp=36, velo='velo_velo_5135_performance_0.5', changement=0),\n",
       " Row(id=2, timestamp=37, velo='velo_velo_5135_performance_0.5', changement=0),\n",
       " Row(id=2, timestamp=38, velo='velo_velo_5135_performance_0.5', changement=0),\n",
       " Row(id=2, timestamp=39, velo='velo_velo_5135_performance_0.5', changement=0),\n",
       " Row(id=2, timestamp=40, velo='velo_velo_5135_performance_0.5', changement=0),\n",
       " Row(id=2, timestamp=41, velo='velo_velo_5135_performance_0.5', changement=0),\n",
       " Row(id=2, timestamp=42, velo='velo_velo_5135_performance_0.5', changement=0),\n",
       " Row(id=2, timestamp=43, velo='velo_velo_5135_performance_0.5', changement=0),\n",
       " Row(id=2, timestamp=44, velo='velo_velo_5135_performance_0.5', changement=0),\n",
       " Row(id=2, timestamp=45, velo='velo_velo_5135_performance_0.5', changement=0),\n",
       " Row(id=2, timestamp=46, velo='velo_velo_5135_performance_0.5', changement=0),\n",
       " Row(id=2, timestamp=47, velo='velo_velo_5135_performance_0.5', changement=0),\n",
       " Row(id=2, timestamp=48, velo='velo_velo_5135_performance_0.5', changement=0),\n",
       " Row(id=2, timestamp=49, velo='velo_velo_5135_performance_0.5', changement=0),\n",
       " Row(id=2, timestamp=50, velo='velo_velo_5135_performance_0.5', changement=0),\n",
       " Row(id=2, timestamp=51, velo='velo_velo_5135_performance_0.5', changement=0),\n",
       " Row(id=2, timestamp=52, velo='velo_velo_5135_performance_0.5', changement=0),\n",
       " Row(id=2, timestamp=53, velo='velo_velo_5135_performance_0.5', changement=0),\n",
       " Row(id=2, timestamp=54, velo='velo_velo_5135_performance_0.5', changement=0),\n",
       " Row(id=2, timestamp=55, velo='False', changement=1),\n",
       " Row(id=2, timestamp=56, velo='False', changement=0),\n",
       " Row(id=2, timestamp=57, velo='False', changement=0),\n",
       " Row(id=2, timestamp=58, velo='False', changement=0),\n",
       " Row(id=2, timestamp=59, velo='velo_velo_9383_performance_0.9058870031793341', changement=1),\n",
       " Row(id=2, timestamp=60, velo='velo_velo_9383_performance_0.9058870031793341', changement=0),\n",
       " Row(id=2, timestamp=61, velo='velo_velo_9383_performance_0.9058870031793341', changement=0),\n",
       " Row(id=2, timestamp=62, velo='velo_velo_9383_performance_0.9058870031793341', changement=0),\n",
       " Row(id=2, timestamp=63, velo='velo_velo_9383_performance_0.9058870031793341', changement=0),\n",
       " Row(id=2, timestamp=64, velo='velo_velo_9383_performance_0.9058870031793341', changement=0),\n",
       " Row(id=2, timestamp=65, velo='velo_velo_9383_performance_0.9058870031793341', changement=0),\n",
       " Row(id=2, timestamp=66, velo='velo_velo_9383_performance_0.9058870031793341', changement=0),\n",
       " Row(id=2, timestamp=67, velo='velo_velo_9383_performance_0.9058870031793341', changement=0),\n",
       " Row(id=2, timestamp=68, velo='velo_velo_9383_performance_0.9058870031793341', changement=0),\n",
       " Row(id=2, timestamp=69, velo='velo_velo_9383_performance_0.9058870031793341', changement=0),\n",
       " Row(id=2, timestamp=70, velo='velo_velo_9383_performance_0.9058870031793341', changement=0),\n",
       " Row(id=2, timestamp=71, velo='velo_velo_9383_performance_0.9058870031793341', changement=0),\n",
       " Row(id=2, timestamp=72, velo='velo_velo_9383_performance_0.9058870031793341', changement=0),\n",
       " Row(id=2, timestamp=73, velo='False', changement=1),\n",
       " Row(id=2, timestamp=74, velo='False', changement=0),\n",
       " Row(id=2, timestamp=75, velo='False', changement=0),\n",
       " Row(id=2, timestamp=76, velo='False', changement=0),\n",
       " Row(id=2, timestamp=77, velo='False', changement=0),\n",
       " Row(id=2, timestamp=78, velo='False', changement=0),\n",
       " Row(id=2, timestamp=79, velo='velo_velo_5133_performance_0.5', changement=1),\n",
       " Row(id=2, timestamp=80, velo='velo_velo_5133_performance_0.5', changement=0),\n",
       " Row(id=2, timestamp=81, velo='velo_velo_5133_performance_0.5', changement=0),\n",
       " Row(id=2, timestamp=82, velo='velo_velo_5133_performance_0.5', changement=0),\n",
       " Row(id=2, timestamp=83, velo='velo_velo_5133_performance_0.5', changement=0),\n",
       " Row(id=2, timestamp=84, velo='velo_velo_5133_performance_0.5', changement=0),\n",
       " Row(id=2, timestamp=85, velo='velo_velo_5133_performance_0.5', changement=0),\n",
       " Row(id=2, timestamp=86, velo='velo_velo_5133_performance_0.5', changement=0),\n",
       " Row(id=2, timestamp=87, velo='velo_velo_5133_performance_0.5', changement=0),\n",
       " Row(id=2, timestamp=88, velo='velo_velo_5133_performance_0.5', changement=0),\n",
       " Row(id=2, timestamp=89, velo='velo_velo_5133_performance_0.5', changement=0),\n",
       " Row(id=2, timestamp=90, velo='velo_velo_5133_performance_0.5', changement=0),\n",
       " Row(id=2, timestamp=91, velo='velo_velo_5133_performance_0.5', changement=0),\n",
       " Row(id=2, timestamp=92, velo='velo_velo_5133_performance_0.5', changement=0),\n",
       " Row(id=2, timestamp=93, velo='velo_velo_5133_performance_0.5', changement=0),\n",
       " Row(id=2, timestamp=94, velo='velo_velo_5133_performance_0.5', changement=0),\n",
       " Row(id=2, timestamp=95, velo='velo_velo_5133_performance_0.5', changement=0),\n",
       " Row(id=2, timestamp=96, velo='velo_velo_5133_performance_0.5', changement=0),\n",
       " Row(id=2, timestamp=97, velo='velo_velo_5133_performance_0.5', changement=0),\n",
       " Row(id=2, timestamp=98, velo='velo_velo_5133_performance_0.5', changement=0),\n",
       " Row(id=2, timestamp=99, velo='velo_velo_5133_performance_0.5', changement=0),\n",
       " Row(id=2, timestamp=100, velo='velo_velo_5133_performance_0.5', changement=0),\n",
       " Row(id=2, timestamp=101, velo='velo_velo_5133_performance_0.5', changement=0),\n",
       " Row(id=2, timestamp=102, velo='False', changement=1),\n",
       " Row(id=2, timestamp=103, velo='False', changement=0),\n",
       " Row(id=2, timestamp=104, velo='False', changement=0),\n",
       " Row(id=2, timestamp=105, velo='False', changement=0),\n",
       " Row(id=2, timestamp=106, velo='velo_velo_9378_performance_0.5', changement=1),\n",
       " Row(id=2, timestamp=107, velo='velo_velo_9378_performance_0.5', changement=0),\n",
       " Row(id=2, timestamp=108, velo='velo_velo_9378_performance_0.5', changement=0),\n",
       " Row(id=2, timestamp=109, velo='velo_velo_9378_performance_0.5', changement=0),\n",
       " Row(id=2, timestamp=110, velo='velo_velo_9378_performance_0.5', changement=0),\n",
       " Row(id=2, timestamp=111, velo='velo_velo_9378_performance_0.5', changement=0),\n",
       " Row(id=2, timestamp=112, velo='velo_velo_9378_performance_0.5', changement=0),\n",
       " Row(id=2, timestamp=113, velo='velo_velo_9378_performance_0.5', changement=0),\n",
       " Row(id=2, timestamp=114, velo='velo_velo_9378_performance_0.5', changement=0),\n",
       " Row(id=2, timestamp=115, velo='velo_velo_9378_performance_0.5', changement=0),\n",
       " Row(id=2, timestamp=116, velo='velo_velo_9378_performance_0.5', changement=0),\n",
       " Row(id=2, timestamp=117, velo='velo_velo_9378_performance_0.5', changement=0),\n",
       " Row(id=2, timestamp=118, velo='velo_velo_9378_performance_0.5', changement=0),\n",
       " Row(id=2, timestamp=119, velo='velo_velo_9378_performance_0.5', changement=0),\n",
       " Row(id=2, timestamp=120, velo='velo_velo_9378_performance_0.5', changement=0),\n",
       " Row(id=2, timestamp=121, velo='velo_velo_9378_performance_0.5', changement=0),\n",
       " Row(id=2, timestamp=122, velo='velo_velo_9378_performance_0.5', changement=0),\n",
       " Row(id=2, timestamp=123, velo='velo_velo_9378_performance_0.5', changement=0),\n",
       " Row(id=2, timestamp=124, velo='velo_velo_9378_performance_0.5', changement=0),\n",
       " Row(id=2, timestamp=125, velo='velo_velo_9378_performance_0.5', changement=0),\n",
       " Row(id=2, timestamp=126, velo='velo_velo_9378_performance_0.5', changement=0),\n",
       " Row(id=2, timestamp=127, velo='velo_velo_9378_performance_0.5', changement=0),\n",
       " Row(id=2, timestamp=128, velo='velo_velo_9378_performance_0.5', changement=0),\n",
       " Row(id=2, timestamp=129, velo='False', changement=1),\n",
       " Row(id=2, timestamp=130, velo='False', changement=0),\n",
       " Row(id=2, timestamp=131, velo='False', changement=0),\n",
       " Row(id=2, timestamp=132, velo='False', changement=0),\n",
       " Row(id=2, timestamp=133, velo='False', changement=0),\n",
       " Row(id=2, timestamp=134, velo='False', changement=0),\n",
       " Row(id=2, timestamp=135, velo='velo_velo_5132_performance_0.48973963786565944', changement=1),\n",
       " Row(id=2, timestamp=136, velo='velo_velo_5132_performance_0.48973963786565944', changement=0),\n",
       " Row(id=2, timestamp=137, velo='velo_velo_5132_performance_0.48973963786565944', changement=0),\n",
       " Row(id=2, timestamp=138, velo='velo_velo_5132_performance_0.48973963786565944', changement=0),\n",
       " Row(id=2, timestamp=139, velo='velo_velo_5132_performance_0.48973963786565944', changement=0),\n",
       " Row(id=2, timestamp=140, velo='velo_velo_5132_performance_0.48973963786565944', changement=0),\n",
       " Row(id=2, timestamp=141, velo='velo_velo_5132_performance_0.48973963786565944', changement=0),\n",
       " Row(id=2, timestamp=142, velo='velo_velo_5132_performance_0.48973963786565944', changement=0),\n",
       " Row(id=2, timestamp=143, velo='velo_velo_5132_performance_0.48973963786565944', changement=0),\n",
       " Row(id=2, timestamp=144, velo='velo_velo_5132_performance_0.48973963786565944', changement=0),\n",
       " Row(id=2, timestamp=145, velo='velo_velo_5132_performance_0.48973963786565944', changement=0),\n",
       " Row(id=2, timestamp=146, velo='velo_velo_5132_performance_0.48973963786565944', changement=0),\n",
       " Row(id=2, timestamp=147, velo='velo_velo_5132_performance_0.48973963786565944', changement=0),\n",
       " Row(id=2, timestamp=148, velo='velo_velo_5132_performance_0.48973963786565944', changement=0),\n",
       " Row(id=2, timestamp=149, velo='velo_velo_5132_performance_0.48973963786565944', changement=0),\n",
       " Row(id=2, timestamp=150, velo='velo_velo_5132_performance_0.48973963786565944', changement=0),\n",
       " Row(id=2, timestamp=151, velo='velo_velo_5132_performance_0.48973963786565944', changement=0),\n",
       " Row(id=2, timestamp=152, velo='velo_velo_5132_performance_0.48973963786565944', changement=0),\n",
       " Row(id=2, timestamp=153, velo='velo_velo_5132_performance_0.48973963786565944', changement=0),\n",
       " Row(id=2, timestamp=154, velo='velo_velo_5132_performance_0.48973963786565944', changement=0),\n",
       " Row(id=2, timestamp=155, velo='velo_velo_5132_performance_0.48973963786565944', changement=0),\n",
       " Row(id=2, timestamp=156, velo='velo_velo_5132_performance_0.48973963786565944', changement=0),\n",
       " Row(id=2, timestamp=157, velo='velo_velo_5132_performance_0.48973963786565944', changement=0),\n",
       " Row(id=2, timestamp=158, velo='velo_velo_5132_performance_0.48973963786565944', changement=0),\n",
       " Row(id=2, timestamp=159, velo='False', changement=1),\n",
       " Row(id=2, timestamp=160, velo='False', changement=0),\n",
       " Row(id=2, timestamp=161, velo='False', changement=0),\n",
       " Row(id=2, timestamp=162, velo='False', changement=0),\n",
       " Row(id=2, timestamp=163, velo='velo_velo_9381_performance_0.5874831878226214', changement=1),\n",
       " Row(id=2, timestamp=164, velo='velo_velo_9381_performance_0.5874831878226214', changement=0),\n",
       " Row(id=2, timestamp=165, velo='velo_velo_9381_performance_0.5874831878226214', changement=0),\n",
       " Row(id=2, timestamp=166, velo='velo_velo_9381_performance_0.5874831878226214', changement=0),\n",
       " Row(id=2, timestamp=167, velo='velo_velo_9381_performance_0.5874831878226214', changement=0),\n",
       " Row(id=2, timestamp=168, velo='velo_velo_9381_performance_0.5874831878226214', changement=0),\n",
       " Row(id=2, timestamp=169, velo='velo_velo_9381_performance_0.5874831878226214', changement=0),\n",
       " Row(id=2, timestamp=170, velo='velo_velo_9381_performance_0.5874831878226214', changement=0),\n",
       " Row(id=2, timestamp=171, velo='velo_velo_9381_performance_0.5874831878226214', changement=0),\n",
       " Row(id=2, timestamp=172, velo='velo_velo_9381_performance_0.5874831878226214', changement=0),\n",
       " Row(id=2, timestamp=173, velo='velo_velo_9381_performance_0.5874831878226214', changement=0),\n",
       " Row(id=2, timestamp=174, velo='velo_velo_9381_performance_0.5874831878226214', changement=0),\n",
       " Row(id=2, timestamp=175, velo='velo_velo_9381_performance_0.5874831878226214', changement=0),\n",
       " Row(id=2, timestamp=176, velo='velo_velo_9381_performance_0.5874831878226214', changement=0),\n",
       " Row(id=2, timestamp=177, velo='velo_velo_9381_performance_0.5874831878226214', changement=0),\n",
       " Row(id=2, timestamp=178, velo='velo_velo_9381_performance_0.5874831878226214', changement=0),\n",
       " Row(id=2, timestamp=179, velo='velo_velo_9381_performance_0.5874831878226214', changement=0),\n",
       " Row(id=2, timestamp=180, velo='velo_velo_9381_performance_0.5874831878226214', changement=0),\n",
       " Row(id=2, timestamp=181, velo='velo_velo_9381_performance_0.5874831878226214', changement=0),\n",
       " Row(id=2, timestamp=182, velo='velo_velo_9381_performance_0.5874831878226214', changement=0),\n",
       " Row(id=2, timestamp=183, velo='False', changement=1),\n",
       " Row(id=2, timestamp=184, velo='False', changement=0),\n",
       " Row(id=2, timestamp=185, velo='False', changement=0),\n",
       " Row(id=2, timestamp=186, velo='False', changement=0),\n",
       " Row(id=2, timestamp=187, velo='False', changement=0),\n",
       " Row(id=2, timestamp=188, velo='False', changement=0),\n",
       " Row(id=2, timestamp=189, velo='velo_velo_5134_performance_0.8480036414083639', changement=1),\n",
       " Row(id=2, timestamp=190, velo='velo_velo_5134_performance_0.8480036414083639', changement=0),\n",
       " Row(id=2, timestamp=191, velo='velo_velo_5134_performance_0.8480036414083639', changement=0),\n",
       " Row(id=2, timestamp=192, velo='velo_velo_5134_performance_0.8480036414083639', changement=0),\n",
       " Row(id=2, timestamp=193, velo='velo_velo_5134_performance_0.8480036414083639', changement=0),\n",
       " Row(id=2, timestamp=194, velo='velo_velo_5134_performance_0.8480036414083639', changement=0),\n",
       " Row(id=2, timestamp=195, velo='velo_velo_5134_performance_0.8480036414083639', changement=0),\n",
       " Row(id=2, timestamp=196, velo='velo_velo_5134_performance_0.8480036414083639', changement=0),\n",
       " Row(id=2, timestamp=197, velo='velo_velo_5134_performance_0.8480036414083639', changement=0),\n",
       " Row(id=2, timestamp=198, velo='velo_velo_5134_performance_0.8480036414083639', changement=0),\n",
       " Row(id=2, timestamp=199, velo='velo_velo_5134_performance_0.8480036414083639', changement=0),\n",
       " Row(id=2, timestamp=200, velo='velo_velo_5134_performance_0.8480036414083639', changement=0),\n",
       " Row(id=2, timestamp=201, velo='velo_velo_5134_performance_0.8480036414083639', changement=0),\n",
       " Row(id=2, timestamp=202, velo='velo_velo_5134_performance_0.8480036414083639', changement=0),\n",
       " Row(id=2, timestamp=203, velo='velo_velo_5134_performance_0.8480036414083639', changement=0),\n",
       " Row(id=2, timestamp=204, velo='False', changement=1),\n",
       " Row(id=2, timestamp=205, velo='False', changement=0),\n",
       " Row(id=2, timestamp=206, velo='False', changement=0),\n",
       " Row(id=2, timestamp=207, velo='False', changement=0),\n",
       " Row(id=2, timestamp=208, velo='velo_velo_9382_performance_0.5', changement=1),\n",
       " Row(id=2, timestamp=209, velo='velo_velo_9382_performance_0.5', changement=0),\n",
       " Row(id=2, timestamp=210, velo='velo_velo_9382_performance_0.5', changement=0),\n",
       " Row(id=2, timestamp=211, velo='velo_velo_9382_performance_0.5', changement=0),\n",
       " Row(id=2, timestamp=212, velo='velo_velo_9382_performance_0.5', changement=0),\n",
       " Row(id=2, timestamp=213, velo='velo_velo_9382_performance_0.5', changement=0),\n",
       " Row(id=2, timestamp=214, velo='velo_velo_9382_performance_0.5', changement=0),\n",
       " Row(id=2, timestamp=215, velo='velo_velo_9382_performance_0.5', changement=0),\n",
       " Row(id=2, timestamp=216, velo='velo_velo_9382_performance_0.5', changement=0),\n",
       " Row(id=2, timestamp=217, velo='velo_velo_9382_performance_0.5', changement=0),\n",
       " Row(id=2, timestamp=218, velo='velo_velo_9382_performance_0.5', changement=0),\n",
       " Row(id=2, timestamp=219, velo='velo_velo_9382_performance_0.5', changement=0),\n",
       " Row(id=2, timestamp=220, velo='velo_velo_9382_performance_0.5', changement=0),\n",
       " Row(id=2, timestamp=221, velo='velo_velo_9382_performance_0.5', changement=0),\n",
       " Row(id=2, timestamp=222, velo='velo_velo_9382_performance_0.5', changement=0),\n",
       " Row(id=2, timestamp=223, velo='velo_velo_9382_performance_0.5', changement=0),\n",
       " Row(id=2, timestamp=224, velo='velo_velo_9382_performance_0.5', changement=0),\n",
       " Row(id=2, timestamp=225, velo='velo_velo_9382_performance_0.5', changement=0),\n",
       " Row(id=2, timestamp=226, velo='velo_velo_9382_performance_0.5', changement=0),\n",
       " Row(id=2, timestamp=227, velo='velo_velo_9382_performance_0.5', changement=0),\n",
       " Row(id=2, timestamp=228, velo='velo_velo_9382_performance_0.5', changement=0),\n",
       " Row(id=2, timestamp=229, velo='velo_velo_9382_performance_0.5', changement=0),\n",
       " Row(id=2, timestamp=230, velo='velo_velo_9382_performance_0.5', changement=0),\n",
       " Row(id=2, timestamp=231, velo='False', changement=1),\n",
       " Row(id=2, timestamp=232, velo='False', changement=0),\n",
       " Row(id=2, timestamp=233, velo='False', changement=0),\n",
       " Row(id=2, timestamp=234, velo='False', changement=0),\n",
       " Row(id=2, timestamp=235, velo='False', changement=0),\n",
       " Row(id=2, timestamp=236, velo='False', changement=0),\n",
       " Row(id=2, timestamp=237, velo='velo_velo_9382_performance_0.4819279007870798', changement=1),\n",
       " Row(id=2, timestamp=238, velo='velo_velo_9382_performance_0.4819279007870798', changement=0),\n",
       " Row(id=2, timestamp=239, velo='velo_velo_9382_performance_0.4819279007870798', changement=0),\n",
       " Row(id=2, timestamp=240, velo='velo_velo_9382_performance_0.4819279007870798', changement=0),\n",
       " Row(id=2, timestamp=241, velo='velo_velo_9382_performance_0.4819279007870798', changement=0),\n",
       " Row(id=2, timestamp=242, velo='velo_velo_9382_performance_0.4819279007870798', changement=0),\n",
       " Row(id=2, timestamp=243, velo='velo_velo_9382_performance_0.4819279007870798', changement=0),\n",
       " Row(id=2, timestamp=244, velo='velo_velo_9382_performance_0.4819279007870798', changement=0),\n",
       " Row(id=2, timestamp=245, velo='velo_velo_9382_performance_0.4819279007870798', changement=0),\n",
       " Row(id=2, timestamp=246, velo='velo_velo_9382_performance_0.4819279007870798', changement=0),\n",
       " Row(id=2, timestamp=247, velo='velo_velo_9382_performance_0.4819279007870798', changement=0),\n",
       " Row(id=2, timestamp=248, velo='velo_velo_9382_performance_0.4819279007870798', changement=0),\n",
       " Row(id=2, timestamp=249, velo='velo_velo_9382_performance_0.4819279007870798', changement=0),\n",
       " Row(id=2, timestamp=250, velo='velo_velo_9382_performance_0.4819279007870798', changement=0),\n",
       " Row(id=2, timestamp=251, velo='velo_velo_9382_performance_0.4819279007870798', changement=0),\n",
       " Row(id=2, timestamp=252, velo='velo_velo_9382_performance_0.4819279007870798', changement=0),\n",
       " Row(id=2, timestamp=253, velo='velo_velo_9382_performance_0.4819279007870798', changement=0),\n",
       " Row(id=2, timestamp=254, velo='velo_velo_9382_performance_0.4819279007870798', changement=0),\n",
       " Row(id=2, timestamp=255, velo='velo_velo_9382_performance_0.4819279007870798', changement=0),\n",
       " Row(id=2, timestamp=256, velo='velo_velo_9382_performance_0.4819279007870798', changement=0),\n",
       " Row(id=2, timestamp=257, velo='velo_velo_9382_performance_0.4819279007870798', changement=0),\n",
       " Row(id=2, timestamp=258, velo='velo_velo_9382_performance_0.4819279007870798', changement=0),\n",
       " Row(id=2, timestamp=259, velo='velo_velo_9382_performance_0.4819279007870798', changement=0),\n",
       " Row(id=2, timestamp=260, velo='velo_velo_9382_performance_0.4819279007870798', changement=0),\n",
       " Row(id=2, timestamp=261, velo='False', changement=1),\n",
       " Row(id=2, timestamp=262, velo='False', changement=0),\n",
       " Row(id=2, timestamp=263, velo='False', changement=0),\n",
       " Row(id=2, timestamp=264, velo='False', changement=0),\n",
       " Row(id=2, timestamp=265, velo='velo_velo_5133_performance_0.48833810798223354', changement=1),\n",
       " Row(id=2, timestamp=266, velo='velo_velo_5133_performance_0.48833810798223354', changement=0),\n",
       " Row(id=2, timestamp=267, velo='velo_velo_5133_performance_0.48833810798223354', changement=0),\n",
       " Row(id=2, timestamp=268, velo='velo_velo_5133_performance_0.48833810798223354', changement=0),\n",
       " Row(id=2, timestamp=269, velo='velo_velo_5133_performance_0.48833810798223354', changement=0),\n",
       " Row(id=2, timestamp=270, velo='velo_velo_5133_performance_0.48833810798223354', changement=0),\n",
       " Row(id=2, timestamp=271, velo='velo_velo_5133_performance_0.48833810798223354', changement=0),\n",
       " Row(id=2, timestamp=272, velo='velo_velo_5133_performance_0.48833810798223354', changement=0),\n",
       " Row(id=2, timestamp=273, velo='velo_velo_5133_performance_0.48833810798223354', changement=0),\n",
       " Row(id=2, timestamp=274, velo='velo_velo_5133_performance_0.48833810798223354', changement=0),\n",
       " Row(id=2, timestamp=275, velo='velo_velo_5133_performance_0.48833810798223354', changement=0),\n",
       " Row(id=2, timestamp=276, velo='velo_velo_5133_performance_0.48833810798223354', changement=0),\n",
       " Row(id=2, timestamp=277, velo='velo_velo_5133_performance_0.48833810798223354', changement=0),\n",
       " Row(id=2, timestamp=278, velo='velo_velo_5133_performance_0.48833810798223354', changement=0),\n",
       " Row(id=2, timestamp=279, velo='velo_velo_5133_performance_0.48833810798223354', changement=0),\n",
       " Row(id=2, timestamp=280, velo='velo_velo_5133_performance_0.48833810798223354', changement=0),\n",
       " Row(id=2, timestamp=281, velo='velo_velo_5133_performance_0.48833810798223354', changement=0),\n",
       " Row(id=2, timestamp=282, velo='velo_velo_5133_performance_0.48833810798223354', changement=0),\n",
       " Row(id=2, timestamp=283, velo='velo_velo_5133_performance_0.48833810798223354', changement=0),\n",
       " Row(id=2, timestamp=284, velo='velo_velo_5133_performance_0.48833810798223354', changement=0),\n",
       " Row(id=2, timestamp=285, velo='velo_velo_5133_performance_0.48833810798223354', changement=0),\n",
       " Row(id=2, timestamp=286, velo='velo_velo_5133_performance_0.48833810798223354', changement=0),\n",
       " Row(id=2, timestamp=287, velo='velo_velo_5133_performance_0.48833810798223354', changement=0),\n",
       " Row(id=2, timestamp=288, velo='velo_velo_5133_performance_0.48833810798223354', changement=0),\n",
       " Row(id=2, timestamp=289, velo='False', changement=1),\n",
       " Row(id=2, timestamp=290, velo='False', changement=0),\n",
       " Row(id=2, timestamp=291, velo='False', changement=0),\n",
       " Row(id=2, timestamp=292, velo='False', changement=0),\n",
       " Row(id=2, timestamp=293, velo='False', changement=0),\n",
       " Row(id=2, timestamp=294, velo='False', changement=0),\n",
       " Row(id=2, timestamp=295, velo='velo_velo_5130_performance_0.788588124920853', changement=1),\n",
       " Row(id=2, timestamp=296, velo='velo_velo_5130_performance_0.788588124920853', changement=0),\n",
       " Row(id=2, timestamp=297, velo='velo_velo_5130_performance_0.788588124920853', changement=0),\n",
       " Row(id=2, timestamp=298, velo='velo_velo_5130_performance_0.788588124920853', changement=0),\n",
       " Row(id=2, timestamp=299, velo='velo_velo_5130_performance_0.788588124920853', changement=0),\n",
       " Row(id=2, timestamp=300, velo='velo_velo_5130_performance_0.788588124920853', changement=0),\n",
       " Row(id=2, timestamp=301, velo='velo_velo_5130_performance_0.788588124920853', changement=0),\n",
       " Row(id=2, timestamp=302, velo='velo_velo_5130_performance_0.788588124920853', changement=0),\n",
       " Row(id=2, timestamp=303, velo='velo_velo_5130_performance_0.788588124920853', changement=0),\n",
       " Row(id=2, timestamp=304, velo='velo_velo_5130_performance_0.788588124920853', changement=0),\n",
       " Row(id=2, timestamp=305, velo='velo_velo_5130_performance_0.788588124920853', changement=0),\n",
       " Row(id=2, timestamp=306, velo='velo_velo_5130_performance_0.788588124920853', changement=0),\n",
       " Row(id=2, timestamp=307, velo='velo_velo_5130_performance_0.788588124920853', changement=0),\n",
       " Row(id=2, timestamp=308, velo='velo_velo_5130_performance_0.788588124920853', changement=0),\n",
       " Row(id=2, timestamp=309, velo='velo_velo_5130_performance_0.788588124920853', changement=0),\n",
       " Row(id=2, timestamp=310, velo='velo_velo_5130_performance_0.788588124920853', changement=0),\n",
       " Row(id=2, timestamp=311, velo='False', changement=1),\n",
       " Row(id=2, timestamp=312, velo='False', changement=0),\n",
       " Row(id=2, timestamp=313, velo='False', changement=0),\n",
       " Row(id=2, timestamp=314, velo='False', changement=0),\n",
       " Row(id=2, timestamp=315, velo='velo_velo_5135_performance_0.4827917066294032', changement=1),\n",
       " Row(id=2, timestamp=316, velo='velo_velo_5135_performance_0.4827917066294032', changement=0),\n",
       " Row(id=2, timestamp=317, velo='velo_velo_5135_performance_0.4827917066294032', changement=0),\n",
       " Row(id=2, timestamp=318, velo='velo_velo_5135_performance_0.4827917066294032', changement=0),\n",
       " Row(id=2, timestamp=319, velo='velo_velo_5135_performance_0.4827917066294032', changement=0),\n",
       " Row(id=2, timestamp=320, velo='velo_velo_5135_performance_0.4827917066294032', changement=0),\n",
       " Row(id=2, timestamp=321, velo='velo_velo_5135_performance_0.4827917066294032', changement=0),\n",
       " Row(id=2, timestamp=322, velo='velo_velo_5135_performance_0.4827917066294032', changement=0),\n",
       " Row(id=2, timestamp=323, velo='velo_velo_5135_performance_0.4827917066294032', changement=0),\n",
       " Row(id=2, timestamp=324, velo='velo_velo_5135_performance_0.4827917066294032', changement=0),\n",
       " Row(id=2, timestamp=325, velo='velo_velo_5135_performance_0.4827917066294032', changement=0),\n",
       " Row(id=2, timestamp=326, velo='velo_velo_5135_performance_0.4827917066294032', changement=0),\n",
       " Row(id=2, timestamp=327, velo='velo_velo_5135_performance_0.4827917066294032', changement=0),\n",
       " Row(id=2, timestamp=328, velo='velo_velo_5135_performance_0.4827917066294032', changement=0),\n",
       " Row(id=2, timestamp=329, velo='velo_velo_5135_performance_0.4827917066294032', changement=0),\n",
       " Row(id=2, timestamp=330, velo='velo_velo_5135_performance_0.4827917066294032', changement=0),\n",
       " Row(id=2, timestamp=331, velo='velo_velo_5135_performance_0.4827917066294032', changement=0),\n",
       " Row(id=2, timestamp=332, velo='velo_velo_5135_performance_0.4827917066294032', changement=0),\n",
       " Row(id=2, timestamp=333, velo='velo_velo_5135_performance_0.4827917066294032', changement=0),\n",
       " Row(id=2, timestamp=334, velo='velo_velo_5135_performance_0.4827917066294032', changement=0),\n",
       " Row(id=2, timestamp=335, velo='velo_velo_5135_performance_0.4827917066294032', changement=0),\n",
       " Row(id=2, timestamp=336, velo='velo_velo_5135_performance_0.4827917066294032', changement=0),\n",
       " Row(id=2, timestamp=337, velo='velo_velo_5135_performance_0.4827917066294032', changement=0),\n",
       " Row(id=2, timestamp=338, velo='velo_velo_5135_performance_0.4827917066294032', changement=0),\n",
       " Row(id=2, timestamp=339, velo='False', changement=1),\n",
       " Row(id=2, timestamp=340, velo='False', changement=0),\n",
       " Row(id=2, timestamp=341, velo='False', changement=0),\n",
       " Row(id=2, timestamp=342, velo='False', changement=0),\n",
       " Row(id=2, timestamp=343, velo='False', changement=0),\n",
       " Row(id=2, timestamp=344, velo='False', changement=0),\n",
       " Row(id=2, timestamp=345, velo='velo_velo_5135_performance_0.4709244979440336', changement=1),\n",
       " Row(id=2, timestamp=346, velo='velo_velo_5135_performance_0.4709244979440336', changement=0),\n",
       " Row(id=2, timestamp=347, velo='velo_velo_5135_performance_0.4709244979440336', changement=0),\n",
       " Row(id=2, timestamp=348, velo='velo_velo_5135_performance_0.4709244979440336', changement=0),\n",
       " Row(id=2, timestamp=349, velo='velo_velo_5135_performance_0.4709244979440336', changement=0),\n",
       " Row(id=2, timestamp=350, velo='velo_velo_5135_performance_0.4709244979440336', changement=0),\n",
       " Row(id=2, timestamp=351, velo='velo_velo_5135_performance_0.4709244979440336', changement=0),\n",
       " Row(id=2, timestamp=352, velo='velo_velo_5135_performance_0.4709244979440336', changement=0),\n",
       " Row(id=2, timestamp=353, velo='velo_velo_5135_performance_0.4709244979440336', changement=0),\n",
       " Row(id=2, timestamp=354, velo='velo_velo_5135_performance_0.4709244979440336', changement=0),\n",
       " Row(id=2, timestamp=355, velo='velo_velo_5135_performance_0.4709244979440336', changement=0),\n",
       " Row(id=2, timestamp=356, velo='velo_velo_5135_performance_0.4709244979440336', changement=0),\n",
       " Row(id=2, timestamp=357, velo='velo_velo_5135_performance_0.4709244979440336', changement=0),\n",
       " Row(id=2, timestamp=358, velo='velo_velo_5135_performance_0.4709244979440336', changement=0),\n",
       " Row(id=2, timestamp=359, velo='velo_velo_5135_performance_0.4709244979440336', changement=0),\n",
       " Row(id=2, timestamp=360, velo='velo_velo_5135_performance_0.4709244979440336', changement=0),\n",
       " Row(id=2, timestamp=361, velo='velo_velo_5135_performance_0.4709244979440336', changement=0),\n",
       " Row(id=2, timestamp=362, velo='velo_velo_5135_performance_0.4709244979440336', changement=0),\n",
       " Row(id=2, timestamp=363, velo='velo_velo_5135_performance_0.4709244979440336', changement=0),\n",
       " Row(id=2, timestamp=364, velo='velo_velo_5135_performance_0.4709244979440336', changement=0),\n",
       " Row(id=2, timestamp=365, velo='velo_velo_5135_performance_0.4709244979440336', changement=0),\n",
       " Row(id=2, timestamp=366, velo='velo_velo_5135_performance_0.4709244979440336', changement=0),\n",
       " Row(id=2, timestamp=367, velo='velo_velo_5135_performance_0.4709244979440336', changement=0),\n",
       " Row(id=2, timestamp=368, velo='velo_velo_5135_performance_0.4709244979440336', changement=0),\n",
       " Row(id=2, timestamp=369, velo='velo_velo_5135_performance_0.4709244979440336', changement=0),\n",
       " Row(id=2, timestamp=370, velo='False', changement=1),\n",
       " Row(id=2, timestamp=371, velo='False', changement=0),\n",
       " Row(id=2, timestamp=372, velo='False', changement=0),\n",
       " Row(id=2, timestamp=373, velo='False', changement=0),\n",
       " Row(id=2, timestamp=374, velo='velo_velo_9380_performance_0.6280722819350267', changement=1),\n",
       " Row(id=2, timestamp=375, velo='velo_velo_9380_performance_0.6280722819350267', changement=0),\n",
       " Row(id=2, timestamp=376, velo='velo_velo_9380_performance_0.6280722819350267', changement=0),\n",
       " Row(id=2, timestamp=377, velo='velo_velo_9380_performance_0.6280722819350267', changement=0),\n",
       " Row(id=2, timestamp=378, velo='velo_velo_9380_performance_0.6280722819350267', changement=0),\n",
       " Row(id=2, timestamp=379, velo='velo_velo_9380_performance_0.6280722819350267', changement=0),\n",
       " Row(id=2, timestamp=380, velo='velo_velo_9380_performance_0.6280722819350267', changement=0),\n",
       " Row(id=2, timestamp=381, velo='velo_velo_9380_performance_0.6280722819350267', changement=0),\n",
       " Row(id=2, timestamp=382, velo='velo_velo_9380_performance_0.6280722819350267', changement=0),\n",
       " Row(id=2, timestamp=383, velo='velo_velo_9380_performance_0.6280722819350267', changement=0),\n",
       " Row(id=2, timestamp=384, velo='velo_velo_9380_performance_0.6280722819350267', changement=0),\n",
       " Row(id=2, timestamp=385, velo='velo_velo_9380_performance_0.6280722819350267', changement=0),\n",
       " Row(id=2, timestamp=386, velo='velo_velo_9380_performance_0.6280722819350267', changement=0),\n",
       " Row(id=2, timestamp=387, velo='velo_velo_9380_performance_0.6280722819350267', changement=0),\n",
       " Row(id=2, timestamp=388, velo='velo_velo_9380_performance_0.6280722819350267', changement=0),\n",
       " Row(id=2, timestamp=389, velo='velo_velo_9380_performance_0.6280722819350267', changement=0),\n",
       " Row(id=2, timestamp=390, velo='velo_velo_9380_performance_0.6280722819350267', changement=0),\n",
       " Row(id=2, timestamp=391, velo='velo_velo_9380_performance_0.6280722819350267', changement=0),\n",
       " Row(id=2, timestamp=392, velo='velo_velo_9380_performance_0.6280722819350267', changement=0),\n",
       " Row(id=2, timestamp=393, velo='False', changement=1),\n",
       " Row(id=2, timestamp=394, velo='False', changement=0),\n",
       " Row(id=2, timestamp=395, velo='False', changement=0),\n",
       " Row(id=2, timestamp=396, velo='False', changement=0),\n",
       " Row(id=2, timestamp=397, velo='False', changement=0),\n",
       " Row(id=2, timestamp=398, velo='False', changement=0),\n",
       " Row(id=2, timestamp=399, velo='velo_velo_5133_performance_0.47565960098059384', changement=1),\n",
       " Row(id=2, timestamp=400, velo='velo_velo_5133_performance_0.47565960098059384', changement=0),\n",
       " Row(id=3, timestamp=1, velo='False', changement=1),\n",
       " Row(id=3, timestamp=2, velo='False', changement=0),\n",
       " Row(id=3, timestamp=3, velo='velo_velo_5886_performance_0.5498255280735869', changement=1),\n",
       " Row(id=3, timestamp=4, velo='velo_velo_5886_performance_0.5498255280735869', changement=0),\n",
       " Row(id=3, timestamp=5, velo='velo_velo_5886_performance_0.5498255280735869', changement=0),\n",
       " Row(id=3, timestamp=6, velo='velo_velo_5886_performance_0.5498255280735869', changement=0),\n",
       " Row(id=3, timestamp=7, velo='velo_velo_5886_performance_0.5498255280735869', changement=0),\n",
       " Row(id=3, timestamp=8, velo='velo_velo_5886_performance_0.5498255280735869', changement=0),\n",
       " Row(id=3, timestamp=9, velo='velo_velo_5886_performance_0.5498255280735869', changement=0),\n",
       " Row(id=3, timestamp=10, velo='velo_velo_5886_performance_0.5498255280735869', changement=0),\n",
       " Row(id=3, timestamp=11, velo='velo_velo_5886_performance_0.5498255280735869', changement=0),\n",
       " Row(id=3, timestamp=12, velo='velo_velo_5886_performance_0.5498255280735869', changement=0),\n",
       " Row(id=3, timestamp=13, velo='velo_velo_5886_performance_0.5498255280735869', changement=0),\n",
       " Row(id=3, timestamp=14, velo='velo_velo_5886_performance_0.5498255280735869', changement=0),\n",
       " Row(id=3, timestamp=15, velo='velo_velo_5886_performance_0.5498255280735869', changement=0),\n",
       " Row(id=3, timestamp=16, velo='velo_velo_5886_performance_0.5498255280735869', changement=0),\n",
       " Row(id=3, timestamp=17, velo='velo_velo_5886_performance_0.5498255280735869', changement=0),\n",
       " Row(id=3, timestamp=18, velo='velo_velo_5886_performance_0.5498255280735869', changement=0),\n",
       " Row(id=3, timestamp=19, velo='velo_velo_5886_performance_0.5498255280735869', changement=0),\n",
       " Row(id=3, timestamp=20, velo='velo_velo_5886_performance_0.5498255280735869', changement=0),\n",
       " Row(id=3, timestamp=21, velo='velo_velo_5886_performance_0.5498255280735869', changement=0),\n",
       " Row(id=3, timestamp=22, velo='velo_velo_5886_performance_0.5498255280735869', changement=0),\n",
       " Row(id=3, timestamp=23, velo='velo_velo_5886_performance_0.5498255280735869', changement=0),\n",
       " Row(id=3, timestamp=24, velo='velo_velo_5886_performance_0.5498255280735869', changement=0),\n",
       " Row(id=3, timestamp=25, velo='velo_velo_5886_performance_0.5498255280735869', changement=0),\n",
       " Row(id=3, timestamp=26, velo='velo_velo_5886_performance_0.5498255280735869', changement=0),\n",
       " Row(id=3, timestamp=27, velo='velo_velo_5886_performance_0.5498255280735869', changement=0),\n",
       " Row(id=3, timestamp=28, velo='velo_velo_5886_performance_0.5498255280735869', changement=0),\n",
       " Row(id=3, timestamp=29, velo='velo_velo_5886_performance_0.5498255280735869', changement=0),\n",
       " Row(id=3, timestamp=30, velo='velo_velo_5886_performance_0.5498255280735869', changement=0),\n",
       " Row(id=3, timestamp=31, velo='velo_velo_5886_performance_0.5498255280735869', changement=0),\n",
       " Row(id=3, timestamp=32, velo='velo_velo_5886_performance_0.5498255280735869', changement=0),\n",
       " Row(id=3, timestamp=33, velo='velo_velo_5886_performance_0.5498255280735869', changement=0),\n",
       " Row(id=3, timestamp=34, velo='velo_velo_5886_performance_0.5498255280735869', changement=0),\n",
       " Row(id=3, timestamp=35, velo='velo_velo_5886_performance_0.5498255280735869', changement=0),\n",
       " Row(id=3, timestamp=36, velo='velo_velo_5886_performance_0.5498255280735869', changement=0),\n",
       " Row(id=3, timestamp=37, velo='velo_velo_5886_performance_0.5498255280735869', changement=0),\n",
       " Row(id=3, timestamp=38, velo='velo_velo_5886_performance_0.5498255280735869', changement=0),\n",
       " Row(id=3, timestamp=39, velo='velo_velo_5886_performance_0.5498255280735869', changement=0),\n",
       " Row(id=3, timestamp=40, velo='velo_velo_5886_performance_0.5498255280735869', changement=0),\n",
       " Row(id=3, timestamp=41, velo='velo_velo_5886_performance_0.5498255280735869', changement=0),\n",
       " Row(id=3, timestamp=42, velo='velo_velo_5886_performance_0.5498255280735869', changement=0),\n",
       " Row(id=3, timestamp=43, velo='velo_velo_5886_performance_0.5498255280735869', changement=0),\n",
       " Row(id=3, timestamp=44, velo='velo_velo_5886_performance_0.5498255280735869', changement=0),\n",
       " Row(id=3, timestamp=45, velo='velo_velo_5886_performance_0.5498255280735869', changement=0),\n",
       " Row(id=3, timestamp=46, velo='velo_velo_5886_performance_0.5498255280735869', changement=0),\n",
       " Row(id=3, timestamp=47, velo='velo_velo_5886_performance_0.5498255280735869', changement=0),\n",
       " Row(id=3, timestamp=48, velo='velo_velo_5886_performance_0.5498255280735869', changement=0),\n",
       " Row(id=3, timestamp=49, velo='velo_velo_5886_performance_0.5498255280735869', changement=0),\n",
       " Row(id=3, timestamp=50, velo='velo_velo_5886_performance_0.5498255280735869', changement=0),\n",
       " Row(id=3, timestamp=51, velo='velo_velo_5886_performance_0.5498255280735869', changement=0),\n",
       " Row(id=3, timestamp=52, velo='velo_velo_5886_performance_0.5498255280735869', changement=0),\n",
       " Row(id=3, timestamp=53, velo='velo_velo_5886_performance_0.5498255280735869', changement=0),\n",
       " Row(id=3, timestamp=54, velo='velo_velo_5886_performance_0.5498255280735869', changement=0),\n",
       " Row(id=3, timestamp=55, velo='velo_velo_5886_performance_0.5498255280735869', changement=0),\n",
       " Row(id=3, timestamp=56, velo='velo_velo_5886_performance_0.5498255280735869', changement=0),\n",
       " Row(id=3, timestamp=57, velo='velo_velo_5886_performance_0.5498255280735869', changement=0),\n",
       " Row(id=3, timestamp=58, velo='velo_velo_5886_performance_0.5498255280735869', changement=0),\n",
       " Row(id=3, timestamp=59, velo='velo_velo_5886_performance_0.5498255280735869', changement=0),\n",
       " Row(id=3, timestamp=60, velo='velo_velo_5886_performance_0.5498255280735869', changement=0),\n",
       " Row(id=3, timestamp=61, velo='velo_velo_5886_performance_0.5498255280735869', changement=0),\n",
       " Row(id=3, timestamp=62, velo='velo_velo_5886_performance_0.5498255280735869', changement=0),\n",
       " Row(id=3, timestamp=63, velo='velo_velo_5886_performance_0.5498255280735869', changement=0),\n",
       " Row(id=3, timestamp=64, velo='velo_velo_5886_performance_0.5498255280735869', changement=0),\n",
       " Row(id=3, timestamp=65, velo='velo_velo_5886_performance_0.5498255280735869', changement=0),\n",
       " Row(id=3, timestamp=66, velo='velo_velo_5886_performance_0.5498255280735869', changement=0),\n",
       " Row(id=3, timestamp=67, velo='velo_velo_5886_performance_0.5498255280735869', changement=0),\n",
       " Row(id=3, timestamp=68, velo='velo_velo_5886_performance_0.5498255280735869', changement=0),\n",
       " Row(id=3, timestamp=69, velo='velo_velo_5886_performance_0.5498255280735869', changement=0),\n",
       " Row(id=3, timestamp=70, velo='velo_velo_5886_performance_0.5498255280735869', changement=0),\n",
       " Row(id=3, timestamp=71, velo='velo_velo_5886_performance_0.5498255280735869', changement=0),\n",
       " Row(id=3, timestamp=72, velo='velo_velo_5886_performance_0.5498255280735869', changement=0),\n",
       " Row(id=3, timestamp=73, velo='velo_velo_5886_performance_0.5498255280735869', changement=0),\n",
       " Row(id=3, timestamp=74, velo='velo_velo_5886_performance_0.5498255280735869', changement=0),\n",
       " Row(id=3, timestamp=75, velo='velo_velo_5886_performance_0.5498255280735869', changement=0),\n",
       " Row(id=3, timestamp=76, velo='velo_velo_5886_performance_0.5498255280735869', changement=0),\n",
       " Row(id=3, timestamp=77, velo='velo_velo_5886_performance_0.5498255280735869', changement=0),\n",
       " Row(id=3, timestamp=78, velo='velo_velo_5886_performance_0.5498255280735869', changement=0),\n",
       " Row(id=3, timestamp=79, velo='velo_velo_5886_performance_0.5498255280735869', changement=0),\n",
       " Row(id=3, timestamp=80, velo='velo_velo_5886_performance_0.5498255280735869', changement=0),\n",
       " Row(id=3, timestamp=81, velo='velo_velo_5886_performance_0.5498255280735869', changement=0),\n",
       " Row(id=3, timestamp=82, velo='velo_velo_5886_performance_0.5498255280735869', changement=0),\n",
       " Row(id=3, timestamp=83, velo='velo_velo_5886_performance_0.5498255280735869', changement=0),\n",
       " Row(id=3, timestamp=84, velo='velo_velo_5886_performance_0.5498255280735869', changement=0),\n",
       " Row(id=3, timestamp=85, velo='velo_velo_5886_performance_0.5498255280735869', changement=0),\n",
       " Row(id=3, timestamp=86, velo='velo_velo_5886_performance_0.5498255280735869', changement=0),\n",
       " Row(id=3, timestamp=87, velo='velo_velo_5886_performance_0.5498255280735869', changement=0),\n",
       " Row(id=3, timestamp=88, velo='velo_velo_5886_performance_0.5498255280735869', changement=0),\n",
       " Row(id=3, timestamp=89, velo='velo_velo_5886_performance_0.5498255280735869', changement=0),\n",
       " Row(id=3, timestamp=90, velo='velo_velo_5886_performance_0.5498255280735869', changement=0),\n",
       " Row(id=3, timestamp=91, velo='velo_velo_5886_performance_0.5498255280735869', changement=0),\n",
       " Row(id=3, timestamp=92, velo='velo_velo_5886_performance_0.5498255280735869', changement=0),\n",
       " Row(id=3, timestamp=93, velo='velo_velo_5886_performance_0.5498255280735869', changement=0),\n",
       " Row(id=3, timestamp=94, velo='velo_velo_5886_performance_0.5498255280735869', changement=0),\n",
       " Row(id=3, timestamp=95, velo='velo_velo_5886_performance_0.5498255280735869', changement=0),\n",
       " Row(id=3, timestamp=96, velo='velo_velo_5886_performance_0.5498255280735869', changement=0),\n",
       " Row(id=3, timestamp=97, velo='velo_velo_5886_performance_0.5498255280735869', changement=0),\n",
       " Row(id=3, timestamp=98, velo='velo_velo_5886_performance_0.5498255280735869', changement=0),\n",
       " Row(id=3, timestamp=99, velo='velo_velo_5886_performance_0.5498255280735869', changement=0),\n",
       " Row(id=3, timestamp=100, velo='velo_velo_5886_performance_0.5498255280735869', changement=0),\n",
       " Row(id=3, timestamp=101, velo='velo_velo_5886_performance_0.5498255280735869', changement=0),\n",
       " Row(id=3, timestamp=102, velo='velo_velo_5886_performance_0.5498255280735869', changement=0),\n",
       " Row(id=3, timestamp=103, velo='velo_velo_5886_performance_0.5498255280735869', changement=0),\n",
       " Row(id=3, timestamp=104, velo='velo_velo_5886_performance_0.5498255280735869', changement=0),\n",
       " Row(id=3, timestamp=105, velo='velo_velo_5886_performance_0.5498255280735869', changement=0),\n",
       " Row(id=3, timestamp=106, velo='velo_velo_5886_performance_0.5498255280735869', changement=0),\n",
       " Row(id=3, timestamp=107, velo='velo_velo_5886_performance_0.5498255280735869', changement=0),\n",
       " Row(id=3, timestamp=108, velo='velo_velo_5886_performance_0.5498255280735869', changement=0),\n",
       " Row(id=3, timestamp=109, velo='velo_velo_5886_performance_0.5498255280735869', changement=0),\n",
       " Row(id=3, timestamp=110, velo='velo_velo_5886_performance_0.5498255280735869', changement=0),\n",
       " Row(id=3, timestamp=111, velo='velo_velo_5886_performance_0.5498255280735869', changement=0),\n",
       " Row(id=3, timestamp=112, velo='velo_velo_5886_performance_0.5498255280735869', changement=0),\n",
       " Row(id=3, timestamp=113, velo='velo_velo_5886_performance_0.5498255280735869', changement=0),\n",
       " Row(id=3, timestamp=114, velo='velo_velo_5886_performance_0.5498255280735869', changement=0),\n",
       " Row(id=3, timestamp=115, velo='velo_velo_5886_performance_0.5498255280735869', changement=0),\n",
       " Row(id=3, timestamp=116, velo='velo_velo_5886_performance_0.5498255280735869', changement=0),\n",
       " Row(id=3, timestamp=117, velo='velo_velo_5886_performance_0.5498255280735869', changement=0),\n",
       " Row(id=3, timestamp=118, velo='velo_velo_5886_performance_0.5498255280735869', changement=0),\n",
       " Row(id=3, timestamp=119, velo='velo_velo_5886_performance_0.5498255280735869', changement=0),\n",
       " Row(id=3, timestamp=120, velo='velo_velo_5886_performance_0.5498255280735869', changement=0),\n",
       " Row(id=3, timestamp=121, velo='velo_velo_5886_performance_0.5498255280735869', changement=0),\n",
       " Row(id=3, timestamp=122, velo='velo_velo_5886_performance_0.5498255280735869', changement=0),\n",
       " Row(id=3, timestamp=123, velo='velo_velo_5886_performance_0.5498255280735869', changement=0),\n",
       " Row(id=3, timestamp=124, velo='velo_velo_5886_performance_0.5498255280735869', changement=0),\n",
       " Row(id=3, timestamp=125, velo='velo_velo_5886_performance_0.5498255280735869', changement=0),\n",
       " Row(id=3, timestamp=126, velo='velo_velo_5886_performance_0.5498255280735869', changement=0),\n",
       " Row(id=3, timestamp=127, velo='velo_velo_5886_performance_0.5498255280735869', changement=0),\n",
       " Row(id=3, timestamp=128, velo='velo_velo_5886_performance_0.5498255280735869', changement=0),\n",
       " Row(id=3, timestamp=129, velo='velo_velo_5886_performance_0.5498255280735869', changement=0),\n",
       " Row(id=3, timestamp=130, velo='velo_velo_5886_performance_0.5498255280735869', changement=0),\n",
       " Row(id=3, timestamp=131, velo='velo_velo_5886_performance_0.5498255280735869', changement=0),\n",
       " Row(id=3, timestamp=132, velo='velo_velo_5886_performance_0.5498255280735869', changement=0),\n",
       " Row(id=3, timestamp=133, velo='velo_velo_5886_performance_0.5498255280735869', changement=0),\n",
       " Row(id=3, timestamp=134, velo='velo_velo_5886_performance_0.5498255280735869', changement=0),\n",
       " Row(id=3, timestamp=135, velo='velo_velo_5886_performance_0.5498255280735869', changement=0),\n",
       " Row(id=3, timestamp=136, velo='velo_velo_5886_performance_0.5498255280735869', changement=0),\n",
       " Row(id=3, timestamp=137, velo='velo_velo_5886_performance_0.5498255280735869', changement=0),\n",
       " Row(id=3, timestamp=138, velo='velo_velo_5886_performance_0.5498255280735869', changement=0),\n",
       " Row(id=3, timestamp=139, velo='velo_velo_5886_performance_0.5498255280735869', changement=0),\n",
       " Row(id=3, timestamp=140, velo='velo_velo_5886_performance_0.5498255280735869', changement=0),\n",
       " Row(id=3, timestamp=141, velo='velo_velo_5886_performance_0.5498255280735869', changement=0),\n",
       " Row(id=3, timestamp=142, velo='velo_velo_5886_performance_0.5498255280735869', changement=0),\n",
       " Row(id=3, timestamp=143, velo='velo_velo_5886_performance_0.5498255280735869', changement=0),\n",
       " Row(id=3, timestamp=144, velo='velo_velo_5886_performance_0.5498255280735869', changement=0),\n",
       " Row(id=3, timestamp=145, velo='velo_velo_5886_performance_0.5498255280735869', changement=0),\n",
       " Row(id=3, timestamp=146, velo='velo_velo_5886_performance_0.5498255280735869', changement=0),\n",
       " Row(id=3, timestamp=147, velo='velo_velo_5886_performance_0.5498255280735869', changement=0),\n",
       " Row(id=3, timestamp=148, velo='velo_velo_5886_performance_0.5498255280735869', changement=0),\n",
       " Row(id=3, timestamp=149, velo='velo_velo_5886_performance_0.5498255280735869', changement=0),\n",
       " Row(id=3, timestamp=150, velo='velo_velo_5886_performance_0.5498255280735869', changement=0),\n",
       " Row(id=3, timestamp=151, velo='velo_velo_5886_performance_0.5498255280735869', changement=0),\n",
       " Row(id=3, timestamp=152, velo='velo_velo_5886_performance_0.5498255280735869', changement=0),\n",
       " Row(id=3, timestamp=153, velo='velo_velo_5886_performance_0.5498255280735869', changement=0),\n",
       " Row(id=3, timestamp=154, velo='velo_velo_5886_performance_0.5498255280735869', changement=0),\n",
       " Row(id=3, timestamp=155, velo='velo_velo_5886_performance_0.5498255280735869', changement=0),\n",
       " Row(id=3, timestamp=156, velo='velo_velo_5886_performance_0.5498255280735869', changement=0),\n",
       " Row(id=3, timestamp=157, velo='velo_velo_5886_performance_0.5498255280735869', changement=0),\n",
       " Row(id=3, timestamp=158, velo='velo_velo_5886_performance_0.5498255280735869', changement=0),\n",
       " Row(id=3, timestamp=159, velo='velo_velo_5886_performance_0.5498255280735869', changement=0),\n",
       " Row(id=3, timestamp=160, velo='velo_velo_5886_performance_0.5498255280735869', changement=0),\n",
       " Row(id=3, timestamp=161, velo='velo_velo_5886_performance_0.5498255280735869', changement=0),\n",
       " Row(id=3, timestamp=162, velo='velo_velo_5886_performance_0.5498255280735869', changement=0),\n",
       " Row(id=3, timestamp=163, velo='velo_velo_5886_performance_0.5498255280735869', changement=0),\n",
       " Row(id=3, timestamp=164, velo='velo_velo_5886_performance_0.5498255280735869', changement=0),\n",
       " Row(id=3, timestamp=165, velo='velo_velo_5886_performance_0.5498255280735869', changement=0),\n",
       " Row(id=3, timestamp=166, velo='velo_velo_5886_performance_0.5498255280735869', changement=0),\n",
       " Row(id=3, timestamp=167, velo='velo_velo_5886_performance_0.5498255280735869', changement=0),\n",
       " Row(id=3, timestamp=168, velo='velo_velo_5886_performance_0.5498255280735869', changement=0),\n",
       " Row(id=3, timestamp=169, velo='velo_velo_5886_performance_0.5498255280735869', changement=0),\n",
       " Row(id=3, timestamp=170, velo='velo_velo_5886_performance_0.5498255280735869', changement=0),\n",
       " Row(id=3, timestamp=171, velo='velo_velo_5886_performance_0.5498255280735869', changement=0),\n",
       " Row(id=3, timestamp=172, velo='velo_velo_5886_performance_0.5498255280735869', changement=0),\n",
       " Row(id=3, timestamp=173, velo='velo_velo_5886_performance_0.5498255280735869', changement=0),\n",
       " Row(id=3, timestamp=174, velo='velo_velo_5886_performance_0.5498255280735869', changement=0),\n",
       " Row(id=3, timestamp=175, velo='velo_velo_5886_performance_0.5498255280735869', changement=0),\n",
       " Row(id=3, timestamp=176, velo='velo_velo_5886_performance_0.5498255280735869', changement=0),\n",
       " Row(id=3, timestamp=177, velo='velo_velo_5886_performance_0.5498255280735869', changement=0),\n",
       " Row(id=3, timestamp=178, velo='velo_velo_5886_performance_0.5498255280735869', changement=0),\n",
       " Row(id=3, timestamp=179, velo='velo_velo_5886_performance_0.5498255280735869', changement=0),\n",
       " Row(id=3, timestamp=180, velo='velo_velo_5886_performance_0.5498255280735869', changement=0),\n",
       " Row(id=3, timestamp=181, velo='velo_velo_5886_performance_0.5498255280735869', changement=0),\n",
       " Row(id=3, timestamp=182, velo='velo_velo_5886_performance_0.5498255280735869', changement=0),\n",
       " Row(id=3, timestamp=183, velo='velo_velo_5886_performance_0.5498255280735869', changement=0),\n",
       " Row(id=3, timestamp=184, velo='velo_velo_5886_performance_0.5498255280735869', changement=0),\n",
       " Row(id=3, timestamp=185, velo='velo_velo_5886_performance_0.5498255280735869', changement=0),\n",
       " Row(id=3, timestamp=186, velo='velo_velo_5886_performance_0.5498255280735869', changement=0),\n",
       " Row(id=3, timestamp=187, velo='velo_velo_5886_performance_0.5498255280735869', changement=0),\n",
       " Row(id=3, timestamp=188, velo='velo_velo_5886_performance_0.5498255280735869', changement=0),\n",
       " Row(id=3, timestamp=189, velo='velo_velo_5886_performance_0.5498255280735869', changement=0),\n",
       " Row(id=3, timestamp=190, velo='velo_velo_5886_performance_0.5498255280735869', changement=0),\n",
       " Row(id=3, timestamp=191, velo='velo_velo_5886_performance_0.5498255280735869', changement=0),\n",
       " Row(id=3, timestamp=192, velo='velo_velo_5886_performance_0.5498255280735869', changement=0),\n",
       " Row(id=3, timestamp=193, velo='velo_velo_5886_performance_0.5498255280735869', changement=0),\n",
       " Row(id=3, timestamp=194, velo='velo_velo_5886_performance_0.5498255280735869', changement=0),\n",
       " Row(id=3, timestamp=195, velo='velo_velo_5886_performance_0.5498255280735869', changement=0),\n",
       " Row(id=3, timestamp=196, velo='velo_velo_5886_performance_0.5498255280735869', changement=0),\n",
       " Row(id=3, timestamp=197, velo='velo_velo_5886_performance_0.5498255280735869', changement=0),\n",
       " Row(id=3, timestamp=198, velo='velo_velo_5886_performance_0.5498255280735869', changement=0),\n",
       " Row(id=3, timestamp=199, velo='velo_velo_5886_performance_0.5498255280735869', changement=0),\n",
       " Row(id=3, timestamp=200, velo='velo_velo_5886_performance_0.5498255280735869', changement=0),\n",
       " ...]"
      ]
     },
     "execution_count": 30,
     "metadata": {},
     "output_type": "execute_result"
    }
   ],
   "source": [
    "tous_les_cyclistes.select(\"id\", \"timestamp\", \"velo\", \"changement\").sort(\"id\", \"timestamp\").collect()\n"
   ]
  },
  {
   "cell_type": "markdown",
   "metadata": {},
   "source": [
    "## 6.6) somme partielle par sous groupe : windows"
   ]
  },
  {
   "cell_type": "code",
   "execution_count": 31,
   "metadata": {},
   "outputs": [],
   "source": [
    "if False:\n",
    "    @udf(returnType = IntegerType())\n",
    "    def somme(indice_actuel, indice_precedent):\n",
    "        if indice_precedent == None:\n",
    "            return 0\n",
    "        return indice_actuel + indice_precedent"
   ]
  },
  {
   "cell_type": "code",
   "execution_count": 32,
   "metadata": {},
   "outputs": [],
   "source": [
    "windowval = Window.orderBy([\"id\", \"date\"])\n",
    "windowval = windowval.partitionBy(\"id\")\n",
    "windowval = windowval.rangeBetween(Window.unboundedPreceding, 0)"
   ]
  },
  {
   "cell_type": "code",
   "execution_count": 33,
   "metadata": {},
   "outputs": [],
   "source": [
    "tous_les_cyclistes = tous_les_cyclistes.withColumn( \"numero_de_trajet\", \n",
    "                                                    F.sum(\"changement\").over(windowval))"
   ]
  },
  {
   "cell_type": "code",
   "execution_count": 34,
   "metadata": {},
   "outputs": [
    {
     "name": "stdout",
     "output_type": "stream",
     "text": [
      "root\n",
      " |-- id: integer (nullable = true)\n",
      " |-- timestamp: integer (nullable = true)\n",
      " |-- sur_velo: boolean (nullable = true)\n",
      " |-- velo: string (nullable = true)\n",
      " |-- vitesse: double (nullable = true)\n",
      " |-- position: string (nullable = true)\n",
      " |-- destination_finale: string (nullable = true)\n",
      " |-- date: timestamp (nullable = true)\n",
      " |-- changement: integer (nullable = true)\n",
      " |-- numero_de_trajet: long (nullable = true)\n",
      "\n"
     ]
    }
   ],
   "source": [
    "tous_les_cyclistes.printSchema()"
   ]
  },
  {
   "cell_type": "code",
   "execution_count": 35,
   "metadata": {},
   "outputs": [
    {
     "data": {
      "text/plain": [
       "[Row(id=31, timestamp=1, changement=1, numero_de_trajet=1),\n",
       " Row(id=31, timestamp=2, changement=0, numero_de_trajet=1),\n",
       " Row(id=31, timestamp=3, changement=1, numero_de_trajet=2),\n",
       " Row(id=31, timestamp=4, changement=0, numero_de_trajet=2),\n",
       " Row(id=31, timestamp=5, changement=0, numero_de_trajet=2)]"
      ]
     },
     "execution_count": 35,
     "metadata": {},
     "output_type": "execute_result"
    }
   ],
   "source": [
    "tous_les_cyclistes.select(\"id\", \"timestamp\", \"changement\", \"numero_de_trajet\").take(5)"
   ]
  },
  {
   "cell_type": "markdown",
   "metadata": {},
   "source": [
    "## 6.7) Calculer la durée du trajet"
   ]
  },
  {
   "cell_type": "code",
   "execution_count": 36,
   "metadata": {},
   "outputs": [],
   "source": [
    "if False:\n",
    "    debut_fin_trajets = tous_les_cyclistes.groupBy([\"id\", \"numero_de_trajet\"])\\\n",
    "                                        .agg(   F.min(tous_les_cyclistes.date) , \n",
    "                                                F.max(tous_les_cyclistes.date) )\n"
   ]
  },
  {
   "cell_type": "code",
   "execution_count": 37,
   "metadata": {},
   "outputs": [
    {
     "data": {
      "text/plain": [
       "[Row(id=31, numero_de_trajet=1, min(date)=datetime.datetime(2018, 1, 1, 0, 0, 1), max(date)=datetime.datetime(2018, 1, 1, 0, 0, 2)),\n",
       " Row(id=31, numero_de_trajet=2, min(date)=datetime.datetime(2018, 1, 1, 0, 0, 3), max(date)=datetime.datetime(2018, 1, 1, 0, 0, 26)),\n",
       " Row(id=31, numero_de_trajet=3, min(date)=datetime.datetime(2018, 1, 1, 0, 0, 27), max(date)=datetime.datetime(2018, 1, 1, 0, 0, 30)),\n",
       " Row(id=31, numero_de_trajet=4, min(date)=datetime.datetime(2018, 1, 1, 0, 0, 31), max(date)=datetime.datetime(2018, 1, 1, 0, 0, 47))]"
      ]
     },
     "execution_count": 37,
     "metadata": {},
     "output_type": "execute_result"
    }
   ],
   "source": [
    "cyclistes = tous_les_cyclistes\n",
    "debut_fin_trajets = cyclistes.groupBy([\"id\", \"numero_de_trajet\"])\\\n",
    "                                    .agg(   F.min(tous_les_cyclistes.date) , \n",
    "                                            F.max(tous_les_cyclistes.date) )\n",
    "debut_fin_trajets.take(4)"
   ]
  },
  {
   "cell_type": "code",
   "execution_count": 38,
   "metadata": {},
   "outputs": [],
   "source": [
    "cyclistes = cyclistes.groupBy([\"id\", \"numero_de_trajet\"])\n",
    "cyclistes = cyclistes.agg(  F.unix_timestamp(F.max(tous_les_cyclistes.date)) \\\n",
    "          - F.unix_timestamp(F.min(tous_les_cyclistes.date) ))\n",
    "cyclistes = cyclistes.sort(\"id\")\n"
   ]
  },
  {
   "cell_type": "code",
   "execution_count": 39,
   "metadata": {},
   "outputs": [
    {
     "name": "stdout",
     "output_type": "stream",
     "text": [
      "root\n",
      " |-- id: integer (nullable = true)\n",
      " |-- numero_de_trajet: long (nullable = true)\n",
      " |-- (unix_timestamp(max(date), yyyy-MM-dd HH:mm:ss) - unix_timestamp(min(date), yyyy-MM-dd HH:mm:ss)): long (nullable = true)\n",
      "\n"
     ]
    }
   ],
   "source": [
    "cyclistes.printSchema()"
   ]
  },
  {
   "cell_type": "code",
   "execution_count": 40,
   "metadata": {
    "scrolled": false
   },
   "outputs": [
    {
     "data": {
      "text/plain": [
       "[Row(id=1, numero_de_trajet=2, duree=3),\n",
       " Row(id=1, numero_de_trajet=0, duree=1),\n",
       " Row(id=1, numero_de_trajet=1, duree=28),\n",
       " Row(id=1, numero_de_trajet=3, duree=46)]"
      ]
     },
     "execution_count": 40,
     "metadata": {},
     "output_type": "execute_result"
    }
   ],
   "source": [
    "cyclistes = cyclistes.withColumnRenamed(\"(unix_timestamp(max(date), yyyy-MM-dd HH:mm:ss) - unix_timestamp(min(date), yyyy-MM-dd HH:mm:ss))\", \"duree\")\n",
    "cyclistes.take(4)\n"
   ]
  },
  {
   "cell_type": "markdown",
   "metadata": {},
   "source": [
    "# 7) datavisualisation"
   ]
  },
  {
   "cell_type": "code",
   "execution_count": 41,
   "metadata": {},
   "outputs": [
    {
     "data": {
      "text/html": [
       "<div>\n",
       "<style scoped>\n",
       "    .dataframe tbody tr th:only-of-type {\n",
       "        vertical-align: middle;\n",
       "    }\n",
       "\n",
       "    .dataframe tbody tr th {\n",
       "        vertical-align: top;\n",
       "    }\n",
       "\n",
       "    .dataframe thead th {\n",
       "        text-align: right;\n",
       "    }\n",
       "</style>\n",
       "<table border=\"1\" class=\"dataframe\">\n",
       "  <thead>\n",
       "    <tr style=\"text-align: right;\">\n",
       "      <th></th>\n",
       "      <th>id</th>\n",
       "      <th>numero_de_trajet</th>\n",
       "      <th>duree</th>\n",
       "    </tr>\n",
       "  </thead>\n",
       "  <tbody>\n",
       "    <tr>\n",
       "      <th>0</th>\n",
       "      <td>1</td>\n",
       "      <td>0</td>\n",
       "      <td>1</td>\n",
       "    </tr>\n",
       "    <tr>\n",
       "      <th>1</th>\n",
       "      <td>1</td>\n",
       "      <td>1</td>\n",
       "      <td>28</td>\n",
       "    </tr>\n",
       "    <tr>\n",
       "      <th>2</th>\n",
       "      <td>1</td>\n",
       "      <td>2</td>\n",
       "      <td>3</td>\n",
       "    </tr>\n",
       "    <tr>\n",
       "      <th>3</th>\n",
       "      <td>1</td>\n",
       "      <td>3</td>\n",
       "      <td>46</td>\n",
       "    </tr>\n",
       "    <tr>\n",
       "      <th>4</th>\n",
       "      <td>1</td>\n",
       "      <td>4</td>\n",
       "      <td>3</td>\n",
       "    </tr>\n",
       "  </tbody>\n",
       "</table>\n",
       "</div>"
      ],
      "text/plain": [
       "   id  numero_de_trajet  duree\n",
       "0   1                 0      1\n",
       "1   1                 1     28\n",
       "2   1                 2      3\n",
       "3   1                 3     46\n",
       "4   1                 4      3"
      ]
     },
     "execution_count": 41,
     "metadata": {},
     "output_type": "execute_result"
    }
   ],
   "source": [
    "df_pandas = cyclistes.toPandas()\n",
    "df_pandas.head()"
   ]
  },
  {
   "cell_type": "code",
   "execution_count": 42,
   "metadata": {},
   "outputs": [],
   "source": [
    "import seaborn as sns\n",
    "df_pandas.sort_values([\"id\", \"numero_de_trajet\"]).plot(\n",
    "    kind=\"bar\", x=\"numero_de_trajet\", y=\"duree\", title=\"Durée des trajets \")\n",
    "sns.despine()"
   ]
  },
  {
   "cell_type": "code",
   "execution_count": 43,
   "metadata": {},
   "outputs": [
    {
     "data": {
      "image/png": "[encoded data removed]",
      "text/plain": [
       "<Figure size 432x288 with 1 Axes>"
      ]
     },
     "metadata": {
      "needs_background": "light"
     },
     "output_type": "display_data"
    }
   ],
   "source": [
    "import seaborn as sns\n",
    "%matplotlib inline\n",
    "numero_cycliste = [40]\n",
    "filtre          = df_pandas.id.isin(numero_cycliste)\n",
    "df_pandas[filtre].plot(kind=\"bar\", x=\"numero_de_trajet\", y=\"duree\", \n",
    "                       title=\"Durée des trajets pour le cycliste %s\"%numero_cycliste)\n",
    "sns.despine()"
   ]
  },
  {
   "cell_type": "code",
   "execution_count": 44,
   "metadata": {},
   "outputs": [
    {
     "data": {
      "image/png": "[encoded data removed]",
      "text/plain": [
       "<Figure size 432x288 with 1 Axes>"
      ]
     },
     "metadata": {
      "needs_background": "light"
     },
     "output_type": "display_data"
    }
   ],
   "source": [
    "\n",
    "df_pandas.sort_values([\"id\", \"numero_de_trajet\"])[:40].plot(kind=\"bar\", x=\"numero_de_trajet\", y=\"duree\", title=\"Durée des trajets \")\n",
    "sns.despine()"
   ]
  },
  {
   "cell_type": "code",
   "execution_count": 1,
   "metadata": {},
   "outputs": [
    {
     "ename": "NameError",
     "evalue": "name 'cyclistes' is not defined",
     "output_type": "error",
     "traceback": [
      "\u001b[0;31m---------------------------------------------------------------------------\u001b[0m",
      "\u001b[0;31mNameError\u001b[0m                                 Traceback (most recent call last)",
      "\u001b[0;32m<ipython-input-1-cbd2e3ce4e26>\u001b[0m in \u001b[0;36m<module>\u001b[0;34m\u001b[0m\n\u001b[0;32m----> 1\u001b[0;31m \u001b[0mcyclistes\u001b[0m\u001b[0;34m.\u001b[0m\u001b[0mwrite\u001b[0m\u001b[0;34m.\u001b[0m\u001b[0mformat\u001b[0m\u001b[0;34m(\u001b[0m\u001b[0;34m\"csv\"\u001b[0m\u001b[0;34m)\u001b[0m\u001b[0;34m.\u001b[0m\u001b[0msave\u001b[0m\u001b[0;34m(\u001b[0m\u001b[0;34m\"./../data/cyclistes_a_fin_notebook_2.csv\"\u001b[0m\u001b[0;34m)\u001b[0m\u001b[0;34m\u001b[0m\u001b[0;34m\u001b[0m\u001b[0m\n\u001b[0m",
      "\u001b[0;31mNameError\u001b[0m: name 'cyclistes' is not defined"
     ]
    }
   ],
   "source": [
    "cyclistes.write.format(\"csv\").save(\"./../data/cyclistes_a_fin_notebook_2.csv\")"
   ]
  },
  {
   "cell_type": "code",
   "execution_count": null,
   "metadata": {},
   "outputs": [],
   "source": []
  }
 ],
 "metadata": {
  "kernelspec": {
   "display_name": "Python 3",
   "language": "python",
   "name": "python3"
  },
  "language_info": {
   "codemirror_mode": {
    "name": "ipython",
    "version": 3
   },
   "file_extension": ".py",
   "mimetype": "text/x-python",
   "name": "python",
   "nbconvert_exporter": "python",
   "pygments_lexer": "ipython3",
   "version": "3.7.1"
  }
 },
 "nbformat": 4,
 "nbformat_minor": 2
}
