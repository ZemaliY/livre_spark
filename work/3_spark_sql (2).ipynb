{
 "cells": [
  {
   "cell_type": "markdown",
   "metadata": {},
   "source": [
    "# 0) chargement de spark"
   ]
  },
  {
   "cell_type": "code",
   "execution_count": 1,
   "metadata": {},
   "outputs": [],
   "source": [
    "from pyspark.sql import SparkSession\n",
    "spark = SparkSession.builder.getOrCreate()"
   ]
  },
  {
   "cell_type": "markdown",
   "metadata": {},
   "source": [
    "# 1) lire de la donnée"
   ]
  },
  {
   "cell_type": "code",
   "execution_count": 46,
   "metadata": {
    "scrolled": true
   },
   "outputs": [
    {
     "data": {
      "text/plain": [
       "42000"
      ]
     },
     "execution_count": 46,
     "metadata": {},
     "output_type": "execute_result"
    }
   ],
   "source": [
    "path_csv  = \"./../data/cyclistes/\"\n",
    "voyages = spark.read.format(\"csv\").load(path_csv, header=True)\n",
    "voyages.count()"
   ]
  },
  {
   "cell_type": "markdown",
   "metadata": {},
   "source": [
    "# 2) enregistrer la table dans l'espace des noms SQL"
   ]
  },
  {
   "cell_type": "code",
   "execution_count": 47,
   "metadata": {},
   "outputs": [],
   "source": [
    "nom_table = \"voyages\"\n",
    "voyages.registerTempTable(nom_table)"
   ]
  },
  {
   "cell_type": "markdown",
   "metadata": {},
   "source": [
    "# 3) exécuter une requête SQL sur ce nom de table "
   ]
  },
  {
   "cell_type": "code",
   "execution_count": 48,
   "metadata": {},
   "outputs": [
    {
     "name": "stdout",
     "output_type": "stream",
     "text": [
      "select count(*) from voyages  :\n"
     ]
    },
    {
     "data": {
      "text/plain": [
       "[Row(count(1)=42000)]"
      ]
     },
     "execution_count": 48,
     "metadata": {},
     "output_type": "execute_result"
    }
   ],
   "source": [
    "requete_sql = \"select count(*) from {nom_table}\".format(nom_table=nom_table)\n",
    "print(requete_sql, \" :\")\n",
    "spark.sql(requete_sql).collect()"
   ]
  },
  {
   "cell_type": "code",
   "execution_count": 49,
   "metadata": {},
   "outputs": [
    {
     "name": "stdout",
     "output_type": "stream",
     "text": [
      "root\n",
      " |-- id: string (nullable = true)\n",
      " |-- timestamp: string (nullable = true)\n",
      " |-- sur_velo: string (nullable = true)\n",
      " |-- velo: string (nullable = true)\n",
      " |-- vitesse: string (nullable = true)\n",
      " |-- position: string (nullable = true)\n",
      " |-- destination_finale: string (nullable = true)\n",
      "\n"
     ]
    }
   ],
   "source": [
    "voyages.printSchema()"
   ]
  },
  {
   "cell_type": "markdown",
   "metadata": {},
   "source": [
    "# 4) faire une jointure"
   ]
  },
  {
   "cell_type": "markdown",
   "metadata": {},
   "source": [
    "## 4.1) on enregistre une seconde table dans l'espace des noms SQL"
   ]
  },
  {
   "cell_type": "code",
   "execution_count": 52,
   "metadata": {},
   "outputs": [
    {
     "name": "stdout",
     "output_type": "stream",
     "text": [
      "root\n",
      " |-- id: string (nullable = true)\n",
      " |-- vitesse_a_pied: string (nullable = true)\n",
      " |-- vitesse_a_velo: string (nullable = true)\n",
      " |-- home: string (nullable = true)\n",
      " |-- travail: string (nullable = true)\n",
      " |-- sportif: string (nullable = true)\n",
      " |-- casseur: string (nullable = true)\n",
      " |-- statut: string (nullable = true)\n",
      " |-- salaire: string (nullable = true)\n",
      " |-- sexe: string (nullable = true)\n",
      " |-- age: string (nullable = true)\n",
      " |-- sportivite: string (nullable = true)\n",
      " |-- velo_perf_minimale: string (nullable = true)\n",
      "\n"
     ]
    }
   ],
   "source": [
    "path_csv  = \"./../data/Villes/ville_1.csv\"\n",
    "cyclistes = spark.read.format(\"csv\").load(path_csv, header=True)\n",
    "cyclistes .printSchema()"
   ]
  },
  {
   "cell_type": "code",
   "execution_count": 53,
   "metadata": {},
   "outputs": [],
   "source": [
    "cyclistes.registerTempTable(\"cyclistes\")"
   ]
  },
  {
   "cell_type": "markdown",
   "metadata": {},
   "source": [
    "## 4.2) on fait une jointure sur le champ id"
   ]
  },
  {
   "cell_type": "code",
   "execution_count": 64,
   "metadata": {},
   "outputs": [
    {
     "name": "stdout",
     "output_type": "stream",
     "text": [
      "root\n",
      " |-- id: string (nullable = true)\n",
      " |-- vitesse_a_pied: string (nullable = true)\n",
      " |-- vitesse_a_velo: string (nullable = true)\n",
      " |-- home: string (nullable = true)\n",
      " |-- travail: string (nullable = true)\n",
      " |-- sportif: string (nullable = true)\n",
      " |-- casseur: string (nullable = true)\n",
      " |-- statut: string (nullable = true)\n",
      " |-- salaire: string (nullable = true)\n",
      " |-- sexe: string (nullable = true)\n",
      " |-- age: string (nullable = true)\n",
      " |-- sportivite: string (nullable = true)\n",
      " |-- velo_perf_minimale: string (nullable = true)\n",
      "\n"
     ]
    }
   ],
   "source": [
    "cyclistes.printSchema()"
   ]
  },
  {
   "cell_type": "code",
   "execution_count": 65,
   "metadata": {},
   "outputs": [
    {
     "name": "stdout",
     "output_type": "stream",
     "text": [
      "root\n",
      " |-- id: string (nullable = true)\n",
      " |-- timestamp: string (nullable = true)\n",
      " |-- sur_velo: string (nullable = true)\n",
      " |-- velo: string (nullable = true)\n",
      " |-- vitesse: string (nullable = true)\n",
      " |-- position: string (nullable = true)\n",
      " |-- destination_finale: string (nullable = true)\n",
      "\n"
     ]
    }
   ],
   "source": [
    "voyages.printSchema()"
   ]
  },
  {
   "cell_type": "code",
   "execution_count": 75,
   "metadata": {},
   "outputs": [
    {
     "data": {
      "text/plain": [
       "[Row(id='51', max(age)='46', avg(CAST(vitesse AS DOUBLE))=0.09036380956279483),\n",
       " Row(id='7', max(age)='57', avg(CAST(vitesse AS DOUBLE))=0.35489345221780044),\n",
       " Row(id='15', max(age)='25', avg(CAST(vitesse AS DOUBLE))=0.14527881551079416),\n",
       " Row(id='54', max(age)='48', avg(CAST(vitesse AS DOUBLE))=0.1324084664679445),\n",
       " Row(id='101', max(age)='39', avg(CAST(vitesse AS DOUBLE))=0.8831228007871614)]"
      ]
     },
     "execution_count": 75,
     "metadata": {},
     "output_type": "execute_result"
    }
   ],
   "source": [
    "requete_sql = \"\"\"\n",
    "SELECT c.id, max(c.age), mean(v.vitesse)\n",
    "FROM   cyclistes as c , voyages as v\n",
    "WHERE c.id == v.id\n",
    "GROUP BY c.id\n",
    "\"\"\"\n",
    "spark.sql(requete_sql).take(5)"
   ]
  },
  {
   "cell_type": "markdown",
   "metadata": {},
   "source": [
    "## 4.3) utilisation de fonctions SQL et renommage de champs"
   ]
  },
  {
   "cell_type": "code",
   "execution_count": 83,
   "metadata": {},
   "outputs": [
    {
     "data": {
      "text/plain": [
       "[Row(cycliste='51', age='46', vitesse_moyenne=0.09, date_actuelle=datetime.date(2019, 3, 29)),\n",
       " Row(cycliste='7', age='57', vitesse_moyenne=0.35, date_actuelle=datetime.date(2019, 3, 29)),\n",
       " Row(cycliste='15', age='25', vitesse_moyenne=0.15, date_actuelle=datetime.date(2019, 3, 29)),\n",
       " Row(cycliste='54', age='48', vitesse_moyenne=0.13, date_actuelle=datetime.date(2019, 3, 29)),\n",
       " Row(cycliste='101', age='39', vitesse_moyenne=0.88, date_actuelle=datetime.date(2019, 3, 29))]"
      ]
     },
     "execution_count": 83,
     "metadata": {},
     "output_type": "execute_result"
    }
   ],
   "source": [
    "requete_sql = \"\"\"\n",
    "SELECT        upper( c.id          ) as cycliste        , \n",
    "                max( c.age         ) as age             , \n",
    "         round(mean( v.vitesse),2  ) as vitesse_moyenne ,\n",
    "               cast( now() as date ) as date_actuelle\n",
    "FROM     cyclistes       as c , \n",
    "         voyages         as v\n",
    "WHERE    c.id == v.id\n",
    "GROUP BY c.id\n",
    "\"\"\"\n",
    "spark.sql(requete_sql).take(5)"
   ]
  },
  {
   "cell_type": "markdown",
   "metadata": {},
   "source": [
    "# 5) utilisation de l'API des dataFrames"
   ]
  },
  {
   "cell_type": "code",
   "execution_count": 92,
   "metadata": {},
   "outputs": [
    {
     "name": "stdout",
     "output_type": "stream",
     "text": [
      "root\n",
      " |-- id: integer (nullable = true)\n",
      " |-- vitesse_a_pied: double (nullable = true)\n",
      " |-- vitesse_a_velo: double (nullable = true)\n",
      " |-- home: string (nullable = true)\n",
      " |-- travail: string (nullable = true)\n",
      " |-- sportif: boolean (nullable = true)\n",
      " |-- casseur: boolean (nullable = true)\n",
      " |-- statut: string (nullable = true)\n",
      " |-- salaire: double (nullable = true)\n",
      " |-- sexe: string (nullable = true)\n",
      " |-- age: integer (nullable = true)\n",
      " |-- sportivite: double (nullable = true)\n",
      " |-- velo_perf_minimale: double (nullable = true)\n",
      "\n"
     ]
    }
   ],
   "source": [
    "path_csv  = \"./../data/Villes/ville_1.csv\"\n",
    "cyclistes = spark.read.format(\"csv\").load(path_csv, header=True, inferSchema=True)\n",
    "cyclistes .printSchema()"
   ]
  },
  {
   "cell_type": "code",
   "execution_count": 93,
   "metadata": {},
   "outputs": [
    {
     "name": "stdout",
     "output_type": "stream",
     "text": [
      "+---+\n",
      "| id|\n",
      "+---+\n",
      "|  1|\n",
      "|  2|\n",
      "|  3|\n",
      "|  4|\n",
      "|  5|\n",
      "+---+\n",
      "only showing top 5 rows\n",
      "\n"
     ]
    }
   ],
   "source": [
    "cyclistes.select(\"id\").show(5)"
   ]
  },
  {
   "cell_type": "code",
   "execution_count": 97,
   "metadata": {},
   "outputs": [
    {
     "name": "stdout",
     "output_type": "stream",
     "text": [
      "+---+---+\n",
      "| id|age|\n",
      "+---+---+\n",
      "|  1| 15|\n",
      "|  2| 49|\n",
      "|  3| 71|\n",
      "|  4| 69|\n",
      "|  5| 38|\n",
      "+---+---+\n",
      "only showing top 5 rows\n",
      "\n"
     ]
    }
   ],
   "source": [
    "cyclistes.select([\"id\", \"age\"]).show(5)"
   ]
  },
  {
   "cell_type": "code",
   "execution_count": 124,
   "metadata": {},
   "outputs": [
    {
     "name": "stdout",
     "output_type": "stream",
     "text": [
      "+----+---------+\n",
      "|sexe|count(id)|\n",
      "+----+---------+\n",
      "|   F|       57|\n",
      "|   H|       37|\n",
      "+----+---------+\n",
      "\n"
     ]
    }
   ],
   "source": [
    "requete_sql = \"\"\"\n",
    "SELECT        c.sexe  ,\n",
    "        count(c.id   )\n",
    "FROM     cyclistes as c \n",
    "WHERE    c.age > 18\n",
    "GROUP BY c.sexe\n",
    "\"\"\"\n",
    "spark.sql(requete_sql).show()"
   ]
  },
  {
   "cell_type": "code",
   "execution_count": 117,
   "metadata": {},
   "outputs": [
    {
     "name": "stdout",
     "output_type": "stream",
     "text": [
      "+----+-----+\n",
      "|sexe|count|\n",
      "+----+-----+\n",
      "|   F|   57|\n",
      "|   H|   37|\n",
      "+----+-----+\n",
      "\n"
     ]
    }
   ],
   "source": [
    "cyclistes.select([\"id\",  \"sexe\"]).where(cyclistes[\"age\"] > 18).groupby(\"sexe\").count().show()"
   ]
  },
  {
   "cell_type": "code",
   "execution_count": 102,
   "metadata": {},
   "outputs": [
    {
     "data": {
      "text/plain": [
       "(8, 94)"
      ]
     },
     "execution_count": 102,
     "metadata": {},
     "output_type": "execute_result"
    }
   ],
   "source": [
    "adultes = cyclistes.filter(cyclistes[\"age\"] > 18)\n",
    "mineurs = cyclistes.filter(cyclistes[\"age\"] < 18)\n",
    "mineurs.count(), adultes.count()"
   ]
  }
 ],
 "metadata": {
  "kernelspec": {
   "display_name": "Python 3",
   "language": "python",
   "name": "python3"
  },
  "language_info": {
   "codemirror_mode": {
    "name": "ipython",
    "version": 3
   },
   "file_extension": ".py",
   "mimetype": "text/x-python",
   "name": "python",
   "nbconvert_exporter": "python",
   "pygments_lexer": "ipython3",
   "version": "3.7.1"
  }
 },
 "nbformat": 4,
 "nbformat_minor": 2
}
