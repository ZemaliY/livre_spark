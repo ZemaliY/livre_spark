{
 "cells": [
  {
   "cell_type": "markdown",
   "metadata": {},
   "source": [
    "# -1) Imports"
   ]
  },
  {
   "cell_type": "code",
   "execution_count": 1,
   "metadata": {},
   "outputs": [],
   "source": [
    "# Python\n",
    "## modules\n",
    "import time  \n",
    "import sys  \n",
    "import numpy as np \n",
    "import copy\n",
    "## fonctions\n",
    "from datetime                  import datetime\n",
    "from dateutil.relativedelta    import relativedelta\n",
    "\n",
    "# Spark 2.0\n",
    "from pyspark.sql               import SparkSession \n",
    "\n",
    "# Fonctions\n",
    "from pyspark.sql               import Row\n",
    "from pyspark.sql.types         import *\n",
    "\n",
    "# Machine learning\n",
    "from pyspark.ml                import Pipeline\n",
    "from pyspark.ml.feature        import OneHotEncoder\n",
    "from pyspark.ml.feature        import StringIndexer\n",
    "from pyspark.ml.feature        import VectorIndexer\n",
    "from pyspark.ml.feature        import VectorAssembler\n",
    "from pyspark.ml.evaluation     import MulticlassClassificationEvaluator\n",
    "from pyspark.ml.classification import RandomForestClassifier\n",
    "\n",
    "# Ancienne librairie de ML\n",
    "from pyspark.mllib.evaluation  import MulticlassMetrics"
   ]
  },
  {
   "cell_type": "markdown",
   "metadata": {},
   "source": [
    "# 0) settings"
   ]
  },
  {
   "cell_type": "code",
   "execution_count": 2,
   "metadata": {},
   "outputs": [],
   "source": [
    "app_name    = \"classification_sexe_cycliste_2\"\n",
    "nb_cores    = 3\n",
    "paralelisme = 3\n",
    "memory      = 3\n",
    "start_load  = time.time()\n",
    "\n",
    "\n",
    "spark = SparkSession.builder\\\n",
    ".config(\"spark.app.name\"                  , app_name                                   )\\\n",
    ".config(\"spark.cores.max\"                 , \"%s\"%(nb_cores)                            )\\\n",
    ".config(\"spark.mesos.coarse\"             , \"True\"                                      )\\\n",
    ".config(\"spark.executor.memory\"          , \"%sg\"%memory                                )\\\n",
    ".config(\"spark.driver.memory\"            , \"%sg\"%memory                                )\\\n",
    ".config(\"spark.serializer\"               , \"org.apache.spark.serializer.KryoSerializer\")\\\n",
    ".config(\"spark.kryoserializer.buffer.max\", \"1024m\"                                     )\\\n",
    ".config(\"spark.driver.maxResultSize\"     , \"10g\"                                       )\\\n",
    ".config(\"spark.cores.max\"                , \"%s\"%(nb_cores)                             )\\\n",
    ".config(\"spark.default.parallelism\"      , \"%s\"%(nb_cores*paralelisme)                 )\\\n",
    ".config(\"spark.storage.memoryFraction\"   , \"0.5\"                                       )\\\n",
    ".getOrCreate()\n"
   ]
  },
  {
   "cell_type": "code",
   "execution_count": 3,
   "metadata": {},
   "outputs": [
    {
     "data": {
      "text/html": [
       "\n",
       "            <div>\n",
       "                <p><b>SparkSession - in-memory</b></p>\n",
       "                \n",
       "        <div>\n",
       "            <p><b>SparkContext</b></p>\n",
       "\n",
       "            <p><a href=\"http://b8911440d96a:4040\">Spark UI</a></p>\n",
       "\n",
       "            <dl>\n",
       "              <dt>Version</dt>\n",
       "                <dd><code>v2.4.0</code></dd>\n",
       "              <dt>Master</dt>\n",
       "                <dd><code>local[*]</code></dd>\n",
       "              <dt>AppName</dt>\n",
       "                <dd><code>classification_sexe_cycliste_2</code></dd>\n",
       "            </dl>\n",
       "        </div>\n",
       "        \n",
       "            </div>\n",
       "        "
      ],
      "text/plain": [
       "<pyspark.sql.session.SparkSession at 0x7f257c2e0390>"
      ]
     },
     "execution_count": 3,
     "metadata": {},
     "output_type": "execute_result"
    }
   ],
   "source": [
    "spark"
   ]
  },
  {
   "cell_type": "markdown",
   "metadata": {},
   "source": [
    "# 1) Structure et import du fichier"
   ]
  },
  {
   "cell_type": "code",
   "execution_count": 4,
   "metadata": {},
   "outputs": [
    {
     "name": "stdout",
     "output_type": "stream",
     "text": [
      "fatal: not a git repository (or any parent up to mount point /home/jovyan)\r\n",
      "Stopping at filesystem boundary (GIT_DISCOVERY_ACROSS_FILESYSTEM not set).\r\n"
     ]
    }
   ],
   "source": [
    "!git status \n"
   ]
  },
  {
   "cell_type": "code",
   "execution_count": 9,
   "metadata": {},
   "outputs": [],
   "source": [
    "url_fichier = \"./../data/Villes/ville_1.csv\"\n",
    "data = spark.read.option(\"header\", \"true\").option(\"inferSchema\", \"true\").csv(url_fichier)"
   ]
  },
  {
   "cell_type": "code",
   "execution_count": 10,
   "metadata": {},
   "outputs": [
    {
     "data": {
      "text/plain": [
       "1083"
      ]
     },
     "execution_count": 10,
     "metadata": {},
     "output_type": "execute_result"
    }
   ],
   "source": [
    "data.count()"
   ]
  },
  {
   "cell_type": "code",
   "execution_count": 11,
   "metadata": {},
   "outputs": [
    {
     "data": {
      "text/plain": [
       "pyspark.sql.dataframe.DataFrame"
      ]
     },
     "execution_count": 11,
     "metadata": {},
     "output_type": "execute_result"
    }
   ],
   "source": [
    "type(data)"
   ]
  },
  {
   "cell_type": "code",
   "execution_count": 12,
   "metadata": {},
   "outputs": [],
   "source": [
    "colonnes = data.columns"
   ]
  },
  {
   "cell_type": "code",
   "execution_count": 13,
   "metadata": {},
   "outputs": [
    {
     "name": "stdout",
     "output_type": "stream",
     "text": [
      "root\n",
      " |-- id: integer (nullable = true)\n",
      " |-- vitesse_a_pied: double (nullable = true)\n",
      " |-- vitesse_a_velo: double (nullable = true)\n",
      " |-- home: string (nullable = true)\n",
      " |-- travail: string (nullable = true)\n",
      " |-- sportif: boolean (nullable = true)\n",
      " |-- casseur: boolean (nullable = true)\n",
      " |-- statut: string (nullable = true)\n",
      " |-- salaire: double (nullable = true)\n",
      " |-- sexe: string (nullable = true)\n",
      " |-- age: integer (nullable = true)\n",
      " |-- sportivite: double (nullable = true)\n",
      " |-- velo_perf_minimale: double (nullable = true)\n",
      "\n"
     ]
    }
   ],
   "source": [
    "data.printSchema()"
   ]
  },
  {
   "cell_type": "markdown",
   "metadata": {},
   "source": [
    "# 2) one hot encoding sur le sexe"
   ]
  },
  {
   "cell_type": "code",
   "execution_count": 14,
   "metadata": {},
   "outputs": [],
   "source": [
    "from  pyspark.ml.feature import StringIndexer\n",
    "from pyspark.ml.feature import IndexToString"
   ]
  },
  {
   "cell_type": "code",
   "execution_count": 15,
   "metadata": {},
   "outputs": [],
   "source": [
    "one_hot_encoding = StringIndexer(inputCol=\"sexe\", outputCol=\"sexe-num\")"
   ]
  },
  {
   "cell_type": "code",
   "execution_count": 16,
   "metadata": {},
   "outputs": [],
   "source": [
    "model_one_hot_encoding = one_hot_encoding.fit(data)"
   ]
  },
  {
   "cell_type": "code",
   "execution_count": 17,
   "metadata": {},
   "outputs": [],
   "source": [
    "data_avec_sexe_en_binaire = model_one_hot_encoding.transform(data)"
   ]
  },
  {
   "cell_type": "code",
   "execution_count": 18,
   "metadata": {},
   "outputs": [
    {
     "data": {
      "text/plain": [
       "[Row(id=5251, vitesse_a_pied=0.02, vitesse_a_velo=0.05, home='(lon:26.60 lat:28.13)', travail='(lon:21.08 lat:14.11)', sportif=False, casseur=False, statut='reserviste', salaire=29800.610034665042, sexe='F', age=18, sportivite=0.1, velo_perf_minimale=0.4, sexe-num=1.0),\n",
       " Row(id=5252, vitesse_a_pied=0.14974625830876215, vitesse_a_velo=0.37436564577190534, home='(lon:0.26 lat:42.61)', travail='(lon:36.35 lat:33.28)', sportif=False, casseur=False, statut='professeur', salaire=23595.44383981423, sexe='F', age=28, sportivite=0.7487312915438107, velo_perf_minimale=0.4, sexe-num=1.0),\n",
       " Row(id=5253, vitesse_a_pied=0.6309711587089704, vitesse_a_velo=1.6825897565572543, home='(lon:3.34 lat:13.95)', travail='(lon:24.75 lat:48.15)', sportif=False, casseur=False, statut='technicien_de_surface', salaire=18530.14776280135, sexe='H', age=65, sportivite=2.103237195696568, velo_perf_minimale=0.4, sexe-num=0.0),\n",
       " Row(id=5254, vitesse_a_pied=0.04009596300649916, vitesse_a_velo=0.10692256801733109, home='(lon:19.54 lat:43.69)', travail='(lon:38.57 lat:42.65)', sportif=False, casseur=False, statut='technicien_de_surface', salaire=18997.60281005325, sexe='H', age=26, sportivite=0.13365321002166386, velo_perf_minimale=0.4, sexe-num=0.0),\n",
       " Row(id=5255, vitesse_a_pied=0.02, vitesse_a_velo=0.05, home='(lon:28.51 lat:41.70)', travail='(lon:17.67 lat:25.16)', sportif=False, casseur=False, statut='éboueur', salaire=23618.479750220806, sexe='F', age=50, sportivite=0.1, velo_perf_minimale=0.4, sexe-num=1.0)]"
      ]
     },
     "execution_count": 18,
     "metadata": {},
     "output_type": "execute_result"
    }
   ],
   "source": [
    "data_avec_sexe_en_binaire.take(5)"
   ]
  },
  {
   "cell_type": "markdown",
   "metadata": {},
   "source": [
    "# 3) création d'une colonne \"features\" qui comprend les paramètres explicatifs du sexe"
   ]
  },
  {
   "cell_type": "code",
   "execution_count": 19,
   "metadata": {},
   "outputs": [
    {
     "data": {
      "text/plain": [
       "['id',\n",
       " 'vitesse_a_pied',\n",
       " 'vitesse_a_velo',\n",
       " 'home',\n",
       " 'travail',\n",
       " 'sportif',\n",
       " 'casseur',\n",
       " 'statut',\n",
       " 'salaire',\n",
       " 'sexe',\n",
       " 'age',\n",
       " 'sportivite',\n",
       " 'velo_perf_minimale',\n",
       " 'sexe-num']"
      ]
     },
     "execution_count": 19,
     "metadata": {},
     "output_type": "execute_result"
    }
   ],
   "source": [
    "colonnes = data_avec_sexe_en_binaire.columns\n",
    "colonnes"
   ]
  },
  {
   "cell_type": "code",
   "execution_count": 20,
   "metadata": {},
   "outputs": [
    {
     "data": {
      "text/plain": [
       "['age',\n",
       " 'casseur',\n",
       " 'home',\n",
       " 'salaire',\n",
       " 'sportif',\n",
       " 'sportivite',\n",
       " 'statut',\n",
       " 'travail',\n",
       " 'velo_perf_minimale',\n",
       " 'vitesse_a_pied',\n",
       " 'vitesse_a_velo']"
      ]
     },
     "execution_count": 20,
     "metadata": {},
     "output_type": "execute_result"
    }
   ],
   "source": [
    "colonnes_a_enlever = ['sexe', 'sexe-num', 'id']\n",
    "colonnes_sans_y = [x for x in colonnes if x not in colonnes_a_enlever]\n",
    "sorted(colonnes_sans_y)"
   ]
  },
  {
   "cell_type": "code",
   "execution_count": 21,
   "metadata": {},
   "outputs": [
    {
     "data": {
      "text/plain": [
       "['age',\n",
       " 'casseur',\n",
       " 'home',\n",
       " 'salaire',\n",
       " 'sportif',\n",
       " 'sportivite',\n",
       " 'statut',\n",
       " 'travail',\n",
       " 'velo_perf_minimale',\n",
       " 'vitesse_a_pied',\n",
       " 'vitesse_a_velo']"
      ]
     },
     "execution_count": 21,
     "metadata": {},
     "output_type": "execute_result"
    }
   ],
   "source": [
    "colonnes_a_garder = list(set(colonnes) - set(colonnes_a_enlever))\n",
    "sorted(colonnes_a_garder)"
   ]
  },
  {
   "cell_type": "markdown",
   "metadata": {},
   "source": [
    "# 2) gestion des  colonnes catégorielles / numériques"
   ]
  },
  {
   "cell_type": "code",
   "execution_count": 22,
   "metadata": {},
   "outputs": [],
   "source": [
    "def indexStringColumns(df, cols):\n",
    "    \"\"\"\n",
    "    Convertit les colonnes de string en numériques.\n",
    "    (pbm = donne l'idée d'un ordre naturel)\n",
    "    Parameters:\n",
    "        df : matrice à modifier \n",
    "            dataframe\n",
    "        cols : noms des colonnes à indexer\n",
    "            list de chaine de caractère\n",
    "            \n",
    "    Return: dataframe\n",
    "    \"\"\"\n",
    "    from pyspark.ml.feature import StringIndexer\n",
    "    from collections import OrderedDict\n",
    "    newdf = df\n",
    "    string_indexers = OrderedDict()\n",
    "    for old_col in cols:\n",
    "        \n",
    "        new_col = old_col+\"-num\"\n",
    "        indexer = StringIndexer(inputCol=old_col, outputCol=new_col)\n",
    "        \n",
    "        model   = indexer.fit(newdf)\n",
    "        newdf   = model.transform(newdf)\n",
    "        newdf   = newdf.drop(old_col)\n",
    "        newdf   = newdf.withColumnRenamed(new_col, old_col)\n",
    "        string_indexers[old_col] = model\n",
    "    return newdf, string_indexers\n"
   ]
  },
  {
   "cell_type": "code",
   "execution_count": 23,
   "metadata": {},
   "outputs": [],
   "source": [
    "def oneHotEncodeColumns(df, cols):\n",
    "    \"\"\"\n",
    "    Convertit une colonne contenant n modalité \n",
    "    en n colonne ne comprenant qu'une seule valeur.\n",
    "    (Supprime les effets d'ordre des valeurs numériques)\n",
    "    Parameters:\n",
    "        df : matrice à modifier \n",
    "            dataframe\n",
    "        cols : noms des colonnes à indexer\n",
    "            list de chaine de caractère\n",
    "            \n",
    "    Return: dataframe\n",
    "    \"\"\"\n",
    "    from pyspark.ml.feature import OneHotEncoder\n",
    "    from collections import OrderedDict\n",
    "    newdf = df\n",
    "    one_hot_encoders = OrderedDict()\n",
    "    for old_col in cols:\n",
    "        new_col   = old_col+\"-onehot\"\n",
    "        onehotenc = OneHotEncoder(inputCol=old_col, outputCol=new_col, dropLast=False)\n",
    "        newdf     = onehotenc.transform(newdf)\n",
    "        newdf     = newdf.drop(old_col)\n",
    "        newdf     = newdf.withColumnRenamed(new_col, old_col)\n",
    "        one_hot_encoders[old_col] = onehotenc\n",
    "    return newdf, one_hot_encoders"
   ]
  },
  {
   "cell_type": "markdown",
   "metadata": {},
   "source": [
    "# 2.1) catégories => numériques"
   ]
  },
  {
   "cell_type": "code",
   "execution_count": 24,
   "metadata": {},
   "outputs": [],
   "source": [
    "colY     = \"sexe\"\n",
    "colY_num = \"sexe-num\""
   ]
  },
  {
   "cell_type": "code",
   "execution_count": 25,
   "metadata": {},
   "outputs": [
    {
     "data": {
      "text/plain": [
       "['home', 'travail', 'statut', 'sexe']"
      ]
     },
     "execution_count": 25,
     "metadata": {},
     "output_type": "execute_result"
    }
   ],
   "source": [
    "typeString = [x[0] for x in data.dtypes if x[1]=='string']\n",
    "typeString"
   ]
  },
  {
   "cell_type": "code",
   "execution_count": 26,
   "metadata": {},
   "outputs": [
    {
     "data": {
      "text/plain": [
       "['home', 'travail', 'statut']"
      ]
     },
     "execution_count": 26,
     "metadata": {},
     "output_type": "execute_result"
    }
   ],
   "source": [
    "colString_without_Y = copy.copy(typeString)\n",
    "colString_without_Y.remove(colY)\n",
    "colString_without_Y"
   ]
  },
  {
   "cell_type": "code",
   "execution_count": 27,
   "metadata": {},
   "outputs": [
    {
     "name": "stdout",
     "output_type": "stream",
     "text": [
      "root\n",
      " |-- id: integer (nullable = true)\n",
      " |-- vitesse_a_pied: double (nullable = true)\n",
      " |-- vitesse_a_velo: double (nullable = true)\n",
      " |-- home: string (nullable = true)\n",
      " |-- travail: string (nullable = true)\n",
      " |-- sportif: boolean (nullable = true)\n",
      " |-- casseur: boolean (nullable = true)\n",
      " |-- statut: string (nullable = true)\n",
      " |-- salaire: double (nullable = true)\n",
      " |-- sexe: string (nullable = true)\n",
      " |-- age: integer (nullable = true)\n",
      " |-- sportivite: double (nullable = true)\n",
      " |-- velo_perf_minimale: double (nullable = true)\n",
      " |-- sexe-num: double (nullable = false)\n",
      "\n"
     ]
    }
   ],
   "source": [
    "data_avec_sexe_en_binaire.printSchema()"
   ]
  },
  {
   "cell_type": "code",
   "execution_count": 28,
   "metadata": {},
   "outputs": [
    {
     "name": "stdout",
     "output_type": "stream",
     "text": [
      "root\n",
      " |-- id: integer (nullable = true)\n",
      " |-- vitesse_a_pied: double (nullable = true)\n",
      " |-- vitesse_a_velo: double (nullable = true)\n",
      " |-- sportif: boolean (nullable = true)\n",
      " |-- casseur: boolean (nullable = true)\n",
      " |-- salaire: double (nullable = true)\n",
      " |-- sexe: string (nullable = true)\n",
      " |-- age: integer (nullable = true)\n",
      " |-- sportivite: double (nullable = true)\n",
      " |-- velo_perf_minimale: double (nullable = true)\n",
      " |-- sexe-num: double (nullable = false)\n",
      " |-- home: double (nullable = false)\n",
      " |-- travail: double (nullable = false)\n",
      " |-- statut: double (nullable = false)\n",
      "\n"
     ]
    }
   ],
   "source": [
    "data2, dico_indexers = indexStringColumns(data_avec_sexe_en_binaire, colString_without_Y)\n",
    "data2.printSchema()"
   ]
  },
  {
   "cell_type": "markdown",
   "metadata": {},
   "source": [
    "# 2.2) numériques => one hot encoding"
   ]
  },
  {
   "cell_type": "code",
   "execution_count": 29,
   "metadata": {},
   "outputs": [
    {
     "data": {
      "text/plain": [
       "['home', 'travail', 'statut']"
      ]
     },
     "execution_count": 29,
     "metadata": {},
     "output_type": "execute_result"
    }
   ],
   "source": [
    "colString_without_Y"
   ]
  },
  {
   "cell_type": "code",
   "execution_count": 30,
   "metadata": {},
   "outputs": [
    {
     "data": {
      "text/plain": [
       "[Row(id=5251, vitesse_a_pied=0.02, vitesse_a_velo=0.05, sportif=False, casseur=False, salaire=29800.610034665042, sexe='F', age=18, sportivite=0.1, velo_perf_minimale=0.4, sexe-num=1.0, home=SparseVector(1083, {818: 1.0}), travail=SparseVector(1083, {728: 1.0}), statut=SparseVector(6, {5: 1.0}))]"
      ]
     },
     "execution_count": 30,
     "metadata": {},
     "output_type": "execute_result"
    }
   ],
   "source": [
    "data3, dico_encoders = oneHotEncodeColumns(data2, colString_without_Y)\n",
    "data3.take(1)"
   ]
  },
  {
   "cell_type": "code",
   "execution_count": 31,
   "metadata": {},
   "outputs": [
    {
     "name": "stdout",
     "output_type": "stream",
     "text": [
      "root\n",
      " |-- id: integer (nullable = true)\n",
      " |-- vitesse_a_pied: double (nullable = true)\n",
      " |-- vitesse_a_velo: double (nullable = true)\n",
      " |-- sportif: boolean (nullable = true)\n",
      " |-- casseur: boolean (nullable = true)\n",
      " |-- salaire: double (nullable = true)\n",
      " |-- sexe: string (nullable = true)\n",
      " |-- age: integer (nullable = true)\n",
      " |-- sportivite: double (nullable = true)\n",
      " |-- velo_perf_minimale: double (nullable = true)\n",
      " |-- sexe-num: double (nullable = false)\n",
      " |-- home: vector (nullable = true)\n",
      " |-- travail: vector (nullable = true)\n",
      " |-- statut: vector (nullable = true)\n",
      "\n"
     ]
    }
   ],
   "source": [
    "data3.printSchema()"
   ]
  },
  {
   "cell_type": "markdown",
   "metadata": {},
   "source": [
    "# 2.3) plusieurs colonnes => un vecteur"
   ]
  },
  {
   "cell_type": "code",
   "execution_count": 32,
   "metadata": {},
   "outputs": [
    {
     "data": {
      "text/plain": [
       "['id',\n",
       " 'vitesse_a_pied',\n",
       " 'vitesse_a_velo',\n",
       " 'sportif',\n",
       " 'casseur',\n",
       " 'salaire',\n",
       " 'sexe',\n",
       " 'age',\n",
       " 'sportivite',\n",
       " 'velo_perf_minimale',\n",
       " 'sexe-num',\n",
       " 'home',\n",
       " 'travail',\n",
       " 'statut']"
      ]
     },
     "execution_count": 32,
     "metadata": {},
     "output_type": "execute_result"
    }
   ],
   "source": [
    "data3.columns"
   ]
  },
  {
   "cell_type": "code",
   "execution_count": 33,
   "metadata": {},
   "outputs": [
    {
     "data": {
      "text/plain": [
       "'sexe-num'"
      ]
     },
     "execution_count": 33,
     "metadata": {},
     "output_type": "execute_result"
    }
   ],
   "source": [
    "colY_num"
   ]
  },
  {
   "cell_type": "code",
   "execution_count": 34,
   "metadata": {},
   "outputs": [
    {
     "data": {
      "text/plain": [
       "['id',\n",
       " 'vitesse_a_pied',\n",
       " 'vitesse_a_velo',\n",
       " 'sportif',\n",
       " 'casseur',\n",
       " 'salaire',\n",
       " 'sexe',\n",
       " 'age',\n",
       " 'sportivite',\n",
       " 'velo_perf_minimale',\n",
       " 'sexe-num',\n",
       " 'home',\n",
       " 'travail',\n",
       " 'statut']"
      ]
     },
     "execution_count": 34,
     "metadata": {},
     "output_type": "execute_result"
    }
   ],
   "source": [
    "data3.columns"
   ]
  },
  {
   "cell_type": "code",
   "execution_count": 35,
   "metadata": {},
   "outputs": [
    {
     "name": "stdout",
     "output_type": "stream",
     "text": [
      "['id', 'vitesse_a_pied', 'vitesse_a_velo', 'sportif', 'casseur', 'salaire', 'age', 'sportivite', 'velo_perf_minimale', 'statut']\n"
     ]
    },
    {
     "data": {
      "text/plain": [
       "[Row(id=5251, vitesse_a_pied=0.02, vitesse_a_velo=0.05, sportif=False, casseur=False, salaire=29800.610034665042, sexe='F', age=18, sportivite=0.1, velo_perf_minimale=0.4, sexe-num=1.0, home=SparseVector(1083, {818: 1.0}), travail=SparseVector(1083, {728: 1.0}), statut=SparseVector(6, {5: 1.0}), features=SparseVector(15, {0: 5251.0, 1: 0.02, 2: 0.05, 5: 29800.61, 6: 18.0, 7: 0.1, 8: 0.4, 14: 1.0})),\n",
       " Row(id=5252, vitesse_a_pied=0.14974625830876215, vitesse_a_velo=0.37436564577190534, sportif=False, casseur=False, salaire=23595.44383981423, sexe='F', age=28, sportivite=0.7487312915438107, velo_perf_minimale=0.4, sexe-num=1.0, home=SparseVector(1083, {991: 1.0}), travail=SparseVector(1083, {38: 1.0}), statut=SparseVector(6, {4: 1.0}), features=SparseVector(15, {0: 5252.0, 1: 0.1497, 2: 0.3744, 5: 23595.4438, 6: 28.0, 7: 0.7487, 8: 0.4, 13: 1.0}))]"
      ]
     },
     "execution_count": 35,
     "metadata": {},
     "output_type": "execute_result"
    }
   ],
   "source": [
    "# Choix des colonnes\n",
    "features = data3.columns\n",
    "\n",
    "# on supprime les colonnes dont toutes les valeurs sont différentes\n",
    "features.remove(\"home\")\n",
    "features.remove(\"travail\")\n",
    "\n",
    "features.remove(colY)\n",
    "features.remove(colY_num)\n",
    "# Assembleur\n",
    "print(features)\n",
    "assemblor = VectorAssembler(inputCols=features, outputCol=\"features\", )\n",
    "# Application\n",
    "data4 = assemblor.transform(data3)\n",
    "data4.take(2)"
   ]
  },
  {
   "cell_type": "code",
   "execution_count": 36,
   "metadata": {},
   "outputs": [
    {
     "data": {
      "text/plain": [
       "{0: 'id',\n",
       " 1: 'vitesse_a_pied',\n",
       " 2: 'vitesse_a_velo',\n",
       " 3: 'sportif',\n",
       " 4: 'casseur',\n",
       " 5: 'salaire',\n",
       " 6: 'age',\n",
       " 7: 'sportivite',\n",
       " 8: 'velo_perf_minimale',\n",
       " 9: 'cadre',\n",
       " 10: 'employe',\n",
       " 11: 'technicien_de_surface',\n",
       " 12: 'éboueur',\n",
       " 13: 'professeur',\n",
       " 14: 'reserviste'}"
      ]
     },
     "execution_count": 36,
     "metadata": {},
     "output_type": "execute_result"
    }
   ],
   "source": [
    "nom_des_features = []\n",
    "for col in assemblor.getInputCols():\n",
    "    if col in dico_indexers.keys():\n",
    "        nom_des_features.extend(dico_indexers[col].labels)\n",
    "    else:\n",
    "        nom_des_features.append(col)\n",
    "indices_et_noms_des_features = {indice: col for indice, col in enumerate(nom_des_features)}\n",
    "indices_et_noms_des_features"
   ]
  },
  {
   "cell_type": "markdown",
   "metadata": {},
   "source": [
    "# 2.4) projection, et cleaning"
   ]
  },
  {
   "cell_type": "code",
   "execution_count": 37,
   "metadata": {},
   "outputs": [
    {
     "data": {
      "text/plain": [
       "StructType(List(StructField(features,VectorUDT,true),StructField(sexe-num,DoubleType,false)))"
      ]
     },
     "execution_count": 37,
     "metadata": {},
     "output_type": "execute_result"
    }
   ],
   "source": [
    "data5 = data4.select(\"features\", colY_num)\n",
    "data5.schema"
   ]
  },
  {
   "cell_type": "code",
   "execution_count": 38,
   "metadata": {},
   "outputs": [
    {
     "data": {
      "text/plain": [
       "1083"
      ]
     },
     "execution_count": 38,
     "metadata": {},
     "output_type": "execute_result"
    }
   ],
   "source": [
    "data6 = data5.dropDuplicates()\n",
    "data6.count()"
   ]
  },
  {
   "cell_type": "markdown",
   "metadata": {},
   "source": [
    "# 4) création d'un vecteur avec les colonnes à garder"
   ]
  },
  {
   "cell_type": "code",
   "execution_count": 39,
   "metadata": {},
   "outputs": [],
   "source": [
    "if False:\n",
    "    from pyspark.ml.feature import VectorAssembler\n",
    "    instance = VectorAssembler(inputCols=colonnes_a_garder, outputCol=\"features\")\n",
    "    data_avec_col_features = instance.transform()\n",
    "    data_avec_col_features.take(5)"
   ]
  },
  {
   "cell_type": "markdown",
   "metadata": {},
   "source": [
    "# 2.5) équilibrage des classes"
   ]
  },
  {
   "cell_type": "code",
   "execution_count": 40,
   "metadata": {},
   "outputs": [
    {
     "name": "stdout",
     "output_type": "stream",
     "text": [
      "+--------+-----+\n",
      "|sexe-num|count|\n",
      "+--------+-----+\n",
      "|     0.0|  560|\n",
      "|     1.0|  523|\n",
      "+--------+-----+\n",
      "\n"
     ]
    }
   ],
   "source": [
    "data6.groupBy(colY_num).count().show()"
   ]
  },
  {
   "cell_type": "code",
   "execution_count": 41,
   "metadata": {},
   "outputs": [],
   "source": [
    "if False:\n",
    "    nb_examples = 10000\n",
    "    income_0             = data6.filter(\"income == 0\")\n",
    "    _10000_income_0      = income_0.sample(False, nb_examples/float(income_0.count()))\n",
    "\n",
    "    income_1             = data6.filter(\"income == 1\")\n",
    "    _10000_income_1      = income_1.sample(False, nb_examples/float(income_1.count()))\n",
    "\n",
    "    classes_equilibrees  = _10000_income_0.union(_10000_income_1)\n",
    "    print (_10000_income_0.count(), _10000_income_1.count(), classes_equilibrees.count())\n",
    "else:\n",
    "    classes_equilibrees = data6"
   ]
  },
  {
   "cell_type": "markdown",
   "metadata": {},
   "source": [
    "# 3) Apprentissage"
   ]
  },
  {
   "cell_type": "code",
   "execution_count": 42,
   "metadata": {},
   "outputs": [
    {
     "name": "stdout",
     "output_type": "stream",
     "text": [
      "root\n",
      " |-- features: vector (nullable = true)\n",
      " |-- sexe-num: double (nullable = false)\n",
      "\n"
     ]
    }
   ],
   "source": [
    "data6.printSchema()"
   ]
  },
  {
   "cell_type": "code",
   "execution_count": 43,
   "metadata": {},
   "outputs": [
    {
     "data": {
      "text/plain": [
       "[Row(features=SparseVector(15, {0: 5558.0, 1: 1.2136, 2: 3.034, 5: 21831.9187, 6: 74.0, 7: 6.068, 8: 0.4, 13: 1.0}), sexe-num=1.0)]"
      ]
     },
     "execution_count": 43,
     "metadata": {},
     "output_type": "execute_result"
    }
   ],
   "source": [
    "classes_equilibrees.take(1)"
   ]
  },
  {
   "cell_type": "code",
   "execution_count": 44,
   "metadata": {},
   "outputs": [
    {
     "name": "stdout",
     "output_type": "stream",
     "text": [
      "root\n",
      " |-- features: vector (nullable = true)\n",
      " |-- sexe-num: double (nullable = false)\n",
      "\n"
     ]
    }
   ],
   "source": [
    "classes_equilibrees.printSchema()"
   ]
  },
  {
   "cell_type": "code",
   "execution_count": 45,
   "metadata": {},
   "outputs": [],
   "source": [
    "# Division en jeu de test, et jeu d'apprentissage\n",
    "(trainingData, testData) = classes_equilibrees.randomSplit([0.7, 0.3])"
   ]
  },
  {
   "cell_type": "code",
   "execution_count": 46,
   "metadata": {},
   "outputs": [
    {
     "data": {
      "text/plain": [
       "['features', 'sexe-num']"
      ]
     },
     "execution_count": 46,
     "metadata": {},
     "output_type": "execute_result"
    }
   ],
   "source": [
    "trainingData.columns"
   ]
  },
  {
   "cell_type": "code",
   "execution_count": 47,
   "metadata": {},
   "outputs": [],
   "source": [
    "rf          = RandomForestClassifier(labelCol=colY_num)\n",
    "model       = rf.fit(trainingData)\n",
    "predictions = model.transform(testData)\n",
    "\n",
    "evaluator = MulticlassClassificationEvaluator(  labelCol      = colY_num , \n",
    "                                                predictionCol = \"prediction\"   , \n",
    "                                                metricName    = \"accuracy\"     )\n",
    "accuracy  = evaluator.evaluate(predictions)\n",
    "error     = 1 - accuracy\n",
    "\n",
    "\n"
   ]
  },
  {
   "cell_type": "code",
   "execution_count": 48,
   "metadata": {},
   "outputs": [
    {
     "name": "stdout",
     "output_type": "stream",
     "text": [
      "RandomForest => Accuracy = 0.736527, Error = 0.26347305389221554\n"
     ]
    }
   ],
   "source": [
    "print(\"RandomForest => Accuracy = %g, Error = %s\" % (accuracy, error))"
   ]
  },
  {
   "cell_type": "code",
   "execution_count": 49,
   "metadata": {},
   "outputs": [],
   "source": [
    "variables_les_plus_importantes =model.featureImportances"
   ]
  },
  {
   "cell_type": "code",
   "execution_count": 50,
   "metadata": {},
   "outputs": [],
   "source": [
    "r = []\n",
    "for indice, valeur in enumerate(variables_les_plus_importantes.toArray()):\n",
    "    r.append({\"colonne\" : indices_et_noms_des_features[indice]  ,\n",
    "              \"valeur\"  : valeur                                })\n",
    "    "
   ]
  },
  {
   "cell_type": "code",
   "execution_count": 51,
   "metadata": {},
   "outputs": [],
   "source": [
    "import pandas as pd"
   ]
  },
  {
   "cell_type": "code",
   "execution_count": 52,
   "metadata": {},
   "outputs": [
    {
     "data": {
      "text/html": [
       "<div>\n",
       "<style scoped>\n",
       "    .dataframe tbody tr th:only-of-type {\n",
       "        vertical-align: middle;\n",
       "    }\n",
       "\n",
       "    .dataframe tbody tr th {\n",
       "        vertical-align: top;\n",
       "    }\n",
       "\n",
       "    .dataframe thead th {\n",
       "        text-align: right;\n",
       "    }\n",
       "</style>\n",
       "<table border=\"1\" class=\"dataframe\">\n",
       "  <thead>\n",
       "    <tr style=\"text-align: right;\">\n",
       "      <th></th>\n",
       "      <th>colonne</th>\n",
       "      <th>valeur</th>\n",
       "    </tr>\n",
       "  </thead>\n",
       "  <tbody>\n",
       "    <tr>\n",
       "      <th>1</th>\n",
       "      <td>vitesse_a_pied</td>\n",
       "      <td>0.312833</td>\n",
       "    </tr>\n",
       "    <tr>\n",
       "      <th>2</th>\n",
       "      <td>vitesse_a_velo</td>\n",
       "      <td>0.282324</td>\n",
       "    </tr>\n",
       "    <tr>\n",
       "      <th>7</th>\n",
       "      <td>sportivite</td>\n",
       "      <td>0.155653</td>\n",
       "    </tr>\n",
       "    <tr>\n",
       "      <th>5</th>\n",
       "      <td>salaire</td>\n",
       "      <td>0.154906</td>\n",
       "    </tr>\n",
       "    <tr>\n",
       "      <th>0</th>\n",
       "      <td>id</td>\n",
       "      <td>0.033150</td>\n",
       "    </tr>\n",
       "    <tr>\n",
       "      <th>6</th>\n",
       "      <td>age</td>\n",
       "      <td>0.023350</td>\n",
       "    </tr>\n",
       "    <tr>\n",
       "      <th>8</th>\n",
       "      <td>velo_perf_minimale</td>\n",
       "      <td>0.009925</td>\n",
       "    </tr>\n",
       "    <tr>\n",
       "      <th>14</th>\n",
       "      <td>reserviste</td>\n",
       "      <td>0.005595</td>\n",
       "    </tr>\n",
       "    <tr>\n",
       "      <th>11</th>\n",
       "      <td>technicien_de_surface</td>\n",
       "      <td>0.005478</td>\n",
       "    </tr>\n",
       "    <tr>\n",
       "      <th>13</th>\n",
       "      <td>professeur</td>\n",
       "      <td>0.003709</td>\n",
       "    </tr>\n",
       "    <tr>\n",
       "      <th>12</th>\n",
       "      <td>éboueur</td>\n",
       "      <td>0.003651</td>\n",
       "    </tr>\n",
       "    <tr>\n",
       "      <th>3</th>\n",
       "      <td>sportif</td>\n",
       "      <td>0.002914</td>\n",
       "    </tr>\n",
       "    <tr>\n",
       "      <th>4</th>\n",
       "      <td>casseur</td>\n",
       "      <td>0.002600</td>\n",
       "    </tr>\n",
       "    <tr>\n",
       "      <th>10</th>\n",
       "      <td>employe</td>\n",
       "      <td>0.002171</td>\n",
       "    </tr>\n",
       "    <tr>\n",
       "      <th>9</th>\n",
       "      <td>cadre</td>\n",
       "      <td>0.001743</td>\n",
       "    </tr>\n",
       "  </tbody>\n",
       "</table>\n",
       "</div>"
      ],
      "text/plain": [
       "                  colonne    valeur\n",
       "1          vitesse_a_pied  0.312833\n",
       "2          vitesse_a_velo  0.282324\n",
       "7              sportivite  0.155653\n",
       "5                 salaire  0.154906\n",
       "0                      id  0.033150\n",
       "6                     age  0.023350\n",
       "8      velo_perf_minimale  0.009925\n",
       "14             reserviste  0.005595\n",
       "11  technicien_de_surface  0.005478\n",
       "13             professeur  0.003709\n",
       "12                éboueur  0.003651\n",
       "3                 sportif  0.002914\n",
       "4                 casseur  0.002600\n",
       "10                employe  0.002171\n",
       "9                   cadre  0.001743"
      ]
     },
     "execution_count": 52,
     "metadata": {},
     "output_type": "execute_result"
    }
   ],
   "source": [
    "df = pd.DataFrame(r)\n",
    "df.sort_values(\"valeur\", ascending=False)"
   ]
  },
  {
   "cell_type": "code",
   "execution_count": 53,
   "metadata": {},
   "outputs": [],
   "source": [
    "if False:\n",
    "    from pyspark.ml.feature import OneHotEncoder\n",
    "\n",
    "    newdf       = copy.copy(data)\n",
    "    inputCol_1  = newdf.columns[1]\n",
    "    outputCol_1 = col+\"-num\"\n",
    "    indexer     = StringIndexer(inputCol=inputCol_1, outputCol=outputCol_1)\n",
    "    model       = indexer.fit(newdf)\n",
    "    newdf_1     = model.transform(newdf)\n",
    "    newdf_1.select(inputCol_1, outputCol_1).dropDuplicates().show()\n",
    "\n",
    "    inputCol_2   = outputCol_1\n",
    "    outputCol_2  = col+\"-onehot\"\n",
    "    onehotenc    = OneHotEncoder(inputCol=inputCol_2, outputCol=outputCol_2, dropLast=False)\n",
    "    newdf_2      = onehotenc.transform(newdf_1)\n",
    "    newdf_2.select(inputCol_1, outputCol_1, outputCol_2).dropDuplicates().show()"
   ]
  },
  {
   "cell_type": "markdown",
   "metadata": {},
   "source": [
    "# 3.1) variation du nombre d'arbres"
   ]
  },
  {
   "cell_type": "code",
   "execution_count": 54,
   "metadata": {},
   "outputs": [
    {
     "name": "stdout",
     "output_type": "stream",
     "text": [
      "1 arbre => Accuracy = 0.832335, Error = 0.16766467065868262\n",
      "6 arbre => Accuracy = 0.730539, Error = 0.2694610778443114\n",
      "11 arbre => Accuracy = 0.724551, Error = 0.27544910179640714\n",
      "16 arbre => Accuracy = 0.814371, Error = 0.18562874251497008\n"
     ]
    }
   ],
   "source": [
    "nb_max_arbre = 20\n",
    "for ntree in range(1,nb_max_arbre, 5) :\n",
    "    rf          = RandomForestClassifier(labelCol=colY_num, numTrees=ntree)\n",
    "    model       = rf.fit(trainingData)\n",
    "    predictions = model.transform(testData)\n",
    "\n",
    "    evaluator = MulticlassClassificationEvaluator(  labelCol      = colY_num , \n",
    "                                                    predictionCol = \"prediction\"   , \n",
    "                                                    metricName    = \"accuracy\"     )\n",
    "    accuracy  = evaluator.evaluate(predictions)\n",
    "    error     = 1 - accuracy\n",
    "\n",
    "    print(\"%s arbre => Accuracy = %g, Error = %s\" % (ntree, accuracy, error))\n"
   ]
  },
  {
   "cell_type": "code",
   "execution_count": 159,
   "metadata": {},
   "outputs": [
    {
     "data": {
      "text/plain": [
       "True"
      ]
     },
     "execution_count": 159,
     "metadata": {},
     "output_type": "execute_result"
    }
   ],
   "source": [
    "evaluator.isLargerBetter()"
   ]
  },
  {
   "cell_type": "markdown",
   "metadata": {},
   "source": [
    "# 3.2) variation de la profondeur"
   ]
  },
  {
   "cell_type": "code",
   "execution_count": 55,
   "metadata": {},
   "outputs": [
    {
     "name": "stdout",
     "output_type": "stream",
     "text": [
      "1 arbre, depth = 5 => Error = 0.167665\n",
      "1 arbre, depth = 10 => Error = 0.0658683\n",
      "1 arbre, depth = 20 => Error = 0.0479042\n",
      "10 arbre, depth = 5 => Error = 0.203593\n",
      "10 arbre, depth = 10 => Error = 0.125749\n",
      "10 arbre, depth = 20 => Error = 0.101796\n",
      "20 arbre, depth = 5 => Error = 0.263473\n",
      "20 arbre, depth = 10 => Error = 0.164671\n",
      "20 arbre, depth = 20 => Error = 0.137725\n"
     ]
    }
   ],
   "source": [
    "test_forets = [1, 10, 20]\n",
    "test_depth  = [5, 10, 20]\n",
    "for ntree in test_forets:\n",
    "    for depth in test_depth:\n",
    "        rf          = RandomForestClassifier(labelCol=colY_num, numTrees=ntree, maxDepth=depth)\n",
    "        model       = rf.fit(trainingData)\n",
    "        predictions = model.transform(testData)\n",
    "\n",
    "        evaluator = MulticlassClassificationEvaluator(  labelCol      = colY_num , \n",
    "                                                        predictionCol = \"prediction\"   , \n",
    "                                                        metricName    = \"accuracy\"     )\n",
    "        accuracy  = 1 - evaluator.evaluate(predictions)\n",
    "\n",
    "        print(\"%s arbre, depth = %s => Error = %g\" % (ntree, depth, accuracy))\n"
   ]
  },
  {
   "cell_type": "code",
   "execution_count": 57,
   "metadata": {},
   "outputs": [],
   "source": [
    "from time import time as now"
   ]
  },
  {
   "cell_type": "markdown",
   "metadata": {},
   "source": [
    "# 3.3) Etendue de la forêt\n",
    "(on peut aller prendre un café)"
   ]
  },
  {
   "cell_type": "code",
   "execution_count": 58,
   "metadata": {},
   "outputs": [
    {
     "name": "stdout",
     "output_type": "stream",
     "text": [
      "20 arbre, depth = 30 => Error = 0.1377, duree = 19.171584367752075 sec \n",
      "30 arbre, depth = 30 => Error = 0.1587, duree = 23.561111211776733 sec \n",
      "50 arbre, depth = 30 => Error = 0.1078, duree = 32.50536870956421 sec \n"
     ]
    }
   ],
   "source": [
    "test_forets = [ 20, 30,  50]\n",
    "test_depth  = [ 30] # limite à 30 de profondeurs \n",
    "for ntree in test_forets:\n",
    "    for depth in test_depth:\n",
    "        debut       = now()\n",
    "        # modélisation :\n",
    "        rf          = RandomForestClassifier(labelCol=colY_num, numTrees=ntree, maxDepth=depth,)\n",
    "        model       = rf.fit(trainingData)\n",
    "        predictions = model.transform(testData)\n",
    "        # mesure de la performance :\n",
    "        evaluator   = MulticlassClassificationEvaluator(  labelCol      = colY_num , \n",
    "                                                          predictionCol = \"prediction\"   , \n",
    "                                                          metricName    = \"accuracy\"     )\n",
    "        accuracy     = 1 - evaluator.evaluate(predictions)\n",
    "        duree        = now()-debut\n",
    "        print(\"{0} arbre, depth = {1} => Error = {2:3.4}, duree = {3:5} sec \".format (ntree, depth, accuracy, duree))\n",
    "        "
   ]
  },
  {
   "cell_type": "markdown",
   "metadata": {},
   "source": [
    "# 3.4) Grille de recherche sur les hyperparamètres"
   ]
  },
  {
   "cell_type": "code",
   "execution_count": 106,
   "metadata": {},
   "outputs": [],
   "source": [
    "#Import des librairies de tuning des algorithmes\n",
    "from pyspark.ml.tuning import ParamGridBuilder, TrainValidationSplit\n",
    "# choix d’un algorithme\n",
    "algorithme = RandomForestClassifier()\n",
    "# Définition de la grille des paramètres à chercher\n",
    "paramGrid  = ParamGridBuilder()\n",
    "paramGrid  = paramGrid.addGrid(rf.numTrees     , [10, 30] )\n",
    "paramGrid  = paramGrid.addGrid(rf.maxDepth     , [10, 30] )\n",
    "paramGrid  = paramGrid.build()"
   ]
  },
  {
   "cell_type": "code",
   "execution_count": 107,
   "metadata": {},
   "outputs": [],
   "source": [
    "tvs_grille = TrainValidationSplit( estimator          = algorithme,\n",
    "                                   estimatorParamMaps = paramGrid,\n",
    "                                   evaluator          = BinaryClassificationEvaluator(),\n",
    "                                   trainRatio         = 0.8)\n"
   ]
  },
  {
   "cell_type": "code",
   "execution_count": 111,
   "metadata": {},
   "outputs": [
    {
     "data": {
      "text/plain": [
       "0.7365269461077845"
      ]
     },
     "execution_count": 111,
     "metadata": {},
     "output_type": "execute_result"
    }
   ],
   "source": [
    "modele      = tvs_grille.fit(trainingData.withColumnRenamed(colY_num, \"label\"))\n",
    "\n",
    "predictions = modele.transform(testData)\n",
    "\n",
    "evaluator.evaluate(predictions)"
   ]
  },
  {
   "cell_type": "code",
   "execution_count": 110,
   "metadata": {},
   "outputs": [
    {
     "name": "stdout",
     "output_type": "stream",
     "text": [
      "+--------------------+--------+----------+\n",
      "|            features|sexe-num|prediction|\n",
      "+--------------------+--------+----------+\n",
      "|(15,[0,1,2,5,6,7,...|     0.0|       1.0|\n",
      "|(15,[0,1,2,5,6,7,...|     1.0|       1.0|\n",
      "|(15,[0,1,2,5,6,7,...|     1.0|       0.0|\n",
      "|(15,[0,1,2,5,6,7,...|     0.0|       0.0|\n",
      "|(15,[0,1,2,5,6,7,...|     1.0|       1.0|\n",
      "|(15,[0,1,2,5,6,7,...|     0.0|       0.0|\n",
      "|(15,[0,1,2,5,6,7,...|     0.0|       0.0|\n",
      "|(15,[0,1,2,5,6,7,...|     0.0|       0.0|\n",
      "|(15,[0,1,2,5,6,7,...|     0.0|       0.0|\n",
      "|(15,[0,1,2,5,6,7,...|     0.0|       0.0|\n",
      "|(15,[0,1,2,5,6,7,...|     1.0|       1.0|\n",
      "|(15,[0,1,2,5,6,7,...|     0.0|       0.0|\n",
      "|(15,[0,1,2,5,6,7,...|     0.0|       0.0|\n",
      "|(15,[0,1,2,5,6,7,...|     0.0|       1.0|\n",
      "|(15,[0,1,2,5,6,7,...|     1.0|       1.0|\n",
      "|(15,[0,1,2,5,6,7,...|     0.0|       0.0|\n",
      "|(15,[0,1,2,5,6,7,...|     1.0|       1.0|\n",
      "|(15,[0,1,2,5,6,7,...|     1.0|       1.0|\n",
      "|(15,[0,1,2,5,6,7,...|     0.0|       0.0|\n",
      "|(15,[0,1,2,5,6,7,...|     0.0|       1.0|\n",
      "+--------------------+--------+----------+\n",
      "only showing top 20 rows\n",
      "\n"
     ]
    }
   ],
   "source": [
    "predictions.select(\"features\", colY_num, \"prediction\").show()"
   ]
  },
  {
   "cell_type": "code",
   "execution_count": 64,
   "metadata": {},
   "outputs": [],
   "source": [
    "from pyspark.ml import Pipeline\n",
    "from pyspark.ml.classification import RandomForestClassifier\n",
    "from pyspark.ml.evaluation import BinaryClassificationEvaluator\n",
    "from pyspark.ml.tuning import CrossValidator, ParamGridBuilder\n",
    "\n",
    "\n",
    "rf = RandomForestClassifier()\n",
    "pipeline = Pipeline(stages=[rf])\n",
    "paramGrid = ParamGridBuilder().addGrid(rf.numTrees, [10, 30]).build()\n",
    "\n",
    "crossval = CrossValidator(estimator=pipeline,\n",
    "                          estimatorParamMaps=paramGrid,\n",
    "                          evaluator=BinaryClassificationEvaluator(),\n",
    "                          numFolds=2) \n",
    "\n",
    "cvModel = crossval.fit(trainingData.withColumnRenamed(colY_num, \"label\"))"
   ]
  },
  {
   "cell_type": "code",
   "execution_count": 74,
   "metadata": {},
   "outputs": [
    {
     "data": {
      "text/plain": [
       "Param(parent='CrossValidatorModel_8f41c212ebda', name='estimatorParamMaps', doc='estimator param maps')"
      ]
     },
     "execution_count": 74,
     "metadata": {},
     "output_type": "execute_result"
    }
   ],
   "source": [
    "cvModel.estimatorParamMaps."
   ]
  },
  {
   "cell_type": "code",
   "execution_count": 70,
   "metadata": {},
   "outputs": [
    {
     "data": {
      "text/plain": [
       "[Row(features=SparseVector(15, {0: 6070.0, 1: 0.329, 2: 0.8774, 5: 20111.5601, 6: 72.0, 7: 1.0967, 8: 0.4, 12: 1.0}), sexe-num=0.0, rawPrediction=DenseVector([4.0276, 5.9724]), probability=DenseVector([0.4028, 0.5972]), prediction=1.0),\n",
       " Row(features=SparseVector(15, {0: 6077.0, 1: 0.7497, 2: 1.8742, 5: 18285.3522, 6: 35.0, 7: 3.7484, 8: 0.4, 12: 1.0}), sexe-num=1.0, rawPrediction=DenseVector([2.8234, 7.1766]), probability=DenseVector([0.2823, 0.7177]), prediction=1.0),\n",
       " Row(features=SparseVector(15, {0: 5558.0, 1: 1.2136, 2: 3.034, 5: 21831.9187, 6: 74.0, 7: 6.068, 8: 0.4, 13: 1.0}), sexe-num=1.0, rawPrediction=DenseVector([3.6274, 6.3726]), probability=DenseVector([0.3627, 0.6373]), prediction=1.0),\n",
       " Row(features=SparseVector(15, {0: 5627.0, 1: 0.7329, 2: 1.9544, 5: 28126.2401, 6: 32.0, 7: 2.443, 8: 0.4, 10: 1.0}), sexe-num=0.0, rawPrediction=DenseVector([6.7352, 3.2648]), probability=DenseVector([0.6735, 0.3265]), prediction=0.0),\n",
       " Row(features=SparseVector(15, {0: 5912.0, 1: 0.02, 2: 0.05, 5: 22413.6038, 6: 56.0, 7: 0.1, 8: 0.4, 13: 1.0}), sexe-num=1.0, rawPrediction=DenseVector([1.0177, 8.9823]), probability=DenseVector([0.1018, 0.8982]), prediction=1.0),\n",
       " Row(features=SparseVector(15, {0: 5460.0, 1: 0.511, 2: 1.3626, 5: 33482.8486, 6: 66.0, 7: 1.7032, 8: 0.4, 10: 1.0}), sexe-num=0.0, rawPrediction=DenseVector([6.8528, 3.1472]), probability=DenseVector([0.6853, 0.3147]), prediction=0.0),\n",
       " Row(features=SparseVector(15, {0: 6106.0, 1: 0.03, 2: 0.08, 5: 30619.1062, 6: 76.0, 7: 0.1, 8: 0.4, 10: 1.0}), sexe-num=0.0, rawPrediction=DenseVector([7.6953, 2.3047]), probability=DenseVector([0.7695, 0.2305]), prediction=0.0),\n",
       " Row(features=SparseVector(15, {0: 6119.0, 1: 0.9394, 2: 2.505, 5: 14430.6283, 6: 50.0, 7: 3.1313, 8: 0.4, 10: 1.0}), sexe-num=0.0, rawPrediction=DenseVector([6.6194, 3.3806]), probability=DenseVector([0.6619, 0.3381]), prediction=0.0),\n",
       " Row(features=SparseVector(15, {0: 5856.0, 1: 0.03, 2: 0.08, 5: 31652.751, 6: 77.0, 7: 0.1, 8: 0.4, 13: 1.0}), sexe-num=0.0, rawPrediction=DenseVector([9.0847, 0.9153]), probability=DenseVector([0.9085, 0.0915]), prediction=0.0),\n",
       " Row(features=SparseVector(15, {0: 5613.0, 1: 0.3765, 2: 1.0039, 5: 28954.953, 6: 32.0, 7: 1.2549, 8: 0.4, 14: 1.0}), sexe-num=0.0, rawPrediction=DenseVector([5.5309, 4.4691]), probability=DenseVector([0.5531, 0.4469]), prediction=0.0),\n",
       " Row(features=SparseVector(15, {0: 6170.0, 1: 0.02, 2: 0.05, 5: 25632.8125, 6: 47.0, 7: 0.1, 8: 0.4, 10: 1.0}), sexe-num=1.0, rawPrediction=DenseVector([1.3034, 8.6966]), probability=DenseVector([0.1303, 0.8697]), prediction=1.0),\n",
       " Row(features=SparseVector(15, {0: 5269.0, 1: 0.9415, 2: 2.5106, 5: 32542.6639, 6: 16.0, 7: 3.1383, 8: 0.4, 13: 1.0}), sexe-num=0.0, rawPrediction=DenseVector([7.167, 2.833]), probability=DenseVector([0.7167, 0.2833]), prediction=0.0),\n",
       " Row(features=SparseVector(15, {0: 5342.0, 1: 1.0078, 2: 2.6875, 5: 26617.5471, 6: 50.0, 7: 3.3594, 8: 0.4, 13: 1.0}), sexe-num=0.0, rawPrediction=DenseVector([6.795, 3.205]), probability=DenseVector([0.6795, 0.3205]), prediction=0.0),\n",
       " Row(features=SparseVector(15, {0: 5583.0, 1: 0.8954, 2: 2.3876, 5: 14109.2631, 6: 46.0, 7: 2.9845, 8: 0.4, 13: 1.0}), sexe-num=0.0, rawPrediction=DenseVector([5.889, 4.111]), probability=DenseVector([0.5889, 0.4111]), prediction=0.0),\n",
       " Row(features=SparseVector(15, {0: 5474.0, 1: 1.055, 2: 2.6375, 5: 23224.5363, 6: 80.0, 7: 5.275, 8: 0.4, 11: 1.0}), sexe-num=1.0, rawPrediction=DenseVector([4.3256, 5.6744]), probability=DenseVector([0.4326, 0.5674]), prediction=1.0),\n",
       " Row(features=SparseVector(15, {0: 5328.0, 1: 0.9804, 2: 2.6144, 5: 55737.7433, 6: 19.0, 7: 3.268, 8: 0.4, 14: 1.0}), sexe-num=0.0, rawPrediction=DenseVector([7.6364, 2.3636]), probability=DenseVector([0.7636, 0.2364]), prediction=0.0),\n",
       " Row(features=SparseVector(15, {0: 5597.0, 1: 0.6759, 2: 1.6896, 5: 12408.2415, 6: 27.0, 7: 3.3793, 8: 0.4, 12: 1.0}), sexe-num=1.0, rawPrediction=DenseVector([3.1568, 6.8432]), probability=DenseVector([0.3157, 0.6843]), prediction=1.0),\n",
       " Row(features=SparseVector(15, {0: 6266.0, 1: 0.02, 2: 0.05, 5: 21275.1907, 6: 28.0, 7: 0.1, 8: 0.4, 11: 1.0}), sexe-num=1.0, rawPrediction=DenseVector([1.3034, 8.6966]), probability=DenseVector([0.1303, 0.8697]), prediction=1.0),\n",
       " Row(features=SparseVector(15, {0: 5279.0, 1: 0.5173, 2: 1.3795, 5: 30196.4194, 6: 51.0, 7: 1.7243, 8: 0.4, 10: 1.0}), sexe-num=0.0, rawPrediction=DenseVector([5.724, 4.276]), probability=DenseVector([0.5724, 0.4276]), prediction=0.0),\n",
       " Row(features=SparseVector(15, {0: 5254.0, 1: 0.0401, 2: 0.1069, 5: 18997.6028, 6: 26.0, 7: 0.1337, 8: 0.4, 11: 1.0}), sexe-num=0.0, rawPrediction=DenseVector([5.1916, 4.8084]), probability=DenseVector([0.5192, 0.4808]), prediction=0.0),\n",
       " Row(features=SparseVector(15, {0: 5390.0, 1: 0.1853, 2: 0.4941, 5: 19582.0311, 6: 18.0, 7: 0.6176, 8: 0.4, 9: 1.0}), sexe-num=0.0, rawPrediction=DenseVector([3.4433, 6.5567]), probability=DenseVector([0.3443, 0.6557]), prediction=1.0),\n",
       " Row(features=DenseVector([5886.0, 0.2696, 0.6739, 0.0, 1.0, 45866.8424, 30.0, 1.3479, 0.4, 1.0, 0.0, 0.0, 0.0, 0.0, 0.0]), sexe-num=1.0, rawPrediction=DenseVector([5.6597, 4.3403]), probability=DenseVector([0.566, 0.434]), prediction=0.0),\n",
       " Row(features=SparseVector(15, {0: 6294.0, 1: 1.1426, 2: 3.047, 5: 26141.7683, 6: 41.0, 7: 3.8087, 8: 0.4, 10: 1.0}), sexe-num=0.0, rawPrediction=DenseVector([8.1103, 1.8897]), probability=DenseVector([0.811, 0.189]), prediction=0.0),\n",
       " Row(features=SparseVector(15, {0: 5294.0, 1: 0.6228, 2: 1.5569, 5: 23131.7308, 6: 50.0, 7: 3.1139, 8: 0.4, 11: 1.0}), sexe-num=1.0, rawPrediction=DenseVector([3.6878, 6.3122]), probability=DenseVector([0.3688, 0.6312]), prediction=1.0),\n",
       " Row(features=SparseVector(15, {0: 5452.0, 1: 0.0735, 2: 0.1836, 5: 12753.4631, 6: 65.0, 7: 0.3673, 8: 0.4, 11: 1.0}), sexe-num=1.0, rawPrediction=DenseVector([3.5368, 6.4632]), probability=DenseVector([0.3537, 0.6463]), prediction=1.0),\n",
       " Row(features=SparseVector(15, {0: 5675.0, 1: 0.4467, 2: 1.1167, 5: 31282.2112, 6: 64.0, 7: 2.2334, 8: 0.4, 14: 1.0}), sexe-num=1.0, rawPrediction=DenseVector([6.3606, 3.6394]), probability=DenseVector([0.6361, 0.3639]), prediction=0.0),\n",
       " Row(features=SparseVector(15, {0: 6193.0, 1: 0.02, 2: 0.05, 5: 31469.1151, 6: 30.0, 7: 0.1, 8: 0.4, 9: 1.0}), sexe-num=1.0, rawPrediction=DenseVector([1.0, 9.0]), probability=DenseVector([0.1, 0.9]), prediction=1.0),\n",
       " Row(features=SparseVector(15, {0: 5603.0, 1: 0.3475, 2: 0.9266, 5: 37702.1156, 6: 23.0, 7: 1.1583, 8: 0.4, 13: 1.0}), sexe-num=0.0, rawPrediction=DenseVector([6.3368, 3.6632]), probability=DenseVector([0.6337, 0.3663]), prediction=0.0),\n",
       " Row(features=SparseVector(15, {0: 5606.0, 1: 0.392, 2: 0.9799, 5: 21067.372, 6: 31.0, 7: 1.9598, 8: 0.4, 11: 1.0}), sexe-num=1.0, rawPrediction=DenseVector([3.582, 6.418]), probability=DenseVector([0.3582, 0.6418]), prediction=1.0),\n",
       " Row(features=SparseVector(15, {0: 5531.0, 1: 1.1454, 2: 2.8635, 5: 18470.4347, 6: 33.0, 7: 5.7271, 8: 0.4, 10: 1.0}), sexe-num=1.0, rawPrediction=DenseVector([2.7846, 7.2154]), probability=DenseVector([0.2785, 0.7215]), prediction=1.0),\n",
       " Row(features=SparseVector(15, {0: 5900.0, 1: 0.6561, 2: 1.6402, 5: 27357.1123, 6: 73.0, 7: 3.2804, 8: 0.4, 13: 1.0}), sexe-num=1.0, rawPrediction=DenseVector([4.289, 5.711]), probability=DenseVector([0.4289, 0.5711]), prediction=1.0),\n",
       " Row(features=SparseVector(15, {0: 5469.0, 1: 0.482, 2: 1.2852, 5: 27877.2746, 6: 24.0, 7: 1.6065, 8: 0.4, 14: 1.0}), sexe-num=0.0, rawPrediction=DenseVector([4.818, 5.182]), probability=DenseVector([0.4818, 0.5182]), prediction=1.0),\n",
       " Row(features=SparseVector(15, {0: 5471.0, 1: 0.3468, 2: 0.8671, 5: 24961.9832, 6: 20.0, 7: 1.7342, 8: 0.4, 9: 1.0}), sexe-num=1.0, rawPrediction=DenseVector([3.9316, 6.0684]), probability=DenseVector([0.3932, 0.6068]), prediction=1.0),\n",
       " Row(features=SparseVector(15, {0: 5873.0, 1: 0.8815, 2: 2.2039, 5: 25079.7139, 6: 46.0, 7: 4.4077, 8: 0.4, 11: 1.0}), sexe-num=1.0, rawPrediction=DenseVector([3.2073, 6.7927]), probability=DenseVector([0.3207, 0.6793]), prediction=1.0),\n",
       " Row(features=SparseVector(15, {0: 6051.0, 1: 0.2873, 2: 0.766, 5: 24020.3337, 6: 36.0, 7: 0.9575, 8: 0.4, 12: 1.0}), sexe-num=0.0, rawPrediction=DenseVector([4.1314, 5.8686]), probability=DenseVector([0.4131, 0.5869]), prediction=1.0),\n",
       " Row(features=SparseVector(15, {0: 5959.0, 1: 0.3396, 2: 0.9055, 5: 26082.5845, 6: 48.0, 7: 1.1319, 8: 0.4, 11: 1.0}), sexe-num=0.0, rawPrediction=DenseVector([3.7186, 6.2814]), probability=DenseVector([0.3719, 0.6281]), prediction=1.0),\n",
       " Row(features=SparseVector(15, {0: 5964.0, 1: 0.1233, 2: 0.3084, 5: 23576.264, 6: 65.0, 7: 0.6167, 8: 0.4, 11: 1.0}), sexe-num=1.0, rawPrediction=DenseVector([3.856, 6.144]), probability=DenseVector([0.3856, 0.6144]), prediction=1.0),\n",
       " Row(features=SparseVector(15, {0: 5783.0, 1: 0.9564, 2: 2.5505, 5: 27986.6141, 6: 40.0, 7: 3.1881, 8: 0.4, 11: 1.0}), sexe-num=0.0, rawPrediction=DenseVector([6.8041, 3.1959]), probability=DenseVector([0.6804, 0.3196]), prediction=0.0),\n",
       " Row(features=SparseVector(15, {0: 5815.0, 1: 0.1465, 2: 0.3663, 5: 25837.2038, 6: 44.0, 7: 0.7327, 8: 0.4, 13: 1.0}), sexe-num=1.0, rawPrediction=DenseVector([3.718, 6.282]), probability=DenseVector([0.3718, 0.6282]), prediction=1.0),\n",
       " Row(features=SparseVector(15, {0: 6206.0, 1: 0.223, 2: 0.5946, 5: 43500.0987, 6: 71.0, 7: 0.7432, 8: 0.4, 9: 1.0}), sexe-num=0.0, rawPrediction=DenseVector([6.6071, 3.3929]), probability=DenseVector([0.6607, 0.3393]), prediction=0.0),\n",
       " Row(features=SparseVector(15, {0: 5772.0, 1: 0.3774, 2: 1.0064, 5: 22524.4434, 6: 45.0, 7: 1.258, 8: 0.4, 14: 1.0}), sexe-num=0.0, rawPrediction=DenseVector([3.7625, 6.2375]), probability=DenseVector([0.3762, 0.6238]), prediction=1.0),\n",
       " Row(features=SparseVector(15, {0: 6036.0, 1: 0.2072, 2: 0.5525, 5: 21624.8227, 6: 65.0, 7: 0.6907, 8: 0.4, 10: 1.0}), sexe-num=0.0, rawPrediction=DenseVector([4.5097, 5.4903]), probability=DenseVector([0.451, 0.549]), prediction=1.0),\n",
       " Row(features=SparseVector(15, {0: 6084.0, 1: 0.415, 2: 1.0376, 5: 30774.9361, 6: 60.0, 7: 2.0752, 8: 0.4, 13: 1.0}), sexe-num=1.0, rawPrediction=DenseVector([5.6438, 4.3562]), probability=DenseVector([0.5644, 0.4356]), prediction=0.0),\n",
       " Row(features=SparseVector(15, {0: 6223.0, 1: 0.6717, 2: 1.6793, 5: 26756.8029, 6: 77.0, 7: 3.3586, 8: 0.4, 9: 1.0}), sexe-num=1.0, rawPrediction=DenseVector([3.9319, 6.0681]), probability=DenseVector([0.3932, 0.6068]), prediction=1.0),\n",
       " Row(features=SparseVector(15, {0: 5364.0, 1: 0.1769, 2: 0.4423, 5: 14497.2626, 6: 57.0, 7: 0.8846, 8: 0.4, 11: 1.0}), sexe-num=1.0, rawPrediction=DenseVector([3.3994, 6.6006]), probability=DenseVector([0.3399, 0.6601]), prediction=1.0),\n",
       " Row(features=SparseVector(15, {0: 5756.0, 1: 0.3312, 2: 0.8831, 5: 38213.8144, 6: 70.0, 7: 1.1039, 8: 0.4, 14: 1.0}), sexe-num=0.0, rawPrediction=DenseVector([6.3606, 3.6394]), probability=DenseVector([0.6361, 0.3639]), prediction=0.0),\n",
       " Row(features=SparseVector(15, {0: 6187.0, 1: 0.02, 2: 0.05, 5: 41695.6472, 6: 30.0, 7: 0.1, 8: 0.4, 14: 1.0}), sexe-num=1.0, rawPrediction=DenseVector([1.614, 8.386]), probability=DenseVector([0.1614, 0.8386]), prediction=1.0),\n",
       " Row(features=DenseVector([5484.0, 0.139, 0.3475, 0.0, 1.0, 33248.6355, 52.0, 0.695, 0.4, 0.0, 0.0, 0.0, 0.0, 0.0, 1.0]), sexe-num=1.0, rawPrediction=DenseVector([4.9468, 5.0532]), probability=DenseVector([0.4947, 0.5053]), prediction=1.0),\n",
       " Row(features=SparseVector(15, {0: 5860.0, 1: 0.4496, 2: 1.1239, 5: 24214.4234, 6: 49.0, 7: 2.2479, 8: 0.4, 10: 1.0}), sexe-num=1.0, rawPrediction=DenseVector([4.6768, 5.3232]), probability=DenseVector([0.4677, 0.5323]), prediction=1.0),\n",
       " Row(features=SparseVector(15, {0: 5786.0, 1: 0.0462, 2: 0.1231, 5: 45629.7819, 6: 53.0, 7: 0.1539, 8: 0.4, 9: 1.0}), sexe-num=0.0, rawPrediction=DenseVector([7.4159, 2.5841]), probability=DenseVector([0.7416, 0.2584]), prediction=0.0),\n",
       " Row(features=SparseVector(15, {0: 6155.0, 1: 0.03, 2: 0.08, 5: 48333.1507, 6: 64.0, 7: 0.1, 8: 0.4, 9: 1.0}), sexe-num=0.0, rawPrediction=DenseVector([8.9978, 1.0022]), probability=DenseVector([0.8998, 0.1002]), prediction=0.0),\n",
       " Row(features=SparseVector(15, {0: 6160.0, 1: 0.1661, 2: 0.4153, 5: 19774.287, 6: 75.0, 7: 0.8306, 8: 0.4, 9: 1.0}), sexe-num=1.0, rawPrediction=DenseVector([3.8999, 6.1001]), probability=DenseVector([0.39, 0.61]), prediction=1.0),\n",
       " Row(features=SparseVector(15, {0: 5941.0, 1: 0.02, 2: 0.05, 5: 22996.5551, 6: 67.0, 7: 0.1, 8: 0.4, 10: 1.0}), sexe-num=1.0, rawPrediction=DenseVector([1.9103, 8.0897]), probability=DenseVector([0.191, 0.809]), prediction=1.0),\n",
       " Row(features=SparseVector(15, {0: 5654.0, 1: 0.7649, 2: 1.9123, 5: 21698.0901, 6: 55.0, 7: 3.8247, 8: 0.4, 12: 1.0}), sexe-num=1.0, rawPrediction=DenseVector([2.8234, 7.1766]), probability=DenseVector([0.2823, 0.7177]), prediction=1.0),\n",
       " Row(features=SparseVector(15, {0: 5566.0, 1: 0.1923, 2: 0.5127, 5: 28677.4837, 6: 22.0, 7: 0.6409, 8: 0.4, 13: 1.0}), sexe-num=0.0, rawPrediction=DenseVector([4.8642, 5.1358]), probability=DenseVector([0.4864, 0.5136]), prediction=1.0),\n",
       " Row(features=SparseVector(15, {0: 5468.0, 1: 0.6063, 2: 1.6167, 5: 39076.0039, 6: 16.0, 7: 2.0209, 8: 0.4, 14: 1.0}), sexe-num=0.0, rawPrediction=DenseVector([5.6478, 4.3522]), probability=DenseVector([0.5648, 0.4352]), prediction=0.0),\n",
       " Row(features=SparseVector(15, {0: 6088.0, 1: 0.1443, 2: 0.3848, 5: 39925.3021, 6: 69.0, 7: 0.481, 8: 0.4, 9: 1.0}), sexe-num=0.0, rawPrediction=DenseVector([6.6071, 3.3929]), probability=DenseVector([0.6607, 0.3393]), prediction=0.0),\n",
       " Row(features=SparseVector(15, {0: 5357.0, 1: 0.8402, 2: 2.1005, 5: 36423.5737, 6: 71.0, 7: 4.201, 8: 0.4, 9: 1.0}), sexe-num=1.0, rawPrediction=DenseVector([4.4422, 5.5578]), probability=DenseVector([0.4442, 0.5558]), prediction=1.0),\n",
       " Row(features=SparseVector(15, {0: 5612.0, 1: 0.868, 2: 2.3146, 5: 21335.612, 6: 41.0, 7: 2.8932, 8: 0.4, 11: 1.0}), sexe-num=0.0, rawPrediction=DenseVector([6.0819, 3.9181]), probability=DenseVector([0.6082, 0.3918]), prediction=0.0),\n",
       " Row(features=SparseVector(15, {0: 5658.0, 1: 1.3272, 2: 3.5392, 5: 22987.8128, 6: 82.0, 7: 4.4239, 8: 0.4, 12: 1.0}), sexe-num=0.0, rawPrediction=DenseVector([7.113, 2.887]), probability=DenseVector([0.7113, 0.2887]), prediction=0.0),\n",
       " Row(features=SparseVector(15, {0: 5676.0, 1: 0.03, 2: 0.08, 5: 25480.4955, 6: 40.0, 7: 0.1, 8: 0.4, 13: 1.0}), sexe-num=0.0, rawPrediction=DenseVector([8.3505, 1.6495]), probability=DenseVector([0.835, 0.165]), prediction=0.0),\n",
       " Row(features=SparseVector(15, {0: 6080.0, 1: 0.7427, 2: 1.8566, 5: 34953.0179, 6: 65.0, 7: 3.7133, 8: 0.4, 14: 1.0}), sexe-num=1.0, rawPrediction=DenseVector([4.9738, 5.0262]), probability=DenseVector([0.4974, 0.5026]), prediction=1.0),\n",
       " Row(features=SparseVector(15, {0: 6050.0, 1: 1.0759, 2: 2.6896, 5: 19708.7396, 6: 44.0, 7: 5.3793, 8: 0.4, 10: 1.0}), sexe-num=1.0, rawPrediction=DenseVector([4.5103, 5.4897]), probability=DenseVector([0.451, 0.549]), prediction=1.0),\n",
       " Row(features=SparseVector(15, {0: 5763.0, 1: 0.1961, 2: 0.4901, 5: 26520.894, 6: 58.0, 7: 0.9803, 8: 0.4, 14: 1.0}), sexe-num=1.0, rawPrediction=DenseVector([3.867, 6.133]), probability=DenseVector([0.3867, 0.6133]), prediction=1.0),\n",
       " Row(features=DenseVector([6171.0, 2.9359, 7.829, 1.0, 0.0, 20090.3529, 28.0, 3.2621, 3.6621, 0.0, 0.0, 0.0, 0.0, 1.0, 0.0]), sexe-num=0.0, rawPrediction=DenseVector([7.6373, 2.3627]), probability=DenseVector([0.7637, 0.2363]), prediction=0.0),\n",
       " Row(features=SparseVector(15, {0: 5457.0, 1: 0.02, 2: 0.05, 5: 20591.5155, 6: 18.0, 7: 0.1, 8: 0.4, 11: 1.0}), sexe-num=1.0, rawPrediction=DenseVector([1.1858, 8.8142]), probability=DenseVector([0.1186, 0.8814]), prediction=1.0),\n",
       " Row(features=SparseVector(15, {0: 6039.0, 1: 0.581, 2: 1.4526, 5: 20699.418, 6: 72.0, 7: 2.9052, 8: 0.4, 12: 1.0}), sexe-num=1.0, rawPrediction=DenseVector([4.0689, 5.9311]), probability=DenseVector([0.4069, 0.5931]), prediction=1.0),\n",
       " Row(features=SparseVector(15, {0: 5275.0, 1: 0.03, 2: 0.08, 5: 39281.7366, 6: 48.0, 7: 0.1, 8: 0.4, 14: 1.0}), sexe-num=0.0, rawPrediction=DenseVector([8.5914, 1.4086]), probability=DenseVector([0.8591, 0.1409]), prediction=0.0),\n",
       " Row(features=SparseVector(15, {0: 5780.0, 1: 0.3252, 2: 0.813, 5: 22082.5773, 6: 37.0, 7: 1.6261, 8: 0.4, 12: 1.0}), sexe-num=1.0, rawPrediction=DenseVector([3.8902, 6.1098]), probability=DenseVector([0.389, 0.611]), prediction=1.0),\n",
       " Row(features=SparseVector(15, {0: 6008.0, 1: 0.3091, 2: 0.7729, 5: 11628.2186, 6: 47.0, 7: 1.5457, 8: 0.4, 12: 1.0}), sexe-num=1.0, rawPrediction=DenseVector([3.8902, 6.1098]), probability=DenseVector([0.389, 0.611]), prediction=1.0),\n",
       " Row(features=SparseVector(15, {0: 6331.0, 1: 0.02, 2: 0.05, 5: 21562.6073, 6: 42.0, 7: 0.1, 8: 0.4, 13: 1.0}), sexe-num=1.0, rawPrediction=DenseVector([1.0177, 8.9823]), probability=DenseVector([0.1018, 0.8982]), prediction=1.0),\n",
       " Row(features=SparseVector(15, {0: 5438.0, 1: 0.4814, 2: 1.2034, 5: 31007.5732, 6: 37.0, 7: 2.4069, 8: 0.4, 14: 1.0}), sexe-num=1.0, rawPrediction=DenseVector([5.2271, 4.7729]), probability=DenseVector([0.5227, 0.4773]), prediction=0.0),\n",
       " Row(features=SparseVector(15, {0: 5767.0, 1: 0.03, 2: 0.08, 5: 35118.2212, 6: 35.0, 7: 0.1, 8: 0.4, 13: 1.0}), sexe-num=0.0, rawPrediction=DenseVector([9.0847, 0.9153]), probability=DenseVector([0.9085, 0.0915]), prediction=0.0),\n",
       " Row(features=SparseVector(15, {0: 6279.0, 1: 0.6188, 2: 1.547, 5: 31523.0397, 6: 19.0, 7: 3.0939, 8: 0.4, 9: 1.0}), sexe-num=1.0, rawPrediction=DenseVector([5.5724, 4.4276]), probability=DenseVector([0.5572, 0.4428]), prediction=0.0),\n",
       " Row(features=SparseVector(15, {0: 6046.0, 1: 0.7835, 2: 1.9588, 5: 21115.9779, 6: 27.0, 7: 3.9176, 8: 0.4, 12: 1.0}), sexe-num=1.0, rawPrediction=DenseVector([2.8234, 7.1766]), probability=DenseVector([0.2823, 0.7177]), prediction=1.0),\n",
       " Row(features=SparseVector(15, {0: 5442.0, 1: 0.3906, 2: 1.0416, 5: 24144.8496, 6: 20.0, 7: 1.3021, 8: 0.4, 11: 1.0}), sexe-num=0.0, rawPrediction=DenseVector([3.6465, 6.3535]), probability=DenseVector([0.3646, 0.6354]), prediction=1.0),\n",
       " Row(features=SparseVector(15, {0: 5347.0, 1: 1.6412, 2: 4.3765, 5: 21186.128, 6: 35.0, 7: 5.4706, 8: 0.4, 11: 1.0}), sexe-num=0.0, rawPrediction=DenseVector([7.5691, 2.4309]), probability=DenseVector([0.7569, 0.2431]), prediction=0.0),\n",
       " Row(features=SparseVector(15, {0: 5581.0, 1: 0.5366, 2: 1.3416, 5: 11287.7897, 6: 78.0, 7: 2.6832, 8: 0.4, 11: 1.0}), sexe-num=1.0, rawPrediction=DenseVector([2.8468, 7.1532]), probability=DenseVector([0.2847, 0.7153]), prediction=1.0),\n",
       " Row(features=SparseVector(15, {0: 5498.0, 1: 0.7185, 2: 1.7962, 5: 23137.0735, 6: 69.0, 7: 3.5924, 8: 0.4, 9: 1.0}), sexe-num=1.0, rawPrediction=DenseVector([3.3587, 6.6413]), probability=DenseVector([0.3359, 0.6641]), prediction=1.0),\n",
       " Row(features=SparseVector(15, {0: 6010.0, 1: 0.4925, 2: 1.2312, 5: 38664.3732, 6: 23.0, 7: 2.4624, 8: 0.4, 9: 1.0}), sexe-num=1.0, rawPrediction=DenseVector([6.3741, 3.6259]), probability=DenseVector([0.6374, 0.3626]), prediction=0.0),\n",
       " Row(features=SparseVector(15, {0: 5602.0, 1: 0.3625, 2: 0.9063, 5: 27715.1884, 6: 63.0, 7: 1.8127, 8: 0.4, 9: 1.0}), sexe-num=1.0, rawPrediction=DenseVector([5.6683, 4.3317]), probability=DenseVector([0.5668, 0.4332]), prediction=0.0),\n",
       " Row(features=SparseVector(15, {0: 6078.0, 1: 1.4114, 2: 3.7638, 5: 16719.9312, 6: 58.0, 7: 4.7048, 8: 0.4, 9: 1.0}), sexe-num=0.0, rawPrediction=DenseVector([6.4896, 3.5104]), probability=DenseVector([0.649, 0.351]), prediction=0.0),\n",
       " Row(features=SparseVector(15, {0: 5370.0, 1: 0.9159, 2: 2.4423, 5: 16171.6599, 6: 46.0, 7: 3.0529, 8: 0.4, 12: 1.0}), sexe-num=0.0, rawPrediction=DenseVector([6.51, 3.49]), probability=DenseVector([0.651, 0.349]), prediction=0.0),\n",
       " Row(features=SparseVector(15, {0: 6169.0, 1: 0.1219, 2: 0.3047, 5: 26338.8434, 6: 32.0, 7: 0.6094, 8: 0.4, 12: 1.0}), sexe-num=1.0, rawPrediction=DenseVector([4.1314, 5.8686]), probability=DenseVector([0.4131, 0.5869]), prediction=1.0),\n",
       " Row(features=SparseVector(15, {0: 5415.0, 1: 0.4706, 2: 1.255, 5: 12995.042, 6: 76.0, 7: 1.5687, 8: 0.4, 10: 1.0}), sexe-num=0.0, rawPrediction=DenseVector([4.1408, 5.8592]), probability=DenseVector([0.4141, 0.5859]), prediction=1.0),\n",
       " Row(features=SparseVector(15, {0: 6141.0, 1: 0.03, 2: 0.08, 5: 23792.4598, 6: 41.0, 7: 0.1, 8: 0.4, 11: 1.0}), sexe-num=0.0, rawPrediction=DenseVector([7.7729, 2.2271]), probability=DenseVector([0.7773, 0.2227]), prediction=0.0),\n",
       " Row(features=SparseVector(15, {0: 5466.0, 1: 0.6292, 2: 1.6779, 5: 26715.5213, 6: 50.0, 7: 2.0974, 8: 0.4, 12: 1.0}), sexe-num=0.0, rawPrediction=DenseVector([5.1116, 4.8884]), probability=DenseVector([0.5112, 0.4888]), prediction=0.0),\n",
       " Row(features=SparseVector(15, {0: 5573.0, 1: 1.2467, 2: 3.3246, 5: 30715.4157, 6: 33.0, 7: 4.1557, 8: 0.4, 12: 1.0}), sexe-num=0.0, rawPrediction=DenseVector([7.6672, 2.3328]), probability=DenseVector([0.7667, 0.2333]), prediction=0.0),\n",
       " Row(features=SparseVector(15, {0: 6240.0, 1: 0.02, 2: 0.05, 5: 24803.8878, 6: 25.0, 7: 0.1, 8: 0.4, 9: 1.0}), sexe-num=1.0, rawPrediction=DenseVector([1.3034, 8.6966]), probability=DenseVector([0.1303, 0.8697]), prediction=1.0),\n",
       " Row(features=SparseVector(15, {0: 5336.0, 1: 0.6723, 2: 1.6807, 5: 11038.4067, 6: 38.0, 7: 3.3614, 8: 0.4, 10: 1.0}), sexe-num=1.0, rawPrediction=DenseVector([2.5598, 7.4402]), probability=DenseVector([0.256, 0.744]), prediction=1.0),\n",
       " Row(features=SparseVector(15, {0: 5487.0, 1: 1.1312, 2: 3.0165, 5: 29249.5808, 6: 27.0, 7: 3.7706, 8: 0.4, 10: 1.0}), sexe-num=0.0, rawPrediction=DenseVector([8.0445, 1.9555]), probability=DenseVector([0.8045, 0.1955]), prediction=0.0),\n",
       " Row(features=SparseVector(15, {0: 5525.0, 1: 1.7769, 2: 4.7384, 5: 20645.9298, 6: 75.0, 7: 5.923, 8: 0.4, 11: 1.0}), sexe-num=0.0, rawPrediction=DenseVector([6.8526, 3.1474]), probability=DenseVector([0.6853, 0.3147]), prediction=0.0),\n",
       " Row(features=SparseVector(15, {0: 5669.0, 1: 0.7589, 2: 1.8973, 5: 27366.0949, 6: 37.0, 7: 3.7946, 8: 0.4, 13: 1.0}), sexe-num=1.0, rawPrediction=DenseVector([3.8183, 6.1817]), probability=DenseVector([0.3818, 0.6182]), prediction=1.0),\n",
       " Row(features=SparseVector(15, {0: 5458.0, 1: 0.03, 2: 0.08, 5: 26119.8031, 6: 60.0, 7: 0.1, 8: 0.4, 12: 1.0}), sexe-num=0.0, rawPrediction=DenseVector([7.6553, 2.3447]), probability=DenseVector([0.7655, 0.2345]), prediction=0.0),\n",
       " Row(features=SparseVector(15, {0: 5381.0, 1: 0.03, 2: 0.08, 5: 19621.2051, 6: 27.0, 7: 0.1, 8: 0.4, 10: 1.0}), sexe-num=0.0, rawPrediction=DenseVector([7.4053, 2.5947]), probability=DenseVector([0.7405, 0.2595]), prediction=0.0),\n",
       " Row(features=SparseVector(15, {0: 5615.0, 1: 0.2178, 2: 0.5446, 5: 18784.8241, 6: 65.0, 7: 1.0892, 8: 0.4, 11: 1.0}), sexe-num=1.0, rawPrediction=DenseVector([3.7193, 6.2807]), probability=DenseVector([0.3719, 0.6281]), prediction=1.0),\n",
       " Row(features=SparseVector(15, {0: 5972.0, 1: 0.02, 2: 0.05, 5: 37407.913, 6: 77.0, 7: 0.1, 8: 0.4, 14: 1.0}), sexe-num=1.0, rawPrediction=DenseVector([0.6667, 9.3333]), probability=DenseVector([0.0667, 0.9333]), prediction=1.0),\n",
       " Row(features=SparseVector(15, {0: 6221.0, 1: 0.02, 2: 0.05, 5: 20183.1935, 6: 35.0, 7: 0.1, 8: 0.4, 11: 1.0}), sexe-num=1.0, rawPrediction=DenseVector([1.3034, 8.6966]), probability=DenseVector([0.1303, 0.8697]), prediction=1.0),\n",
       " Row(features=SparseVector(15, {0: 5301.0, 1: 0.8603, 2: 2.294, 5: 37288.6351, 6: 68.0, 7: 2.8676, 8: 0.4, 9: 1.0}), sexe-num=0.0, rawPrediction=DenseVector([6.2297, 3.7703]), probability=DenseVector([0.623, 0.377]), prediction=0.0),\n",
       " Row(features=SparseVector(15, {0: 5818.0, 1: 1.2445, 2: 3.1112, 5: 35464.2959, 6: 59.0, 7: 6.2225, 8: 0.4, 9: 1.0}), sexe-num=1.0, rawPrediction=DenseVector([6.2028, 3.7972]), probability=DenseVector([0.6203, 0.3797]), prediction=0.0),\n",
       " Row(features=SparseVector(15, {0: 5841.0, 1: 1.045, 2: 2.7867, 5: 14487.2576, 6: 29.0, 7: 3.4833, 8: 0.4, 12: 1.0}), sexe-num=0.0, rawPrediction=DenseVector([5.9116, 4.0884]), probability=DenseVector([0.5912, 0.4088]), prediction=0.0),\n",
       " Row(features=SparseVector(15, {0: 5881.0, 1: 0.02, 2: 0.05, 5: 24873.5668, 6: 16.0, 7: 0.1, 8: 0.4, 14: 1.0}), sexe-num=1.0, rawPrediction=DenseVector([1.3034, 8.6966]), probability=DenseVector([0.1303, 0.8697]), prediction=1.0),\n",
       " Row(features=SparseVector(15, {0: 5306.0, 1: 0.7933, 2: 2.1155, 5: 29089.4979, 6: 48.0, 7: 2.6444, 8: 0.4, 11: 1.0}), sexe-num=0.0, rawPrediction=DenseVector([5.259, 4.741]), probability=DenseVector([0.5259, 0.4741]), prediction=0.0),\n",
       " Row(features=SparseVector(15, {0: 6220.0, 1: 0.738, 2: 1.9679, 5: 29867.2163, 6: 41.0, 7: 2.4599, 8: 0.4, 13: 1.0}), sexe-num=0.0, rawPrediction=DenseVector([5.2231, 4.7769]), probability=DenseVector([0.5223, 0.4777]), prediction=0.0),\n",
       " Row(features=SparseVector(15, {0: 6027.0, 1: 0.255, 2: 0.68, 5: 18310.9978, 6: 23.0, 7: 0.85, 8: 0.4, 14: 1.0}), sexe-num=0.0, rawPrediction=DenseVector([3.7625, 6.2375]), probability=DenseVector([0.3762, 0.6238]), prediction=1.0),\n",
       " Row(features=SparseVector(15, {0: 5723.0, 1: 0.2821, 2: 0.7053, 5: 22745.8409, 6: 84.0, 7: 1.4106, 8: 0.4, 11: 1.0}), sexe-num=1.0, rawPrediction=DenseVector([2.8055, 7.1945]), probability=DenseVector([0.2805, 0.7195]), prediction=1.0),\n",
       " Row(features=SparseVector(15, {0: 5318.0, 1: 0.8646, 2: 2.3056, 5: 14247.7414, 6: 35.0, 7: 2.8821, 8: 0.4, 13: 1.0}), sexe-num=0.0, rawPrediction=DenseVector([5.6874, 4.3126]), probability=DenseVector([0.5687, 0.4313]), prediction=0.0),\n",
       " Row(features=SparseVector(15, {0: 5784.0, 1: 1.2326, 2: 3.2869, 5: 35043.3087, 6: 83.0, 7: 4.1086, 8: 0.4, 9: 1.0}), sexe-num=0.0, rawPrediction=DenseVector([7.3611, 2.6389]), probability=DenseVector([0.7361, 0.2639]), prediction=0.0),\n",
       " Row(features=SparseVector(15, {0: 5808.0, 1: 0.8595, 2: 2.292, 5: 39820.7978, 6: 19.0, 7: 2.865, 8: 0.4, 9: 1.0}), sexe-num=0.0, rawPrediction=DenseVector([7.0148, 2.9852]), probability=DenseVector([0.7015, 0.2985]), prediction=0.0),\n",
       " Row(features=SparseVector(15, {0: 5986.0, 1: 0.03, 2: 0.08, 5: 31284.5214, 6: 82.0, 7: 0.1, 8: 0.4, 11: 1.0}), sexe-num=0.0, rawPrediction=DenseVector([8.3303, 1.6697]), probability=DenseVector([0.833, 0.167]), prediction=0.0),\n",
       " Row(features=SparseVector(15, {0: 6061.0, 1: 1.0123, 2: 2.6994, 5: 23737.812, 6: 68.0, 7: 3.3743, 8: 0.4, 10: 1.0}), sexe-num=0.0, rawPrediction=DenseVector([7.5492, 2.4508]), probability=DenseVector([0.7549, 0.2451]), prediction=0.0),\n",
       " Row(features=SparseVector(15, {0: 6302.0, 1: 0.7471, 2: 1.8678, 5: 16502.4145, 6: 48.0, 7: 3.7356, 8: 0.4, 10: 1.0}), sexe-num=1.0, rawPrediction=DenseVector([2.1233, 7.8767]), probability=DenseVector([0.2123, 0.7877]), prediction=1.0),\n",
       " Row(features=SparseVector(15, {0: 5921.0, 1: 0.0764, 2: 0.191, 5: 18455.9845, 6: 43.0, 7: 0.382, 8: 0.4, 13: 1.0}), sexe-num=1.0, rawPrediction=DenseVector([3.4768, 6.5232]), probability=DenseVector([0.3477, 0.6523]), prediction=1.0),\n",
       " Row(features=SparseVector(15, {0: 6035.0, 1: 1.4739, 2: 3.9303, 5: 50926.4174, 6: 16.0, 7: 4.9129, 8: 0.4, 9: 1.0}), sexe-num=0.0, rawPrediction=DenseVector([7.8905, 2.1095]), probability=DenseVector([0.7891, 0.2109]), prediction=0.0),\n",
       " Row(features=SparseVector(15, {0: 5998.0, 1: 0.3369, 2: 0.8985, 5: 21512.4835, 6: 65.0, 7: 1.1231, 8: 0.4, 11: 1.0}), sexe-num=0.0, rawPrediction=DenseVector([3.856, 6.144]), probability=DenseVector([0.3856, 0.6144]), prediction=1.0),\n",
       " Row(features=SparseVector(15, {0: 5545.0, 1: 0.34, 2: 0.85, 5: 29302.0152, 6: 20.0, 7: 1.7001, 8: 0.4, 13: 1.0}), sexe-num=1.0, rawPrediction=DenseVector([5.5071, 4.4929]), probability=DenseVector([0.5507, 0.4493]), prediction=0.0),\n",
       " Row(features=SparseVector(15, {0: 6006.0, 1: 0.4604, 2: 1.1511, 5: 15876.0063, 6: 65.0, 7: 2.3022, 8: 0.4, 13: 1.0}), sexe-num=1.0, rawPrediction=DenseVector([4.2983, 5.7017]), probability=DenseVector([0.4298, 0.5702]), prediction=1.0),\n",
       " Row(features=SparseVector(15, {0: 5617.0, 1: 0.3679, 2: 0.9199, 5: 31664.5063, 6: 53.0, 7: 1.8397, 8: 0.4, 14: 1.0}), sexe-num=1.0, rawPrediction=DenseVector([6.3606, 3.6394]), probability=DenseVector([0.6361, 0.3639]), prediction=0.0),\n",
       " Row(features=DenseVector([5310.0, 0.03, 0.08, 0.0, 1.0, 19170.4687, 43.0, 0.1, 0.4, 0.0, 0.0, 1.0, 0.0, 0.0, 0.0]), sexe-num=0.0, rawPrediction=DenseVector([7.6553, 2.3447]), probability=DenseVector([0.7655, 0.2345]), prediction=0.0),\n",
       " Row(features=SparseVector(15, {0: 5396.0, 1: 1.0781, 2: 2.875, 5: 24256.5443, 6: 51.0, 7: 3.5937, 8: 0.4, 10: 1.0}), sexe-num=0.0, rawPrediction=DenseVector([7.4573, 2.5427]), probability=DenseVector([0.7457, 0.2543]), prediction=0.0),\n",
       " Row(features=SparseVector(15, {0: 5547.0, 1: 1.5558, 2: 3.8895, 5: 23749.7787, 6: 84.0, 7: 7.779, 8: 0.4, 9: 1.0}), sexe-num=1.0, rawPrediction=DenseVector([5.9917, 4.0083]), probability=DenseVector([0.5992, 0.4008]), prediction=0.0),\n",
       " Row(features=SparseVector(15, {0: 5611.0, 1: 1.2327, 2: 3.2873, 5: 20975.375, 6: 48.0, 7: 4.1091, 8: 0.4, 12: 1.0}), sexe-num=0.0, rawPrediction=DenseVector([7.2534, 2.7466]), probability=DenseVector([0.7253, 0.2747]), prediction=0.0),\n",
       " Row(features=SparseVector(15, {0: 5456.0, 1: 0.02, 2: 0.05, 5: 17720.041, 6: 16.0, 7: 0.1, 8: 0.4, 11: 1.0}), sexe-num=1.0, rawPrediction=DenseVector([1.1858, 8.8142]), probability=DenseVector([0.1186, 0.8814]), prediction=1.0),\n",
       " Row(features=SparseVector(15, {0: 6198.0, 1: 0.7772, 2: 2.0726, 5: 28794.5044, 6: 51.0, 7: 2.5908, 8: 0.4, 11: 1.0}), sexe-num=0.0, rawPrediction=DenseVector([4.9618, 5.0382]), probability=DenseVector([0.4962, 0.5038]), prediction=1.0),\n",
       " Row(features=SparseVector(15, {0: 5344.0, 1: 0.03, 2: 0.08, 5: 36878.5454, 6: 34.0, 7: 0.1, 8: 0.4, 14: 1.0}), sexe-num=0.0, rawPrediction=DenseVector([8.5914, 1.4086]), probability=DenseVector([0.8591, 0.1409]), prediction=0.0),\n",
       " Row(features=DenseVector([5589.0, 0.3507, 0.8766, 0.0, 1.0, 24625.6443, 80.0, 1.7533, 0.4, 0.0, 1.0, 0.0, 0.0, 0.0, 0.0]), sexe-num=1.0, rawPrediction=DenseVector([3.2013, 6.7987]), probability=DenseVector([0.3201, 0.6799]), prediction=1.0),\n",
       " Row(features=DenseVector([6110.0, 0.392, 0.9801, 0.0, 1.0, 19372.0695, 45.0, 1.9601, 0.4, 0.0, 0.0, 0.0, 1.0, 0.0, 0.0]), sexe-num=1.0, rawPrediction=DenseVector([3.8902, 6.1098]), probability=DenseVector([0.389, 0.611]), prediction=1.0),\n",
       " Row(features=SparseVector(15, {0: 5314.0, 1: 0.2814, 2: 0.7034, 5: 25639.6103, 6: 42.0, 7: 1.4069, 8: 0.4, 9: 1.0}), sexe-num=1.0, rawPrediction=DenseVector([3.9316, 6.0684]), probability=DenseVector([0.3932, 0.6068]), prediction=1.0),\n",
       " Row(features=SparseVector(15, {0: 6029.0, 1: 0.707, 2: 1.7676, 5: 16295.6253, 6: 37.0, 7: 3.5351, 8: 0.4, 10: 1.0}), sexe-num=1.0, rawPrediction=DenseVector([2.7423, 7.2577]), probability=DenseVector([0.2742, 0.7258]), prediction=1.0),\n",
       " Row(features=SparseVector(15, {0: 6048.0, 1: 0.2787, 2: 0.6967, 5: 16908.1806, 6: 78.0, 7: 1.3934, 8: 0.4, 12: 1.0}), sexe-num=1.0, rawPrediction=DenseVector([3.1137, 6.8863]), probability=DenseVector([0.3114, 0.6886]), prediction=1.0),\n",
       " Row(features=SparseVector(15, {0: 5533.0, 1: 1.1841, 2: 2.9603, 5: 28753.8234, 6: 46.0, 7: 5.9206, 8: 0.4, 13: 1.0}), sexe-num=1.0, rawPrediction=DenseVector([5.3836, 4.6164]), probability=DenseVector([0.5384, 0.4616]), prediction=0.0),\n",
       " Row(features=SparseVector(15, {0: 6103.0, 1: 0.8056, 2: 2.014, 5: 11413.9902, 6: 84.0, 7: 4.0279, 8: 0.4, 12: 1.0}), sexe-num=1.0, rawPrediction=DenseVector([2.047, 7.953]), probability=DenseVector([0.2047, 0.7953]), prediction=1.0),\n",
       " Row(features=SparseVector(15, {0: 5428.0, 1: 0.3749, 2: 0.9998, 5: 27781.161, 6: 64.0, 7: 1.2498, 8: 0.4, 13: 1.0}), sexe-num=0.0, rawPrediction=DenseVector([5.2935, 4.7065]), probability=DenseVector([0.5294, 0.4706]), prediction=0.0),\n",
       " Row(features=SparseVector(15, {0: 5935.0, 1: 0.2674, 2: 0.713, 5: 29252.8495, 6: 74.0, 7: 0.8912, 8: 0.4, 12: 1.0}), sexe-num=0.0, rawPrediction=DenseVector([5.9327, 4.0673]), probability=DenseVector([0.5933, 0.4067]), prediction=0.0),\n",
       " Row(features=SparseVector(15, {0: 6152.0, 1: 0.02, 2: 0.05, 5: 26782.7917, 6: 29.0, 7: 0.1, 8: 0.4, 14: 1.0}), sexe-num=1.0, rawPrediction=DenseVector([1.3034, 8.6966]), probability=DenseVector([0.1303, 0.8697]), prediction=1.0),\n",
       " Row(features=SparseVector(15, {0: 5461.0, 1: 0.0692, 2: 0.1846, 5: 35723.9764, 6: 78.0, 7: 0.2308, 8: 0.4, 10: 1.0}), sexe-num=0.0, rawPrediction=DenseVector([6.4003, 3.5997]), probability=DenseVector([0.64, 0.36]), prediction=0.0),\n",
       " Row(features=SparseVector(15, {0: 6073.0, 1: 0.5856, 2: 1.5616, 5: 25192.5064, 6: 46.0, 7: 1.952, 8: 0.4, 10: 1.0}), sexe-num=0.0, rawPrediction=DenseVector([5.3847, 4.6153]), probability=DenseVector([0.5385, 0.4615]), prediction=0.0),\n",
       " Row(features=SparseVector(15, {0: 5817.0, 1: 0.8384, 2: 2.096, 5: 22833.7693, 6: 63.0, 7: 4.1919, 8: 0.4, 12: 1.0}), sexe-num=1.0, rawPrediction=DenseVector([3.3886, 6.6114]), probability=DenseVector([0.3389, 0.6611]), prediction=1.0),\n",
       " Row(features=SparseVector(15, {0: 5479.0, 1: 0.2534, 2: 0.6758, 5: 28820.2498, 6: 74.0, 7: 0.8448, 8: 0.4, 13: 1.0}), sexe-num=0.0, rawPrediction=DenseVector([5.2935, 4.7065]), probability=DenseVector([0.5294, 0.4706]), prediction=0.0),\n",
       " Row(features=SparseVector(15, {0: 5258.0, 1: 0.8307, 2: 2.2151, 5: 41451.2705, 6: 74.0, 7: 2.7689, 8: 0.4, 9: 1.0}), sexe-num=0.0, rawPrediction=DenseVector([5.6549, 4.3451]), probability=DenseVector([0.5655, 0.4345]), prediction=0.0),\n",
       " Row(features=SparseVector(15, {0: 5267.0, 1: 0.3358, 2: 0.8955, 5: 30332.8174, 6: 26.0, 7: 1.1194, 8: 0.4, 9: 1.0}), sexe-num=0.0, rawPrediction=DenseVector([4.818, 5.182]), probability=DenseVector([0.4818, 0.5182]), prediction=1.0),\n",
       " Row(features=SparseVector(15, {0: 6257.0, 1: 0.6382, 2: 1.5954, 5: 15385.9053, 6: 41.0, 7: 3.1909, 8: 0.4, 11: 1.0}), sexe-num=1.0, rawPrediction=DenseVector([3.1129, 6.8871]), probability=DenseVector([0.3113, 0.6887]), prediction=1.0),\n",
       " Row(features=SparseVector(15, {0: 5898.0, 1: 0.7286, 2: 1.9428, 5: 27360.3588, 6: 76.0, 7: 2.4286, 8: 0.4, 10: 1.0}), sexe-num=0.0, rawPrediction=DenseVector([5.4867, 4.5133]), probability=DenseVector([0.5487, 0.4513]), prediction=0.0),\n",
       " Row(features=SparseVector(15, {0: 6049.0, 1: 0.5392, 2: 1.4378, 5: 14068.0983, 6: 25.0, 7: 1.7972, 8: 0.4, 10: 1.0}), sexe-num=0.0, rawPrediction=DenseVector([4.806, 5.194]), probability=DenseVector([0.4806, 0.5194]), prediction=1.0),\n",
       " Row(features=SparseVector(15, {0: 5951.0, 1: 1.2726, 2: 3.1816, 5: 18598.1631, 6: 49.0, 7: 6.3631, 8: 0.4, 11: 1.0}), sexe-num=1.0, rawPrediction=DenseVector([4.1207, 5.8793]), probability=DenseVector([0.4121, 0.5879]), prediction=1.0),\n",
       " Row(features=SparseVector(15, {0: 6288.0, 1: 1.0521, 2: 2.8055, 5: 23099.1242, 6: 53.0, 7: 3.5069, 8: 0.4, 13: 1.0}), sexe-num=0.0, rawPrediction=DenseVector([6.5083, 3.4917]), probability=DenseVector([0.6508, 0.3492]), prediction=0.0),\n",
       " Row(features=SparseVector(15, {0: 5270.0, 1: 0.03, 2: 0.08, 5: 31264.8651, 6: 43.0, 7: 0.1, 8: 0.4, 9: 1.0}), sexe-num=0.0, rawPrediction=DenseVector([8.5914, 1.4086]), probability=DenseVector([0.8591, 0.1409]), prediction=0.0),\n",
       " Row(features=SparseVector(15, {0: 5840.0, 1: 0.02, 2: 0.05, 5: 25006.7851, 6: 60.0, 7: 0.1, 8: 0.4, 9: 1.0}), sexe-num=1.0, rawPrediction=DenseVector([1.3034, 8.6966]), probability=DenseVector([0.1303, 0.8697]), prediction=1.0),\n",
       " Row(features=SparseVector(15, {0: 5430.0, 1: 0.9792, 2: 2.6112, 5: 26396.8937, 6: 49.0, 7: 3.264, 8: 0.4, 10: 1.0}), sexe-num=0.0, rawPrediction=DenseVector([6.3297, 3.6703]), probability=DenseVector([0.633, 0.367]), prediction=0.0),\n",
       " Row(features=SparseVector(15, {0: 6059.0, 1: 0.7871, 2: 2.0989, 5: 17019.0739, 6: 24.0, 7: 2.6236, 8: 0.4, 10: 1.0}), sexe-num=0.0, rawPrediction=DenseVector([4.8574, 5.1426]), probability=DenseVector([0.4857, 0.5143]), prediction=1.0),\n",
       " Row(features=SparseVector(15, {0: 5656.0, 1: 0.02, 2: 0.05, 5: 29699.8716, 6: 63.0, 7: 0.1, 8: 0.4, 14: 1.0}), sexe-num=1.0, rawPrediction=DenseVector([1.5546, 8.4454]), probability=DenseVector([0.1555, 0.8445]), prediction=1.0),\n",
       " Row(features=SparseVector(15, {0: 5872.0, 1: 1.6856, 2: 4.4948, 5: 29346.8969, 6: 80.0, 7: 5.6185, 8: 0.4, 9: 1.0}), sexe-num=0.0, rawPrediction=DenseVector([8.4056, 1.5944]), probability=DenseVector([0.8406, 0.1594]), prediction=0.0),\n",
       " Row(features=SparseVector(15, {0: 6052.0, 1: 0.98, 2: 2.4501, 5: 31675.9874, 6: 83.0, 7: 4.9001, 8: 0.4, 14: 1.0}), sexe-num=1.0, rawPrediction=DenseVector([5.2443, 4.7557]), probability=DenseVector([0.5244, 0.4756]), prediction=0.0),\n",
       " Row(features=SparseVector(15, {0: 5421.0, 1: 0.7572, 2: 2.0191, 5: 19553.6516, 6: 21.0, 7: 2.5239, 8: 0.4, 10: 1.0}), sexe-num=0.0, rawPrediction=DenseVector([5.2988, 4.7012]), probability=DenseVector([0.5299, 0.4701]), prediction=0.0),\n",
       " Row(features=SparseVector(15, {0: 6139.0, 1: 1.1407, 2: 3.0418, 5: 22430.5978, 6: 84.0, 7: 3.8022, 8: 0.4, 12: 1.0}), sexe-num=0.0, rawPrediction=DenseVector([7.113, 2.887]), probability=DenseVector([0.7113, 0.2887]), prediction=0.0),\n",
       " Row(features=SparseVector(15, {0: 6246.0, 1: 0.6647, 2: 1.7724, 5: 27508.6888, 6: 60.0, 7: 2.2155, 8: 0.4, 12: 1.0}), sexe-num=0.0, rawPrediction=DenseVector([5.7953, 4.2047]), probability=DenseVector([0.5795, 0.4205]), prediction=0.0),\n",
       " Row(features=SparseVector(15, {0: 5946.0, 1: 1.452, 2: 3.872, 5: 28498.0409, 6: 48.0, 7: 4.8399, 8: 0.4, 13: 1.0}), sexe-num=0.0, rawPrediction=DenseVector([7.4305, 2.5695]), probability=DenseVector([0.743, 0.257]), prediction=0.0),\n",
       " Row(features=SparseVector(15, {0: 5966.0, 1: 0.2578, 2: 0.6876, 5: 21967.2641, 6: 57.0, 7: 0.8595, 8: 0.4, 11: 1.0}), sexe-num=0.0, rawPrediction=DenseVector([3.7186, 6.2814]), probability=DenseVector([0.3719, 0.6281]), prediction=1.0),\n",
       " Row(features=SparseVector(15, {0: 5586.0, 1: 0.3616, 2: 0.904, 5: 15207.5343, 6: 45.0, 7: 1.808, 8: 0.4, 13: 1.0}), sexe-num=1.0, rawPrediction=DenseVector([3.983, 6.017]), probability=DenseVector([0.3983, 0.6017]), prediction=1.0),\n",
       " Row(features=SparseVector(15, {0: 6212.0, 1: 0.291, 2: 0.7276, 5: 22564.3351, 6: 32.0, 7: 1.4552, 8: 0.4, 12: 1.0}), sexe-num=1.0, rawPrediction=DenseVector([3.8902, 6.1098]), probability=DenseVector([0.389, 0.611]), prediction=1.0),\n",
       " Row(features=SparseVector(15, {0: 5987.0, 1: 1.4116, 2: 3.7643, 5: 24607.049, 6: 64.0, 7: 4.7053, 8: 0.4, 10: 1.0}), sexe-num=0.0, rawPrediction=DenseVector([8.1273, 1.8727]), probability=DenseVector([0.8127, 0.1873]), prediction=0.0),\n",
       " Row(features=DenseVector([5538.0, 1.5341, 4.091, 0.0, 1.0, 30672.7179, 25.0, 5.1137, 0.4, 1.0, 0.0, 0.0, 0.0, 0.0, 0.0]), sexe-num=0.0, rawPrediction=DenseVector([7.5565, 2.4435]), probability=DenseVector([0.7557, 0.2443]), prediction=0.0),\n",
       " Row(features=SparseVector(15, {0: 5391.0, 1: 1.8424, 2: 4.913, 5: 23220.2966, 6: 58.0, 7: 6.1413, 8: 0.4, 9: 1.0}), sexe-num=0.0, rawPrediction=DenseVector([7.1882, 2.8118]), probability=DenseVector([0.7188, 0.2812]), prediction=0.0),\n",
       " Row(features=SparseVector(15, {0: 5476.0, 1: 1.0669, 2: 2.8452, 5: 23144.0015, 6: 80.0, 7: 3.5565, 8: 0.4, 12: 1.0}), sexe-num=0.0, rawPrediction=DenseVector([7.5699, 2.4301]), probability=DenseVector([0.757, 0.243]), prediction=0.0),\n",
       " Row(features=DenseVector([5432.0, 1.4022, 3.7391, 0.0, 1.0, 28977.7421, 77.0, 4.6739, 0.4, 0.0, 0.0, 0.0, 0.0, 1.0, 0.0]), sexe-num=0.0, rawPrediction=DenseVector([7.574, 2.426]), probability=DenseVector([0.7574, 0.2426]), prediction=0.0),\n",
       " Row(features=SparseVector(15, {0: 5539.0, 1: 0.3799, 2: 1.013, 5: 22874.1369, 6: 55.0, 7: 1.2663, 8: 0.4, 11: 1.0}), sexe-num=0.0, rawPrediction=DenseVector([3.582, 6.418]), probability=DenseVector([0.3582, 0.6418]), prediction=1.0),\n",
       " Row(features=SparseVector(15, {0: 5262.0, 1: 0.02, 2: 0.05, 5: 18155.3928, 6: 81.0, 7: 0.1, 8: 0.4, 10: 1.0}), sexe-num=1.0, rawPrediction=DenseVector([2.5148, 7.4852]), probability=DenseVector([0.2515, 0.7485]), prediction=1.0),\n",
       " Row(features=SparseVector(15, {0: 5742.0, 1: 0.5258, 2: 1.4021, 5: 24165.2248, 6: 37.0, 7: 1.7526, 8: 0.4, 12: 1.0}), sexe-num=0.0, rawPrediction=DenseVector([4.575, 5.425]), probability=DenseVector([0.4575, 0.5425]), prediction=1.0),\n",
       " Row(features=SparseVector(15, {0: 6278.0, 1: 0.02, 2: 0.05, 5: 18271.7264, 6: 65.0, 7: 0.1, 8: 0.4, 12: 1.0}), sexe-num=1.0, rawPrediction=DenseVector([1.7523, 8.2477]), probability=DenseVector([0.1752, 0.8248]), prediction=1.0),\n",
       " Row(features=SparseVector(15, {0: 6095.0, 1: 0.02, 2: 0.05, 5: 33157.6213, 6: 18.0, 7: 0.1, 8: 0.4, 9: 1.0}), sexe-num=1.0, rawPrediction=DenseVector([1.614, 8.386]), probability=DenseVector([0.1614, 0.8386]), prediction=1.0),\n",
       " Row(features=SparseVector(15, {0: 5610.0, 1: 1.0447, 2: 2.786, 5: 22972.249, 6: 17.0, 7: 3.4824, 8: 0.4, 12: 1.0}), sexe-num=0.0, rawPrediction=DenseVector([7.1094, 2.8906]), probability=DenseVector([0.7109, 0.2891]), prediction=0.0),\n",
       " Row(features=SparseVector(15, {0: 5592.0, 1: 0.4782, 2: 1.1955, 5: 11489.6532, 6: 51.0, 7: 2.3911, 8: 0.4, 11: 1.0}), sexe-num=1.0, rawPrediction=DenseVector([3.6233, 6.3767]), probability=DenseVector([0.3623, 0.6377]), prediction=1.0),\n",
       " Row(features=SparseVector(15, {0: 5899.0, 1: 0.4956, 2: 1.2391, 5: 17972.1602, 6: 37.0, 7: 2.4781, 8: 0.4, 11: 1.0}), sexe-num=1.0, rawPrediction=DenseVector([3.7599, 6.2401]), probability=DenseVector([0.376, 0.624]), prediction=1.0),\n",
       " Row(features=SparseVector(15, {0: 5701.0, 1: 0.369, 2: 0.9225, 5: 12582.6167, 6: 76.0, 7: 1.845, 8: 0.4, 12: 1.0}), sexe-num=1.0, rawPrediction=DenseVector([3.7632, 6.2368]), probability=DenseVector([0.3763, 0.6237]), prediction=1.0),\n",
       " Row(features=DenseVector([5644.0, 0.6072, 1.5181, 0.0, 1.0, 12567.3762, 28.0, 3.0361, 0.4, 0.0, 0.0, 0.0, 1.0, 0.0, 0.0]), sexe-num=1.0, rawPrediction=DenseVector([3.6671, 6.3329]), probability=DenseVector([0.3667, 0.6333]), prediction=1.0),\n",
       " Row(features=SparseVector(15, {0: 5280.0, 1: 0.664, 2: 1.7706, 5: 24200.4149, 6: 41.0, 7: 2.2132, 8: 0.4, 13: 1.0}), sexe-num=0.0, rawPrediction=DenseVector([6.4147, 3.5853]), probability=DenseVector([0.6415, 0.3585]), prediction=0.0),\n",
       " Row(features=SparseVector(15, {0: 5646.0, 1: 1.8454, 2: 4.921, 5: 19851.9756, 6: 15.0, 7: 6.1512, 8: 0.4, 9: 1.0}), sexe-num=0.0, rawPrediction=DenseVector([6.9987, 3.0013]), probability=DenseVector([0.6999, 0.3001]), prediction=0.0),\n",
       " Row(features=SparseVector(15, {0: 5277.0, 1: 0.335, 2: 0.8375, 5: 25013.5541, 6: 39.0, 7: 1.675, 8: 0.4, 12: 1.0}), sexe-num=1.0, rawPrediction=DenseVector([3.9316, 6.0684]), probability=DenseVector([0.3932, 0.6068]), prediction=1.0),\n",
       " Row(features=SparseVector(15, {0: 5339.0, 1: 1.6482, 2: 4.1206, 5: 15751.0795, 6: 41.0, 7: 8.2412, 8: 0.4, 13: 1.0}), sexe-num=1.0, rawPrediction=DenseVector([6.7741, 3.2259]), probability=DenseVector([0.6774, 0.3226]), prediction=0.0),\n",
       " Row(features=SparseVector(15, {0: 5319.0, 1: 1.0287, 2: 2.7431, 5: 40818.5741, 6: 57.0, 7: 3.4289, 8: 0.4, 9: 1.0}), sexe-num=0.0, rawPrediction=DenseVector([6.9697, 3.0303]), probability=DenseVector([0.697, 0.303]), prediction=0.0),\n",
       " Row(features=SparseVector(15, {0: 5768.0, 1: 0.2249, 2: 0.5997, 5: 14621.8671, 6: 57.0, 7: 0.7496, 8: 0.4, 12: 1.0}), sexe-num=0.0, rawPrediction=DenseVector([3.8902, 6.1098]), probability=DenseVector([0.389, 0.611]), prediction=1.0),\n",
       " Row(features=SparseVector(15, {0: 5901.0, 1: 0.5867, 2: 1.5645, 5: 16703.8556, 6: 59.0, 7: 1.9557, 8: 0.4, 12: 1.0}), sexe-num=0.0, rawPrediction=DenseVector([4.5982, 5.4018]), probability=DenseVector([0.4598, 0.5402]), prediction=1.0),\n",
       " Row(features=SparseVector(15, {0: 5371.0, 1: 0.3971, 2: 0.9927, 5: 10604.2322, 6: 74.0, 7: 1.9853, 8: 0.4, 12: 1.0}), sexe-num=1.0, rawPrediction=DenseVector([3.5807, 6.4193]), probability=DenseVector([0.3581, 0.6419]), prediction=1.0),\n",
       " Row(features=SparseVector(15, {0: 5489.0, 1: 0.03, 2: 0.08, 5: 31194.3252, 6: 66.0, 7: 0.1, 8: 0.4, 14: 1.0}), sexe-num=0.0, rawPrediction=DenseVector([8.5914, 1.4086]), probability=DenseVector([0.8591, 0.1409]), prediction=0.0),\n",
       " Row(features=SparseVector(15, {0: 5973.0, 1: 1.0228, 2: 2.557, 5: 20353.5937, 6: 82.0, 7: 5.114, 8: 0.4, 13: 1.0}), sexe-num=1.0, rawPrediction=DenseVector([5.0872, 4.9128]), probability=DenseVector([0.5087, 0.4913]), prediction=0.0),\n",
       " Row(features=SparseVector(15, {0: 5571.0, 1: 0.5236, 2: 1.3089, 5: 21096.4775, 6: 41.0, 7: 2.6178, 8: 0.4, 12: 1.0}), sexe-num=1.0, rawPrediction=DenseVector([3.6671, 6.3329]), probability=DenseVector([0.3667, 0.6333]), prediction=1.0),\n",
       " Row(features=SparseVector(15, {0: 5790.0, 1: 0.7629, 2: 2.0343, 5: 37522.7076, 6: 50.0, 7: 2.5429, 8: 0.4, 13: 1.0}), sexe-num=0.0, rawPrediction=DenseVector([5.9162, 4.0838]), probability=DenseVector([0.5916, 0.4084]), prediction=0.0),\n",
       " Row(features=SparseVector(15, {0: 5714.0, 1: 0.6798, 2: 1.8128, 5: 8805.6946, 6: 52.0, 7: 2.2659, 8: 0.4, 10: 1.0}), sexe-num=0.0, rawPrediction=DenseVector([6.1063, 3.8937]), probability=DenseVector([0.6106, 0.3894]), prediction=0.0),\n",
       " Row(features=SparseVector(15, {0: 6316.0, 1: 0.2336, 2: 0.6229, 5: 17127.9013, 6: 28.0, 7: 0.7786, 8: 0.4, 10: 1.0}), sexe-num=0.0, rawPrediction=DenseVector([4.8866, 5.1134]), probability=DenseVector([0.4887, 0.5113]), prediction=1.0),\n",
       " Row(features=SparseVector(15, {0: 5778.0, 1: 0.9603, 2: 2.4008, 5: 30238.2164, 6: 61.0, 7: 4.8015, 8: 0.4, 14: 1.0}), sexe-num=1.0, rawPrediction=DenseVector([5.1366, 4.8634]), probability=DenseVector([0.5137, 0.4863]), prediction=0.0),\n",
       " Row(features=SparseVector(15, {0: 5416.0, 1: 0.03, 2: 0.08, 5: 29681.0492, 6: 35.0, 7: 0.1, 8: 0.4, 10: 1.0}), sexe-num=0.0, rawPrediction=DenseVector([7.7446, 2.2554]), probability=DenseVector([0.7745, 0.2255]), prediction=0.0),\n",
       " Row(features=SparseVector(15, {0: 5927.0, 1: 0.7703, 2: 2.0541, 5: 12918.4183, 6: 84.0, 7: 2.5676, 8: 0.4, 11: 1.0}), sexe-num=0.0, rawPrediction=DenseVector([3.7015, 6.2985]), probability=DenseVector([0.3702, 0.6298]), prediction=1.0),\n",
       " Row(features=SparseVector(15, {0: 6230.0, 1: 0.02, 2: 0.05, 5: 23995.4858, 6: 66.0, 7: 0.1, 8: 0.4, 13: 1.0}), sexe-num=1.0, rawPrediction=DenseVector([1.6246, 8.3754]), probability=DenseVector([0.1625, 0.8375]), prediction=1.0),\n",
       " Row(features=SparseVector(15, {0: 5433.0, 1: 0.8321, 2: 2.0804, 5: 16978.0464, 6: 66.0, 7: 4.1607, 8: 0.4, 13: 1.0}), sexe-num=1.0, rawPrediction=DenseVector([3.1164, 6.8836]), probability=DenseVector([0.3116, 0.6884]), prediction=1.0),\n",
       " Row(features=SparseVector(15, {0: 5897.0, 1: 0.5069, 2: 1.2673, 5: 21879.333, 6: 48.0, 7: 2.5347, 8: 0.4, 9: 1.0}), sexe-num=1.0, rawPrediction=DenseVector([3.8038, 6.1962]), probability=DenseVector([0.3804, 0.6196]), prediction=1.0),\n",
       " Row(features=SparseVector(15, {0: 5695.0, 1: 0.028, 2: 0.07, 5: 32557.9649, 6: 62.0, 7: 0.14, 8: 0.4, 10: 1.0}), sexe-num=1.0, rawPrediction=DenseVector([4.0335, 5.9665]), probability=DenseVector([0.4034, 0.5966]), prediction=1.0),\n",
       " Row(features=SparseVector(15, {0: 5594.0, 1: 0.8228, 2: 2.057, 5: 27328.4704, 6: 77.0, 7: 4.1139, 8: 0.4, 13: 1.0}), sexe-num=1.0, rawPrediction=DenseVector([3.9557, 6.0443]), probability=DenseVector([0.3956, 0.6044]), prediction=1.0),\n",
       " Row(features=SparseVector(15, {0: 6112.0, 1: 0.02, 2: 0.05, 5: 17627.3366, 6: 28.0, 7: 0.1, 8: 0.4, 13: 1.0}), sexe-num=1.0, rawPrediction=DenseVector([1.0177, 8.9823]), probability=DenseVector([0.1018, 0.8982]), prediction=1.0),\n",
       " Row(features=SparseVector(15, {0: 5302.0, 1: 0.7927, 2: 2.1139, 5: 32199.4369, 6: 46.0, 7: 2.6424, 8: 0.4, 14: 1.0}), sexe-num=0.0, rawPrediction=DenseVector([5.6549, 4.3451]), probability=DenseVector([0.5655, 0.4345]), prediction=0.0),\n",
       " Row(features=SparseVector(15, {0: 5801.0, 1: 0.3123, 2: 0.8327, 5: 16454.859, 6: 21.0, 7: 1.0409, 8: 0.4, 10: 1.0}), sexe-num=0.0, rawPrediction=DenseVector([4.3723, 5.6277]), probability=DenseVector([0.4372, 0.5628]), prediction=1.0),\n",
       " Row(features=DenseVector([5766.0, 0.2681, 0.715, 0.0, 1.0, 41225.6273, 69.0, 0.8937, 0.4, 0.0, 0.0, 0.0, 0.0, 0.0, 1.0]), sexe-num=0.0, rawPrediction=DenseVector([5.6597, 4.3403]), probability=DenseVector([0.566, 0.434]), prediction=0.0),\n",
       " Row(features=SparseVector(15, {0: 5796.0, 1: 0.2971, 2: 0.7428, 5: 21167.5031, 6: 77.0, 7: 1.4857, 8: 0.4, 13: 1.0}), sexe-num=1.0, rawPrediction=DenseVector([4.257, 5.743]), probability=DenseVector([0.4257, 0.5743]), prediction=1.0),\n",
       " Row(features=SparseVector(15, {0: 6311.0, 1: 0.4171, 2: 1.0427, 5: 49861.5085, 6: 82.0, 7: 2.0854, 8: 0.4, 9: 1.0}), sexe-num=1.0, rawPrediction=DenseVector([6.5544, 3.4456]), probability=DenseVector([0.6554, 0.3446]), prediction=0.0),\n",
       " Row(features=SparseVector(15, {0: 5916.0, 1: 1.5318, 2: 4.0849, 5: 37584.8158, 6: 51.0, 7: 5.1061, 8: 0.4, 14: 1.0}), sexe-num=0.0, rawPrediction=DenseVector([7.788, 2.212]), probability=DenseVector([0.7788, 0.2212]), prediction=0.0),\n",
       " Row(features=DenseVector([5372.0, 0.4595, 1.1488, 0.0, 1.0, 14871.1304, 62.0, 2.2976, 0.4, 0.0, 0.0, 1.0, 0.0, 0.0, 0.0]), sexe-num=1.0, rawPrediction=DenseVector([3.5781, 6.4219]), probability=DenseVector([0.3578, 0.6422]), prediction=1.0),\n",
       " Row(features=SparseVector(15, {0: 5324.0, 1: 0.2716, 2: 0.6791, 5: 16412.9409, 6: 62.0, 7: 1.3582, 8: 0.4, 11: 1.0}), sexe-num=1.0, rawPrediction=DenseVector([3.5368, 6.4632]), probability=DenseVector([0.3537, 0.6463]), prediction=1.0),\n",
       " Row(features=SparseVector(15, {0: 5599.0, 1: 0.196, 2: 0.5227, 5: 26779.5503, 6: 16.0, 7: 0.6534, 8: 0.4, 10: 1.0}), sexe-num=0.0, rawPrediction=DenseVector([5.3985, 4.6015]), probability=DenseVector([0.5398, 0.4602]), prediction=0.0),\n",
       " Row(features=SparseVector(15, {0: 5465.0, 1: 1.2644, 2: 3.3718, 5: 26030.174, 6: 18.0, 7: 4.2147, 8: 0.4, 11: 1.0}), sexe-num=0.0, rawPrediction=DenseVector([7.5358, 2.4642]), probability=DenseVector([0.7536, 0.2464]), prediction=0.0),\n",
       " Row(features=SparseVector(15, {0: 6131.0, 1: 1.2481, 2: 3.3283, 5: 31073.0933, 6: 60.0, 7: 4.1604, 8: 0.4, 12: 1.0}), sexe-num=0.0, rawPrediction=DenseVector([7.5311, 2.4689]), probability=DenseVector([0.7531, 0.2469]), prediction=0.0),\n",
       " Row(features=SparseVector(15, {0: 6291.0, 1: 1.026, 2: 2.5651, 5: 23354.9543, 6: 60.0, 7: 5.1301, 8: 0.4, 13: 1.0}), sexe-num=1.0, rawPrediction=DenseVector([3.2381, 6.7619]), probability=DenseVector([0.3238, 0.6762]), prediction=1.0),\n",
       " Row(features=SparseVector(15, {0: 5439.0, 1: 1.3682, 2: 3.6485, 5: 28531.9985, 6: 71.0, 7: 4.5606, 8: 0.4, 14: 1.0}), sexe-num=0.0, rawPrediction=DenseVector([7.4536, 2.5464]), probability=DenseVector([0.7454, 0.2546]), prediction=0.0),\n",
       " Row(features=SparseVector(15, {0: 5882.0, 1: 0.7063, 2: 1.7658, 5: 16787.6016, 6: 23.0, 7: 3.5315, 8: 0.4, 10: 1.0}), sexe-num=1.0, rawPrediction=DenseVector([2.784, 7.216]), probability=DenseVector([0.2784, 0.7216]), prediction=1.0),\n",
       " Row(features=SparseVector(15, {0: 5620.0, 1: 0.5261, 2: 1.3152, 5: 23771.354, 6: 35.0, 7: 2.6304, 8: 0.4, 14: 1.0}), sexe-num=1.0, rawPrediction=DenseVector([3.6671, 6.3329]), probability=DenseVector([0.3667, 0.6333]), prediction=1.0),\n",
       " Row(features=SparseVector(15, {0: 5849.0, 1: 0.924, 2: 2.3099, 5: 24668.6532, 6: 82.0, 7: 4.6198, 8: 0.4, 10: 1.0}), sexe-num=1.0, rawPrediction=DenseVector([3.5929, 6.4071]), probability=DenseVector([0.3593, 0.6407]), prediction=1.0),\n",
       " Row(features=SparseVector(15, {0: 5678.0, 1: 1.3203, 2: 3.5209, 5: 21276.3219, 6: 53.0, 7: 4.4012, 8: 0.4, 11: 1.0}), sexe-num=0.0, rawPrediction=DenseVector([7.6343, 2.3657]), probability=DenseVector([0.7634, 0.2366]), prediction=0.0),\n",
       " Row(features=SparseVector(15, {0: 6150.0, 1: 0.6154, 2: 1.5385, 5: 15097.24, 6: 30.0, 7: 3.077, 8: 0.4, 10: 1.0}), sexe-num=1.0, rawPrediction=DenseVector([4.1393, 5.8607]), probability=DenseVector([0.4139, 0.5861]), prediction=1.0),\n",
       " Row(features=SparseVector(15, {0: 6310.0, 1: 0.0412, 2: 0.1029, 5: 21691.9344, 6: 59.0, 7: 0.2058, 8: 0.4, 12: 1.0}), sexe-num=1.0, rawPrediction=DenseVector([3.2343, 6.7657]), probability=DenseVector([0.3234, 0.6766]), prediction=1.0),\n",
       " Row(features=SparseVector(15, {0: 5327.0, 1: 1.1728, 2: 2.932, 5: 18677.1647, 6: 80.0, 7: 5.864, 8: 0.4, 14: 1.0}), sexe-num=1.0, rawPrediction=DenseVector([5.1145, 4.8855]), probability=DenseVector([0.5114, 0.4886]), prediction=0.0),\n",
       " Row(features=SparseVector(15, {0: 5832.0, 1: 0.9394, 2: 2.505, 5: 22259.7067, 6: 26.0, 7: 3.1312, 8: 0.4, 11: 1.0}), sexe-num=0.0, rawPrediction=DenseVector([6.7012, 3.2988]), probability=DenseVector([0.6701, 0.3299]), prediction=0.0),\n",
       " Row(features=SparseVector(15, {0: 5719.0, 1: 0.5345, 2: 1.3364, 5: 39781.2516, 6: 58.0, 7: 2.6727, 8: 0.4, 14: 1.0}), sexe-num=1.0, rawPrediction=DenseVector([5.94, 4.06]), probability=DenseVector([0.594, 0.406]), prediction=0.0),\n",
       " Row(features=SparseVector(15, {0: 6136.0, 1: 0.6429, 2: 1.6072, 5: 22306.0268, 6: 18.0, 7: 3.2144, 8: 0.4, 10: 1.0}), sexe-num=1.0, rawPrediction=DenseVector([3.534, 6.466]), probability=DenseVector([0.3534, 0.6466]), prediction=1.0),\n",
       " Row(features=SparseVector(15, {0: 5567.0, 1: 0.3813, 2: 1.0168, 5: 17305.1691, 6: 61.0, 7: 1.271, 8: 0.4, 12: 1.0}), sexe-num=0.0, rawPrediction=DenseVector([3.6258, 6.3742]), probability=DenseVector([0.3626, 0.6374]), prediction=1.0),\n",
       " Row(features=SparseVector(15, {0: 5628.0, 1: 1.1734, 2: 3.1292, 5: 27140.9885, 6: 38.0, 7: 3.9114, 8: 0.4, 12: 1.0}), sexe-num=0.0, rawPrediction=DenseVector([7.891, 2.109]), probability=DenseVector([0.7891, 0.2109]), prediction=0.0),\n",
       " Row(features=SparseVector(15, {0: 6214.0, 1: 0.4929, 2: 1.3143, 5: 39648.977, 6: 42.0, 7: 1.6429, 8: 0.4, 14: 1.0}), sexe-num=0.0, rawPrediction=DenseVector([6.6071, 3.3929]), probability=DenseVector([0.6607, 0.3393]), prediction=0.0),\n",
       " Row(features=SparseVector(15, {0: 5518.0, 1: 0.6407, 2: 1.6018, 5: 18621.4764, 6: 80.0, 7: 3.2036, 8: 0.4, 10: 1.0}), sexe-num=1.0, rawPrediction=DenseVector([1.971, 8.029]), probability=DenseVector([0.1971, 0.8029]), prediction=1.0),\n",
       " Row(features=SparseVector(15, {0: 5559.0, 1: 0.8476, 2: 2.2602, 5: 29880.3733, 6: 61.0, 7: 2.8252, 8: 0.4, 11: 1.0}), sexe-num=0.0, rawPrediction=DenseVector([5.9718, 4.0282]), probability=DenseVector([0.5972, 0.4028]), prediction=0.0),\n",
       " Row(features=SparseVector(15, {0: 5271.0, 1: 1.0637, 2: 2.6593, 5: 40170.6746, 6: 44.0, 7: 5.3185, 8: 0.4, 9: 1.0}), sexe-num=1.0, rawPrediction=DenseVector([4.6469, 5.3531]), probability=DenseVector([0.4647, 0.5353]), prediction=1.0),\n",
       " Row(features=SparseVector(15, {0: 6122.0, 1: 0.9435, 2: 2.3587, 5: 29841.2418, 6: 58.0, 7: 4.7174, 8: 0.4, 9: 1.0}), sexe-num=1.0, rawPrediction=DenseVector([5.1366, 4.8634]), probability=DenseVector([0.5137, 0.4863]), prediction=0.0),\n",
       " Row(features=SparseVector(15, {0: 5608.0, 1: 0.8158, 2: 2.1755, 5: 24460.396, 6: 75.0, 7: 2.7193, 8: 0.4, 11: 1.0}), sexe-num=0.0, rawPrediction=DenseVector([5.6254, 4.3746]), probability=DenseVector([0.5625, 0.4375]), prediction=0.0),\n",
       " Row(features=SparseVector(15, {0: 6175.0, 1: 2.2552, 2: 6.0138, 5: 23349.017, 6: 30.0, 7: 7.5173, 8: 0.4, 11: 1.0}), sexe-num=0.0, rawPrediction=DenseVector([7.5236, 2.4764]), probability=DenseVector([0.7524, 0.2476]), prediction=0.0),\n",
       " Row(features=SparseVector(15, {0: 6015.0, 1: 0.6433, 2: 1.6084, 5: 17270.7695, 6: 74.0, 7: 3.2167, 8: 0.4, 12: 1.0}), sexe-num=1.0, rawPrediction=DenseVector([3.2942, 6.7058]), probability=DenseVector([0.3294, 0.6706]), prediction=1.0),\n",
       " Row(features=SparseVector(15, {0: 5325.0, 1: 0.03, 2: 0.08, 5: 35976.0075, 6: 22.0, 7: 0.1, 8: 0.4, 14: 1.0}), sexe-num=0.0, rawPrediction=DenseVector([8.5914, 1.4086]), probability=DenseVector([0.8591, 0.1409]), prediction=0.0),\n",
       " Row(features=SparseVector(15, {0: 5453.0, 1: 0.4067, 2: 1.0168, 5: 17953.0015, 6: 53.0, 7: 2.0337, 8: 0.4, 12: 1.0}), sexe-num=1.0, rawPrediction=DenseVector([3.4433, 6.5567]), probability=DenseVector([0.3443, 0.6557]), prediction=1.0),\n",
       " Row(features=SparseVector(15, {0: 5718.0, 1: 0.18, 2: 0.4499, 5: 18484.3742, 6: 65.0, 7: 0.8998, 8: 0.4, 11: 1.0}), sexe-num=1.0, rawPrediction=DenseVector([3.7193, 6.2807]), probability=DenseVector([0.3719, 0.6281]), prediction=1.0),\n",
       " Row(features=SparseVector(15, {0: 5462.0, 1: 0.0424, 2: 0.1132, 5: 53622.3689, 6: 38.0, 7: 0.1414, 8: 0.4, 14: 1.0}), sexe-num=0.0, rawPrediction=DenseVector([6.703, 3.297]), probability=DenseVector([0.6703, 0.3297]), prediction=0.0),\n",
       " Row(features=DenseVector([5373.0, 0.6353, 1.6942, 0.0, 1.0, 22561.1117, 17.0, 2.1177, 0.4, 0.0, 0.0, 0.0, 1.0, 0.0, 0.0]), sexe-num=0.0, rawPrediction=DenseVector([5.8353, 4.1647]), probability=DenseVector([0.5835, 0.4165]), prediction=0.0),\n",
       " Row(features=SparseVector(15, {0: 6003.0, 1: 0.4094, 2: 1.0235, 5: 34166.2939, 6: 59.0, 7: 2.047, 8: 0.4, 14: 1.0}), sexe-num=1.0, rawPrediction=DenseVector([6.3606, 3.6394]), probability=DenseVector([0.6361, 0.3639]), prediction=0.0),\n",
       " Row(features=SparseVector(15, {0: 6022.0, 1: 0.1418, 2: 0.3546, 5: 16237.8696, 6: 77.0, 7: 0.7091, 8: 0.4, 14: 1.0}), sexe-num=1.0, rawPrediction=DenseVector([3.8999, 6.1001]), probability=DenseVector([0.39, 0.61]), prediction=1.0),\n",
       " Row(features=SparseVector(15, {0: 6192.0, 1: 0.3569, 2: 0.8922, 5: 31522.4514, 6: 40.0, 7: 1.7845, 8: 0.4, 14: 1.0}), sexe-num=1.0, rawPrediction=DenseVector([5.993, 4.007]), probability=DenseVector([0.5993, 0.4007]), prediction=0.0),\n",
       " Row(features=SparseVector(15, {0: 5382.0, 1: 0.7051, 2: 1.7627, 5: 20314.9083, 6: 70.0, 7: 3.5253, 8: 0.4, 11: 1.0}), sexe-num=1.0, rawPrediction=DenseVector([3.0678, 6.9322]), probability=DenseVector([0.3068, 0.6932]), prediction=1.0),\n",
       " Row(features=SparseVector(15, {0: 6242.0, 1: 1.1573, 2: 3.0862, 5: 17636.4359, 6: 66.0, 7: 3.8578, 8: 0.4, 12: 1.0}), sexe-num=0.0, rawPrediction=DenseVector([6.627, 3.373]), probability=DenseVector([0.6627, 0.3373]), prediction=0.0),\n",
       " Row(features=SparseVector(15, {0: 6244.0, 1: 0.6107, 2: 1.5266, 5: 27891.7297, 6: 31.0, 7: 3.0533, 8: 0.4, 13: 1.0}), sexe-num=1.0, rawPrediction=DenseVector([5.2231, 4.7769]), probability=DenseVector([0.5223, 0.4777]), prediction=0.0),\n",
       " Row(features=SparseVector(15, {0: 6238.0, 1: 0.2751, 2: 0.6876, 5: 30562.9466, 6: 66.0, 7: 1.3753, 8: 0.4, 14: 1.0}), sexe-num=1.0, rawPrediction=DenseVector([5.805, 4.195]), probability=DenseVector([0.5805, 0.4195]), prediction=0.0),\n",
       " Row(features=SparseVector(15, {0: 5760.0, 1: 0.2064, 2: 0.5161, 5: 27834.7567, 6: 46.0, 7: 1.0322, 8: 0.4, 10: 1.0}), sexe-num=1.0, rawPrediction=DenseVector([6.4369, 3.5631]), probability=DenseVector([0.6437, 0.3563]), prediction=0.0),\n",
       " Row(features=SparseVector(15, {0: 5937.0, 1: 0.03, 2: 0.08, 5: 17525.3058, 6: 78.0, 7: 0.1, 8: 0.4, 11: 1.0}), sexe-num=0.0, rawPrediction=DenseVector([6.9613, 3.0387]), probability=DenseVector([0.6961, 0.3039]), prediction=0.0),\n",
       " Row(features=SparseVector(15, {0: 6328.0, 1: 0.9381, 2: 2.5015, 5: 13425.7545, 6: 73.0, 7: 3.1268, 8: 0.4, 12: 1.0}), sexe-num=0.0, rawPrediction=DenseVector([7.0028, 2.9972]), probability=DenseVector([0.7003, 0.2997]), prediction=0.0),\n",
       " Row(features=SparseVector(15, {0: 5995.0, 1: 0.3244, 2: 0.865, 5: 16459.0607, 6: 62.0, 7: 1.0813, 8: 0.4, 12: 1.0}), sexe-num=0.0, rawPrediction=DenseVector([4.0276, 5.9724]), probability=DenseVector([0.4028, 0.5972]), prediction=1.0),\n",
       " Row(features=SparseVector(15, {0: 5902.0, 1: 0.7027, 2: 1.7567, 5: 38310.0787, 6: 39.0, 7: 3.5134, 8: 0.4, 14: 1.0}), sexe-num=1.0, rawPrediction=DenseVector([5.0607, 4.9393]), probability=DenseVector([0.5061, 0.4939]), prediction=0.0),\n",
       " Row(features=SparseVector(15, {0: 6210.0, 1: 0.2166, 2: 0.5416, 5: 27597.2276, 6: 36.0, 7: 1.0832, 8: 0.4, 13: 1.0}), sexe-num=1.0, rawPrediction=DenseVector([5.0009, 4.9991]), probability=DenseVector([0.5001, 0.4999]), prediction=0.0),\n",
       " Row(features=SparseVector(15, {0: 5440.0, 1: 0.3893, 2: 1.0381, 5: 54198.9835, 6: 16.0, 7: 1.2976, 8: 0.4, 14: 1.0}), sexe-num=0.0, rawPrediction=DenseVector([5.6478, 4.3522]), probability=DenseVector([0.5648, 0.4352]), prediction=0.0),\n",
       " Row(features=SparseVector(15, {0: 5729.0, 1: 0.1301, 2: 0.347, 5: 43209.3338, 6: 42.0, 7: 0.4338, 8: 0.4, 14: 1.0}), sexe-num=0.0, rawPrediction=DenseVector([6.3606, 3.6394]), probability=DenseVector([0.6361, 0.3639]), prediction=0.0),\n",
       " Row(features=SparseVector(15, {0: 5261.0, 1: 0.03, 2: 0.08, 5: 32384.038, 6: 73.0, 7: 0.1, 8: 0.4, 9: 1.0}), sexe-num=0.0, rawPrediction=DenseVector([8.5914, 1.4086]), probability=DenseVector([0.8591, 0.1409]), prediction=0.0),\n",
       " Row(features=SparseVector(15, {0: 5889.0, 1: 0.7424, 2: 1.9798, 5: 39985.1841, 6: 37.0, 7: 2.4748, 8: 0.4, 10: 1.0}), sexe-num=0.0, rawPrediction=DenseVector([7.1451, 2.8549]), probability=DenseVector([0.7145, 0.2855]), prediction=0.0),\n",
       " Row(features=SparseVector(15, {0: 5506.0, 1: 0.5032, 2: 1.2579, 5: 24276.8617, 6: 64.0, 7: 2.5159, 8: 0.4, 13: 1.0}), sexe-num=1.0, rawPrediction=DenseVector([4.4484, 5.5516]), probability=DenseVector([0.4448, 0.5552]), prediction=1.0),\n",
       " Row(features=SparseVector(15, {0: 6207.0, 1: 0.5139, 2: 1.2848, 5: 13527.3017, 6: 65.0, 7: 2.5696, 8: 0.4, 13: 1.0}), sexe-num=1.0, rawPrediction=DenseVector([4.2983, 5.7017]), probability=DenseVector([0.4298, 0.5702]), prediction=1.0),\n",
       " Row(features=SparseVector(15, {0: 5274.0, 1: 1.3157, 2: 3.5084, 5: 31018.2997, 6: 19.0, 7: 4.3855, 8: 0.4, 14: 1.0}), sexe-num=0.0, rawPrediction=DenseVector([7.6364, 2.3636]), probability=DenseVector([0.7636, 0.2364]), prediction=0.0),\n",
       " Row(features=SparseVector(15, {0: 5864.0, 1: 0.4471, 2: 1.1178, 5: 15766.6808, 6: 55.0, 7: 2.2356, 8: 0.4, 11: 1.0}), sexe-num=1.0, rawPrediction=DenseVector([3.7186, 6.2814]), probability=DenseVector([0.3719, 0.6281]), prediction=1.0),\n",
       " Row(features=DenseVector([6005.0, 0.2003, 0.5007, 0.0, 1.0, 25943.3003, 60.0, 1.0014, 0.4, 0.0, 0.0, 0.0, 0.0, 0.0, 1.0]), sexe-num=1.0, rawPrediction=DenseVector([4.0037, 5.9963]), probability=DenseVector([0.4004, 0.5996]), prediction=1.0),\n",
       " Row(features=SparseVector(15, {0: 5727.0, 1: 1.0008, 2: 2.502, 5: 32893.9268, 6: 29.0, 7: 5.0041, 8: 0.4, 9: 1.0}), sexe-num=1.0, rawPrediction=DenseVector([4.9978, 5.0022]), probability=DenseVector([0.4998, 0.5002]), prediction=1.0),\n",
       " Row(features=SparseVector(15, {0: 6011.0, 1: 0.6953, 2: 1.7384, 5: 20897.6665, 6: 41.0, 7: 3.4767, 8: 0.4, 10: 1.0}), sexe-num=1.0, rawPrediction=DenseVector([2.7423, 7.2577]), probability=DenseVector([0.2742, 0.7258]), prediction=1.0),\n",
       " Row(features=SparseVector(15, {0: 5745.0, 1: 1.0228, 2: 2.7273, 5: 70774.3359, 6: 17.0, 7: 3.4092, 8: 0.4, 9: 1.0}), sexe-num=0.0, rawPrediction=DenseVector([7.7548, 2.2452]), probability=DenseVector([0.7755, 0.2245]), prediction=0.0),\n",
       " Row(features=SparseVector(15, {0: 5257.0, 1: 0.588, 2: 1.47, 5: 21782.9451, 6: 75.0, 7: 2.94, 8: 0.4, 14: 1.0}), sexe-num=1.0, rawPrediction=DenseVector([3.869, 6.131]), probability=DenseVector([0.3869, 0.6131]), prediction=1.0),\n",
       " Row(features=SparseVector(15, {0: 6145.0, 1: 0.4041, 2: 1.0777, 5: 39395.0426, 6: 53.0, 7: 1.3471, 8: 0.4, 13: 1.0}), sexe-num=0.0, rawPrediction=DenseVector([6.5833, 3.4167]), probability=DenseVector([0.6583, 0.3417]), prediction=0.0),\n",
       " Row(features=SparseVector(15, {0: 6130.0, 1: 1.1697, 2: 3.1191, 5: 36979.2046, 6: 73.0, 7: 3.8989, 8: 0.4, 10: 1.0}), sexe-num=0.0, rawPrediction=DenseVector([8.8734, 1.1266]), probability=DenseVector([0.8873, 0.1127]), prediction=0.0),\n",
       " Row(features=SparseVector(15, {0: 6209.0, 1: 0.2194, 2: 0.585, 5: 18027.6969, 6: 83.0, 7: 0.7313, 8: 0.4, 11: 1.0}), sexe-num=0.0, rawPrediction=DenseVector([2.9421, 7.0579]), probability=DenseVector([0.2942, 0.7058]), prediction=1.0),\n",
       " Row(features=SparseVector(15, {0: 5435.0, 1: 1.0492, 2: 2.7979, 5: 41131.6264, 6: 59.0, 7: 3.4973, 8: 0.4, 14: 1.0}), sexe-num=0.0, rawPrediction=DenseVector([6.9697, 3.0303]), probability=DenseVector([0.697, 0.303]), prediction=0.0),\n",
       " Row(features=SparseVector(15, {0: 5495.0, 1: 0.728, 2: 1.9413, 5: 51405.7105, 6: 83.0, 7: 2.4266, 8: 0.4, 9: 1.0}), sexe-num=0.0, rawPrediction=DenseVector([4.8411, 5.1589]), probability=DenseVector([0.4841, 0.5159]), prediction=1.0),\n",
       " Row(features=SparseVector(15, {0: 5272.0, 1: 1.8527, 2: 4.9405, 5: 19814.2346, 6: 54.0, 7: 6.1757, 8: 0.4, 10: 1.0}), sexe-num=0.0, rawPrediction=DenseVector([7.0989, 2.9011]), probability=DenseVector([0.7099, 0.2901]), prediction=0.0),\n",
       " Row(features=SparseVector(15, {0: 5289.0, 1: 0.03, 2: 0.08, 5: 16645.0077, 6: 47.0, 7: 0.1, 8: 0.4, 11: 1.0}), sexe-num=0.0, rawPrediction=DenseVector([7.6553, 2.3447]), probability=DenseVector([0.7655, 0.2345]), prediction=0.0),\n",
       " Row(features=SparseVector(15, {0: 6137.0, 1: 0.03, 2: 0.08, 5: 49140.5964, 6: 37.0, 7: 0.1, 8: 0.4, 14: 1.0}), sexe-num=0.0, rawPrediction=DenseVector([8.9978, 1.0022]), probability=DenseVector([0.8998, 0.1002]), prediction=0.0),\n",
       " Row(features=DenseVector([5404.0, 2.9448, 7.8528, 1.0, 0.0, 28025.468, 58.0, 3.272, 3.672, 0.0, 0.0, 0.0, 0.0, 1.0, 0.0]), sexe-num=0.0, rawPrediction=DenseVector([7.5849, 2.4151]), probability=DenseVector([0.7585, 0.2415]), prediction=0.0),\n",
       " Row(features=SparseVector(15, {0: 5524.0, 1: 0.02, 2: 0.05, 5: 22262.4913, 6: 45.0, 7: 0.1, 8: 0.4, 14: 1.0}), sexe-num=1.0, rawPrediction=DenseVector([1.1858, 8.8142]), probability=DenseVector([0.1186, 0.8814]), prediction=1.0),\n",
       " Row(features=DenseVector([5431.0, 1.7681, 4.715, 0.0, 1.0, 21060.9195, 57.0, 5.8937, 0.4, 0.0, 0.0, 0.0, 1.0, 0.0, 0.0]), sexe-num=0.0, rawPrediction=DenseVector([7.1882, 2.8118]), probability=DenseVector([0.7188, 0.2812]), prediction=0.0),\n",
       " Row(features=SparseVector(15, {0: 6327.0, 1: 1.1091, 2: 2.9577, 5: 47121.7101, 6: 43.0, 7: 3.6971, 8: 0.4, 14: 1.0}), sexe-num=0.0, rawPrediction=DenseVector([8.2655, 1.7345]), probability=DenseVector([0.8266, 0.1734]), prediction=0.0),\n",
       " Row(features=SparseVector(15, {0: 5687.0, 1: 0.03, 2: 0.08, 5: 42722.9379, 6: 47.0, 7: 0.1, 8: 0.4, 9: 1.0}), sexe-num=0.0, rawPrediction=DenseVector([8.7514, 1.2486]), probability=DenseVector([0.8751, 0.1249]), prediction=0.0),\n",
       " Row(features=SparseVector(15, {0: 5304.0, 1: 1.0077, 2: 2.6873, 5: 14472.7505, 6: 20.0, 7: 3.3591, 8: 0.4, 11: 1.0}), sexe-num=0.0, rawPrediction=DenseVector([7.3251, 2.6749]), probability=DenseVector([0.7325, 0.2675]), prediction=0.0),\n",
       " Row(features=SparseVector(15, {0: 5691.0, 1: 0.8082, 2: 2.0206, 5: 14089.3479, 6: 62.0, 7: 4.0411, 8: 0.4, 11: 1.0}), sexe-num=1.0, rawPrediction=DenseVector([2.917, 7.083]), probability=DenseVector([0.2917, 0.7083]), prediction=1.0),\n",
       " Row(features=SparseVector(15, {0: 5787.0, 1: 0.02, 2: 0.05, 5: 24492.9293, 6: 17.0, 7: 0.1, 8: 0.4, 12: 1.0}), sexe-num=1.0, rawPrediction=DenseVector([1.4312, 8.5688]), probability=DenseVector([0.1431, 0.8569]), prediction=1.0),\n",
       " Row(features=SparseVector(15, {0: 5266.0, 1: 0.3167, 2: 0.7918, 5: 32340.3716, 6: 74.0, 7: 1.5836, 8: 0.4, 13: 1.0}), sexe-num=1.0, rawPrediction=DenseVector([5.9859, 4.0141]), probability=DenseVector([0.5986, 0.4014]), prediction=0.0),\n",
       " Row(features=SparseVector(15, {0: 6320.0, 1: 0.0839, 2: 0.2237, 5: 31707.1586, 6: 37.0, 7: 0.2797, 8: 0.4, 14: 1.0}), sexe-num=0.0, rawPrediction=DenseVector([6.3264, 3.6736]), probability=DenseVector([0.6326, 0.3674]), prediction=0.0),\n",
       " Row(features=SparseVector(15, {0: 6256.0, 1: 0.3374, 2: 0.8434, 5: 26491.4972, 6: 55.0, 7: 1.6869, 8: 0.4, 9: 1.0}), sexe-num=1.0, rawPrediction=DenseVector([4.0037, 5.9963]), probability=DenseVector([0.4004, 0.5996]), prediction=1.0),\n",
       " Row(features=SparseVector(15, {0: 6075.0, 1: 0.3035, 2: 0.7587, 5: 11912.6117, 6: 83.0, 7: 1.5174, 8: 0.4, 12: 1.0}), sexe-num=1.0, rawPrediction=DenseVector([3.1137, 6.8863]), probability=DenseVector([0.3114, 0.6886]), prediction=1.0),\n",
       " Row(features=SparseVector(15, {0: 5997.0, 1: 0.2331, 2: 0.6216, 5: 16031.3593, 6: 30.0, 7: 0.777, 8: 0.4, 10: 1.0}), sexe-num=0.0, rawPrediction=DenseVector([4.3723, 5.6277]), probability=DenseVector([0.4372, 0.5628]), prediction=1.0),\n",
       " Row(features=DenseVector([5944.0, 0.468, 1.1699, 0.0, 1.0, 21349.9761, 38.0, 2.3399, 0.4, 0.0, 0.0, 1.0, 0.0, 0.0, 0.0]), sexe-num=1.0, rawPrediction=DenseVector([3.7599, 6.2401]), probability=DenseVector([0.376, 0.624]), prediction=1.0),\n",
       " Row(features=SparseVector(15, {0: 6134.0, 1: 0.1096, 2: 0.274, 5: 35285.4906, 6: 38.0, 7: 0.548, 8: 0.4, 14: 1.0}), sexe-num=1.0, rawPrediction=DenseVector([6.6071, 3.3929]), probability=DenseVector([0.6607, 0.3393]), prediction=0.0),\n",
       " Row(features=SparseVector(15, {0: 5958.0, 1: 0.304, 2: 0.76, 5: 17520.5548, 6: 36.0, 7: 1.52, 8: 0.4, 12: 1.0}), sexe-num=1.0, rawPrediction=DenseVector([3.8902, 6.1098]), probability=DenseVector([0.389, 0.611]), prediction=1.0),\n",
       " Row(features=SparseVector(15, {0: 5517.0, 1: 0.8741, 2: 2.1853, 5: 23627.9896, 6: 17.0, 7: 4.3707, 8: 0.4, 10: 1.0}), sexe-num=1.0, rawPrediction=DenseVector([3.4272, 6.5728]), probability=DenseVector([0.3427, 0.6573]), prediction=1.0),\n",
       " Row(features=SparseVector(15, {0: 5482.0, 1: 0.2086, 2: 0.5215, 5: 14667.1838, 6: 67.0, 7: 1.0429, 8: 0.4, 12: 1.0}), sexe-num=1.0, rawPrediction=DenseVector([3.5807, 6.4193]), probability=DenseVector([0.3581, 0.6419]), prediction=1.0),\n",
       " Row(features=SparseVector(15, {0: 5551.0, 1: 0.4278, 2: 1.0694, 5: 13441.9396, 6: 64.0, 7: 2.1389, 8: 0.4, 12: 1.0}), sexe-num=1.0, rawPrediction=DenseVector([3.7632, 6.2368]), probability=DenseVector([0.3763, 0.6237]), prediction=1.0),\n",
       " Row(features=SparseVector(15, {0: 5776.0, 1: 0.0772, 2: 0.1931, 5: 28090.6166, 6: 26.0, 7: 0.3862, 8: 0.4, 9: 1.0}), sexe-num=1.0, rawPrediction=DenseVector([5.6676, 4.3324]), probability=DenseVector([0.5668, 0.4332]), prediction=0.0),\n",
       " Row(features=SparseVector(15, {0: 5715.0, 1: 0.8645, 2: 2.1611, 5: 20463.5938, 6: 58.0, 7: 4.3223, 8: 0.4, 13: 1.0}), sexe-num=1.0, rawPrediction=DenseVector([3.6083, 6.3917]), probability=DenseVector([0.3608, 0.6392]), prediction=1.0),\n",
       " Row(features=SparseVector(15, {0: 5490.0, 1: 1.2403, 2: 3.3073, 5: 18974.3521, 6: 43.0, 7: 4.1342, 8: 0.4, 11: 1.0}), sexe-num=0.0, rawPrediction=DenseVector([6.5025, 3.4975]), probability=DenseVector([0.6502, 0.3498]), prediction=0.0),\n",
       " Row(features=SparseVector(15, {0: 5757.0, 1: 0.2056, 2: 0.5482, 5: 38014.3193, 6: 37.0, 7: 0.6853, 8: 0.4, 9: 1.0}), sexe-num=0.0, rawPrediction=DenseVector([6.3606, 3.6394]), probability=DenseVector([0.6361, 0.3639]), prediction=0.0),\n",
       " Row(features=SparseVector(15, {0: 6116.0, 1: 1.0613, 2: 2.8302, 5: 26649.0884, 6: 82.0, 7: 3.5377, 8: 0.4, 9: 1.0}), sexe-num=0.0, rawPrediction=DenseVector([7.1726, 2.8274]), probability=DenseVector([0.7173, 0.2827]), prediction=0.0),\n",
       " Row(features=SparseVector(15, {0: 6092.0, 1: 0.3707, 2: 0.9268, 5: 17611.876, 6: 20.0, 7: 1.8535, 8: 0.4, 10: 1.0}), sexe-num=1.0, rawPrediction=DenseVector([4.3723, 5.6277]), probability=DenseVector([0.4372, 0.5628]), prediction=1.0),\n",
       " Row(features=SparseVector(15, {0: 6264.0, 1: 0.4673, 2: 1.2462, 5: 30607.5206, 6: 63.0, 7: 1.5578, 8: 0.4, 11: 1.0}), sexe-num=0.0, rawPrediction=DenseVector([5.5199, 4.4801]), probability=DenseVector([0.552, 0.448]), prediction=0.0),\n",
       " Row(features=SparseVector(15, {0: 5888.0, 1: 0.9702, 2: 2.5873, 5: 21797.829, 6: 49.0, 7: 3.2341, 8: 0.4, 13: 1.0}), sexe-num=0.0, rawPrediction=DenseVector([5.5609, 4.4391]), probability=DenseVector([0.5561, 0.4439]), prediction=0.0),\n",
       " Row(features=SparseVector(15, {0: 6290.0, 1: 0.03, 2: 0.08, 5: 42329.3224, 6: 47.0, 7: 0.1, 8: 0.4, 14: 1.0}), sexe-num=0.0, rawPrediction=DenseVector([9.3311, 0.6689]), probability=DenseVector([0.9331, 0.0669]), prediction=0.0),\n",
       " Row(features=SparseVector(15, {0: 5938.0, 1: 0.7491, 2: 1.9977, 5: 21450.9466, 6: 16.0, 7: 2.4971, 8: 0.4, 11: 1.0}), sexe-num=0.0, rawPrediction=DenseVector([4.9121, 5.0879]), probability=DenseVector([0.4912, 0.5088]), prediction=1.0),\n",
       " Row(features=SparseVector(15, {0: 5988.0, 1: 0.1735, 2: 0.4338, 5: 33758.093, 6: 18.0, 7: 0.8675, 8: 0.4, 14: 1.0}), sexe-num=1.0, rawPrediction=DenseVector([6.3606, 3.6394]), probability=DenseVector([0.6361, 0.3639]), prediction=0.0),\n",
       " Row(features=SparseVector(15, {0: 6074.0, 1: 0.533, 2: 1.3325, 5: 16448.1316, 6: 84.0, 7: 2.665, 8: 0.4, 12: 1.0}), sexe-num=1.0, rawPrediction=DenseVector([3.155, 6.845]), probability=DenseVector([0.3155, 0.6845]), prediction=1.0),\n",
       " Row(features=SparseVector(15, {0: 6060.0, 1: 0.02, 2: 0.05, 5: 20097.3372, 6: 25.0, 7: 0.1, 8: 0.4, 10: 1.0}), sexe-num=1.0, rawPrediction=DenseVector([1.3034, 8.6966]), probability=DenseVector([0.1303, 0.8697]), prediction=1.0),\n",
       " Row(features=SparseVector(15, {0: 6268.0, 1: 0.03, 2: 0.08, 5: 19122.1565, 6: 77.0, 7: 0.1, 8: 0.4, 13: 1.0}), sexe-num=0.0, rawPrediction=DenseVector([8.6246, 1.3754]), probability=DenseVector([0.8625, 0.1375]), prediction=0.0),\n",
       " Row(features=SparseVector(15, {0: 5802.0, 1: 1.8049, 2: 4.813, 5: 16897.5866, 6: 57.0, 7: 6.0163, 8: 0.4, 12: 1.0}), sexe-num=0.0, rawPrediction=DenseVector([5.8185, 4.1815]), probability=DenseVector([0.5819, 0.4181]), prediction=0.0),\n",
       " Row(features=SparseVector(15, {0: 5746.0, 1: 1.4553, 2: 3.8809, 5: 22914.185, 6: 62.0, 7: 4.8511, 8: 0.4, 12: 1.0}), sexe-num=0.0, rawPrediction=DenseVector([7.3907, 2.6093]), probability=DenseVector([0.7391, 0.2609]), prediction=0.0),\n",
       " Row(features=SparseVector(15, {0: 6215.0, 1: 0.9624, 2: 2.5664, 5: 21825.294, 6: 49.0, 7: 3.208, 8: 0.4, 10: 1.0}), sexe-num=0.0, rawPrediction=DenseVector([5.7055, 4.2945]), probability=DenseVector([0.5705, 0.4295]), prediction=0.0),\n",
       " Row(features=SparseVector(15, {0: 5684.0, 1: 0.9203, 2: 2.4542, 5: 24424.9707, 6: 59.0, 7: 3.0677, 8: 0.4, 12: 1.0}), sexe-num=0.0, rawPrediction=DenseVector([6.9863, 3.0137]), probability=DenseVector([0.6986, 0.3014]), prediction=0.0),\n",
       " Row(features=SparseVector(15, {0: 5685.0, 1: 0.0801, 2: 0.2003, 5: 34886.0564, 6: 47.0, 7: 0.4006, 8: 0.4, 14: 1.0}), sexe-num=1.0, rawPrediction=DenseVector([6.3606, 3.6394]), probability=DenseVector([0.6361, 0.3639]), prediction=0.0),\n",
       " Row(features=SparseVector(15, {0: 5651.0, 1: 0.2017, 2: 0.5042, 5: 28084.4856, 6: 53.0, 7: 1.0084, 8: 0.4, 10: 1.0}), sexe-num=1.0, rawPrediction=DenseVector([6.4369, 3.5631]), probability=DenseVector([0.6437, 0.3563]), prediction=0.0),\n",
       " Row(features=SparseVector(15, {0: 6172.0, 1: 0.7725, 2: 2.06, 5: 30191.4897, 6: 18.0, 7: 2.575, 8: 0.4, 10: 1.0}), sexe-num=0.0, rawPrediction=DenseVector([6.1946, 3.8054]), probability=DenseVector([0.6195, 0.3805]), prediction=0.0),\n",
       " Row(features=SparseVector(15, {0: 5448.0, 1: 0.5857, 2: 1.562, 5: 18422.1134, 6: 75.0, 7: 1.9525, 8: 0.4, 11: 1.0}), sexe-num=0.0, rawPrediction=DenseVector([4.2448, 5.7552]), probability=DenseVector([0.4245, 0.5755]), prediction=1.0),\n",
       " Row(features=SparseVector(15, {0: 6245.0, 1: 1.0855, 2: 2.8947, 5: 31452.481, 6: 49.0, 7: 3.6184, 8: 0.4, 14: 1.0}), sexe-num=0.0, rawPrediction=DenseVector([6.9531, 3.0469]), probability=DenseVector([0.6953, 0.3047]), prediction=0.0),\n",
       " Row(features=SparseVector(15, {0: 6177.0, 1: 0.7701, 2: 2.0535, 5: 29056.5178, 6: 61.0, 7: 2.5669, 8: 0.4, 9: 1.0}), sexe-num=0.0, rawPrediction=DenseVector([5.2469, 4.7531]), probability=DenseVector([0.5247, 0.4753]), prediction=0.0),\n",
       " Row(features=SparseVector(15, {0: 5931.0, 1: 0.3157, 2: 0.7892, 5: 16493.0102, 6: 28.0, 7: 1.5783, 8: 0.4, 10: 1.0}), sexe-num=1.0, rawPrediction=DenseVector([4.3723, 5.6277]), probability=DenseVector([0.4372, 0.5628]), prediction=1.0),\n",
       " Row(features=SparseVector(15, {0: 5920.0, 1: 0.02, 2: 0.05, 5: 21036.0278, 6: 56.0, 7: 0.1, 8: 0.4, 12: 1.0}), sexe-num=1.0, rawPrediction=DenseVector([1.4312, 8.5688]), probability=DenseVector([0.1431, 0.8569]), prediction=1.0),\n",
       " Row(features=SparseVector(15, {0: 5851.0, 1: 0.2409, 2: 0.6023, 5: 18430.4896, 6: 71.0, 7: 1.2046, 8: 0.4, 11: 1.0}), sexe-num=1.0, rawPrediction=DenseVector([3.856, 6.144]), probability=DenseVector([0.3856, 0.6144]), prediction=1.0),\n",
       " Row(features=SparseVector(15, {0: 5295.0, 1: 0.0979, 2: 0.2609, 5: 17950.02, 6: 58.0, 7: 0.3262, 8: 0.4, 12: 1.0}), sexe-num=0.0, rawPrediction=DenseVector([3.4433, 6.5567]), probability=DenseVector([0.3443, 0.6557]), prediction=1.0),\n",
       " Row(features=SparseVector(15, {0: 5799.0, 1: 0.8535, 2: 2.1336, 5: 28187.5076, 6: 77.0, 7: 4.2673, 8: 0.4, 14: 1.0}), sexe-num=1.0, rawPrediction=DenseVector([5.061, 4.939]), probability=DenseVector([0.5061, 0.4939]), prediction=0.0),\n",
       " Row(features=SparseVector(15, {0: 5284.0, 1: 1.0365, 2: 2.5912, 5: 18739.9637, 6: 35.0, 7: 5.1824, 8: 0.4, 11: 1.0}), sexe-num=1.0, rawPrediction=DenseVector([3.2295, 6.7705]), probability=DenseVector([0.3229, 0.6771]), prediction=1.0),\n",
       " Row(features=SparseVector(15, {0: 5947.0, 1: 0.2251, 2: 0.5627, 5: 33837.7945, 6: 62.0, 7: 1.1254, 8: 0.4, 9: 1.0}), sexe-num=1.0, rawPrediction=DenseVector([6.3606, 3.6394]), probability=DenseVector([0.6361, 0.3639]), prediction=0.0),\n",
       " Row(features=SparseVector(15, {0: 5956.0, 1: 1.1009, 2: 2.7523, 5: 33579.4901, 6: 65.0, 7: 5.5047, 8: 0.4, 9: 1.0}), sexe-num=1.0, rawPrediction=DenseVector([4.9978, 5.0022]), probability=DenseVector([0.4998, 0.5002]), prediction=1.0),\n",
       " Row(features=SparseVector(15, {0: 6007.0, 1: 0.33, 2: 0.88, 5: 17276.2936, 6: 16.0, 7: 1.0999, 8: 0.4, 13: 1.0}), sexe-num=0.0, rawPrediction=DenseVector([4.1196, 5.8804]), probability=DenseVector([0.412, 0.588]), prediction=1.0),\n",
       " Row(features=SparseVector(15, {0: 5686.0, 1: 1.5811, 2: 4.2162, 5: 47469.3392, 6: 58.0, 7: 5.2703, 8: 0.4, 14: 1.0}), sexe-num=0.0, rawPrediction=DenseVector([7.788, 2.212]), probability=DenseVector([0.7788, 0.2212]), prediction=0.0),\n",
       " Row(features=SparseVector(15, {0: 5555.0, 1: 0.5746, 2: 1.4364, 5: 24651.112, 6: 84.0, 7: 2.8728, 8: 0.4, 9: 1.0}), sexe-num=1.0, rawPrediction=DenseVector([3.1319, 6.8681]), probability=DenseVector([0.3132, 0.6868]), prediction=1.0),\n",
       " Row(features=SparseVector(15, {0: 5278.0, 1: 0.5613, 2: 1.4032, 5: 18306.6429, 6: 50.0, 7: 2.8065, 8: 0.4, 10: 1.0}), sexe-num=1.0, rawPrediction=DenseVector([3.8201, 6.1799]), probability=DenseVector([0.382, 0.618]), prediction=1.0),\n",
       " Row(features=SparseVector(15, {0: 5376.0, 1: 0.4925, 2: 1.2313, 5: 12385.3375, 6: 22.0, 7: 2.4627, 8: 0.4, 12: 1.0}), sexe-num=1.0, rawPrediction=DenseVector([3.9187, 6.0813]), probability=DenseVector([0.3919, 0.6081]), prediction=1.0),\n",
       " Row(features=SparseVector(15, {0: 5785.0, 1: 1.4105, 2: 3.7614, 5: 20407.7037, 6: 27.0, 7: 4.7017, 8: 0.4, 13: 1.0}), sexe-num=0.0, rawPrediction=DenseVector([6.0863, 3.9137]), probability=DenseVector([0.6086, 0.3914]), prediction=0.0),\n",
       " Row(features=SparseVector(15, {0: 5281.0, 1: 0.03, 2: 0.08, 5: 12167.7881, 6: 49.0, 7: 0.1, 8: 0.4, 11: 1.0}), sexe-num=0.0, rawPrediction=DenseVector([7.6553, 2.3447]), probability=DenseVector([0.7655, 0.2345]), prediction=0.0),\n",
       " Row(features=SparseVector(15, {0: 5928.0, 1: 0.6398, 2: 1.5995, 5: 26188.6266, 6: 83.0, 7: 3.199, 8: 0.4, 13: 1.0}), sexe-num=1.0, rawPrediction=DenseVector([2.9787, 7.0213]), probability=DenseVector([0.2979, 0.7021]), prediction=1.0),\n",
       " Row(features=SparseVector(15, {0: 6161.0, 1: 0.7455, 2: 1.8637, 5: 31734.1046, 6: 25.0, 7: 3.7273, 8: 0.4, 13: 1.0}), sexe-num=1.0, rawPrediction=DenseVector([4.336, 5.664]), probability=DenseVector([0.4336, 0.5664]), prediction=1.0),\n",
       " Row(features=SparseVector(15, {0: 5665.0, 1: 0.02, 2: 0.05, 5: 22981.2936, 6: 18.0, 7: 0.1, 8: 0.4, 14: 1.0}), sexe-num=1.0, rawPrediction=DenseVector([1.1668, 8.8332]), probability=DenseVector([0.1167, 0.8833]), prediction=1.0),\n",
       " Row(features=SparseVector(15, {0: 5556.0, 1: 0.6064, 2: 1.6171, 5: 29180.094, 6: 24.0, 7: 2.0214, 8: 0.4, 13: 1.0}), sexe-num=0.0, rawPrediction=DenseVector([5.5071, 4.4929]), probability=DenseVector([0.5507, 0.4493]), prediction=0.0),\n",
       " Row(features=SparseVector(15, {0: 5883.0, 1: 0.3419, 2: 0.9117, 5: 34040.8334, 6: 22.0, 7: 1.1397, 8: 0.4, 9: 1.0}), sexe-num=0.0, rawPrediction=DenseVector([6.3606, 3.6394]), probability=DenseVector([0.6361, 0.3639]), prediction=0.0),\n",
       " Row(features=SparseVector(15, {0: 5992.0, 1: 0.7637, 2: 1.9093, 5: 23306.3958, 6: 57.0, 7: 3.8187, 8: 0.4, 10: 1.0}), sexe-num=1.0, rawPrediction=DenseVector([2.9877, 7.0123]), probability=DenseVector([0.2988, 0.7012]), prediction=1.0)]"
      ]
     },
     "execution_count": 70,
     "metadata": {},
     "output_type": "execute_result"
    }
   ],
   "source": [
    "cvModel.bestModel.transform(testData).collect()"
   ]
  },
  {
   "cell_type": "markdown",
   "metadata": {},
   "source": [
    "# 4) changement des classifieurs"
   ]
  },
  {
   "cell_type": "code",
   "execution_count": 71,
   "metadata": {},
   "outputs": [
    {
     "name": "stdout",
     "output_type": "stream",
     "text": [
      "NaiveBayes           => Accuracy = 0.614, Error = 0.386, duree =  41.6 sec\n",
      "GBTClassifier        => Accuracy = 0.949, Error = 0.0509, duree = 2.57e+02 sec\n",
      "LogisticRegression   => Accuracy = 0.994, Error = 0.00599, duree = 1.41e+02 sec\n",
      "best_classifier = LogisticRegression, best_accuracy = 0.9940119760479041\n"
     ]
    }
   ],
   "source": [
    "\n",
    "from pyspark.ml.classification import NaiveBayes\n",
    "from pyspark.ml.classification import GBTClassifier\n",
    "from pyspark.ml.classification import LogisticRegression\n",
    "\n",
    "classifiers = { \"NaiveBayes\"         : NaiveBayes(labelCol=colY_num)         , \n",
    "                \"GBTClassifier\"      : GBTClassifier(labelCol=colY_num)      , \n",
    "                \"LogisticRegression\" : LogisticRegression(labelCol=colY_num) }\n",
    "best_accuracy   = 0\n",
    "best_classifier = \"\"\n",
    "for classifierName,classifier in classifiers.items():\n",
    "    debut       = now()\n",
    "    model       = classifier.fit(trainingData)\n",
    "    predictions = model.transform(testData)\n",
    "\n",
    "    evaluator   = MulticlassClassificationEvaluator(  labelCol      = colY_num , \n",
    "                                                      predictionCol = \"prediction\"   , \n",
    "                                                      metricName    = \"accuracy\"     )\n",
    "    accuracy    = evaluator.evaluate(predictions)\n",
    "    error       = 1 - accuracy\n",
    "    duree       = now() - debut\n",
    "    print(\"{0:20} => Accuracy = {1:4.3}, Error = {2:4.3}, duree = {3:5.3} sec\".format (classifierName ,  \n",
    "                                                                                       accuracy       , \n",
    "                                                                                       error          , \n",
    "                                                                                       duree         ))\n",
    "    if accuracy > best_accuracy:\n",
    "        best_accuracy   = accuracy\n",
    "        best_classifier = classifierName\n",
    "        \n",
    "print (\"best_classifier = %s, best_accuracy = %s\"%(best_classifier, best_accuracy))\n"
   ]
  },
  {
   "cell_type": "code",
   "execution_count": 72,
   "metadata": {},
   "outputs": [
    {
     "name": "stdout",
     "output_type": "stream",
     "text": [
      "best_classifier = LogisticRegression, best_accuracy = 0.9940119760479041\n"
     ]
    }
   ],
   "source": [
    "print (\"best_classifier = %s, best_accuracy = %s\"%(best_classifier, best_accuracy))"
   ]
  },
  {
   "cell_type": "code",
   "execution_count": null,
   "metadata": {},
   "outputs": [],
   "source": [
    "    "
   ]
  }
 ],
 "metadata": {
  "kernelspec": {
   "display_name": "Python 3",
   "language": "python",
   "name": "python3"
  },
  "language_info": {
   "codemirror_mode": {
    "name": "ipython",
    "version": 3
   },
   "file_extension": ".py",
   "mimetype": "text/x-python",
   "name": "python",
   "nbconvert_exporter": "python",
   "pygments_lexer": "ipython3",
   "version": "3.7.1"
  }
 },
 "nbformat": 4,
 "nbformat_minor": 1
}
