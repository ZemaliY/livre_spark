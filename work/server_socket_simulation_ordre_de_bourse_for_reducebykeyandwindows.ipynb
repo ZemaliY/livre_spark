{
 "cells": [
  {
   "cell_type": "markdown",
   "metadata": {},
   "source": [
    "# -1) imports"
   ]
  },
  {
   "cell_type": "code",
   "execution_count": 1,
   "metadata": {},
   "outputs": [],
   "source": [
    "import socket\n",
    "import random\n",
    "import time"
   ]
  },
  {
   "cell_type": "code",
   "execution_count": 2,
   "metadata": {},
   "outputs": [],
   "source": [
    "from datetime import datetime"
   ]
  },
  {
   "cell_type": "code",
   "execution_count": 3,
   "metadata": {},
   "outputs": [],
   "source": [
    "def get_time():\n",
    "    from datetime import datetime\n",
    "    _ = datetime.now()\n",
    "    return _\n",
    "\n",
    "def print_time():\n",
    "    print(get_time())"
   ]
  },
  {
   "cell_type": "code",
   "execution_count": 4,
   "metadata": {},
   "outputs": [
    {
     "name": "stdout",
     "output_type": "stream",
     "text": [
      "2019-04-27 15:29:42.164287\n"
     ]
    }
   ],
   "source": [
    "print_time()"
   ]
  },
  {
   "cell_type": "markdown",
   "metadata": {},
   "source": [
    "# 0) configuration"
   ]
  },
  {
   "cell_type": "code",
   "execution_count": 5,
   "metadata": {},
   "outputs": [],
   "source": [
    "with open(\"port.param\", \"r\") as f:\n",
    "    port           = int(f.readline()) + 1"
   ]
  },
  {
   "cell_type": "code",
   "execution_count": 6,
   "metadata": {},
   "outputs": [],
   "source": [
    "\n",
    "ip   = socket.gethostname()"
   ]
  },
  {
   "cell_type": "code",
   "execution_count": 7,
   "metadata": {},
   "outputs": [],
   "source": [
    "with open(\"port.param\", \"w\") as f:\n",
    "    f.write(str(port))\n"
   ]
  },
  {
   "cell_type": "markdown",
   "metadata": {},
   "source": [
    "# 1) création d'une socket"
   ]
  },
  {
   "cell_type": "code",
   "execution_count": 8,
   "metadata": {},
   "outputs": [
    {
     "name": "stdout",
     "output_type": "stream",
     "text": [
      "2019-04-27 15:29:42.248049\n",
      "listen on 337b0ed4fa15:12039\n"
     ]
    }
   ],
   "source": [
    "serversocket = socket.socket(socket.AF_INET, socket.SOCK_STREAM)\n",
    "serversocket.bind((ip, port))\n",
    "print_time()\n",
    "print(\"listen on %s:%s\"%(ip, port))\n",
    "serversocket.listen(1)"
   ]
  },
  {
   "cell_type": "markdown",
   "metadata": {},
   "source": [
    "# 2) attendre que spark se connecte"
   ]
  },
  {
   "cell_type": "code",
   "execution_count": 9,
   "metadata": {},
   "outputs": [],
   "source": [
    "(clientsocket, address) = serversocket.accept()"
   ]
  },
  {
   "cell_type": "code",
   "execution_count": 10,
   "metadata": {},
   "outputs": [
    {
     "name": "stdout",
     "output_type": "stream",
     "text": [
      "Connection de ('172.17.0.2', 48934) :\n",
      " <socket.socket fd=45, family=AddressFamily.AF_INET, type=SocketKind.SOCK_STREAM, proto=0, laddr=('172.17.0.2', 12039), raddr=('172.17.0.2', 48934)>\n"
     ]
    }
   ],
   "source": [
    "print(\"Connection de %s :\\n %s\"%(address, clientsocket))"
   ]
  },
  {
   "cell_type": "markdown",
   "metadata": {},
   "source": [
    "# 3) envoie de données"
   ]
  },
  {
   "cell_type": "code",
   "execution_count": 11,
   "metadata": {},
   "outputs": [],
   "source": [
    "serversocket.setblocking(False) "
   ]
  },
  {
   "cell_type": "code",
   "execution_count": 12,
   "metadata": {},
   "outputs": [],
   "source": [
    "nb_client = 3\n",
    "nb_achat  = 5\n",
    "clients   = [\"client_%s\"%x for x in range(nb_client)]\n",
    "entreprises = [\"LVMH\"]#, \"L'OREAL\", \"TOTAL\", \"AIRBUS GROUP (EX-EADS)\", \"SANOFI\", \"VALEO\"]\n",
    "entreprises = [\"LVMH\", \"L'OREAL\", \"TOTAL\", \"AIRBUS GROUP (EX-EADS)\", \"SANOFI\", \"VALEO\"]\n",
    "entreprises = [\"LVMH\", \"L'OREAL\"]#, \"TOTAL\", \"AIRBUS GROUP (EX-EADS)\", \"SANOFI\", \"VALEO\"]\n"
   ]
  },
  {
   "cell_type": "code",
   "execution_count": 13,
   "metadata": {},
   "outputs": [],
   "source": [
    "from collections import defaultdict"
   ]
  },
  {
   "cell_type": "code",
   "execution_count": 14,
   "metadata": {},
   "outputs": [
    {
     "name": "stdout",
     "output_type": "stream",
     "text": [
      "2019-04-27 15:30:15.548120\n",
      "sent :  LVMH,100\n",
      "\n",
      "sent 9 bytes\n",
      "2019-04-27 15:30:15.553198\n",
      "sent :  L'OREAL,200\n",
      "\n",
      "sent 12 bytes\n",
      "2019-04-27 15:30:15.553568\n",
      "sent :  LVMH,100\n",
      "\n",
      "sent 9 bytes\n",
      "2019-04-27 15:30:15.553703\n",
      "sent :  L'OREAL,200\n",
      "\n",
      "sent 12 bytes\n",
      "2019-04-27 15:30:16.555525\n",
      "sent :  LVMH,100\n",
      "\n",
      "sent 9 bytes\n",
      "2019-04-27 15:30:16.556070\n",
      "sent :  L'OREAL,200\n",
      "\n",
      "sent 12 bytes\n",
      "2019-04-27 15:30:16.557797\n",
      "sent :  LVMH,100\n",
      "\n",
      "sent 9 bytes\n",
      "2019-04-27 15:30:16.558122\n",
      "sent :  L'OREAL,200\n",
      "\n",
      "sent 12 bytes\n",
      "2019-04-27 15:30:17.559651\n",
      "sent :  LVMH,100\n",
      "\n",
      "sent 9 bytes\n",
      "2019-04-27 15:30:17.560452\n",
      "sent :  L'OREAL,200\n",
      "\n",
      "sent 12 bytes\n",
      "2019-04-27 15:30:17.560587\n",
      "sent :  LVMH,100\n",
      "\n",
      "sent 9 bytes\n",
      "2019-04-27 15:30:17.561085\n",
      "sent :  L'OREAL,200\n",
      "\n",
      "sent 12 bytes\n",
      "2019-04-27 15:30:18.562949\n",
      "sent :  LVMH,100\n",
      "\n",
      "sent 9 bytes\n",
      "2019-04-27 15:30:18.563776\n",
      "sent :  L'OREAL,200\n",
      "\n",
      "sent 12 bytes\n",
      "2019-04-27 15:30:18.563927\n",
      "sent :  LVMH,100\n",
      "\n",
      "sent 9 bytes\n",
      "2019-04-27 15:30:18.564257\n",
      "sent :  L'OREAL,200\n",
      "\n",
      "sent 12 bytes\n"
     ]
    }
   ],
   "source": [
    "tps_attente      = 1\n",
    "liste_des_envois = []\n",
    "# on va effectuer 4 envois\n",
    "for i in range(4):\n",
    "    time.sleep(tps_attente)\n",
    "    # on envoie la valeur 100 pour la première entreprise, et 200 pour la seconde\n",
    "    achats      = [(entreprise,100*(i+1)) for i,entreprise in enumerate(entreprises)]\n",
    "    # on fait deux envois par seconde, afin de vérifier la capacité de Spark\n",
    "    # de cumuler les informations par secondes\n",
    "    for i in range(2):\n",
    "        for client, valeur in achats:\n",
    "            # on envoie les informations en forme de chaine de caractère\n",
    "            to_send = '%s,%s\\n'%(client, valeur)                \n",
    "            clientsocket.send(to_send.encode())\n",
    "            # on enregistre les événements pour pouvoir vérifier ensuite\n",
    "            # les résultats via python et pandas\n",
    "            dico         = {client : valeur }\n",
    "            dico[\"time\"] = get_time()\n",
    "            liste_des_envois.append(dico)"
   ]
  },
  {
   "cell_type": "code",
   "execution_count": 15,
   "metadata": {},
   "outputs": [],
   "source": []
  },
  {
   "cell_type": "code",
   "execution_count": 16,
   "metadata": {},
   "outputs": [],
   "source": [
    "import pandas as pd\n",
    "df = pd.DataFrame(r2).groupby(\"time\").sum()\n",
    "\n",
    "df[\"L'OREAL bis\"] = df[\"L'OREAL\"]\n",
    "df[\"L'OREAL ter\"] = df[\"L'OREAL\"]\n",
    "df[\"L'OREAL 4\"] = df[\"L'OREAL\"]\n",
    "df[\"L'OREAL 5\"] = df[\"L'OREAL\"]\n",
    "df[\"L'OREAL 6\"] = df[\"L'OREAL\"]"
   ]
  },
  {
   "cell_type": "code",
   "execution_count": 18,
   "metadata": {},
   "outputs": [
    {
     "data": {
      "text/html": [
       "<div>\n",
       "<style scoped>\n",
       "    .dataframe tbody tr th:only-of-type {\n",
       "        vertical-align: middle;\n",
       "    }\n",
       "\n",
       "    .dataframe tbody tr th {\n",
       "        vertical-align: top;\n",
       "    }\n",
       "\n",
       "    .dataframe thead th {\n",
       "        text-align: right;\n",
       "    }\n",
       "</style>\n",
       "<table border=\"1\" class=\"dataframe\">\n",
       "  <thead>\n",
       "    <tr style=\"text-align: right;\">\n",
       "      <th></th>\n",
       "      <th>L'OREAL</th>\n",
       "      <th>L'OREAL bis</th>\n",
       "      <th>L'OREAL ter</th>\n",
       "      <th>L'OREAL 4</th>\n",
       "      <th>L'OREAL 5</th>\n",
       "      <th>L'OREAL 6</th>\n",
       "    </tr>\n",
       "    <tr>\n",
       "      <th>time</th>\n",
       "      <th></th>\n",
       "      <th></th>\n",
       "      <th></th>\n",
       "      <th></th>\n",
       "      <th></th>\n",
       "      <th></th>\n",
       "    </tr>\n",
       "  </thead>\n",
       "  <tbody>\n",
       "    <tr>\n",
       "      <th>2019-04-27 15:30:15.553157</th>\n",
       "      <td>0.0</td>\n",
       "      <td>0.0</td>\n",
       "      <td>0.0</td>\n",
       "      <td>0.0</td>\n",
       "      <td>0.0</td>\n",
       "      <td>0.0</td>\n",
       "    </tr>\n",
       "    <tr>\n",
       "      <th>2019-04-27 15:30:15.553553</th>\n",
       "      <td>200.0</td>\n",
       "      <td>200.0</td>\n",
       "      <td>200.0</td>\n",
       "      <td>200.0</td>\n",
       "      <td>200.0</td>\n",
       "      <td>200.0</td>\n",
       "    </tr>\n",
       "    <tr>\n",
       "      <th>2019-04-27 15:30:15.553674</th>\n",
       "      <td>0.0</td>\n",
       "      <td>0.0</td>\n",
       "      <td>0.0</td>\n",
       "      <td>0.0</td>\n",
       "      <td>0.0</td>\n",
       "      <td>0.0</td>\n",
       "    </tr>\n",
       "    <tr>\n",
       "      <th>2019-04-27 15:30:15.553924</th>\n",
       "      <td>200.0</td>\n",
       "      <td>200.0</td>\n",
       "      <td>200.0</td>\n",
       "      <td>200.0</td>\n",
       "      <td>200.0</td>\n",
       "      <td>200.0</td>\n",
       "    </tr>\n",
       "    <tr>\n",
       "      <th>2019-04-27 15:30:16.556021</th>\n",
       "      <td>0.0</td>\n",
       "      <td>0.0</td>\n",
       "      <td>0.0</td>\n",
       "      <td>0.0</td>\n",
       "      <td>0.0</td>\n",
       "      <td>0.0</td>\n",
       "    </tr>\n",
       "    <tr>\n",
       "      <th>2019-04-27 15:30:16.557752</th>\n",
       "      <td>200.0</td>\n",
       "      <td>200.0</td>\n",
       "      <td>200.0</td>\n",
       "      <td>200.0</td>\n",
       "      <td>200.0</td>\n",
       "      <td>200.0</td>\n",
       "    </tr>\n",
       "    <tr>\n",
       "      <th>2019-04-27 15:30:16.558074</th>\n",
       "      <td>0.0</td>\n",
       "      <td>0.0</td>\n",
       "      <td>0.0</td>\n",
       "      <td>0.0</td>\n",
       "      <td>0.0</td>\n",
       "      <td>0.0</td>\n",
       "    </tr>\n",
       "    <tr>\n",
       "      <th>2019-04-27 15:30:16.558403</th>\n",
       "      <td>200.0</td>\n",
       "      <td>200.0</td>\n",
       "      <td>200.0</td>\n",
       "      <td>200.0</td>\n",
       "      <td>200.0</td>\n",
       "      <td>200.0</td>\n",
       "    </tr>\n",
       "    <tr>\n",
       "      <th>2019-04-27 15:30:17.560429</th>\n",
       "      <td>0.0</td>\n",
       "      <td>0.0</td>\n",
       "      <td>0.0</td>\n",
       "      <td>0.0</td>\n",
       "      <td>0.0</td>\n",
       "      <td>0.0</td>\n",
       "    </tr>\n",
       "    <tr>\n",
       "      <th>2019-04-27 15:30:17.560572</th>\n",
       "      <td>200.0</td>\n",
       "      <td>200.0</td>\n",
       "      <td>200.0</td>\n",
       "      <td>200.0</td>\n",
       "      <td>200.0</td>\n",
       "      <td>200.0</td>\n",
       "    </tr>\n",
       "    <tr>\n",
       "      <th>2019-04-27 15:30:17.561047</th>\n",
       "      <td>0.0</td>\n",
       "      <td>0.0</td>\n",
       "      <td>0.0</td>\n",
       "      <td>0.0</td>\n",
       "      <td>0.0</td>\n",
       "      <td>0.0</td>\n",
       "    </tr>\n",
       "    <tr>\n",
       "      <th>2019-04-27 15:30:17.561699</th>\n",
       "      <td>200.0</td>\n",
       "      <td>200.0</td>\n",
       "      <td>200.0</td>\n",
       "      <td>200.0</td>\n",
       "      <td>200.0</td>\n",
       "      <td>200.0</td>\n",
       "    </tr>\n",
       "    <tr>\n",
       "      <th>2019-04-27 15:30:18.563741</th>\n",
       "      <td>0.0</td>\n",
       "      <td>0.0</td>\n",
       "      <td>0.0</td>\n",
       "      <td>0.0</td>\n",
       "      <td>0.0</td>\n",
       "      <td>0.0</td>\n",
       "    </tr>\n",
       "    <tr>\n",
       "      <th>2019-04-27 15:30:18.563896</th>\n",
       "      <td>200.0</td>\n",
       "      <td>200.0</td>\n",
       "      <td>200.0</td>\n",
       "      <td>200.0</td>\n",
       "      <td>200.0</td>\n",
       "      <td>200.0</td>\n",
       "    </tr>\n",
       "    <tr>\n",
       "      <th>2019-04-27 15:30:18.564235</th>\n",
       "      <td>0.0</td>\n",
       "      <td>0.0</td>\n",
       "      <td>0.0</td>\n",
       "      <td>0.0</td>\n",
       "      <td>0.0</td>\n",
       "      <td>0.0</td>\n",
       "    </tr>\n",
       "    <tr>\n",
       "      <th>2019-04-27 15:30:18.564776</th>\n",
       "      <td>200.0</td>\n",
       "      <td>200.0</td>\n",
       "      <td>200.0</td>\n",
       "      <td>200.0</td>\n",
       "      <td>200.0</td>\n",
       "      <td>200.0</td>\n",
       "    </tr>\n",
       "  </tbody>\n",
       "</table>\n",
       "</div>"
      ],
      "text/plain": [
       "                            L'OREAL  L'OREAL bis  L'OREAL ter  L'OREAL 4  \\\n",
       "time                                                                       \n",
       "2019-04-27 15:30:15.553157      0.0          0.0          0.0        0.0   \n",
       "2019-04-27 15:30:15.553553    200.0        200.0        200.0      200.0   \n",
       "2019-04-27 15:30:15.553674      0.0          0.0          0.0        0.0   \n",
       "2019-04-27 15:30:15.553924    200.0        200.0        200.0      200.0   \n",
       "2019-04-27 15:30:16.556021      0.0          0.0          0.0        0.0   \n",
       "2019-04-27 15:30:16.557752    200.0        200.0        200.0      200.0   \n",
       "2019-04-27 15:30:16.558074      0.0          0.0          0.0        0.0   \n",
       "2019-04-27 15:30:16.558403    200.0        200.0        200.0      200.0   \n",
       "2019-04-27 15:30:17.560429      0.0          0.0          0.0        0.0   \n",
       "2019-04-27 15:30:17.560572    200.0        200.0        200.0      200.0   \n",
       "2019-04-27 15:30:17.561047      0.0          0.0          0.0        0.0   \n",
       "2019-04-27 15:30:17.561699    200.0        200.0        200.0      200.0   \n",
       "2019-04-27 15:30:18.563741      0.0          0.0          0.0        0.0   \n",
       "2019-04-27 15:30:18.563896    200.0        200.0        200.0      200.0   \n",
       "2019-04-27 15:30:18.564235      0.0          0.0          0.0        0.0   \n",
       "2019-04-27 15:30:18.564776    200.0        200.0        200.0      200.0   \n",
       "\n",
       "                            L'OREAL 5  L'OREAL 6  \n",
       "time                                              \n",
       "2019-04-27 15:30:15.553157        0.0        0.0  \n",
       "2019-04-27 15:30:15.553553      200.0      200.0  \n",
       "2019-04-27 15:30:15.553674        0.0        0.0  \n",
       "2019-04-27 15:30:15.553924      200.0      200.0  \n",
       "2019-04-27 15:30:16.556021        0.0        0.0  \n",
       "2019-04-27 15:30:16.557752      200.0      200.0  \n",
       "2019-04-27 15:30:16.558074        0.0        0.0  \n",
       "2019-04-27 15:30:16.558403      200.0      200.0  \n",
       "2019-04-27 15:30:17.560429        0.0        0.0  \n",
       "2019-04-27 15:30:17.560572      200.0      200.0  \n",
       "2019-04-27 15:30:17.561047        0.0        0.0  \n",
       "2019-04-27 15:30:17.561699      200.0      200.0  \n",
       "2019-04-27 15:30:18.563741        0.0        0.0  \n",
       "2019-04-27 15:30:18.563896      200.0      200.0  \n",
       "2019-04-27 15:30:18.564235        0.0        0.0  \n",
       "2019-04-27 15:30:18.564776      200.0      200.0  "
      ]
     },
     "execution_count": 18,
     "metadata": {},
     "output_type": "execute_result"
    }
   ],
   "source": [
    "df[[\"L'OREAL\", \"L'OREAL bis\", \"L'OREAL ter\", \"L'OREAL 4\", \"L'OREAL 5\", \"L'OREAL 6\"]]"
   ]
  },
  {
   "cell_type": "code",
   "execution_count": null,
   "metadata": {},
   "outputs": [],
   "source": []
  }
 ],
 "metadata": {
  "kernelspec": {
   "display_name": "Python 3",
   "language": "python",
   "name": "python3"
  },
  "language_info": {
   "codemirror_mode": {
    "name": "ipython",
    "version": 3
   },
   "file_extension": ".py",
   "mimetype": "text/x-python",
   "name": "python",
   "nbconvert_exporter": "python",
   "pygments_lexer": "ipython3",
   "version": "3.7.1"
  }
 },
 "nbformat": 4,
 "nbformat_minor": 2
}
